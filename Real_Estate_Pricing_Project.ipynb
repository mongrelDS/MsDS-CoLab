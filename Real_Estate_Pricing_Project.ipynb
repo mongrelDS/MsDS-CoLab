{
  "nbformat": 4,
  "nbformat_minor": 0,
  "metadata": {
    "colab": {
      "provenance": [],
      "include_colab_link": true
    },
    "kernelspec": {
      "name": "python3",
      "display_name": "Python 3"
    },
    "language_info": {
      "name": "python"
    },
    "widgets": {
      "application/vnd.jupyter.widget-state+json": {
        "e50cd6867c82498d9822932b22e60751": {
          "model_module": "catboost-widget",
          "model_name": "CatboostWidgetModel",
          "model_module_version": "^1.0.0",
          "state": {
            "_dom_classes": [],
            "_model_module": "catboost-widget",
            "_model_module_version": "^1.0.0",
            "_model_name": "CatboostWidgetModel",
            "_view_count": null,
            "_view_module": "catboost-widget",
            "_view_module_version": "^1.0.0",
            "_view_name": "CatboostWidgetView",
            "data": {
              "catboost_info": {
                "path": "catboost_info",
                "name": "catboost_info",
                "content": {
                  "passed_iterations": 1199,
                  "total_iterations": 1200,
                  "data": {
                    "iterations": [
                      {
                        "learn": [
                          86792.51547,
                          110263.713
                        ],
                        "iteration": 0,
                        "passed_time": 0.09784830327,
                        "remaining_time": 117.3201156,
                        "test": [
                          88871.13213,
                          112156.9752
                        ]
                      },
                      {
                        "learn": [
                          83242.80478,
                          106041.5701
                        ],
                        "iteration": 1,
                        "passed_time": 0.1230181778,
                        "remaining_time": 73.68788851,
                        "test": [
                          85311.77874,
                          107946.1585
                        ]
                      },
                      {
                        "learn": [
                          80062.81254,
                          102283.9002
                        ],
                        "iteration": 2,
                        "passed_time": 0.1607133233,
                        "remaining_time": 64.12461598,
                        "test": [
                          82146.42549,
                          104211.2848
                        ]
                      },
                      {
                        "learn": [
                          77134.99439,
                          98779.39445
                        ],
                        "iteration": 3,
                        "passed_time": 0.1859614646,
                        "remaining_time": 55.60247791,
                        "test": [
                          79217.32707,
                          100716.1551
                        ]
                      },
                      {
                        "learn": [
                          74465.70365,
                          95659.52115
                        ],
                        "iteration": 4,
                        "passed_time": 0.2260270812,
                        "remaining_time": 54.02047242,
                        "test": [
                          76477.98844,
                          97572.13752
                        ]
                      },
                      {
                        "learn": [
                          71965.59543,
                          92811.34189
                        ],
                        "iteration": 5,
                        "passed_time": 0.2661866364,
                        "remaining_time": 52.97114064,
                        "test": [
                          73942.21454,
                          94696.80567
                        ]
                      },
                      {
                        "learn": [
                          69754.82712,
                          90193.71906
                        ],
                        "iteration": 6,
                        "passed_time": 0.2870252347,
                        "remaining_time": 48.91730071,
                        "test": [
                          71650.11807,
                          92028.37112
                        ]
                      },
                      {
                        "learn": [
                          67715.72199,
                          87823.05743
                        ],
                        "iteration": 7,
                        "passed_time": 0.3090386274,
                        "remaining_time": 46.04675548,
                        "test": [
                          69546.67533,
                          89632.32294
                        ]
                      },
                      {
                        "learn": [
                          65862.37565,
                          85691.61997
                        ],
                        "iteration": 8,
                        "passed_time": 0.3564911653,
                        "remaining_time": 47.17566421,
                        "test": [
                          67644.21177,
                          87482.55479
                        ]
                      },
                      {
                        "learn": [
                          64232.80467,
                          83769.39654
                        ],
                        "iteration": 9,
                        "passed_time": 0.377182422,
                        "remaining_time": 44.88470822,
                        "test": [
                          65953.7493,
                          85546.25312
                        ]
                      },
                      {
                        "learn": [
                          62547.6539,
                          81824.8894
                        ],
                        "iteration": 10,
                        "passed_time": 0.396820678,
                        "remaining_time": 42.89270783,
                        "test": [
                          64239.71881,
                          83613.87048
                        ]
                      },
                      {
                        "learn": [
                          61189.67299,
                          80275.89482
                        ],
                        "iteration": 11,
                        "passed_time": 0.4115208365,
                        "remaining_time": 40.74056282,
                        "test": [
                          62869.99884,
                          82106.37117
                        ]
                      },
                      {
                        "learn": [
                          59915.38494,
                          78822.38117
                        ],
                        "iteration": 12,
                        "passed_time": 0.4226677556,
                        "remaining_time": 38.59281738,
                        "test": [
                          61553.47968,
                          80654.28991
                        ]
                      },
                      {
                        "learn": [
                          58793.9065,
                          77572.95604
                        ],
                        "iteration": 13,
                        "passed_time": 0.4325733628,
                        "remaining_time": 36.64514345,
                        "test": [
                          60348.51794,
                          79210.73183
                        ]
                      },
                      {
                        "learn": [
                          57604.77261,
                          76194.66047
                        ],
                        "iteration": 14,
                        "passed_time": 0.4439994346,
                        "remaining_time": 35.07595534,
                        "test": [
                          59150.16542,
                          77833.73404
                        ]
                      },
                      {
                        "learn": [
                          56675.22713,
                          75140.06624
                        ],
                        "iteration": 15,
                        "passed_time": 0.4551034205,
                        "remaining_time": 33.67765312,
                        "test": [
                          58194.52728,
                          76763.03214
                        ]
                      },
                      {
                        "learn": [
                          55758.04593,
                          74081.01194
                        ],
                        "iteration": 16,
                        "passed_time": 0.4654348024,
                        "remaining_time": 32.38878654,
                        "test": [
                          57282.38682,
                          75760.55368
                        ]
                      },
                      {
                        "learn": [
                          54959.51772,
                          73191.01633
                        ],
                        "iteration": 17,
                        "passed_time": 0.4765774923,
                        "remaining_time": 31.29525533,
                        "test": [
                          56481.83046,
                          74905.58526
                        ]
                      },
                      {
                        "learn": [
                          54120.13107,
                          72237.86768
                        ],
                        "iteration": 18,
                        "passed_time": 0.5102084275,
                        "remaining_time": 31.71348173,
                        "test": [
                          55633.11864,
                          73972.92373
                        ]
                      },
                      {
                        "learn": [
                          53416.70228,
                          71471.46504
                        ],
                        "iteration": 19,
                        "passed_time": 0.522028661,
                        "remaining_time": 30.799691,
                        "test": [
                          54922.57493,
                          73218.21615
                        ]
                      },
                      {
                        "learn": [
                          52751.07978,
                          70731.21929
                        ],
                        "iteration": 20,
                        "passed_time": 0.5330739269,
                        "remaining_time": 29.92829333,
                        "test": [
                          54247.33889,
                          72465.21519
                        ]
                      },
                      {
                        "learn": [
                          52083.95569,
                          70011.85141
                        ],
                        "iteration": 21,
                        "passed_time": 0.5467026752,
                        "remaining_time": 29.27344325,
                        "test": [
                          53571.56883,
                          71752.74014
                        ]
                      },
                      {
                        "learn": [
                          51469.86821,
                          69348.59167
                        ],
                        "iteration": 22,
                        "passed_time": 0.5607752486,
                        "remaining_time": 28.69706381,
                        "test": [
                          52949.63048,
                          71092.02464
                        ]
                      },
                      {
                        "learn": [
                          50963.16622,
                          68805.49417
                        ],
                        "iteration": 23,
                        "passed_time": 0.5746482411,
                        "remaining_time": 28.15776381,
                        "test": [
                          52452.75932,
                          70578.37693
                        ]
                      },
                      {
                        "learn": [
                          50535.46916,
                          68356.44668
                        ],
                        "iteration": 24,
                        "passed_time": 0.6000600843,
                        "remaining_time": 28.20282396,
                        "test": [
                          52029.27822,
                          70155.15302
                        ]
                      },
                      {
                        "learn": [
                          50135.50655,
                          67908.81322
                        ],
                        "iteration": 25,
                        "passed_time": 0.6151014543,
                        "remaining_time": 27.77419644,
                        "test": [
                          51605.64102,
                          69723.79104
                        ]
                      },
                      {
                        "learn": [
                          49659.41374,
                          67383.72221
                        ],
                        "iteration": 26,
                        "passed_time": 0.6347633535,
                        "remaining_time": 27.57694125,
                        "test": [
                          51133.5217,
                          69204.74663
                        ]
                      },
                      {
                        "learn": [
                          49277.17682,
                          66999.89818
                        ],
                        "iteration": 27,
                        "passed_time": 0.6526256086,
                        "remaining_time": 27.31704333,
                        "test": [
                          50723.8511,
                          68823.55314
                        ]
                      },
                      {
                        "learn": [
                          48881.55807,
                          66553.36511
                        ],
                        "iteration": 28,
                        "passed_time": 0.6653286985,
                        "remaining_time": 26.865514,
                        "test": [
                          50336.17238,
                          68380.13342
                        ]
                      },
                      {
                        "learn": [
                          48521.98482,
                          66156.29016
                        ],
                        "iteration": 29,
                        "passed_time": 0.6772039869,
                        "remaining_time": 26.41095549,
                        "test": [
                          49971.86549,
                          67985.91354
                        ]
                      },
                      {
                        "learn": [
                          48156.12181,
                          65763.10143
                        ],
                        "iteration": 30,
                        "passed_time": 0.688583429,
                        "remaining_time": 25.96625899,
                        "test": [
                          49589.85395,
                          67575.92094
                        ]
                      },
                      {
                        "learn": [
                          47839.79926,
                          65444.30393
                        ],
                        "iteration": 31,
                        "passed_time": 0.699827979,
                        "remaining_time": 25.54372123,
                        "test": [
                          49269.4641,
                          67260.37908
                        ]
                      },
                      {
                        "learn": [
                          47552.83583,
                          65124.77878
                        ],
                        "iteration": 32,
                        "passed_time": 0.7122071479,
                        "remaining_time": 25.1862346,
                        "test": [
                          48994.27811,
                          66951.42321
                        ]
                      },
                      {
                        "learn": [
                          47303.91653,
                          64892.74298
                        ],
                        "iteration": 33,
                        "passed_time": 0.7230770389,
                        "remaining_time": 24.79728904,
                        "test": [
                          48753.58138,
                          66727.96283
                        ]
                      },
                      {
                        "learn": [
                          46888.37265,
                          64392.92688
                        ],
                        "iteration": 34,
                        "passed_time": 0.7360732637,
                        "remaining_time": 24.50072435,
                        "test": [
                          48330.68369,
                          66278.3706
                        ]
                      },
                      {
                        "learn": [
                          46623.34881,
                          64102.28356
                        ],
                        "iteration": 35,
                        "passed_time": 0.7781428528,
                        "remaining_time": 25.15995224,
                        "test": [
                          48061.88374,
                          65978.83514
                        ]
                      },
                      {
                        "learn": [
                          46375.47066,
                          63834.177
                        ],
                        "iteration": 36,
                        "passed_time": 0.8067537752,
                        "remaining_time": 25.35823353,
                        "test": [
                          47828.51138,
                          65744.02784
                        ]
                      },
                      {
                        "learn": [
                          45955.44599,
                          63347.01681
                        ],
                        "iteration": 37,
                        "passed_time": 0.8161884658,
                        "remaining_time": 24.95818414,
                        "test": [
                          47395.6466,
                          65263.53191
                        ]
                      },
                      {
                        "learn": [
                          45704.10955,
                          63051.39606
                        ],
                        "iteration": 38,
                        "passed_time": 0.825412267,
                        "remaining_time": 24.57188826,
                        "test": [
                          47159.61078,
                          64998.26608
                        ]
                      },
                      {
                        "learn": [
                          45405.96384,
                          62709.91004
                        ],
                        "iteration": 39,
                        "passed_time": 0.8349793433,
                        "remaining_time": 24.21440096,
                        "test": [
                          46846.25497,
                          64639.47169
                        ]
                      },
                      {
                        "learn": [
                          45187.88261,
                          62452.93062
                        ],
                        "iteration": 40,
                        "passed_time": 0.8446214345,
                        "remaining_time": 23.87600592,
                        "test": [
                          46643.4209,
                          64407.12444
                        ]
                      },
                      {
                        "learn": [
                          44907.64848,
                          62151.07951
                        ],
                        "iteration": 41,
                        "passed_time": 0.8530989424,
                        "remaining_time": 23.52115656,
                        "test": [
                          46360.71416,
                          64127.32941
                        ]
                      },
                      {
                        "learn": [
                          44654.52959,
                          61864.02806
                        ],
                        "iteration": 42,
                        "passed_time": 0.8627277002,
                        "remaining_time": 23.21339417,
                        "test": [
                          46143.76483,
                          63883.58306
                        ]
                      },
                      {
                        "learn": [
                          44436.05273,
                          61662.58336
                        ],
                        "iteration": 43,
                        "passed_time": 0.8721805385,
                        "remaining_time": 22.91456142,
                        "test": [
                          45936.57058,
                          63694.90635
                        ]
                      },
                      {
                        "learn": [
                          44172.67892,
                          61378.67072
                        ],
                        "iteration": 44,
                        "passed_time": 0.8806696148,
                        "remaining_time": 22.60385345,
                        "test": [
                          45650.48444,
                          63393.21768
                        ]
                      },
                      {
                        "learn": [
                          43916.57419,
                          61127.50949
                        ],
                        "iteration": 45,
                        "passed_time": 0.8902749997,
                        "remaining_time": 22.33429021,
                        "test": [
                          45405.71581,
                          63151.36955
                        ]
                      },
                      {
                        "learn": [
                          43732.05618,
                          60931.74126
                        ],
                        "iteration": 46,
                        "passed_time": 0.9003082239,
                        "remaining_time": 22.08628473,
                        "test": [
                          45225.58169,
                          62962.63626
                        ]
                      },
                      {
                        "learn": [
                          43533.0977,
                          60720.03031
                        ],
                        "iteration": 47,
                        "passed_time": 0.9090006154,
                        "remaining_time": 21.81601477,
                        "test": [
                          45040.57213,
                          62794.69475
                        ]
                      },
                      {
                        "learn": [
                          43231.41533,
                          60356.86482
                        ],
                        "iteration": 48,
                        "passed_time": 0.9277975253,
                        "remaining_time": 21.79377452,
                        "test": [
                          44759.53122,
                          62472.98568
                        ]
                      },
                      {
                        "learn": [
                          42993.72312,
                          60110.67574
                        ],
                        "iteration": 49,
                        "passed_time": 0.9591720583,
                        "remaining_time": 22.06095734,
                        "test": [
                          44511.4512,
                          62226.87731
                        ]
                      },
                      {
                        "learn": [
                          42818.40127,
                          59909.62297
                        ],
                        "iteration": 50,
                        "passed_time": 0.9917877659,
                        "remaining_time": 22.34439496,
                        "test": [
                          44338.07754,
                          62018.19955
                        ]
                      },
                      {
                        "learn": [
                          42599.21529,
                          59697.61111
                        ],
                        "iteration": 51,
                        "passed_time": 1.018109954,
                        "remaining_time": 22.47673515,
                        "test": [
                          44120.99803,
                          61827.78078
                        ]
                      },
                      {
                        "learn": [
                          42432.29339,
                          59505.81122
                        ],
                        "iteration": 52,
                        "passed_time": 1.039345988,
                        "remaining_time": 22.493016,
                        "test": [
                          43982.168,
                          61679.85126
                        ]
                      },
                      {
                        "learn": [
                          42223.58005,
                          59287.97798
                        ],
                        "iteration": 53,
                        "passed_time": 1.060829916,
                        "remaining_time": 22.51316823,
                        "test": [
                          43762.20964,
                          61451.90947
                        ]
                      },
                      {
                        "learn": [
                          41932.23214,
                          58932.37362
                        ],
                        "iteration": 54,
                        "passed_time": 1.087288409,
                        "remaining_time": 22.63536778,
                        "test": [
                          43462.67286,
                          61105.67036
                        ]
                      },
                      {
                        "learn": [
                          41755.6629,
                          58727.73599
                        ],
                        "iteration": 55,
                        "passed_time": 1.113315532,
                        "remaining_time": 22.74344587,
                        "test": [
                          43294.59756,
                          60901.99349
                        ]
                      },
                      {
                        "learn": [
                          41630.54557,
                          58589.40081
                        ],
                        "iteration": 56,
                        "passed_time": 1.138567377,
                        "remaining_time": 22.83127214,
                        "test": [
                          43179.75164,
                          60786.41334
                        ]
                      },
                      {
                        "learn": [
                          41476.29004,
                          58417.25985
                        ],
                        "iteration": 57,
                        "passed_time": 1.158941033,
                        "remaining_time": 22.8191493,
                        "test": [
                          43025.88198,
                          60613.48827
                        ]
                      },
                      {
                        "learn": [
                          41340.18168,
                          58242.17074
                        ],
                        "iteration": 58,
                        "passed_time": 1.182418603,
                        "remaining_time": 22.86677332,
                        "test": [
                          42894.30459,
                          60456.5924
                        ]
                      },
                      {
                        "learn": [
                          41171.64215,
                          58051.25679
                        ],
                        "iteration": 59,
                        "passed_time": 1.212480781,
                        "remaining_time": 23.03713484,
                        "test": [
                          42744.2853,
                          60288.38595
                        ]
                      },
                      {
                        "learn": [
                          40976.69299,
                          57815.55971
                        ],
                        "iteration": 60,
                        "passed_time": 1.24465199,
                        "remaining_time": 23.24030518,
                        "test": [
                          42535.72704,
                          60070.93299
                        ]
                      },
                      {
                        "learn": [
                          40853.71263,
                          57674.88969
                        ],
                        "iteration": 61,
                        "passed_time": 1.259771086,
                        "remaining_time": 23.1228951,
                        "test": [
                          42406.74554,
                          59937.25575
                        ]
                      },
                      {
                        "learn": [
                          40744.61629,
                          57542.94396
                        ],
                        "iteration": 62,
                        "passed_time": 1.270289468,
                        "remaining_time": 22.92570041,
                        "test": [
                          42290.11322,
                          59820.87261
                        ]
                      },
                      {
                        "learn": [
                          40535.26062,
                          57291.10822
                        ],
                        "iteration": 63,
                        "passed_time": 1.279879489,
                        "remaining_time": 22.71786094,
                        "test": [
                          42068.91501,
                          59577.20514
                        ]
                      },
                      {
                        "learn": [
                          40427.68438,
                          57167.48777
                        ],
                        "iteration": 64,
                        "passed_time": 1.289991051,
                        "remaining_time": 22.52522836,
                        "test": [
                          41959.72133,
                          59456.96115
                        ]
                      },
                      {
                        "learn": [
                          40305.76235,
                          57014.00467
                        ],
                        "iteration": 65,
                        "passed_time": 1.298956894,
                        "remaining_time": 22.31844118,
                        "test": [
                          41832.97725,
                          59316.02652
                        ]
                      },
                      {
                        "learn": [
                          40118.9777,
                          56812.07595
                        ],
                        "iteration": 66,
                        "passed_time": 1.308290995,
                        "remaining_time": 22.12378653,
                        "test": [
                          41621.34625,
                          59110.26411
                        ]
                      },
                      {
                        "learn": [
                          39996.61258,
                          56683.19945
                        ],
                        "iteration": 67,
                        "passed_time": 1.316901012,
                        "remaining_time": 21.92252862,
                        "test": [
                          41462.8728,
                          58973.98827
                        ]
                      },
                      {
                        "learn": [
                          39904.53908,
                          56582.87748
                        ],
                        "iteration": 68,
                        "passed_time": 1.325468429,
                        "remaining_time": 21.72615642,
                        "test": [
                          41382.44649,
                          58892.41972
                        ]
                      },
                      {
                        "learn": [
                          39803.01729,
                          56458.65
                        ],
                        "iteration": 69,
                        "passed_time": 1.336041572,
                        "remaining_time": 21.56752823,
                        "test": [
                          41296.18367,
                          58779.61729
                        ]
                      },
                      {
                        "learn": [
                          39608.22,
                          56222.37485
                        ],
                        "iteration": 70,
                        "passed_time": 1.346287865,
                        "remaining_time": 21.40787324,
                        "test": [
                          41074.50182,
                          58543.26265
                        ]
                      },
                      {
                        "learn": [
                          39505.14261,
                          56087.50373
                        ],
                        "iteration": 71,
                        "passed_time": 1.355846923,
                        "remaining_time": 21.24160179,
                        "test": [
                          40977.26492,
                          58433.00487
                        ]
                      },
                      {
                        "learn": [
                          39366.40294,
                          55949.34776
                        ],
                        "iteration": 72,
                        "passed_time": 1.365641356,
                        "remaining_time": 21.08325765,
                        "test": [
                          40848.95921,
                          58319.02173
                        ]
                      },
                      {
                        "learn": [
                          39290.94392,
                          55845.2142
                        ],
                        "iteration": 73,
                        "passed_time": 1.375002866,
                        "remaining_time": 20.9223409,
                        "test": [
                          40783.67319,
                          58237.13926
                        ]
                      },
                      {
                        "learn": [
                          39206.98572,
                          55738.73875
                        ],
                        "iteration": 74,
                        "passed_time": 1.386380122,
                        "remaining_time": 20.79570183,
                        "test": [
                          40719.67497,
                          58154.21543
                        ]
                      },
                      {
                        "learn": [
                          39123.4158,
                          55643.35246
                        ],
                        "iteration": 75,
                        "passed_time": 1.396066346,
                        "remaining_time": 20.64708649,
                        "test": [
                          40647.81615,
                          58059.72825
                        ]
                      },
                      {
                        "learn": [
                          39057.22148,
                          55556.20576
                        ],
                        "iteration": 76,
                        "passed_time": 1.404691013,
                        "remaining_time": 20.4865975,
                        "test": [
                          40583.01553,
                          57966.72242
                        ]
                      },
                      {
                        "learn": [
                          38978.36921,
                          55466.66655
                        ],
                        "iteration": 77,
                        "passed_time": 1.418558919,
                        "remaining_time": 20.40542446,
                        "test": [
                          40499.50527,
                          57872.14303
                        ]
                      },
                      {
                        "learn": [
                          38879.41268,
                          55366.29441
                        ],
                        "iteration": 78,
                        "passed_time": 1.428541283,
                        "remaining_time": 20.27081998,
                        "test": [
                          40420.72611,
                          57809.8719
                        ]
                      },
                      {
                        "learn": [
                          38783.93865,
                          55248.60976
                        ],
                        "iteration": 79,
                        "passed_time": 1.437959337,
                        "remaining_time": 20.13143072,
                        "test": [
                          40314.62082,
                          57683.60401
                        ]
                      },
                      {
                        "learn": [
                          38657.42789,
                          55077.43628
                        ],
                        "iteration": 80,
                        "passed_time": 1.44711614,
                        "remaining_time": 19.99164149,
                        "test": [
                          40198.46398,
                          57551.90935
                        ]
                      },
                      {
                        "learn": [
                          38554.85018,
                          54974.38561
                        ],
                        "iteration": 81,
                        "passed_time": 1.455738959,
                        "remaining_time": 19.847758,
                        "test": [
                          40104.06941,
                          57471.02441
                        ]
                      },
                      {
                        "learn": [
                          38463.49404,
                          54853.59358
                        ],
                        "iteration": 82,
                        "passed_time": 1.46534669,
                        "remaining_time": 19.72038859,
                        "test": [
                          40035.37558,
                          57384.0565
                        ]
                      },
                      {
                        "learn": [
                          38411.21723,
                          54796.26427
                        ],
                        "iteration": 83,
                        "passed_time": 1.473920677,
                        "remaining_time": 19.58208899,
                        "test": [
                          39984.08947,
                          57320.88648
                        ]
                      },
                      {
                        "learn": [
                          38347.18539,
                          54724.74276
                        ],
                        "iteration": 84,
                        "passed_time": 1.483672949,
                        "remaining_time": 19.46229809,
                        "test": [
                          39939.49867,
                          57279.19553
                        ]
                      },
                      {
                        "learn": [
                          38242.3549,
                          54603.65829
                        ],
                        "iteration": 85,
                        "passed_time": 1.494135076,
                        "remaining_time": 19.35426134,
                        "test": [
                          39831.26212,
                          57152.9906
                        ]
                      },
                      {
                        "learn": [
                          38107.48983,
                          54444.30588
                        ],
                        "iteration": 86,
                        "passed_time": 1.503012443,
                        "remaining_time": 19.22819367,
                        "test": [
                          39686.18549,
                          56999.64265
                        ]
                      },
                      {
                        "learn": [
                          38000.18795,
                          54318.02054
                        ],
                        "iteration": 87,
                        "passed_time": 1.516343593,
                        "remaining_time": 19.16106903,
                        "test": [
                          39565.85002,
                          56862.22279
                        ]
                      },
                      {
                        "learn": [
                          37903.22761,
                          54205.58231
                        ],
                        "iteration": 88,
                        "passed_time": 1.525875719,
                        "remaining_time": 19.04772948,
                        "test": [
                          39462.45995,
                          56751.38265
                        ]
                      },
                      {
                        "learn": [
                          37844.86218,
                          54126.40039
                        ],
                        "iteration": 89,
                        "passed_time": 1.547233811,
                        "remaining_time": 19.08255033,
                        "test": [
                          39401.70806,
                          56665.48343
                        ]
                      },
                      {
                        "learn": [
                          37845.12518,
                          54126.35055
                        ],
                        "iteration": 90,
                        "passed_time": 1.552758971,
                        "remaining_time": 18.9231835,
                        "test": [
                          39402.01518,
                          56665.45614
                        ]
                      },
                      {
                        "learn": [
                          37765.8508,
                          54023.63856
                        ],
                        "iteration": 91,
                        "passed_time": 1.56579345,
                        "remaining_time": 18.85759938,
                        "test": [
                          39323.74923,
                          56559.58229
                        ]
                      },
                      {
                        "learn": [
                          37693.02761,
                          53931.5769
                        ],
                        "iteration": 92,
                        "passed_time": 1.580593934,
                        "remaining_time": 18.8141665,
                        "test": [
                          39254.82118,
                          56480.24966
                        ]
                      },
                      {
                        "learn": [
                          37637.18512,
                          53859.67018
                        ],
                        "iteration": 93,
                        "passed_time": 1.596958129,
                        "remaining_time": 18.78974139,
                        "test": [
                          39208.94909,
                          56419.40714
                        ]
                      },
                      {
                        "learn": [
                          37573.75796,
                          53783.6281
                        ],
                        "iteration": 94,
                        "passed_time": 1.606537335,
                        "remaining_time": 18.68656584,
                        "test": [
                          39162.70307,
                          56364.71074
                        ]
                      },
                      {
                        "learn": [
                          37526.5245,
                          53716.63535
                        ],
                        "iteration": 95,
                        "passed_time": 1.620015861,
                        "remaining_time": 18.6301824,
                        "test": [
                          39119.83024,
                          56313.35341
                        ]
                      },
                      {
                        "learn": [
                          37478.90802,
                          53648.95403
                        ],
                        "iteration": 96,
                        "passed_time": 1.630106782,
                        "remaining_time": 18.53616268,
                        "test": [
                          39083.88419,
                          56263.83359
                        ]
                      },
                      {
                        "learn": [
                          37402.35133,
                          53567.76464
                        ],
                        "iteration": 97,
                        "passed_time": 1.641678977,
                        "remaining_time": 18.46051258,
                        "test": [
                          39001.89899,
                          56184.70091
                        ]
                      },
                      {
                        "learn": [
                          37356.18762,
                          53504.66066
                        ],
                        "iteration": 98,
                        "passed_time": 1.655051752,
                        "remaining_time": 18.40618161,
                        "test": [
                          38960.35602,
                          56135.27579
                        ]
                      },
                      {
                        "learn": [
                          37236.54948,
                          53335.57176
                        ],
                        "iteration": 99,
                        "passed_time": 1.664459848,
                        "remaining_time": 18.30905833,
                        "test": [
                          38829.58401,
                          55965.6063
                        ]
                      },
                      {
                        "learn": [
                          37115.54756,
                          53206.97955
                        ],
                        "iteration": 100,
                        "passed_time": 1.673735496,
                        "remaining_time": 18.21223079,
                        "test": [
                          38710.88618,
                          55859.97472
                        ]
                      },
                      {
                        "learn": [
                          37069.02222,
                          53155.05794
                        ],
                        "iteration": 101,
                        "passed_time": 1.683245196,
                        "remaining_time": 18.11963946,
                        "test": [
                          38681.833,
                          55827.1658
                        ]
                      },
                      {
                        "learn": [
                          37033.29317,
                          53106.22798
                        ],
                        "iteration": 102,
                        "passed_time": 1.692841481,
                        "remaining_time": 18.02958354,
                        "test": [
                          38643.90679,
                          55791.24774
                        ]
                      },
                      {
                        "learn": [
                          36929.92084,
                          53003.20196
                        ],
                        "iteration": 103,
                        "passed_time": 1.701394943,
                        "remaining_time": 17.93008517,
                        "test": [
                          38530.55191,
                          55689.98325
                        ]
                      },
                      {
                        "learn": [
                          36853.17596,
                          52898.57099
                        ],
                        "iteration": 104,
                        "passed_time": 1.71020695,
                        "remaining_time": 17.83501533,
                        "test": [
                          38450.50954,
                          55604.11043
                        ]
                      },
                      {
                        "learn": [
                          36804.68456,
                          52836.95769
                        ],
                        "iteration": 105,
                        "passed_time": 1.719185019,
                        "remaining_time": 17.74328689,
                        "test": [
                          38391.71549,
                          55531.55765
                        ]
                      },
                      {
                        "learn": [
                          36757.66006,
                          52781.25494
                        ],
                        "iteration": 106,
                        "passed_time": 1.728801738,
                        "remaining_time": 17.65962897,
                        "test": [
                          38345.09027,
                          55486.15609
                        ]
                      },
                      {
                        "learn": [
                          36712.37599,
                          52717.20046
                        ],
                        "iteration": 107,
                        "passed_time": 1.737361815,
                        "remaining_time": 17.56665835,
                        "test": [
                          38317.47824,
                          55439.44932
                        ]
                      },
                      {
                        "learn": [
                          36649.05348,
                          52647.71832
                        ],
                        "iteration": 108,
                        "passed_time": 1.746580735,
                        "remaining_time": 17.48183103,
                        "test": [
                          38251.7638,
                          55379.25251
                        ]
                      },
                      {
                        "learn": [
                          36616.66235,
                          52606.93659
                        ],
                        "iteration": 109,
                        "passed_time": 1.755694326,
                        "remaining_time": 17.39733468,
                        "test": [
                          38243.65413,
                          55360.85722
                        ]
                      },
                      {
                        "learn": [
                          36532.14205,
                          52515.02163
                        ],
                        "iteration": 110,
                        "passed_time": 1.765614795,
                        "remaining_time": 17.32211271,
                        "test": [
                          38154.41557,
                          55259.08824
                        ]
                      },
                      {
                        "learn": [
                          36418.65115,
                          52367.82488
                        ],
                        "iteration": 111,
                        "passed_time": 1.774890586,
                        "remaining_time": 17.24179426,
                        "test": [
                          38037.19926,
                          55117.98028
                        ]
                      },
                      {
                        "learn": [
                          36372.56374,
                          52309.33592
                        ],
                        "iteration": 112,
                        "passed_time": 1.783519592,
                        "remaining_time": 17.15651148,
                        "test": [
                          37997.5848,
                          55071.36607
                        ]
                      },
                      {
                        "learn": [
                          36332.16961,
                          52259.66128
                        ],
                        "iteration": 113,
                        "passed_time": 1.79189918,
                        "remaining_time": 17.07019745,
                        "test": [
                          37973.30598,
                          55045.64164
                        ]
                      },
                      {
                        "learn": [
                          36297.93992,
                          52208.94012
                        ],
                        "iteration": 114,
                        "passed_time": 1.800364488,
                        "remaining_time": 16.98604756,
                        "test": [
                          37942.4793,
                          55011.27399
                        ]
                      },
                      {
                        "learn": [
                          36256.62052,
                          52163.70321
                        ],
                        "iteration": 115,
                        "passed_time": 1.810397967,
                        "remaining_time": 16.91785686,
                        "test": [
                          37898.77808,
                          54961.17977
                        ]
                      },
                      {
                        "learn": [
                          36203.46463,
                          52088.17128
                        ],
                        "iteration": 116,
                        "passed_time": 1.824099063,
                        "remaining_time": 16.88460928,
                        "test": [
                          37839.39235,
                          54905.79309
                        ]
                      },
                      {
                        "learn": [
                          36108.31335,
                          51995.69807
                        ],
                        "iteration": 117,
                        "passed_time": 1.83305198,
                        "remaining_time": 16.80815459,
                        "test": [
                          37749.1653,
                          54818.99911
                        ]
                      },
                      {
                        "learn": [
                          36079.59568,
                          51947.76737
                        ],
                        "iteration": 118,
                        "passed_time": 1.841664773,
                        "remaining_time": 16.7297447,
                        "test": [
                          37717.13567,
                          54783.35868
                        ]
                      },
                      {
                        "learn": [
                          35996.00428,
                          51843.18753
                        ],
                        "iteration": 119,
                        "passed_time": 1.850902804,
                        "remaining_time": 16.65812524,
                        "test": [
                          37633.04714,
                          54690.34351
                        ]
                      },
                      {
                        "learn": [
                          35966.47119,
                          51799.64703
                        ],
                        "iteration": 120,
                        "passed_time": 1.859973586,
                        "remaining_time": 16.58604545,
                        "test": [
                          37616.86655,
                          54662.97143
                        ]
                      },
                      {
                        "learn": [
                          35934.09658,
                          51764.35023
                        ],
                        "iteration": 121,
                        "passed_time": 1.882402404,
                        "remaining_time": 16.63303108,
                        "test": [
                          37581.75013,
                          54630.43037
                        ]
                      },
                      {
                        "learn": [
                          35901.71563,
                          51723.14731
                        ],
                        "iteration": 122,
                        "passed_time": 1.893626302,
                        "remaining_time": 16.58077665,
                        "test": [
                          37557.00832,
                          54600.48604
                        ]
                      },
                      {
                        "learn": [
                          35858.75391,
                          51652.93056
                        ],
                        "iteration": 123,
                        "passed_time": 1.902271721,
                        "remaining_time": 16.50680945,
                        "test": [
                          37515.3877,
                          54537.1185
                        ]
                      },
                      {
                        "learn": [
                          35779.78521,
                          51554.9965
                        ],
                        "iteration": 124,
                        "passed_time": 1.912647148,
                        "remaining_time": 16.44876548,
                        "test": [
                          37442.85053,
                          54452.99935
                        ]
                      },
                      {
                        "learn": [
                          35743.47627,
                          51493.11362
                        ],
                        "iteration": 125,
                        "passed_time": 1.923062137,
                        "remaining_time": 16.39181536,
                        "test": [
                          37417.29296,
                          54433.72121
                        ]
                      },
                      {
                        "learn": [
                          35687.7992,
                          51421.75513
                        ],
                        "iteration": 126,
                        "passed_time": 1.932435334,
                        "remaining_time": 16.32679617,
                        "test": [
                          37374.62269,
                          54382.69788
                        ]
                      },
                      {
                        "learn": [
                          35625.74834,
                          51350.74998
                        ],
                        "iteration": 127,
                        "passed_time": 1.941687095,
                        "remaining_time": 16.26162942,
                        "test": [
                          37319.68299,
                          54318.41605
                        ]
                      },
                      {
                        "learn": [
                          35551.21891,
                          51260.89615
                        ],
                        "iteration": 128,
                        "passed_time": 1.95117384,
                        "remaining_time": 16.19928049,
                        "test": [
                          37251.46233,
                          54234.57102
                        ]
                      },
                      {
                        "learn": [
                          35517.37451,
                          51222.63211
                        ],
                        "iteration": 129,
                        "passed_time": 1.960140305,
                        "remaining_time": 16.13346251,
                        "test": [
                          37220.97443,
                          54202.35729
                        ]
                      },
                      {
                        "learn": [
                          35453.23392,
                          51153.60235
                        ],
                        "iteration": 130,
                        "passed_time": 1.968955139,
                        "remaining_time": 16.06727514,
                        "test": [
                          37157.8454,
                          54145.10304
                        ]
                      },
                      {
                        "learn": [
                          35421.97312,
                          51113.78691
                        ],
                        "iteration": 131,
                        "passed_time": 1.977381975,
                        "remaining_time": 15.9988178,
                        "test": [
                          37133.5738,
                          54104.72091
                        ]
                      },
                      {
                        "learn": [
                          35388.54159,
                          51070.69043
                        ],
                        "iteration": 132,
                        "passed_time": 1.999309837,
                        "remaining_time": 16.03957591,
                        "test": [
                          37112.02292,
                          54081.19376
                        ]
                      },
                      {
                        "learn": [
                          35359.53191,
                          51031.99988
                        ],
                        "iteration": 133,
                        "passed_time": 2.010743131,
                        "remaining_time": 15.99591177,
                        "test": [
                          37097.17707,
                          54062.59331
                        ]
                      },
                      {
                        "learn": [
                          35278.90723,
                          50943.30758
                        ],
                        "iteration": 134,
                        "passed_time": 2.021984045,
                        "remaining_time": 15.95120747,
                        "test": [
                          37022.00777,
                          53967.27902
                        ]
                      },
                      {
                        "learn": [
                          35172.77644,
                          50818.63995
                        ],
                        "iteration": 135,
                        "passed_time": 2.034156578,
                        "remaining_time": 15.91428381,
                        "test": [
                          36927.1777,
                          53849.97444
                        ]
                      },
                      {
                        "learn": [
                          35103.73319,
                          50720.0605
                        ],
                        "iteration": 136,
                        "passed_time": 2.044095528,
                        "remaining_time": 15.86039085,
                        "test": [
                          36874.60162,
                          53771.85981
                        ]
                      },
                      {
                        "learn": [
                          35057.89719,
                          50656.45291
                        ],
                        "iteration": 137,
                        "passed_time": 2.05315968,
                        "remaining_time": 15.80040276,
                        "test": [
                          36843.5364,
                          53724.60825
                        ]
                      },
                      {
                        "learn": [
                          35005.63374,
                          50587.9046
                        ],
                        "iteration": 138,
                        "passed_time": 2.072251143,
                        "remaining_time": 15.81768678,
                        "test": [
                          36799.59057,
                          53675.762
                        ]
                      },
                      {
                        "learn": [
                          34951.20703,
                          50501.18498
                        ],
                        "iteration": 139,
                        "passed_time": 2.09759624,
                        "remaining_time": 15.88180011,
                        "test": [
                          36753.38549,
                          53631.63597
                        ]
                      },
                      {
                        "learn": [
                          34902.80988,
                          50437.47811
                        ],
                        "iteration": 140,
                        "passed_time": 2.105958968,
                        "remaining_time": 15.81709608,
                        "test": [
                          36690.72387,
                          53559.3335
                        ]
                      },
                      {
                        "learn": [
                          34878.16567,
                          50394.08053
                        ],
                        "iteration": 141,
                        "passed_time": 2.125212122,
                        "remaining_time": 15.83432694,
                        "test": [
                          36673.95399,
                          53525.39117
                        ]
                      },
                      {
                        "learn": [
                          34828.58337,
                          50329.0604
                        ],
                        "iteration": 142,
                        "passed_time": 2.134496566,
                        "remaining_time": 15.77736273,
                        "test": [
                          36628.71486,
                          53487.92149
                        ]
                      },
                      {
                        "learn": [
                          34782.9116,
                          50260.38151
                        ],
                        "iteration": 143,
                        "passed_time": 2.142836721,
                        "remaining_time": 15.71413596,
                        "test": [
                          36585.79404,
                          53436.58172
                        ]
                      },
                      {
                        "learn": [
                          34765.4456,
                          50235.37745
                        ],
                        "iteration": 144,
                        "passed_time": 2.150854961,
                        "remaining_time": 15.64932403,
                        "test": [
                          36570.64209,
                          53424.59451
                        ]
                      },
                      {
                        "learn": [
                          34736.27962,
                          50194.9409
                        ],
                        "iteration": 145,
                        "passed_time": 2.160689241,
                        "remaining_time": 15.59840041,
                        "test": [
                          36553.01052,
                          53398.19851
                        ]
                      },
                      {
                        "learn": [
                          34700.60751,
                          50146.45737
                        ],
                        "iteration": 146,
                        "passed_time": 2.170223601,
                        "remaining_time": 15.54588743,
                        "test": [
                          36526.33644,
                          53367.57967
                        ]
                      },
                      {
                        "learn": [
                          34669.76941,
                          50103.75212
                        ],
                        "iteration": 147,
                        "passed_time": 2.180139181,
                        "remaining_time": 15.49666499,
                        "test": [
                          36505.29713,
                          53349.19158
                        ]
                      },
                      {
                        "learn": [
                          34637.18144,
                          50058.92666
                        ],
                        "iteration": 148,
                        "passed_time": 2.189950988,
                        "remaining_time": 15.44723818,
                        "test": [
                          36475.98177,
                          53306.82706
                        ]
                      },
                      {
                        "learn": [
                          34607.26517,
                          50005.77573
                        ],
                        "iteration": 149,
                        "passed_time": 2.200117901,
                        "remaining_time": 15.40082531,
                        "test": [
                          36464.80617,
                          53293.58117
                        ]
                      },
                      {
                        "learn": [
                          34559.04249,
                          49950.72904
                        ],
                        "iteration": 150,
                        "passed_time": 2.210024616,
                        "remaining_time": 15.35308491,
                        "test": [
                          36423.85568,
                          53253.21207
                        ]
                      },
                      {
                        "learn": [
                          34523.77356,
                          49891.75845
                        ],
                        "iteration": 151,
                        "passed_time": 2.218976605,
                        "remaining_time": 15.29925975,
                        "test": [
                          36394.83892,
                          53202.21396
                        ]
                      },
                      {
                        "learn": [
                          34486.88911,
                          49834.89906
                        ],
                        "iteration": 152,
                        "passed_time": 2.233205057,
                        "remaining_time": 15.28212873,
                        "test": [
                          36354.8868,
                          53150.01657
                        ]
                      },
                      {
                        "learn": [
                          34417.59749,
                          49747.40971
                        ],
                        "iteration": 153,
                        "passed_time": 2.242347728,
                        "remaining_time": 15.23049171,
                        "test": [
                          36299.72984,
                          53076.99105
                        ]
                      },
                      {
                        "learn": [
                          34368.74154,
                          49688.68297
                        ],
                        "iteration": 154,
                        "passed_time": 2.250446837,
                        "remaining_time": 15.17236738,
                        "test": [
                          36246.48703,
                          53017.94181
                        ]
                      },
                      {
                        "learn": [
                          34329.05931,
                          49644.18098
                        ],
                        "iteration": 155,
                        "passed_time": 2.260554898,
                        "remaining_time": 15.12832893,
                        "test": [
                          36215.32538,
                          52987.05959
                        ]
                      },
                      {
                        "learn": [
                          34253.22081,
                          49555.1678
                        ],
                        "iteration": 156,
                        "passed_time": 2.269899261,
                        "remaining_time": 15.07964923,
                        "test": [
                          36145.55363,
                          52906.97432
                        ]
                      },
                      {
                        "learn": [
                          34235.2415,
                          49529.74841
                        ],
                        "iteration": 157,
                        "passed_time": 2.278683959,
                        "remaining_time": 15.02777649,
                        "test": [
                          36145.80162,
                          52897.35811
                        ]
                      },
                      {
                        "learn": [
                          34205.76181,
                          49476.62475
                        ],
                        "iteration": 158,
                        "passed_time": 2.291282003,
                        "remaining_time": 15.00141236,
                        "test": [
                          36131.11674,
                          52863.50755
                        ]
                      },
                      {
                        "learn": [
                          34159.14281,
                          49413.19821
                        ],
                        "iteration": 159,
                        "passed_time": 2.314257034,
                        "remaining_time": 15.04267072,
                        "test": [
                          36081.08828,
                          52803.99693
                        ]
                      },
                      {
                        "learn": [
                          34117.90611,
                          49363.02939
                        ],
                        "iteration": 160,
                        "passed_time": 2.339153475,
                        "remaining_time": 15.09553081,
                        "test": [
                          36043.34132,
                          52768.98253
                        ]
                      },
                      {
                        "learn": [
                          34089.19744,
                          49326.3033
                        ],
                        "iteration": 161,
                        "passed_time": 2.362390155,
                        "remaining_time": 15.13679618,
                        "test": [
                          36018.84543,
                          52734.07935
                        ]
                      },
                      {
                        "learn": [
                          34029.07574,
                          49257.9029
                        ],
                        "iteration": 162,
                        "passed_time": 2.383754058,
                        "remaining_time": 15.16535557,
                        "test": [
                          35964.5,
                          52665.36143
                        ]
                      },
                      {
                        "learn": [
                          33998.25311,
                          49210.32895
                        ],
                        "iteration": 163,
                        "passed_time": 2.395345306,
                        "remaining_time": 15.13157157,
                        "test": [
                          35948.98751,
                          52635.65805
                        ]
                      },
                      {
                        "learn": [
                          33938.01052,
                          49144.68944
                        ],
                        "iteration": 164,
                        "passed_time": 2.405362631,
                        "remaining_time": 15.08818377,
                        "test": [
                          35894.90957,
                          52584.85809
                        ]
                      },
                      {
                        "learn": [
                          33919.80295,
                          49104.94487
                        ],
                        "iteration": 165,
                        "passed_time": 2.421913991,
                        "remaining_time": 15.08589799,
                        "test": [
                          35888.39719,
                          52570.72143
                        ]
                      },
                      {
                        "learn": [
                          33859.09389,
                          49036.07923
                        ],
                        "iteration": 166,
                        "passed_time": 2.460861214,
                        "remaining_time": 15.22197386,
                        "test": [
                          35835.78942,
                          52515.01307
                        ]
                      },
                      {
                        "learn": [
                          33827.02762,
                          48989.90753
                        ],
                        "iteration": 167,
                        "passed_time": 2.476364863,
                        "remaining_time": 15.21195558,
                        "test": [
                          35811.83703,
                          52484.58176
                        ]
                      },
                      {
                        "learn": [
                          33798.86516,
                          48954.39859
                        ],
                        "iteration": 168,
                        "passed_time": 2.48771476,
                        "remaining_time": 15.17653206,
                        "test": [
                          35790.15808,
                          52442.32192
                        ]
                      },
                      {
                        "learn": [
                          33765.84074,
                          48899.10529
                        ],
                        "iteration": 169,
                        "passed_time": 2.501642482,
                        "remaining_time": 15.15701033,
                        "test": [
                          35774.93585,
                          52409.51565
                        ]
                      },
                      {
                        "learn": [
                          33742.72819,
                          48864.35123
                        ],
                        "iteration": 170,
                        "passed_time": 2.512327096,
                        "remaining_time": 15.11803849,
                        "test": [
                          35762.28607,
                          52399.06147
                        ]
                      },
                      {
                        "learn": [
                          33697.54105,
                          48803.99416
                        ],
                        "iteration": 171,
                        "passed_time": 2.524727413,
                        "remaining_time": 15.08964989,
                        "test": [
                          35727.54012,
                          52347.72544
                        ]
                      },
                      {
                        "learn": [
                          33675.80163,
                          48766.64634
                        ],
                        "iteration": 172,
                        "passed_time": 2.538288578,
                        "remaining_time": 15.0683374,
                        "test": [
                          35706.13958,
                          52322.02934
                        ]
                      },
                      {
                        "learn": [
                          33641.73687,
                          48714.48925
                        ],
                        "iteration": 173,
                        "passed_time": 2.558078442,
                        "remaining_time": 15.08384185,
                        "test": [
                          35697.51739,
                          52299.64943
                        ]
                      },
                      {
                        "learn": [
                          33598.12937,
                          48662.41836
                        ],
                        "iteration": 174,
                        "passed_time": 2.56911927,
                        "remaining_time": 15.04769858,
                        "test": [
                          35646.63416,
                          52247.53074
                        ]
                      },
                      {
                        "learn": [
                          33574.88727,
                          48632.90817
                        ],
                        "iteration": 175,
                        "passed_time": 2.580696361,
                        "remaining_time": 15.01496064,
                        "test": [
                          35628.09328,
                          52212.36248
                        ]
                      },
                      {
                        "learn": [
                          33567.48223,
                          48606.57067
                        ],
                        "iteration": 176,
                        "passed_time": 2.591374498,
                        "remaining_time": 14.97726616,
                        "test": [
                          35625.91755,
                          52188.81071
                        ]
                      },
                      {
                        "learn": [
                          33530.6725,
                          48551.14035
                        ],
                        "iteration": 177,
                        "passed_time": 2.602065117,
                        "remaining_time": 14.93994691,
                        "test": [
                          35586.10973,
                          52139.56826
                        ]
                      },
                      {
                        "learn": [
                          33502.42157,
                          48512.90025
                        ],
                        "iteration": 178,
                        "passed_time": 2.613956201,
                        "remaining_time": 14.90977252,
                        "test": [
                          35566.21472,
                          52111.37134
                        ]
                      },
                      {
                        "learn": [
                          33484.78268,
                          48480.94487
                        ],
                        "iteration": 179,
                        "passed_time": 2.624926022,
                        "remaining_time": 14.87458079,
                        "test": [
                          35553.80607,
                          52097.94375
                        ]
                      },
                      {
                        "learn": [
                          33409.82787,
                          48399.36815
                        ],
                        "iteration": 180,
                        "passed_time": 2.636632868,
                        "remaining_time": 14.84380604,
                        "test": [
                          35504.28794,
                          52045.88238
                        ]
                      },
                      {
                        "learn": [
                          33381.79254,
                          48355.33709
                        ],
                        "iteration": 181,
                        "passed_time": 2.647038751,
                        "remaining_time": 14.805964,
                        "test": [
                          35484.70801,
                          52012.36117
                        ]
                      },
                      {
                        "learn": [
                          33371.55147,
                          48331.97795
                        ],
                        "iteration": 182,
                        "passed_time": 2.664206381,
                        "remaining_time": 14.8059994,
                        "test": [
                          35473.01924,
                          51993.99081
                        ]
                      },
                      {
                        "learn": [
                          33336.4189,
                          48288.79452
                        ],
                        "iteration": 183,
                        "passed_time": 2.675607492,
                        "remaining_time": 14.77400659,
                        "test": [
                          35455.3019,
                          51971.67158
                        ]
                      },
                      {
                        "learn": [
                          33315.29187,
                          48255.48069
                        ],
                        "iteration": 184,
                        "passed_time": 2.691871209,
                        "remaining_time": 14.76891501,
                        "test": [
                          35445.49496,
                          51958.49619
                        ]
                      },
                      {
                        "learn": [
                          33253.20931,
                          48172.96664
                        ],
                        "iteration": 185,
                        "passed_time": 2.715437057,
                        "remaining_time": 14.8035117,
                        "test": [
                          35410.83106,
                          51897.49122
                        ]
                      },
                      {
                        "learn": [
                          33187.43804,
                          48102.52159
                        ],
                        "iteration": 186,
                        "passed_time": 2.725889903,
                        "remaining_time": 14.76645172,
                        "test": [
                          35355.75104,
                          51841.4016
                        ]
                      },
                      {
                        "learn": [
                          33160.78591,
                          48057.25379
                        ],
                        "iteration": 187,
                        "passed_time": 2.736122251,
                        "remaining_time": 14.72848786,
                        "test": [
                          35351.31984,
                          51832.21903
                        ]
                      },
                      {
                        "learn": [
                          33141.86986,
                          48023.80271
                        ],
                        "iteration": 188,
                        "passed_time": 2.746018055,
                        "remaining_time": 14.68901721,
                        "test": [
                          35334.61656,
                          51810.31625
                        ]
                      },
                      {
                        "learn": [
                          33124.25231,
                          47999.26196
                        ],
                        "iteration": 189,
                        "passed_time": 2.755354321,
                        "remaining_time": 14.64688349,
                        "test": [
                          35330.54191,
                          51808.69376
                        ]
                      },
                      {
                        "learn": [
                          33093.56666,
                          47961.92638
                        ],
                        "iteration": 190,
                        "passed_time": 2.765490856,
                        "remaining_time": 14.6093208,
                        "test": [
                          35301.32036,
                          51776.68122
                        ]
                      },
                      {
                        "learn": [
                          33064.55053,
                          47914.03105
                        ],
                        "iteration": 191,
                        "passed_time": 2.774746446,
                        "remaining_time": 14.56741884,
                        "test": [
                          35283.44971,
                          51756.43917
                        ]
                      },
                      {
                        "learn": [
                          33048.34249,
                          47883.40616
                        ],
                        "iteration": 192,
                        "passed_time": 2.791264799,
                        "remaining_time": 14.5637495,
                        "test": [
                          35274.16084,
                          51741.98785
                        ]
                      },
                      {
                        "learn": [
                          32997.93017,
                          47830.98326
                        ],
                        "iteration": 193,
                        "passed_time": 2.800650091,
                        "remaining_time": 14.52295872,
                        "test": [
                          35210.39316,
                          51683.90094
                        ]
                      },
                      {
                        "learn": [
                          32951.35534,
                          47772.71846
                        ],
                        "iteration": 194,
                        "passed_time": 2.810043875,
                        "remaining_time": 14.48253382,
                        "test": [
                          35186.22142,
                          51646.95622
                        ]
                      },
                      {
                        "learn": [
                          32930.12004,
                          47744.14887
                        ],
                        "iteration": 195,
                        "passed_time": 2.819259253,
                        "remaining_time": 14.44151168,
                        "test": [
                          35175.75532,
                          51629.85262
                        ]
                      },
                      {
                        "learn": [
                          32888.73565,
                          47692.38186
                        ],
                        "iteration": 196,
                        "passed_time": 2.829348242,
                        "remaining_time": 14.40526034,
                        "test": [
                          35132.23167,
                          51570.73303
                        ]
                      },
                      {
                        "learn": [
                          32875.97158,
                          47669.93598
                        ],
                        "iteration": 197,
                        "passed_time": 2.851593238,
                        "remaining_time": 14.43079002,
                        "test": [
                          35131.74141,
                          51568.13833
                        ]
                      },
                      {
                        "learn": [
                          32861.32028,
                          47636.31865
                        ],
                        "iteration": 198,
                        "passed_time": 2.869964748,
                        "remaining_time": 14.43635534,
                        "test": [
                          35120.30385,
                          51551.32503
                        ]
                      },
                      {
                        "learn": [
                          32812.372,
                          47581.07252
                        ],
                        "iteration": 199,
                        "passed_time": 2.880710714,
                        "remaining_time": 14.40355357,
                        "test": [
                          35087.71232,
                          51516.79338
                        ]
                      },
                      {
                        "learn": [
                          32766.26545,
                          47525.81971
                        ],
                        "iteration": 200,
                        "passed_time": 2.889635338,
                        "remaining_time": 14.36191892,
                        "test": [
                          35046.76441,
                          51476.42212
                        ]
                      },
                      {
                        "learn": [
                          32740.01828,
                          47489.42971
                        ],
                        "iteration": 201,
                        "passed_time": 2.899586433,
                        "remaining_time": 14.3256795,
                        "test": [
                          35038.82807,
                          51459.91479
                        ]
                      },
                      {
                        "learn": [
                          32705.38775,
                          47443.14911
                        ],
                        "iteration": 202,
                        "passed_time": 2.90946411,
                        "remaining_time": 14.28933851,
                        "test": [
                          35019.53611,
                          51430.77024
                        ]
                      },
                      {
                        "learn": [
                          32677.78429,
                          47411.04783
                        ],
                        "iteration": 203,
                        "passed_time": 2.919314065,
                        "remaining_time": 14.25312161,
                        "test": [
                          35003.2822,
                          51411.91041
                        ]
                      },
                      {
                        "learn": [
                          32621.88304,
                          47344.63891
                        ],
                        "iteration": 204,
                        "passed_time": 2.9278396,
                        "remaining_time": 14.21073367,
                        "test": [
                          34955.94779,
                          51339.88634
                        ]
                      },
                      {
                        "learn": [
                          32584.63295,
                          47301.52979
                        ],
                        "iteration": 205,
                        "passed_time": 2.937852487,
                        "remaining_time": 14.17585132,
                        "test": [
                          34938.72385,
                          51329.39747
                        ]
                      },
                      {
                        "learn": [
                          32546.65727,
                          47255.73788
                        ],
                        "iteration": 206,
                        "passed_time": 2.947601014,
                        "remaining_time": 14.1399411,
                        "test": [
                          34893.55561,
                          51285.18239
                        ]
                      },
                      {
                        "learn": [
                          32539.05549,
                          47238.01228
                        ],
                        "iteration": 207,
                        "passed_time": 2.958968259,
                        "remaining_time": 14.11200247,
                        "test": [
                          34886.52281,
                          51270.0127
                        ]
                      },
                      {
                        "learn": [
                          32505.99817,
                          47194.34188
                        ],
                        "iteration": 208,
                        "passed_time": 2.976344538,
                        "remaining_time": 14.11271501,
                        "test": [
                          34862.80881,
                          51245.84094
                        ]
                      },
                      {
                        "learn": [
                          32469.3685,
                          47154.18892
                        ],
                        "iteration": 209,
                        "passed_time": 2.985083556,
                        "remaining_time": 14.07253677,
                        "test": [
                          34833.02068,
                          51215.82025
                        ]
                      },
                      {
                        "learn": [
                          32438.79944,
                          47118.10684
                        ],
                        "iteration": 210,
                        "passed_time": 2.994955809,
                        "remaining_time": 14.03796823,
                        "test": [
                          34813.93268,
                          51190.79131
                        ]
                      },
                      {
                        "learn": [
                          32422.39282,
                          47089.34642
                        ],
                        "iteration": 211,
                        "passed_time": 3.020092898,
                        "remaining_time": 14.07477256,
                        "test": [
                          34812.00651,
                          51182.21246
                        ]
                      },
                      {
                        "learn": [
                          32413.69235,
                          47066.33029
                        ],
                        "iteration": 212,
                        "passed_time": 3.029080109,
                        "remaining_time": 14.03615994,
                        "test": [
                          34809.37729,
                          51173.13542
                        ]
                      },
                      {
                        "learn": [
                          32390.61887,
                          47023.01651
                        ],
                        "iteration": 213,
                        "passed_time": 3.038910187,
                        "remaining_time": 14.00170768,
                        "test": [
                          34783.52053,
                          51134.02574
                        ]
                      },
                      {
                        "learn": [
                          32366.30462,
                          46998.45955
                        ],
                        "iteration": 214,
                        "passed_time": 3.047851228,
                        "remaining_time": 13.96341144,
                        "test": [
                          34764.78357,
                          51111.84108
                        ]
                      },
                      {
                        "learn": [
                          32336.88052,
                          46943.5442
                        ],
                        "iteration": 215,
                        "passed_time": 3.057735931,
                        "remaining_time": 13.92968591,
                        "test": [
                          34750.5254,
                          51082.53143
                        ]
                      },
                      {
                        "learn": [
                          32316.55241,
                          46915.61533
                        ],
                        "iteration": 216,
                        "passed_time": 3.070400532,
                        "remaining_time": 13.90877292,
                        "test": [
                          34740.28106,
                          51069.38693
                        ]
                      },
                      {
                        "learn": [
                          32289.41353,
                          46884.40702
                        ],
                        "iteration": 217,
                        "passed_time": 3.089284115,
                        "remaining_time": 13.91594955,
                        "test": [
                          34732.80727,
                          51059.3003
                        ]
                      },
                      {
                        "learn": [
                          32266.3173,
                          46854.61457
                        ],
                        "iteration": 218,
                        "passed_time": 3.100458965,
                        "remaining_time": 13.88835728,
                        "test": [
                          34722.25241,
                          51043.43848
                        ]
                      },
                      {
                        "learn": [
                          32242.59718,
                          46818.4085
                        ],
                        "iteration": 219,
                        "passed_time": 3.112525735,
                        "remaining_time": 13.86488736,
                        "test": [
                          34702.17102,
                          51014.37832
                        ]
                      },
                      {
                        "learn": [
                          32187.84655,
                          46757.7981
                        ],
                        "iteration": 220,
                        "passed_time": 3.121838042,
                        "remaining_time": 13.82931875,
                        "test": [
                          34650.52513,
                          50952.08479
                        ]
                      },
                      {
                        "learn": [
                          32166.36962,
                          46734.33945
                        ],
                        "iteration": 221,
                        "passed_time": 3.130990884,
                        "remaining_time": 13.79328417,
                        "test": [
                          34632.54201,
                          50933.31336
                        ]
                      },
                      {
                        "learn": [
                          32131.29326,
                          46695.37227
                        ],
                        "iteration": 222,
                        "passed_time": 3.139732269,
                        "remaining_time": 13.75568801,
                        "test": [
                          34608.48084,
                          50901.11374
                        ]
                      },
                      {
                        "learn": [
                          32084.38782,
                          46639.6026
                        ],
                        "iteration": 223,
                        "passed_time": 3.148947261,
                        "remaining_time": 13.72041306,
                        "test": [
                          34564.01359,
                          50853.42904
                        ]
                      },
                      {
                        "learn": [
                          32055.00222,
                          46595.27026
                        ],
                        "iteration": 224,
                        "passed_time": 3.158108735,
                        "remaining_time": 13.68513785,
                        "test": [
                          34537.81797,
                          50817.86492
                        ]
                      },
                      {
                        "learn": [
                          32029.57731,
                          46562.08987
                        ],
                        "iteration": 225,
                        "passed_time": 3.167875463,
                        "remaining_time": 13.65270222,
                        "test": [
                          34530.83988,
                          50805.84847
                        ]
                      },
                      {
                        "learn": [
                          32017.50888,
                          46540.13064
                        ],
                        "iteration": 226,
                        "passed_time": 3.176914425,
                        "remaining_time": 13.61734685,
                        "test": [
                          34524.03487,
                          50798.3559
                        ]
                      },
                      {
                        "learn": [
                          31992.45238,
                          46496.27604
                        ],
                        "iteration": 227,
                        "passed_time": 3.185934964,
                        "remaining_time": 13.58214379,
                        "test": [
                          34506.29668,
                          50770.90868
                        ]
                      },
                      {
                        "learn": [
                          31955.10897,
                          46448.99034
                        ],
                        "iteration": 228,
                        "passed_time": 3.195794779,
                        "remaining_time": 13.55072808,
                        "test": [
                          34475.10869,
                          50720.69903
                        ]
                      },
                      {
                        "learn": [
                          31919.51581,
                          46412.28199
                        ],
                        "iteration": 229,
                        "passed_time": 3.20491102,
                        "remaining_time": 13.51636387,
                        "test": [
                          34427.0924,
                          50680.68735
                        ]
                      },
                      {
                        "learn": [
                          31909.87414,
                          46391.45129
                        ],
                        "iteration": 230,
                        "passed_time": 3.213897334,
                        "remaining_time": 13.48167323,
                        "test": [
                          34423.86133,
                          50674.01605
                        ]
                      },
                      {
                        "learn": [
                          31885.96106,
                          46339.90147
                        ],
                        "iteration": 231,
                        "passed_time": 3.223577947,
                        "remaining_time": 13.45010109,
                        "test": [
                          34407.66342,
                          50641.48329
                        ]
                      },
                      {
                        "learn": [
                          31855.42985,
                          46304.1044
                        ],
                        "iteration": 232,
                        "passed_time": 3.232450196,
                        "remaining_time": 13.41536197,
                        "test": [
                          34375.96379,
                          50611.27684
                        ]
                      },
                      {
                        "learn": [
                          31842.18146,
                          46278.64321
                        ],
                        "iteration": 233,
                        "passed_time": 3.241468204,
                        "remaining_time": 13.38144566,
                        "test": [
                          34367.42598,
                          50603.89956
                        ]
                      },
                      {
                        "learn": [
                          31822.02386,
                          46250.48476
                        ],
                        "iteration": 234,
                        "passed_time": 3.251596693,
                        "remaining_time": 13.35230131,
                        "test": [
                          34363.86287,
                          50587.4938
                        ]
                      },
                      {
                        "learn": [
                          31797.49724,
                          46208.25236
                        ],
                        "iteration": 235,
                        "passed_time": 3.26079594,
                        "remaining_time": 13.3195224,
                        "test": [
                          34349.64136,
                          50566.03941
                        ]
                      },
                      {
                        "learn": [
                          31764.07897,
                          46172.52564
                        ],
                        "iteration": 236,
                        "passed_time": 3.270451399,
                        "remaining_time": 13.28879619,
                        "test": [
                          34327.33706,
                          50544.9412
                        ]
                      },
                      {
                        "learn": [
                          31728.89311,
                          46122.55939
                        ],
                        "iteration": 237,
                        "passed_time": 3.28414858,
                        "remaining_time": 13.27458376,
                        "test": [
                          34309.35409,
                          50528.9742
                        ]
                      },
                      {
                        "learn": [
                          31703.57835,
                          46087.98386
                        ],
                        "iteration": 238,
                        "passed_time": 3.29356072,
                        "remaining_time": 13.24314583,
                        "test": [
                          34299.75498,
                          50516.62525
                        ]
                      },
                      {
                        "learn": [
                          31689.35876,
                          46068.29282
                        ],
                        "iteration": 239,
                        "passed_time": 3.301669811,
                        "remaining_time": 13.20667924,
                        "test": [
                          34288.21227,
                          50506.67738
                        ]
                      },
                      {
                        "learn": [
                          31650.18115,
                          46023.37218
                        ],
                        "iteration": 240,
                        "passed_time": 3.311193587,
                        "remaining_time": 13.17607739,
                        "test": [
                          34256.06735,
                          50467.62035
                        ]
                      },
                      {
                        "learn": [
                          31642.59365,
                          46002.47235
                        ],
                        "iteration": 241,
                        "passed_time": 3.320181069,
                        "remaining_time": 13.14352671,
                        "test": [
                          34261.26809,
                          50464.66233
                        ]
                      },
                      {
                        "learn": [
                          31625.54717,
                          45984.3666
                        ],
                        "iteration": 242,
                        "passed_time": 3.328574198,
                        "remaining_time": 13.10882925,
                        "test": [
                          34254.31135,
                          50455.2851
                        ]
                      },
                      {
                        "learn": [
                          31601.45637,
                          45947.27214
                        ],
                        "iteration": 243,
                        "passed_time": 3.337648967,
                        "remaining_time": 13.07701808,
                        "test": [
                          34227.3934,
                          50426.28505
                        ]
                      },
                      {
                        "learn": [
                          31588.90985,
                          45922.28949
                        ],
                        "iteration": 244,
                        "passed_time": 3.348247153,
                        "remaining_time": 13.05133074,
                        "test": [
                          34219.39299,
                          50410.63887
                        ]
                      },
                      {
                        "learn": [
                          31557.92207,
                          45884.78822
                        ],
                        "iteration": 245,
                        "passed_time": 3.357179379,
                        "remaining_time": 13.0193054,
                        "test": [
                          34192.11772,
                          50372.39229
                        ]
                      },
                      {
                        "learn": [
                          31538.4299,
                          45854.33346
                        ],
                        "iteration": 246,
                        "passed_time": 3.366820149,
                        "remaining_time": 12.99020082,
                        "test": [
                          34190.86184,
                          50363.31001
                        ]
                      },
                      {
                        "learn": [
                          31521.18352,
                          45823.65458
                        ],
                        "iteration": 247,
                        "passed_time": 3.376534047,
                        "remaining_time": 12.96153392,
                        "test": [
                          34183.10877,
                          50355.49983
                        ]
                      },
                      {
                        "learn": [
                          31492.01588,
                          45785.64963
                        ],
                        "iteration": 248,
                        "passed_time": 3.385138311,
                        "remaining_time": 12.92878126,
                        "test": [
                          34158.00013,
                          50332.01953
                        ]
                      },
                      {
                        "learn": [
                          31472.98768,
                          45761.84857
                        ],
                        "iteration": 249,
                        "passed_time": 3.394473463,
                        "remaining_time": 12.89899916,
                        "test": [
                          34144.34565,
                          50311.19783
                        ]
                      },
                      {
                        "learn": [
                          31452.07589,
                          45730.52121
                        ],
                        "iteration": 250,
                        "passed_time": 3.404726039,
                        "remaining_time": 12.87284865,
                        "test": [
                          34132.51766,
                          50285.84853
                        ]
                      },
                      {
                        "learn": [
                          31444.11992,
                          45711.14971
                        ],
                        "iteration": 251,
                        "passed_time": 3.413393631,
                        "remaining_time": 12.84086175,
                        "test": [
                          34128.27219,
                          50271.08775
                        ]
                      },
                      {
                        "learn": [
                          31423.54264,
                          45676.12246
                        ],
                        "iteration": 252,
                        "passed_time": 3.421637706,
                        "remaining_time": 12.80747394,
                        "test": [
                          34119.19922,
                          50258.90299
                        ]
                      },
                      {
                        "learn": [
                          31403.63418,
                          45645.98691
                        ],
                        "iteration": 253,
                        "passed_time": 3.432528167,
                        "remaining_time": 12.78414034,
                        "test": [
                          34114.16667,
                          50247.71843
                        ]
                      },
                      {
                        "learn": [
                          31378.85825,
                          45613.58396
                        ],
                        "iteration": 254,
                        "passed_time": 3.442602642,
                        "remaining_time": 12.75788038,
                        "test": [
                          34106.41126,
                          50239.33032
                        ]
                      },
                      {
                        "learn": [
                          31365.17307,
                          45598.12192
                        ],
                        "iteration": 255,
                        "passed_time": 3.451774905,
                        "remaining_time": 12.72841996,
                        "test": [
                          34093.97607,
                          50231.67001
                        ]
                      },
                      {
                        "learn": [
                          31333.20976,
                          45563.99388
                        ],
                        "iteration": 256,
                        "passed_time": 3.461866214,
                        "remaining_time": 12.70248965,
                        "test": [
                          34069.6533,
                          50204.96495
                        ]
                      },
                      {
                        "learn": [
                          31322.92858,
                          45544.99091
                        ],
                        "iteration": 257,
                        "passed_time": 3.471543777,
                        "remaining_time": 12.67517147,
                        "test": [
                          34060.02096,
                          50200.24291
                        ]
                      },
                      {
                        "learn": [
                          31300.7757,
                          45518.78012
                        ],
                        "iteration": 258,
                        "passed_time": 3.48598682,
                        "remaining_time": 12.66530346,
                        "test": [
                          34049.08137,
                          50184.25828
                        ]
                      },
                      {
                        "learn": [
                          31283.05853,
                          45491.74548
                        ],
                        "iteration": 259,
                        "passed_time": 3.495946323,
                        "remaining_time": 12.63919055,
                        "test": [
                          34043.3554,
                          50186.95232
                        ]
                      },
                      {
                        "learn": [
                          31245.48405,
                          45449.59087
                        ],
                        "iteration": 260,
                        "passed_time": 3.504949369,
                        "remaining_time": 12.60976037,
                        "test": [
                          34008.23541,
                          50145.77325
                        ]
                      },
                      {
                        "learn": [
                          31234.74539,
                          45425.48273
                        ],
                        "iteration": 261,
                        "passed_time": 3.527057437,
                        "remaining_time": 12.6274041,
                        "test": [
                          34003.83285,
                          50143.71869
                        ]
                      },
                      {
                        "learn": [
                          31222.21519,
                          45401.17751
                        ],
                        "iteration": 262,
                        "passed_time": 3.535238237,
                        "remaining_time": 12.59512634,
                        "test": [
                          33990.61899,
                          50129.31593
                        ]
                      },
                      {
                        "learn": [
                          31194.30495,
                          45362.20027
                        ],
                        "iteration": 263,
                        "passed_time": 3.54488262,
                        "remaining_time": 12.5682202,
                        "test": [
                          33984.83117,
                          50117.29712
                        ]
                      },
                      {
                        "learn": [
                          31186.86174,
                          45351.87783
                        ],
                        "iteration": 264,
                        "passed_time": 3.553142865,
                        "remaining_time": 12.53656067,
                        "test": [
                          33979.52942,
                          50106.99157
                        ]
                      },
                      {
                        "learn": [
                          31172.42773,
                          45329.94688
                        ],
                        "iteration": 265,
                        "passed_time": 3.562026305,
                        "remaining_time": 12.50726529,
                        "test": [
                          33976.98056,
                          50106.60444
                        ]
                      },
                      {
                        "learn": [
                          31148.43471,
                          45290.05877
                        ],
                        "iteration": 266,
                        "passed_time": 3.571322451,
                        "remaining_time": 12.47956497,
                        "test": [
                          33960.41021,
                          50084.05694
                        ]
                      },
                      {
                        "learn": [
                          31120.42366,
                          45254.57198
                        ],
                        "iteration": 267,
                        "passed_time": 3.579856796,
                        "remaining_time": 12.44935274,
                        "test": [
                          33934.18534,
                          50059.54809
                        ]
                      },
                      {
                        "learn": [
                          31087.09144,
                          45209.42412
                        ],
                        "iteration": 268,
                        "passed_time": 3.588987109,
                        "remaining_time": 12.42136431,
                        "test": [
                          33909.41559,
                          50033.51494
                        ]
                      },
                      {
                        "learn": [
                          31072.26581,
                          45185.5347
                        ],
                        "iteration": 269,
                        "passed_time": 3.598721596,
                        "remaining_time": 12.39559661,
                        "test": [
                          33901.8737,
                          50024.08098
                        ]
                      },
                      {
                        "learn": [
                          31057.71488,
                          45163.6883
                        ],
                        "iteration": 270,
                        "passed_time": 3.608630255,
                        "remaining_time": 12.37054431,
                        "test": [
                          33893.82196,
                          50012.6317
                        ]
                      },
                      {
                        "learn": [
                          31037.99389,
                          45121.58068
                        ],
                        "iteration": 271,
                        "passed_time": 3.618709196,
                        "remaining_time": 12.34618432,
                        "test": [
                          33877.15187,
                          49983.82016
                        ]
                      },
                      {
                        "learn": [
                          31025.31589,
                          45102.40093
                        ],
                        "iteration": 272,
                        "passed_time": 3.62832872,
                        "remaining_time": 12.32036895,
                        "test": [
                          33870.41948,
                          49976.51294
                        ]
                      },
                      {
                        "learn": [
                          31003.95358,
                          45076.91802
                        ],
                        "iteration": 273,
                        "passed_time": 3.638232911,
                        "remaining_time": 12.29563385,
                        "test": [
                          33846.87941,
                          49954.83595
                        ]
                      },
                      {
                        "learn": [
                          30993.60971,
                          45060.73939
                        ],
                        "iteration": 274,
                        "passed_time": 3.647494694,
                        "remaining_time": 12.26884579,
                        "test": [
                          33833.06738,
                          49937.3067
                        ]
                      },
                      {
                        "learn": [
                          30984.58751,
                          45044.72846
                        ],
                        "iteration": 275,
                        "passed_time": 3.658533068,
                        "remaining_time": 12.24813245,
                        "test": [
                          33828.42056,
                          49930.30563
                        ]
                      },
                      {
                        "learn": [
                          30958.19732,
                          45001.47463
                        ],
                        "iteration": 276,
                        "passed_time": 3.667527785,
                        "remaining_time": 12.22067923,
                        "test": [
                          33823.58713,
                          49916.71053
                        ]
                      },
                      {
                        "learn": [
                          30940.13658,
                          44978.8959
                        ],
                        "iteration": 277,
                        "passed_time": 3.676941863,
                        "remaining_time": 12.19474963,
                        "test": [
                          33813.0072,
                          49904.21793
                        ]
                      },
                      {
                        "learn": [
                          30924.89276,
                          44948.49297
                        ],
                        "iteration": 278,
                        "passed_time": 3.690056932,
                        "remaining_time": 12.18115568,
                        "test": [
                          33808.38595,
                          49891.19277
                        ]
                      },
                      {
                        "learn": [
                          30915.92624,
                          44931.41677
                        ],
                        "iteration": 279,
                        "passed_time": 3.702637364,
                        "remaining_time": 12.16580848,
                        "test": [
                          33809.44815,
                          49890.65753
                        ]
                      },
                      {
                        "learn": [
                          30900.869,
                          44902.62055
                        ],
                        "iteration": 280,
                        "passed_time": 3.712245813,
                        "remaining_time": 12.14076122,
                        "test": [
                          33800.27762,
                          49877.30925
                        ]
                      },
                      {
                        "learn": [
                          30885.83421,
                          44876.55077
                        ],
                        "iteration": 281,
                        "passed_time": 3.722137805,
                        "remaining_time": 12.11674647,
                        "test": [
                          33783.57158,
                          49859.09322
                        ]
                      },
                      {
                        "learn": [
                          30867.06695,
                          44844.86829
                        ],
                        "iteration": 282,
                        "passed_time": 3.731180333,
                        "remaining_time": 12.09007903,
                        "test": [
                          33774.73217,
                          49840.78776
                        ]
                      },
                      {
                        "learn": [
                          30850.97951,
                          44823.88727
                        ],
                        "iteration": 283,
                        "passed_time": 3.740429091,
                        "remaining_time": 12.06420087,
                        "test": [
                          33768.81474,
                          49830.52322
                        ]
                      },
                      {
                        "learn": [
                          30841.35641,
                          44807.10244
                        ],
                        "iteration": 284,
                        "passed_time": 3.750042045,
                        "remaining_time": 12.03960867,
                        "test": [
                          33766.34484,
                          49830.77871
                        ]
                      },
                      {
                        "learn": [
                          30828.8865,
                          44786.26223
                        ],
                        "iteration": 285,
                        "passed_time": 3.759890576,
                        "remaining_time": 12.01587408,
                        "test": [
                          33756.74674,
                          49828.77845
                        ]
                      },
                      {
                        "learn": [
                          30800.56572,
                          44756.78786
                        ],
                        "iteration": 286,
                        "passed_time": 3.769581804,
                        "remaining_time": 11.99173584,
                        "test": [
                          33743.51329,
                          49809.40047
                        ]
                      },
                      {
                        "learn": [
                          30781.3202,
                          44724.11002
                        ],
                        "iteration": 287,
                        "passed_time": 3.778747197,
                        "remaining_time": 11.96603279,
                        "test": [
                          33731.69241,
                          49800.2158
                        ]
                      },
                      {
                        "learn": [
                          30757.50084,
                          44700.2258
                        ],
                        "iteration": 288,
                        "passed_time": 3.787357502,
                        "remaining_time": 11.93869441,
                        "test": [
                          33715.91718,
                          49785.39236
                        ]
                      },
                      {
                        "learn": [
                          30748.67178,
                          44683.87772
                        ],
                        "iteration": 289,
                        "passed_time": 3.797064347,
                        "remaining_time": 11.91492605,
                        "test": [
                          33716.25173,
                          49785.79437
                        ]
                      },
                      {
                        "learn": [
                          30731.66263,
                          44656.23722
                        ],
                        "iteration": 290,
                        "passed_time": 3.805949962,
                        "remaining_time": 11.88868906,
                        "test": [
                          33709.00373,
                          49774.82026
                        ]
                      },
                      {
                        "learn": [
                          30705.53704,
                          44623.35366
                        ],
                        "iteration": 291,
                        "passed_time": 3.833376962,
                        "remaining_time": 11.92022699,
                        "test": [
                          33694.6995,
                          49755.03576
                        ]
                      },
                      {
                        "learn": [
                          30695.48396,
                          44607.74983
                        ],
                        "iteration": 292,
                        "passed_time": 3.852500062,
                        "remaining_time": 11.92565719,
                        "test": [
                          33691.16037,
                          49750.07208
                        ]
                      },
                      {
                        "learn": [
                          30670.40185,
                          44582.03832
                        ],
                        "iteration": 293,
                        "passed_time": 3.859563083,
                        "remaining_time": 11.89375562,
                        "test": [
                          33662.77044,
                          49719.06522
                        ]
                      },
                      {
                        "learn": [
                          30636.69441,
                          44533.76163
                        ],
                        "iteration": 294,
                        "passed_time": 3.869045797,
                        "remaining_time": 11.86944558,
                        "test": [
                          33629.54742,
                          49664.22591
                        ]
                      },
                      {
                        "learn": [
                          30625.114,
                          44515.47888
                        ],
                        "iteration": 295,
                        "passed_time": 3.877920504,
                        "remaining_time": 11.84337884,
                        "test": [
                          33624.62375,
                          49658.11572
                        ]
                      },
                      {
                        "learn": [
                          30618.46787,
                          44498.74179
                        ],
                        "iteration": 296,
                        "passed_time": 3.890127143,
                        "remaining_time": 11.82755828,
                        "test": [
                          33621.79829,
                          49652.76384
                        ]
                      },
                      {
                        "learn": [
                          30605.76993,
                          44480.11552
                        ],
                        "iteration": 297,
                        "passed_time": 3.900119847,
                        "remaining_time": 11.80506074,
                        "test": [
                          33612.68759,
                          49644.27014
                        ]
                      },
                      {
                        "learn": [
                          30582.79028,
                          44444.38474
                        ],
                        "iteration": 298,
                        "passed_time": 3.908722821,
                        "remaining_time": 11.77845907,
                        "test": [
                          33593.05686,
                          49622.95141
                        ]
                      },
                      {
                        "learn": [
                          30563.86621,
                          44422.49353
                        ],
                        "iteration": 299,
                        "passed_time": 3.919061671,
                        "remaining_time": 11.75718501,
                        "test": [
                          33575.21832,
                          49610.21743
                        ]
                      },
                      {
                        "learn": [
                          30550.10111,
                          44405.15816
                        ],
                        "iteration": 300,
                        "passed_time": 3.92860047,
                        "remaining_time": 11.7335941,
                        "test": [
                          33569.90388,
                          49601.96778
                        ]
                      },
                      {
                        "learn": [
                          30531.76945,
                          44379.17889
                        ],
                        "iteration": 301,
                        "passed_time": 3.93805339,
                        "remaining_time": 11.70984088,
                        "test": [
                          33561.95926,
                          49596.20576
                        ]
                      },
                      {
                        "learn": [
                          30513.86826,
                          44350.38876
                        ],
                        "iteration": 302,
                        "passed_time": 3.948340841,
                        "remaining_time": 11.68865259,
                        "test": [
                          33554.01461,
                          49582.3634
                        ]
                      },
                      {
                        "learn": [
                          30507.55426,
                          44331.86097
                        ],
                        "iteration": 303,
                        "passed_time": 3.955753103,
                        "remaining_time": 11.65906178,
                        "test": [
                          33562.86864,
                          49594.34793
                        ]
                      },
                      {
                        "learn": [
                          30487.40923,
                          44302.60903
                        ],
                        "iteration": 304,
                        "passed_time": 3.965131189,
                        "remaining_time": 11.63538496,
                        "test": [
                          33555.09303,
                          49588.06601
                        ]
                      },
                      {
                        "learn": [
                          30463.32105,
                          44270.84311
                        ],
                        "iteration": 305,
                        "passed_time": 3.974222039,
                        "remaining_time": 11.61096243,
                        "test": [
                          33539.93568,
                          49572.64147
                        ]
                      },
                      {
                        "learn": [
                          30441.50101,
                          44241.4313
                        ],
                        "iteration": 306,
                        "passed_time": 3.982879755,
                        "remaining_time": 11.58537987,
                        "test": [
                          33524.05416,
                          49554.559
                        ]
                      },
                      {
                        "learn": [
                          30424.75013,
                          44217.12597
                        ],
                        "iteration": 307,
                        "passed_time": 3.997040597,
                        "remaining_time": 11.57584485,
                        "test": [
                          33506.64807,
                          49535.62591
                        ]
                      },
                      {
                        "learn": [
                          30411.55819,
                          44192.52806
                        ],
                        "iteration": 308,
                        "passed_time": 4.007043075,
                        "remaining_time": 11.55428926,
                        "test": [
                          33495.73417,
                          49525.80129
                        ]
                      },
                      {
                        "learn": [
                          30382.4759,
                          44158.08674
                        ],
                        "iteration": 309,
                        "passed_time": 4.017278896,
                        "remaining_time": 11.53347812,
                        "test": [
                          33472.77545,
                          49489.91858
                        ]
                      },
                      {
                        "learn": [
                          30373.89444,
                          44139.8032
                        ],
                        "iteration": 310,
                        "passed_time": 4.027037304,
                        "remaining_time": 11.5113703,
                        "test": [
                          33469.24366,
                          49492.42312
                        ]
                      },
                      {
                        "learn": [
                          30359.89092,
                          44119.53351
                        ],
                        "iteration": 311,
                        "passed_time": 4.036985487,
                        "remaining_time": 11.48988177,
                        "test": [
                          33469.516,
                          49484.30812
                        ]
                      },
                      {
                        "learn": [
                          30345.25176,
                          44097.05245
                        ],
                        "iteration": 312,
                        "passed_time": 4.047238401,
                        "remaining_time": 11.46933055,
                        "test": [
                          33459.77859,
                          49471.96657
                        ]
                      },
                      {
                        "learn": [
                          30334.00321,
                          44082.62811
                        ],
                        "iteration": 313,
                        "passed_time": 4.056901416,
                        "remaining_time": 11.44718043,
                        "test": [
                          33452.87465,
                          49461.59689
                        ]
                      },
                      {
                        "learn": [
                          30323.79645,
                          44063.70592
                        ],
                        "iteration": 314,
                        "passed_time": 4.066427728,
                        "remaining_time": 11.42472552,
                        "test": [
                          33448.70047,
                          49454.07997
                        ]
                      },
                      {
                        "learn": [
                          30311.03136,
                          44039.88027
                        ],
                        "iteration": 315,
                        "passed_time": 4.075759079,
                        "remaining_time": 11.40180704,
                        "test": [
                          33433.74384,
                          49442.83328
                        ]
                      },
                      {
                        "learn": [
                          30291.13124,
                          44013.89654
                        ],
                        "iteration": 316,
                        "passed_time": 4.091379907,
                        "remaining_time": 11.39649356,
                        "test": [
                          33431.45336,
                          49433.69792
                        ]
                      },
                      {
                        "learn": [
                          30260.7803,
                          43975.87397
                        ],
                        "iteration": 317,
                        "passed_time": 4.110366963,
                        "remaining_time": 11.40045177,
                        "test": [
                          33409.30936,
                          49404.4203
                        ]
                      },
                      {
                        "learn": [
                          30239.69891,
                          43948.48618
                        ],
                        "iteration": 318,
                        "passed_time": 4.126038215,
                        "remaining_time": 11.39510868,
                        "test": [
                          33397.12759,
                          49391.74835
                        ]
                      },
                      {
                        "learn": [
                          30213.95278,
                          43917.36649
                        ],
                        "iteration": 319,
                        "passed_time": 4.135775827,
                        "remaining_time": 11.37338352,
                        "test": [
                          33373.00732,
                          49359.55403
                        ]
                      },
                      {
                        "learn": [
                          30198.98699,
                          43894.98753
                        ],
                        "iteration": 320,
                        "passed_time": 4.144856025,
                        "remaining_time": 11.34993285,
                        "test": [
                          33365.30703,
                          49348.10811
                        ]
                      },
                      {
                        "learn": [
                          30175.33226,
                          43866.80104
                        ],
                        "iteration": 321,
                        "passed_time": 4.153580073,
                        "remaining_time": 11.32560032,
                        "test": [
                          33345.96575,
                          49334.48323
                        ]
                      },
                      {
                        "learn": [
                          30141.88415,
                          43837.06168
                        ],
                        "iteration": 322,
                        "passed_time": 4.163185543,
                        "remaining_time": 11.30375765,
                        "test": [
                          33323.15716,
                          49313.12485
                        ]
                      },
                      {
                        "learn": [
                          30120.08624,
                          43802.92461
                        ],
                        "iteration": 323,
                        "passed_time": 4.172708482,
                        "remaining_time": 11.28176738,
                        "test": [
                          33307.02384,
                          49293.00418
                        ]
                      },
                      {
                        "learn": [
                          30107.20211,
                          43782.92598
                        ],
                        "iteration": 324,
                        "passed_time": 4.182561486,
                        "remaining_time": 11.26074246,
                        "test": [
                          33302.9262,
                          49284.34023
                        ]
                      },
                      {
                        "learn": [
                          30097.4089,
                          43770.8923
                        ],
                        "iteration": 325,
                        "passed_time": 4.192610619,
                        "remaining_time": 11.2403119,
                        "test": [
                          33298.26598,
                          49279.67779
                        ]
                      },
                      {
                        "learn": [
                          30091.66659,
                          43756.0439
                        ],
                        "iteration": 326,
                        "passed_time": 4.201718563,
                        "remaining_time": 11.21743213,
                        "test": [
                          33296.33176,
                          49276.2856
                        ]
                      },
                      {
                        "learn": [
                          30077.99549,
                          43736.17473
                        ],
                        "iteration": 327,
                        "passed_time": 4.211561768,
                        "remaining_time": 11.19659104,
                        "test": [
                          33290.1309,
                          49271.66174
                        ]
                      },
                      {
                        "learn": [
                          30054.58342,
                          43700.5702
                        ],
                        "iteration": 328,
                        "passed_time": 4.221214513,
                        "remaining_time": 11.17531259,
                        "test": [
                          33277.23042,
                          49265.3304
                        ]
                      },
                      {
                        "learn": [
                          30044.69389,
                          43681.28214
                        ],
                        "iteration": 329,
                        "passed_time": 4.230781661,
                        "remaining_time": 11.15387893,
                        "test": [
                          33270.56539,
                          49254.91245
                        ]
                      },
                      {
                        "learn": [
                          30037.12533,
                          43666.91007
                        ],
                        "iteration": 330,
                        "passed_time": 4.244822751,
                        "remaining_time": 11.14426275,
                        "test": [
                          33265.69189,
                          49252.48288
                        ]
                      },
                      {
                        "learn": [
                          30022.73016,
                          43651.04409
                        ],
                        "iteration": 331,
                        "passed_time": 4.254448234,
                        "remaining_time": 11.1230755,
                        "test": [
                          33258.58272,
                          49244.64931
                        ]
                      },
                      {
                        "learn": [
                          30002.96866,
                          43617.75307
                        ],
                        "iteration": 332,
                        "passed_time": 4.264302809,
                        "remaining_time": 11.10255416,
                        "test": [
                          33252.58027,
                          49223.22653
                        ]
                      },
                      {
                        "learn": [
                          29993.95119,
                          43603.68714
                        ],
                        "iteration": 333,
                        "passed_time": 4.283270753,
                        "remaining_time": 11.10572596,
                        "test": [
                          33248.9772,
                          49218.2741
                        ]
                      },
                      {
                        "learn": [
                          29985.33899,
                          43590.08547
                        ],
                        "iteration": 334,
                        "passed_time": 4.297951338,
                        "remaining_time": 11.09769525,
                        "test": [
                          33248.35178,
                          49213.38689
                        ]
                      },
                      {
                        "learn": [
                          29968.5972,
                          43561.45691
                        ],
                        "iteration": 335,
                        "passed_time": 4.307574086,
                        "remaining_time": 11.07661908,
                        "test": [
                          33235.23049,
                          49182.12371
                        ]
                      },
                      {
                        "learn": [
                          29956.08317,
                          43543.46169
                        ],
                        "iteration": 336,
                        "passed_time": 4.316862914,
                        "remaining_time": 11.05475577,
                        "test": [
                          33229.61905,
                          49178.14411
                        ]
                      },
                      {
                        "learn": [
                          29942.3059,
                          43520.71442
                        ],
                        "iteration": 337,
                        "passed_time": 4.326747994,
                        "remaining_time": 11.03448749,
                        "test": [
                          33227.2364,
                          49176.01211
                        ]
                      },
                      {
                        "learn": [
                          29924.57134,
                          43498.8012
                        ],
                        "iteration": 338,
                        "passed_time": 4.336390063,
                        "remaining_time": 11.01366326,
                        "test": [
                          33219.17501,
                          49163.18778
                        ]
                      },
                      {
                        "learn": [
                          29905.41147,
                          43478.80675
                        ],
                        "iteration": 339,
                        "passed_time": 4.345944519,
                        "remaining_time": 10.9926832,
                        "test": [
                          33207.18373,
                          49149.15177
                        ]
                      },
                      {
                        "learn": [
                          29880.69473,
                          43447.49689
                        ],
                        "iteration": 340,
                        "passed_time": 4.354994596,
                        "remaining_time": 10.97049958,
                        "test": [
                          33189.26947,
                          49125.78921
                        ]
                      },
                      {
                        "learn": [
                          29868.31857,
                          43427.75046
                        ],
                        "iteration": 341,
                        "passed_time": 4.364758407,
                        "remaining_time": 10.95018337,
                        "test": [
                          33183.95272,
                          49118.05628
                        ]
                      },
                      {
                        "learn": [
                          29854.82634,
                          43406.42166
                        ],
                        "iteration": 342,
                        "passed_time": 4.374550883,
                        "remaining_time": 10.93000031,
                        "test": [
                          33179.20509,
                          49110.24159
                        ]
                      },
                      {
                        "learn": [
                          29843.09857,
                          43386.39688
                        ],
                        "iteration": 343,
                        "passed_time": 4.384258427,
                        "remaining_time": 10.90966632,
                        "test": [
                          33166.8228,
                          49093.76588
                        ]
                      },
                      {
                        "learn": [
                          29834.92485,
                          43370.43255
                        ],
                        "iteration": 344,
                        "passed_time": 4.393885294,
                        "remaining_time": 10.88919399,
                        "test": [
                          33163.338,
                          49089.44686
                        ]
                      },
                      {
                        "learn": [
                          29820.83659,
                          43347.34432
                        ],
                        "iteration": 345,
                        "passed_time": 4.404093216,
                        "remaining_time": 10.87021852,
                        "test": [
                          33150.01619,
                          49071.29469
                        ]
                      },
                      {
                        "learn": [
                          29807.23531,
                          43324.86142
                        ],
                        "iteration": 346,
                        "passed_time": 4.412768963,
                        "remaining_time": 10.84752716,
                        "test": [
                          33147.00526,
                          49074.1396
                        ]
                      },
                      {
                        "learn": [
                          29798.46515,
                          43310.9559
                        ],
                        "iteration": 347,
                        "passed_time": 4.421808924,
                        "remaining_time": 10.82580806,
                        "test": [
                          33143.15771,
                          49071.5135
                        ]
                      },
                      {
                        "learn": [
                          29783.70475,
                          43293.24975
                        ],
                        "iteration": 348,
                        "passed_time": 4.431487822,
                        "remaining_time": 10.80571959,
                        "test": [
                          33134.9769,
                          49062.58506
                        ]
                      },
                      {
                        "learn": [
                          29766.05663,
                          43272.30264
                        ],
                        "iteration": 349,
                        "passed_time": 4.440776984,
                        "remaining_time": 10.7847441,
                        "test": [
                          33125.44824,
                          49053.98455
                        ]
                      },
                      {
                        "learn": [
                          29751.14429,
                          43252.65095
                        ],
                        "iteration": 350,
                        "passed_time": 4.450414489,
                        "remaining_time": 10.76467778,
                        "test": [
                          33119.24906,
                          49040.97873
                        ]
                      },
                      {
                        "learn": [
                          29733.94131,
                          43228.1731
                        ],
                        "iteration": 351,
                        "passed_time": 4.460139925,
                        "remaining_time": 10.74488255,
                        "test": [
                          33107.84131,
                          49030.19919
                        ]
                      },
                      {
                        "learn": [
                          29725.46015,
                          43207.56878
                        ],
                        "iteration": 352,
                        "passed_time": 4.468605762,
                        "remaining_time": 10.72212204,
                        "test": [
                          33112.39305,
                          49037.76125
                        ]
                      },
                      {
                        "learn": [
                          29716.25647,
                          43193.22904
                        ],
                        "iteration": 353,
                        "passed_time": 4.480287715,
                        "remaining_time": 10.70712827,
                        "test": [
                          33107.34391,
                          49026.96852
                        ]
                      },
                      {
                        "learn": [
                          29688.3222,
                          43155.11611
                        ],
                        "iteration": 354,
                        "passed_time": 4.498263799,
                        "remaining_time": 10.70713496,
                        "test": [
                          33075.10335,
                          48982.37231
                        ]
                      },
                      {
                        "learn": [
                          29656.11663,
                          43122.67186
                        ],
                        "iteration": 355,
                        "passed_time": 4.510893989,
                        "remaining_time": 10.69436665,
                        "test": [
                          33049.19921,
                          48955.21693
                        ]
                      },
                      {
                        "learn": [
                          29645.90348,
                          43098.12753
                        ],
                        "iteration": 356,
                        "passed_time": 4.519590815,
                        "remaining_time": 10.67231108,
                        "test": [
                          33052.49866,
                          48960.03557
                        ]
                      },
                      {
                        "learn": [
                          29642.5639,
                          43089.02798
                        ],
                        "iteration": 357,
                        "passed_time": 4.527811466,
                        "remaining_time": 10.64921021,
                        "test": [
                          33054.53412,
                          48958.08456
                        ]
                      },
                      {
                        "learn": [
                          29618.71451,
                          43058.76638
                        ],
                        "iteration": 358,
                        "passed_time": 4.539099817,
                        "remaining_time": 10.63337868,
                        "test": [
                          33028.59495,
                          48928.3078
                        ]
                      },
                      {
                        "learn": [
                          29599.81462,
                          43035.9296
                        ],
                        "iteration": 359,
                        "passed_time": 4.548389012,
                        "remaining_time": 10.61290769,
                        "test": [
                          33021.9546,
                          48914.82593
                        ]
                      },
                      {
                        "learn": [
                          29592.49589,
                          43022.74325
                        ],
                        "iteration": 360,
                        "passed_time": 4.558355216,
                        "remaining_time": 10.59407209,
                        "test": [
                          33020.98559,
                          48913.42014
                        ]
                      },
                      {
                        "learn": [
                          29582.07981,
                          43005.22194
                        ],
                        "iteration": 361,
                        "passed_time": 4.568415674,
                        "remaining_time": 10.57550369,
                        "test": [
                          33016.08365,
                          48909.01114
                        ]
                      },
                      {
                        "learn": [
                          29565.56415,
                          42982.53575
                        ],
                        "iteration": 362,
                        "passed_time": 4.577940163,
                        "remaining_time": 10.55574633,
                        "test": [
                          32992.44764,
                          48879.97326
                        ]
                      },
                      {
                        "learn": [
                          29560.07283,
                          42971.86831
                        ],
                        "iteration": 363,
                        "passed_time": 4.586982757,
                        "remaining_time": 10.53493842,
                        "test": [
                          32990.92391,
                          48879.07322
                        ]
                      },
                      {
                        "learn": [
                          29540.14345,
                          42941.84596
                        ],
                        "iteration": 364,
                        "passed_time": 4.596389367,
                        "remaining_time": 10.51502773,
                        "test": [
                          32977.41895,
                          48863.65744
                        ]
                      },
                      {
                        "learn": [
                          29527.08789,
                          42916.79336
                        ],
                        "iteration": 365,
                        "passed_time": 4.606242076,
                        "remaining_time": 10.49619096,
                        "test": [
                          32963.12468,
                          48839.52955
                        ]
                      },
                      {
                        "learn": [
                          29505.19139,
                          42888.19762
                        ],
                        "iteration": 366,
                        "passed_time": 4.614999457,
                        "remaining_time": 10.47491702,
                        "test": [
                          32957.63038,
                          48828.8153
                        ]
                      },
                      {
                        "learn": [
                          29492.3431,
                          42866.87901
                        ],
                        "iteration": 367,
                        "passed_time": 4.623613951,
                        "remaining_time": 10.45338806,
                        "test": [
                          32953.28359,
                          48825.27714
                        ]
                      },
                      {
                        "learn": [
                          29486.0237,
                          42852.41338
                        ],
                        "iteration": 368,
                        "passed_time": 4.633121874,
                        "remaining_time": 10.43394113,
                        "test": [
                          32953.92429,
                          48832.29077
                        ]
                      },
                      {
                        "learn": [
                          29470.27654,
                          42830.67068
                        ],
                        "iteration": 369,
                        "passed_time": 4.642354461,
                        "remaining_time": 10.41393028,
                        "test": [
                          32945.6022,
                          48822.33027
                        ]
                      },
                      {
                        "learn": [
                          29458.51439,
                          42814.69181
                        ],
                        "iteration": 370,
                        "passed_time": 4.652012443,
                        "remaining_time": 10.39492807,
                        "test": [
                          32940.55864,
                          48819.52016
                        ]
                      },
                      {
                        "learn": [
                          29452.28702,
                          42801.1142
                        ],
                        "iteration": 371,
                        "passed_time": 4.661112446,
                        "remaining_time": 10.37473415,
                        "test": [
                          32936.55942,
                          48813.34599
                        ]
                      },
                      {
                        "learn": [
                          29443.28561,
                          42782.95554
                        ],
                        "iteration": 372,
                        "passed_time": 4.670116947,
                        "remaining_time": 10.35438798,
                        "test": [
                          32935.8755,
                          48811.21273
                        ]
                      },
                      {
                        "learn": [
                          29430.81154,
                          42764.81231
                        ],
                        "iteration": 373,
                        "passed_time": 4.680069759,
                        "remaining_time": 10.33619685,
                        "test": [
                          32924.34408,
                          48798.35426
                        ]
                      },
                      {
                        "learn": [
                          29414.19794,
                          42745.75172
                        ],
                        "iteration": 374,
                        "passed_time": 4.689194077,
                        "remaining_time": 10.31622697,
                        "test": [
                          32907.89292,
                          48780.86703
                        ]
                      },
                      {
                        "learn": [
                          29397.5164,
                          42721.12652
                        ],
                        "iteration": 375,
                        "passed_time": 4.701749701,
                        "remaining_time": 10.30383445,
                        "test": [
                          32894.00899,
                          48763.48742
                        ]
                      },
                      {
                        "learn": [
                          29393.76997,
                          42709.48903
                        ],
                        "iteration": 376,
                        "passed_time": 4.709716913,
                        "remaining_time": 10.28142446,
                        "test": [
                          32895.76865,
                          48766.04023
                        ]
                      },
                      {
                        "learn": [
                          29381.57281,
                          42688.2948
                        ],
                        "iteration": 377,
                        "passed_time": 4.718754672,
                        "remaining_time": 10.26141889,
                        "test": [
                          32889.15443,
                          48763.05812
                        ]
                      },
                      {
                        "learn": [
                          29364.36399,
                          42667.31405
                        ],
                        "iteration": 378,
                        "passed_time": 4.728120798,
                        "remaining_time": 10.24218252,
                        "test": [
                          32880.57776,
                          48753.43616
                        ]
                      },
                      {
                        "learn": [
                          29359.84409,
                          42658.85017
                        ],
                        "iteration": 379,
                        "passed_time": 4.73725108,
                        "remaining_time": 10.22248917,
                        "test": [
                          32881.33499,
                          48750.80576
                        ]
                      },
                      {
                        "learn": [
                          29351.951,
                          42647.60603
                        ],
                        "iteration": 380,
                        "passed_time": 4.746128155,
                        "remaining_time": 10.20230698,
                        "test": [
                          32878.4549,
                          48749.45668
                        ]
                      },
                      {
                        "learn": [
                          29333.25876,
                          42628.28345
                        ],
                        "iteration": 381,
                        "passed_time": 4.755680254,
                        "remaining_time": 10.18362944,
                        "test": [
                          32869.63434,
                          48741.45753
                        ]
                      },
                      {
                        "learn": [
                          29317.32688,
                          42607.89972
                        ],
                        "iteration": 382,
                        "passed_time": 4.772503766,
                        "remaining_time": 10.18051064,
                        "test": [
                          32869.38438,
                          48742.95981
                        ]
                      },
                      {
                        "learn": [
                          29310.17572,
                          42595.99791
                        ],
                        "iteration": 383,
                        "passed_time": 4.78693134,
                        "remaining_time": 10.1722291,
                        "test": [
                          32867.4031,
                          48741.83548
                        ]
                      },
                      {
                        "learn": [
                          29300.43271,
                          42580.08402
                        ],
                        "iteration": 384,
                        "passed_time": 4.816867255,
                        "remaining_time": 10.19674497,
                        "test": [
                          32867.27901,
                          48732.29173
                        ]
                      },
                      {
                        "learn": [
                          29285.34469,
                          42558.3762
                        ],
                        "iteration": 385,
                        "passed_time": 4.842277816,
                        "remaining_time": 10.2114356,
                        "test": [
                          32864.09176,
                          48726.48945
                        ]
                      },
                      {
                        "learn": [
                          29274.09432,
                          42540.10472
                        ],
                        "iteration": 386,
                        "passed_time": 4.886794538,
                        "remaining_time": 10.26605674,
                        "test": [
                          32860.74053,
                          48728.5091
                        ]
                      },
                      {
                        "learn": [
                          29264.26579,
                          42522.96951
                        ],
                        "iteration": 387,
                        "passed_time": 4.914526326,
                        "remaining_time": 10.28503963,
                        "test": [
                          32858.10569,
                          48733.06548
                        ]
                      },
                      {
                        "learn": [
                          29252.31454,
                          42501.67076
                        ],
                        "iteration": 388,
                        "passed_time": 4.959269228,
                        "remaining_time": 10.33924767,
                        "test": [
                          32854.22742,
                          48728.69534
                        ]
                      },
                      {
                        "learn": [
                          29232.68871,
                          42473.93189
                        ],
                        "iteration": 389,
                        "passed_time": 4.983917873,
                        "remaining_time": 10.35121404,
                        "test": [
                          32842.09156,
                          48719.05119
                        ]
                      },
                      {
                        "learn": [
                          29211.00042,
                          42446.62571
                        ],
                        "iteration": 390,
                        "passed_time": 5.00389841,
                        "remaining_time": 10.35333456,
                        "test": [
                          32820.27981,
                          48698.18995
                        ]
                      },
                      {
                        "learn": [
                          29205.3003,
                          42432.15147
                        ],
                        "iteration": 391,
                        "passed_time": 5.024997302,
                        "remaining_time": 10.3576475,
                        "test": [
                          32820.99363,
                          48699.57774
                        ]
                      },
                      {
                        "learn": [
                          29186.17518,
                          42400.71037
                        ],
                        "iteration": 392,
                        "passed_time": 5.046244282,
                        "remaining_time": 10.3621352,
                        "test": [
                          32823.07445,
                          48699.80915
                        ]
                      },
                      {
                        "learn": [
                          29181.95289,
                          42390.90042
                        ],
                        "iteration": 393,
                        "passed_time": 5.057647638,
                        "remaining_time": 10.34635532,
                        "test": [
                          32824.07724,
                          48700.05765
                        ]
                      },
                      {
                        "learn": [
                          29175.15317,
                          42375.50559
                        ],
                        "iteration": 394,
                        "passed_time": 5.066756537,
                        "remaining_time": 10.32592155,
                        "test": [
                          32822.38603,
                          48702.2694
                        ]
                      },
                      {
                        "learn": [
                          29159.50955,
                          42357.20802
                        ],
                        "iteration": 395,
                        "passed_time": 5.087621259,
                        "remaining_time": 10.32941286,
                        "test": [
                          32803.60215,
                          48684.2285
                        ]
                      },
                      {
                        "learn": [
                          29131.76105,
                          42323.22757
                        ],
                        "iteration": 396,
                        "passed_time": 5.126052473,
                        "remaining_time": 10.36831268,
                        "test": [
                          32781.44701,
                          48652.98337
                        ]
                      },
                      {
                        "learn": [
                          29121.62706,
                          42305.53757
                        ],
                        "iteration": 397,
                        "passed_time": 5.151259513,
                        "remaining_time": 10.38017621,
                        "test": [
                          32775.89902,
                          48651.28532
                        ]
                      },
                      {
                        "learn": [
                          29114.71838,
                          42293.39836
                        ],
                        "iteration": 398,
                        "passed_time": 5.175936805,
                        "remaining_time": 10.39079043,
                        "test": [
                          32770.21486,
                          48638.78146
                        ]
                      },
                      {
                        "learn": [
                          29103.8455,
                          42274.64678
                        ],
                        "iteration": 399,
                        "passed_time": 5.199418838,
                        "remaining_time": 10.39883768,
                        "test": [
                          32759.36855,
                          48627.7351
                        ]
                      },
                      {
                        "learn": [
                          29087.69526,
                          42254.00925
                        ],
                        "iteration": 400,
                        "passed_time": 5.231270783,
                        "remaining_time": 10.42340488,
                        "test": [
                          32750.73504,
                          48614.64583
                        ]
                      },
                      {
                        "learn": [
                          29076.94032,
                          42238.37051
                        ],
                        "iteration": 401,
                        "passed_time": 5.256517164,
                        "remaining_time": 10.43457885,
                        "test": [
                          32744.26494,
                          48604.73221
                        ]
                      },
                      {
                        "learn": [
                          29071.93902,
                          42226.2771
                        ],
                        "iteration": 402,
                        "passed_time": 5.286569212,
                        "remaining_time": 10.45507608,
                        "test": [
                          32747.3586,
                          48609.67472
                        ]
                      },
                      {
                        "learn": [
                          29049.39089,
                          42203.02676
                        ],
                        "iteration": 403,
                        "passed_time": 5.314192127,
                        "remaining_time": 10.47053696,
                        "test": [
                          32727.09057,
                          48596.80235
                        ]
                      },
                      {
                        "learn": [
                          29040.52897,
                          42184.09822
                        ],
                        "iteration": 404,
                        "passed_time": 5.345933868,
                        "remaining_time": 10.49387018,
                        "test": [
                          32725.7522,
                          48593.45549
                        ]
                      },
                      {
                        "learn": [
                          29027.32258,
                          42167.23436
                        ],
                        "iteration": 405,
                        "passed_time": 5.376990045,
                        "remaining_time": 10.51559137,
                        "test": [
                          32719.76792,
                          48586.85885
                        ]
                      },
                      {
                        "learn": [
                          29019.40235,
                          42150.42014
                        ],
                        "iteration": 406,
                        "passed_time": 5.39724097,
                        "remaining_time": 10.51600022,
                        "test": [
                          32723.01354,
                          48594.08592
                        ]
                      },
                      {
                        "learn": [
                          29016.73808,
                          42143.33188
                        ],
                        "iteration": 407,
                        "passed_time": 5.415116989,
                        "remaining_time": 10.51169768,
                        "test": [
                          32721.02297,
                          48586.0361
                        ]
                      },
                      {
                        "learn": [
                          28999.93365,
                          42120.09226
                        ],
                        "iteration": 408,
                        "passed_time": 5.436300527,
                        "remaining_time": 10.51372547,
                        "test": [
                          32710.97775,
                          48578.30877
                        ]
                      },
                      {
                        "learn": [
                          28983.20644,
                          42094.91675
                        ],
                        "iteration": 409,
                        "passed_time": 5.4614018,
                        "remaining_time": 10.52318883,
                        "test": [
                          32704.81878,
                          48565.51568
                        ]
                      },
                      {
                        "learn": [
                          28977.54804,
                          42084.21722
                        ],
                        "iteration": 410,
                        "passed_time": 5.485852782,
                        "remaining_time": 10.53123563,
                        "test": [
                          32702.32942,
                          48555.39974
                        ]
                      },
                      {
                        "learn": [
                          28966.58765,
                          42067.44262
                        ],
                        "iteration": 411,
                        "passed_time": 5.511901971,
                        "remaining_time": 10.54218144,
                        "test": [
                          32695.4948,
                          48547.30703
                        ]
                      },
                      {
                        "learn": [
                          28947.9207,
                          42038.3694
                        ],
                        "iteration": 412,
                        "passed_time": 5.539324438,
                        "remaining_time": 10.55556497,
                        "test": [
                          32681.25846,
                          48532.59092
                        ]
                      },
                      {
                        "learn": [
                          28917.76837,
                          42000.19427
                        ],
                        "iteration": 413,
                        "passed_time": 5.575794417,
                        "remaining_time": 10.58592853,
                        "test": [
                          32653.86387,
                          48499.41656
                        ]
                      },
                      {
                        "learn": [
                          28910.82703,
                          41990.88827
                        ],
                        "iteration": 414,
                        "passed_time": 5.605293164,
                        "remaining_time": 10.60278346,
                        "test": [
                          32652.00204,
                          48498.46669
                        ]
                      },
                      {
                        "learn": [
                          28903.26502,
                          41979.66957
                        ],
                        "iteration": 415,
                        "passed_time": 5.633265187,
                        "remaining_time": 10.61653824,
                        "test": [
                          32645.5896,
                          48494.09884
                        ]
                      },
                      {
                        "learn": [
                          28891.72726,
                          41962.74082
                        ],
                        "iteration": 416,
                        "passed_time": 5.660010209,
                        "remaining_time": 10.62778895,
                        "test": [
                          32641.38405,
                          48491.47298
                        ]
                      },
                      {
                        "learn": [
                          28878.78866,
                          41945.92219
                        ],
                        "iteration": 417,
                        "passed_time": 5.683556763,
                        "remaining_time": 10.63287414,
                        "test": [
                          32628.18945,
                          48484.0836
                        ]
                      },
                      {
                        "learn": [
                          28875.50168,
                          41937.07588
                        ],
                        "iteration": 418,
                        "passed_time": 5.705978261,
                        "remaining_time": 10.63572559,
                        "test": [
                          32631.80845,
                          48487.45877
                        ]
                      },
                      {
                        "learn": [
                          28866.53199,
                          41925.19648
                        ],
                        "iteration": 419,
                        "passed_time": 5.726006131,
                        "remaining_time": 10.63401139,
                        "test": [
                          32626.57504,
                          48484.89601
                        ]
                      },
                      {
                        "learn": [
                          28863.03609,
                          41916.24887
                        ],
                        "iteration": 420,
                        "passed_time": 5.75617769,
                        "remaining_time": 10.65097962,
                        "test": [
                          32625.84801,
                          48483.51018
                        ]
                      },
                      {
                        "learn": [
                          28856.97834,
                          41906.72315
                        ],
                        "iteration": 421,
                        "passed_time": 5.777703695,
                        "remaining_time": 10.65178549,
                        "test": [
                          32624.60878,
                          48480.73634
                        ]
                      },
                      {
                        "learn": [
                          28848.23615,
                          41889.49074
                        ],
                        "iteration": 422,
                        "passed_time": 5.799337117,
                        "remaining_time": 10.65268307,
                        "test": [
                          32623.61714,
                          48482.6185
                        ]
                      },
                      {
                        "learn": [
                          28842.43314,
                          41880.05985
                        ],
                        "iteration": 423,
                        "passed_time": 5.825553803,
                        "remaining_time": 10.66186262,
                        "test": [
                          32622.56437,
                          48479.36725
                        ]
                      },
                      {
                        "learn": [
                          28824.75608,
                          41855.34679
                        ],
                        "iteration": 424,
                        "passed_time": 5.877257464,
                        "remaining_time": 10.71735185,
                        "test": [
                          32615.91708,
                          48472.95399
                        ]
                      },
                      {
                        "learn": [
                          28813.88553,
                          41837.60617
                        ],
                        "iteration": 425,
                        "passed_time": 5.902807126,
                        "remaining_time": 10.72481858,
                        "test": [
                          32613.27149,
                          48469.20872
                        ]
                      },
                      {
                        "learn": [
                          28807.7057,
                          41826.38705
                        ],
                        "iteration": 426,
                        "passed_time": 5.912082219,
                        "remaining_time": 10.70266875,
                        "test": [
                          32616.57819,
                          48473.66249
                        ]
                      },
                      {
                        "learn": [
                          28800.07909,
                          41811.09018
                        ],
                        "iteration": 427,
                        "passed_time": 5.924450553,
                        "remaining_time": 10.68615847,
                        "test": [
                          32614.16091,
                          48470.30356
                        ]
                      },
                      {
                        "learn": [
                          28795.41434,
                          41800.11591
                        ],
                        "iteration": 428,
                        "passed_time": 5.933552866,
                        "remaining_time": 10.66379781,
                        "test": [
                          32615.19104,
                          48470.20423
                        ]
                      },
                      {
                        "learn": [
                          28783.41339,
                          41782.04149
                        ],
                        "iteration": 429,
                        "passed_time": 5.9465628,
                        "remaining_time": 10.64849618,
                        "test": [
                          32601.56757,
                          48457.96569
                        ]
                      },
                      {
                        "learn": [
                          28761.99027,
                          41752.4204
                        ],
                        "iteration": 430,
                        "passed_time": 5.961480745,
                        "remaining_time": 10.6366095,
                        "test": [
                          32587.33963,
                          48439.84921
                        ]
                      },
                      {
                        "learn": [
                          28748.43157,
                          41727.5883
                        ],
                        "iteration": 431,
                        "passed_time": 5.976628036,
                        "remaining_time": 10.62511651,
                        "test": [
                          32577.2177,
                          48417.49369
                        ]
                      },
                      {
                        "learn": [
                          28731.36044,
                          41699.54129
                        ],
                        "iteration": 432,
                        "passed_time": 5.990118035,
                        "remaining_time": 10.61067098,
                        "test": [
                          32556.24993,
                          48399.17666
                        ]
                      },
                      {
                        "learn": [
                          28719.04038,
                          41680.40404
                        ],
                        "iteration": 433,
                        "passed_time": 6.004248815,
                        "remaining_time": 10.59736081,
                        "test": [
                          32547.46681,
                          48388.60997
                        ]
                      },
                      {
                        "learn": [
                          28709.35859,
                          41662.92462
                        ],
                        "iteration": 434,
                        "passed_time": 6.034484355,
                        "remaining_time": 10.61236904,
                        "test": [
                          32537.11054,
                          48379.54058
                        ]
                      },
                      {
                        "learn": [
                          28702.33566,
                          41647.71462
                        ],
                        "iteration": 435,
                        "passed_time": 6.06111773,
                        "remaining_time": 10.62085767,
                        "test": [
                          32537.33972,
                          48383.1306
                        ]
                      },
                      {
                        "learn": [
                          28696.21284,
                          41641.10706
                        ],
                        "iteration": 436,
                        "passed_time": 6.093793172,
                        "remaining_time": 10.63973499,
                        "test": [
                          32533.94667,
                          48378.87816
                        ]
                      },
                      {
                        "learn": [
                          28691.41,
                          41629.80391
                        ],
                        "iteration": 437,
                        "passed_time": 6.116666985,
                        "remaining_time": 10.64132475,
                        "test": [
                          32535.9727,
                          48376.94533
                        ]
                      },
                      {
                        "learn": [
                          28677.15616,
                          41610.72775
                        ],
                        "iteration": 438,
                        "passed_time": 6.137696593,
                        "remaining_time": 10.63960617,
                        "test": [
                          32534.21075,
                          48372.05917
                        ]
                      },
                      {
                        "learn": [
                          28669.43976,
                          41598.80403
                        ],
                        "iteration": 439,
                        "passed_time": 6.171627611,
                        "remaining_time": 10.66008405,
                        "test": [
                          32530.04579,
                          48371.1471
                        ]
                      },
                      {
                        "learn": [
                          28654.81156,
                          41573.59324
                        ],
                        "iteration": 440,
                        "passed_time": 6.199422042,
                        "remaining_time": 10.66975358,
                        "test": [
                          32530.23222,
                          48370.44019
                        ]
                      },
                      {
                        "learn": [
                          28646.45905,
                          41559.23845
                        ],
                        "iteration": 441,
                        "passed_time": 6.229018206,
                        "remaining_time": 10.68234344,
                        "test": [
                          32527.26563,
                          48368.01466
                        ]
                      },
                      {
                        "learn": [
                          28630.53999,
                          41538.66806
                        ],
                        "iteration": 442,
                        "passed_time": 6.254762122,
                        "remaining_time": 10.6881601,
                        "test": [
                          32519.69273,
                          48358.89404
                        ]
                      },
                      {
                        "learn": [
                          28619.91392,
                          41521.78563
                        ],
                        "iteration": 443,
                        "passed_time": 6.283619336,
                        "remaining_time": 10.69913563,
                        "test": [
                          32512.24931,
                          48349.83734
                        ]
                      },
                      {
                        "learn": [
                          28612.53582,
                          41510.57163
                        ],
                        "iteration": 444,
                        "passed_time": 6.305257703,
                        "remaining_time": 10.69768442,
                        "test": [
                          32511.50412,
                          48347.94952
                        ]
                      },
                      {
                        "learn": [
                          28608.89304,
                          41503.42825
                        ],
                        "iteration": 445,
                        "passed_time": 6.326011495,
                        "remaining_time": 10.69464724,
                        "test": [
                          32512.92757,
                          48347.85861
                        ]
                      },
                      {
                        "learn": [
                          28594.63759,
                          41482.50286
                        ],
                        "iteration": 446,
                        "passed_time": 6.349961938,
                        "remaining_time": 10.69691575,
                        "test": [
                          32494.52002,
                          48326.02058
                        ]
                      },
                      {
                        "learn": [
                          28585.15674,
                          41466.1341
                        ],
                        "iteration": 447,
                        "passed_time": 6.380519632,
                        "remaining_time": 10.71015795,
                        "test": [
                          32492.55086,
                          48322.13581
                        ]
                      },
                      {
                        "learn": [
                          28580.09978,
                          41456.06688
                        ],
                        "iteration": 448,
                        "passed_time": 6.393192358,
                        "remaining_time": 10.69329056,
                        "test": [
                          32490.56706,
                          48318.38688
                        ]
                      },
                      {
                        "learn": [
                          28575.76913,
                          41446.98369
                        ],
                        "iteration": 449,
                        "passed_time": 6.40420027,
                        "remaining_time": 10.67366712,
                        "test": [
                          32491.13779,
                          48319.65821
                        ]
                      },
                      {
                        "learn": [
                          28559.4047,
                          41427.24945
                        ],
                        "iteration": 450,
                        "passed_time": 6.415225752,
                        "remaining_time": 10.65411106,
                        "test": [
                          32472.67075,
                          48298.96226
                        ]
                      },
                      {
                        "learn": [
                          28550.82972,
                          41415.64426
                        ],
                        "iteration": 451,
                        "passed_time": 6.433559072,
                        "remaining_time": 10.64668625,
                        "test": [
                          32467.24272,
                          48295.84382
                        ]
                      },
                      {
                        "learn": [
                          28537.74552,
                          41399.66056
                        ],
                        "iteration": 452,
                        "passed_time": 6.445639244,
                        "remaining_time": 10.6289018,
                        "test": [
                          32456.47242,
                          48284.35949
                        ]
                      },
                      {
                        "learn": [
                          28516.06841,
                          41372.62042
                        ],
                        "iteration": 453,
                        "passed_time": 6.456899283,
                        "remaining_time": 10.60979486,
                        "test": [
                          32445.30025,
                          48283.9069
                        ]
                      },
                      {
                        "learn": [
                          28498.07964,
                          41351.95737
                        ],
                        "iteration": 454,
                        "passed_time": 6.48631738,
                        "remaining_time": 10.62045373,
                        "test": [
                          32431.25466,
                          48270.94471
                        ]
                      },
                      {
                        "learn": [
                          28488.46857,
                          41338.1439
                        ],
                        "iteration": 455,
                        "passed_time": 6.530647827,
                        "remaining_time": 10.65526751,
                        "test": [
                          32429.07401,
                          48271.46613
                        ]
                      },
                      {
                        "learn": [
                          28470.77059,
                          41314.44117
                        ],
                        "iteration": 456,
                        "passed_time": 6.583036443,
                        "remaining_time": 10.70283606,
                        "test": [
                          32416.47388,
                          48260.81294
                        ]
                      },
                      {
                        "learn": [
                          28461.18329,
                          41302.76244
                        ],
                        "iteration": 457,
                        "passed_time": 6.626784052,
                        "remaining_time": 10.73596892,
                        "test": [
                          32413.60164,
                          48255.87523
                        ]
                      },
                      {
                        "learn": [
                          28452.22326,
                          41288.89854
                        ],
                        "iteration": 458,
                        "passed_time": 6.661766954,
                        "remaining_time": 10.75461724,
                        "test": [
                          32411.78126,
                          48252.25552
                        ]
                      },
                      {
                        "learn": [
                          28445.32936,
                          41275.41423
                        ],
                        "iteration": 459,
                        "passed_time": 6.674440798,
                        "remaining_time": 10.73714389,
                        "test": [
                          32408.34475,
                          48246.4144
                        ]
                      },
                      {
                        "learn": [
                          28431.31379,
                          41249.96101
                        ],
                        "iteration": 460,
                        "passed_time": 6.694164307,
                        "remaining_time": 10.73099224,
                        "test": [
                          32395.76753,
                          48225.58994
                        ]
                      },
                      {
                        "learn": [
                          28422.05818,
                          41234.26591
                        ],
                        "iteration": 461,
                        "passed_time": 6.739535719,
                        "remaining_time": 10.76575186,
                        "test": [
                          32386.02827,
                          48216.58113
                        ]
                      },
                      {
                        "learn": [
                          28416.96218,
                          41228.47051
                        ],
                        "iteration": 462,
                        "passed_time": 6.761566921,
                        "remaining_time": 10.76301257,
                        "test": [
                          32382.98723,
                          48213.08576
                        ]
                      },
                      {
                        "learn": [
                          28403.75964,
                          41212.98282
                        ],
                        "iteration": 463,
                        "passed_time": 6.787908513,
                        "remaining_time": 10.7670273,
                        "test": [
                          32377.18612,
                          48211.25366
                        ]
                      },
                      {
                        "learn": [
                          28392.2223,
                          41196.26626
                        ],
                        "iteration": 464,
                        "passed_time": 6.812348552,
                        "remaining_time": 10.76790578,
                        "test": [
                          32371.62338,
                          48205.35964
                        ]
                      },
                      {
                        "learn": [
                          28380.33356,
                          41175.8389
                        ],
                        "iteration": 465,
                        "passed_time": 6.874409443,
                        "remaining_time": 10.82793247,
                        "test": [
                          32366.44622,
                          48197.56859
                        ]
                      },
                      {
                        "learn": [
                          28370.65757,
                          41164.83027
                        ],
                        "iteration": 466,
                        "passed_time": 6.904187363,
                        "remaining_time": 10.83676518,
                        "test": [
                          32363.36042,
                          48191.88877
                        ]
                      },
                      {
                        "learn": [
                          28365.41041,
                          41153.72371
                        ],
                        "iteration": 467,
                        "passed_time": 6.92365543,
                        "remaining_time": 10.82930721,
                        "test": [
                          32361.12048,
                          48190.41195
                        ]
                      },
                      {
                        "learn": [
                          28351.3188,
                          41135.389
                        ],
                        "iteration": 468,
                        "passed_time": 6.953788538,
                        "remaining_time": 10.83842094,
                        "test": [
                          32353.06719,
                          48185.57299
                        ]
                      },
                      {
                        "learn": [
                          28341.43511,
                          41116.74511
                        ],
                        "iteration": 469,
                        "passed_time": 6.974391597,
                        "remaining_time": 10.83256567,
                        "test": [
                          32340.23902,
                          48165.8685
                        ]
                      },
                      {
                        "learn": [
                          28337.31609,
                          41107.36905
                        ],
                        "iteration": 470,
                        "passed_time": 7.001535417,
                        "remaining_time": 10.83677138,
                        "test": [
                          32339.52136,
                          48168.52077
                        ]
                      },
                      {
                        "learn": [
                          28329.6434,
                          41094.00029
                        ],
                        "iteration": 471,
                        "passed_time": 7.043261952,
                        "remaining_time": 10.86333623,
                        "test": [
                          32333.79349,
                          48157.39877
                        ]
                      },
                      {
                        "learn": [
                          28313.77622,
                          41069.02938
                        ],
                        "iteration": 472,
                        "passed_time": 7.0744832,
                        "remaining_time": 10.87346572,
                        "test": [
                          32324.28128,
                          48141.43271
                        ]
                      },
                      {
                        "learn": [
                          28304.56776,
                          41056.61564
                        ],
                        "iteration": 473,
                        "passed_time": 7.099358837,
                        "remaining_time": 10.87370151,
                        "test": [
                          32317.10538,
                          48140.51269
                        ]
                      },
                      {
                        "learn": [
                          28295.3028,
                          41038.9413
                        ],
                        "iteration": 474,
                        "passed_time": 7.120796544,
                        "remaining_time": 10.8685842,
                        "test": [
                          32308.15076,
                          48125.50124
                        ]
                      },
                      {
                        "learn": [
                          28282.67252,
                          41021.45093
                        ],
                        "iteration": 475,
                        "passed_time": 7.140562224,
                        "remaining_time": 10.86085515,
                        "test": [
                          32303.02112,
                          48123.49644
                        ]
                      },
                      {
                        "learn": [
                          28274.05404,
                          41007.37269
                        ],
                        "iteration": 476,
                        "passed_time": 7.163854328,
                        "remaining_time": 10.85842071,
                        "test": [
                          32307.30716,
                          48123.30904
                        ]
                      },
                      {
                        "learn": [
                          28241.10822,
                          40972.55981
                        ],
                        "iteration": 477,
                        "passed_time": 7.194789944,
                        "remaining_time": 10.86744423,
                        "test": [
                          32280.16278,
                          48100.18679
                        ]
                      },
                      {
                        "learn": [
                          28236.42549,
                          40964.5634
                        ],
                        "iteration": 478,
                        "passed_time": 7.217449882,
                        "remaining_time": 10.86384419,
                        "test": [
                          32283.94773,
                          48106.02348
                        ]
                      },
                      {
                        "learn": [
                          28229.71783,
                          40956.14983
                        ],
                        "iteration": 479,
                        "passed_time": 7.245025304,
                        "remaining_time": 10.86753796,
                        "test": [
                          32278.37007,
                          48102.09308
                        ]
                      },
                      {
                        "learn": [
                          28226.25545,
                          40947.03661
                        ],
                        "iteration": 480,
                        "passed_time": 7.267811269,
                        "remaining_time": 10.86394242,
                        "test": [
                          32267.95855,
                          48106.9769
                        ]
                      },
                      {
                        "learn": [
                          28213.92429,
                          40928.71372
                        ],
                        "iteration": 481,
                        "passed_time": 7.298842732,
                        "remaining_time": 10.87254996,
                        "test": [
                          32260.8865,
                          48093.99469
                        ]
                      },
                      {
                        "learn": [
                          28200.25635,
                          40909.86035
                        ],
                        "iteration": 482,
                        "passed_time": 7.318281241,
                        "remaining_time": 10.86378395,
                        "test": [
                          32240.17971,
                          48065.77999
                        ]
                      },
                      {
                        "learn": [
                          28196.29584,
                          40904.90064
                        ],
                        "iteration": 483,
                        "passed_time": 7.334604172,
                        "remaining_time": 10.85036485,
                        "test": [
                          32239.10848,
                          48063.23183
                        ]
                      },
                      {
                        "learn": [
                          28193.73196,
                          40897.46758
                        ],
                        "iteration": 484,
                        "passed_time": 7.35537276,
                        "remaining_time": 10.84348768,
                        "test": [
                          32229.86931,
                          48067.82846
                        ]
                      },
                      {
                        "learn": [
                          28181.33231,
                          40882.97297
                        ],
                        "iteration": 485,
                        "passed_time": 7.375254245,
                        "remaining_time": 10.83525006,
                        "test": [
                          32226.93877,
                          48066.49896
                        ]
                      },
                      {
                        "learn": [
                          28168.26208,
                          40860.71883
                        ],
                        "iteration": 486,
                        "passed_time": 7.417069714,
                        "remaining_time": 10.85907743,
                        "test": [
                          32210.20505,
                          48037.08432
                        ]
                      },
                      {
                        "learn": [
                          28158.50654,
                          40848.8747
                        ],
                        "iteration": 487,
                        "passed_time": 7.439823133,
                        "remaining_time": 10.85482392,
                        "test": [
                          32198.92482,
                          48027.62615
                        ]
                      },
                      {
                        "learn": [
                          28147.15303,
                          40833.93345
                        ],
                        "iteration": 488,
                        "passed_time": 7.462318146,
                        "remaining_time": 10.85011902,
                        "test": [
                          32197.73577,
                          48026.46621
                        ]
                      },
                      {
                        "learn": [
                          28132.00105,
                          40810.80023
                        ],
                        "iteration": 489,
                        "passed_time": 7.480386975,
                        "remaining_time": 10.83892807,
                        "test": [
                          32196.15308,
                          48026.7477
                        ]
                      },
                      {
                        "learn": [
                          28118.91205,
                          40792.86071
                        ],
                        "iteration": 490,
                        "passed_time": 7.506714733,
                        "remaining_time": 10.83963492,
                        "test": [
                          32183.78972,
                          48024.76912
                        ]
                      },
                      {
                        "learn": [
                          28097.76405,
                          40772.02908
                        ],
                        "iteration": 491,
                        "passed_time": 7.536954454,
                        "remaining_time": 10.84586129,
                        "test": [
                          32167.26457,
                          48010.0688
                        ]
                      },
                      {
                        "learn": [
                          28078.44902,
                          40743.80145
                        ],
                        "iteration": 492,
                        "passed_time": 7.55897713,
                        "remaining_time": 10.84015584,
                        "test": [
                          32151.12841,
                          47995.55298
                        ]
                      },
                      {
                        "learn": [
                          28070.43703,
                          40732.38524
                        ],
                        "iteration": 493,
                        "passed_time": 7.584780545,
                        "remaining_time": 10.83978758,
                        "test": [
                          32150.63341,
                          47991.86601
                        ]
                      },
                      {
                        "learn": [
                          28061.05829,
                          40717.52274
                        ],
                        "iteration": 494,
                        "passed_time": 7.617796644,
                        "remaining_time": 10.84958916,
                        "test": [
                          32149.60175,
                          47990.76785
                        ]
                      },
                      {
                        "learn": [
                          28042.5386,
                          40686.69277
                        ],
                        "iteration": 495,
                        "passed_time": 7.677589998,
                        "remaining_time": 10.89722451,
                        "test": [
                          32139.92886,
                          47979.63967
                        ]
                      },
                      {
                        "learn": [
                          28031.36528,
                          40665.08457
                        ],
                        "iteration": 496,
                        "passed_time": 7.701102523,
                        "remaining_time": 10.8931088,
                        "test": [
                          32132.54724,
                          47972.76632
                        ]
                      },
                      {
                        "learn": [
                          28029.29416,
                          40663.18821
                        ],
                        "iteration": 497,
                        "passed_time": 7.756863843,
                        "remaining_time": 10.93437433,
                        "test": [
                          32133.27986,
                          47974.66812
                        ]
                      },
                      {
                        "learn": [
                          28018.47298,
                          40645.69517
                        ],
                        "iteration": 498,
                        "passed_time": 7.781908326,
                        "remaining_time": 10.93209967,
                        "test": [
                          32131.7367,
                          47972.92899
                        ]
                      },
                      {
                        "learn": [
                          28007.25907,
                          40634.41131
                        ],
                        "iteration": 499,
                        "passed_time": 7.810090845,
                        "remaining_time": 10.93412718,
                        "test": [
                          32120.7614,
                          47963.7207
                        ]
                      },
                      {
                        "learn": [
                          28000.26904,
                          40624.20223
                        ],
                        "iteration": 500,
                        "passed_time": 7.848448056,
                        "remaining_time": 10.95022992,
                        "test": [
                          32120.93957,
                          47963.90252
                        ]
                      },
                      {
                        "learn": [
                          27990.98327,
                          40609.21041
                        ],
                        "iteration": 501,
                        "passed_time": 7.88764933,
                        "remaining_time": 10.96728931,
                        "test": [
                          32115.82245,
                          47957.3587
                        ]
                      },
                      {
                        "learn": [
                          27986.95039,
                          40599.9642
                        ],
                        "iteration": 502,
                        "passed_time": 7.93691482,
                        "remaining_time": 10.99807083,
                        "test": [
                          32113.0461,
                          47956.38395
                        ]
                      },
                      {
                        "learn": [
                          27986.7418,
                          40599.58925
                        ],
                        "iteration": 503,
                        "passed_time": 7.949654021,
                        "remaining_time": 10.97809365,
                        "test": [
                          32113.83924,
                          47956.39124
                        ]
                      },
                      {
                        "learn": [
                          27977.52208,
                          40580.43314
                        ],
                        "iteration": 504,
                        "passed_time": 7.979403303,
                        "remaining_time": 10.98155504,
                        "test": [
                          32103.41713,
                          47939.60325
                        ]
                      },
                      {
                        "learn": [
                          27954.87076,
                          40552.82925
                        ],
                        "iteration": 505,
                        "passed_time": 8.024238945,
                        "remaining_time": 11.00557673,
                        "test": [
                          32091.99619,
                          47924.85692
                        ]
                      },
                      {
                        "learn": [
                          27949.8521,
                          40543.66366
                        ],
                        "iteration": 506,
                        "passed_time": 8.069885133,
                        "remaining_time": 11.03043471,
                        "test": [
                          32093.85646,
                          47932.81007
                        ]
                      },
                      {
                        "learn": [
                          27938.07668,
                          40520.5467
                        ],
                        "iteration": 507,
                        "passed_time": 8.083298487,
                        "remaining_time": 11.01110739,
                        "test": [
                          32088.99755,
                          47921.49277
                        ]
                      },
                      {
                        "learn": [
                          27932.38889,
                          40509.40181
                        ],
                        "iteration": 508,
                        "passed_time": 8.0955353,
                        "remaining_time": 10.99020608,
                        "test": [
                          32088.4056,
                          47926.90428
                        ]
                      },
                      {
                        "learn": [
                          27915.63856,
                          40486.57387
                        ],
                        "iteration": 509,
                        "passed_time": 8.109480544,
                        "remaining_time": 10.97165015,
                        "test": [
                          32076.48361,
                          47912.16464
                        ]
                      },
                      {
                        "learn": [
                          27906.765,
                          40477.0533
                        ],
                        "iteration": 510,
                        "passed_time": 8.122145312,
                        "remaining_time": 10.95138575,
                        "test": [
                          32071.87017,
                          47907.05507
                        ]
                      },
                      {
                        "learn": [
                          27877.33454,
                          40448.66356
                        ],
                        "iteration": 511,
                        "passed_time": 8.150018925,
                        "remaining_time": 10.95158793,
                        "test": [
                          32046.69172,
                          47881.06704
                        ]
                      },
                      {
                        "learn": [
                          27864.85221,
                          40433.72942
                        ],
                        "iteration": 512,
                        "passed_time": 8.172514374,
                        "remaining_time": 10.94447831,
                        "test": [
                          32043.3821,
                          47881.5266
                        ]
                      },
                      {
                        "learn": [
                          27857.58196,
                          40415.72293
                        ],
                        "iteration": 513,
                        "passed_time": 8.190605079,
                        "remaining_time": 10.93143013,
                        "test": [
                          32040.49048,
                          47875.13893
                        ]
                      },
                      {
                        "learn": [
                          27848.0513,
                          40397.33631
                        ],
                        "iteration": 514,
                        "passed_time": 8.201253897,
                        "remaining_time": 10.90846392,
                        "test": [
                          32032.00253,
                          47864.47641
                        ]
                      },
                      {
                        "learn": [
                          27837.32072,
                          40381.85309
                        ],
                        "iteration": 515,
                        "passed_time": 8.218190208,
                        "remaining_time": 10.89388004,
                        "test": [
                          32025.64343,
                          47860.53541
                        ]
                      },
                      {
                        "learn": [
                          27823.28788,
                          40358.29379
                        ],
                        "iteration": 516,
                        "passed_time": 8.232030687,
                        "remaining_time": 10.87519721,
                        "test": [
                          32023.34557,
                          47858.47103
                        ]
                      },
                      {
                        "learn": [
                          27802.82024,
                          40338.61212
                        ],
                        "iteration": 517,
                        "passed_time": 8.244281813,
                        "remaining_time": 10.85444053,
                        "test": [
                          32011.20901,
                          47854.365
                        ]
                      },
                      {
                        "learn": [
                          27791.78132,
                          40321.11396
                        ],
                        "iteration": 518,
                        "passed_time": 8.261227731,
                        "remaining_time": 10.83987685,
                        "test": [
                          32009.51617,
                          47849.26988
                        ]
                      },
                      {
                        "learn": [
                          27786.30577,
                          40310.91855
                        ],
                        "iteration": 519,
                        "passed_time": 8.288917049,
                        "remaining_time": 10.83935306,
                        "test": [
                          32006.60305,
                          47847.84361
                        ]
                      },
                      {
                        "learn": [
                          27778.91262,
                          40298.62617
                        ],
                        "iteration": 520,
                        "passed_time": 8.31600772,
                        "remaining_time": 10.8379448,
                        "test": [
                          32004.56218,
                          47844.75654
                        ]
                      },
                      {
                        "learn": [
                          27762.882,
                          40272.74186
                        ],
                        "iteration": 521,
                        "passed_time": 8.329256358,
                        "remaining_time": 10.81845941,
                        "test": [
                          31997.52398,
                          47834.84686
                        ]
                      },
                      {
                        "learn": [
                          27753.54942,
                          40258.27655
                        ],
                        "iteration": 522,
                        "passed_time": 8.345873821,
                        "remaining_time": 10.80335865,
                        "test": [
                          31989.36452,
                          47830.68535
                        ]
                      },
                      {
                        "learn": [
                          27742.58224,
                          40238.54358
                        ],
                        "iteration": 523,
                        "passed_time": 8.366563419,
                        "remaining_time": 10.79350548,
                        "test": [
                          31988.76737,
                          47833.03547
                        ]
                      },
                      {
                        "learn": [
                          27738.2569,
                          40231.214
                        ],
                        "iteration": 524,
                        "passed_time": 8.39219385,
                        "remaining_time": 10.78996352,
                        "test": [
                          31986.77106,
                          47832.85203
                        ]
                      },
                      {
                        "learn": [
                          27724.82684,
                          40212.07322
                        ],
                        "iteration": 525,
                        "passed_time": 8.407849503,
                        "remaining_time": 10.77355621,
                        "test": [
                          31983.83351,
                          47829.37683
                        ]
                      },
                      {
                        "learn": [
                          27711.18226,
                          40199.86363
                        ],
                        "iteration": 526,
                        "passed_time": 8.425039276,
                        "remaining_time": 10.75911088,
                        "test": [
                          31977.19285,
                          47831.03174
                        ]
                      },
                      {
                        "learn": [
                          27704.09089,
                          40184.4004
                        ],
                        "iteration": 527,
                        "passed_time": 8.437805343,
                        "remaining_time": 10.73902498,
                        "test": [
                          31971.2088,
                          47819.5265
                        ]
                      },
                      {
                        "learn": [
                          27697.58208,
                          40173.5684
                        ],
                        "iteration": 528,
                        "passed_time": 8.449643496,
                        "remaining_time": 10.71778976,
                        "test": [
                          31972.62693,
                          47834.83034
                        ]
                      },
                      {
                        "learn": [
                          27681.67541,
                          40153.80552
                        ],
                        "iteration": 529,
                        "passed_time": 8.460847172,
                        "remaining_time": 10.69578793,
                        "test": [
                          31955.91493,
                          47815.51279
                        ]
                      },
                      {
                        "learn": [
                          27672.84093,
                          40142.05772
                        ],
                        "iteration": 530,
                        "passed_time": 8.473032196,
                        "remaining_time": 10.67506316,
                        "test": [
                          31949.93031,
                          47807.65813
                        ]
                      },
                      {
                        "learn": [
                          27665.46401,
                          40128.25598
                        ],
                        "iteration": 531,
                        "passed_time": 8.488018242,
                        "remaining_time": 10.65788757,
                        "test": [
                          31945.3937,
                          47797.73036
                        ]
                      },
                      {
                        "learn": [
                          27647.51189,
                          40106.83421
                        ],
                        "iteration": 532,
                        "passed_time": 8.511976823,
                        "remaining_time": 10.65194848,
                        "test": [
                          31931.69548,
                          47775.96046
                        ]
                      },
                      {
                        "learn": [
                          27638.73192,
                          40092.95732
                        ],
                        "iteration": 533,
                        "passed_time": 8.542167888,
                        "remaining_time": 10.65371501,
                        "test": [
                          31929.26243,
                          47776.85475
                        ]
                      },
                      {
                        "learn": [
                          27630.4963,
                          40080.80615
                        ],
                        "iteration": 534,
                        "passed_time": 8.566646302,
                        "remaining_time": 10.64826129,
                        "test": [
                          31924.70155,
                          47773.04152
                        ]
                      },
                      {
                        "learn": [
                          27626.085,
                          40073.47988
                        ],
                        "iteration": 535,
                        "passed_time": 8.579958445,
                        "remaining_time": 10.62890374,
                        "test": [
                          31923.69309,
                          47772.70717
                        ]
                      },
                      {
                        "learn": [
                          27610.63674,
                          40051.66929
                        ],
                        "iteration": 536,
                        "passed_time": 8.608216893,
                        "remaining_time": 10.62802197,
                        "test": [
                          31922.1584,
                          47761.06553
                        ]
                      },
                      {
                        "learn": [
                          27603.42437,
                          40039.36072
                        ],
                        "iteration": 537,
                        "passed_time": 8.639009443,
                        "remaining_time": 10.6301566,
                        "test": [
                          31918.00644,
                          47756.56468
                        ]
                      },
                      {
                        "learn": [
                          27594.39261,
                          40023.86392
                        ],
                        "iteration": 538,
                        "passed_time": 8.667571285,
                        "remaining_time": 10.62943343,
                        "test": [
                          31914.21135,
                          47748.08179
                        ]
                      },
                      {
                        "learn": [
                          27588.44566,
                          40008.54284
                        ],
                        "iteration": 539,
                        "passed_time": 8.690937864,
                        "remaining_time": 10.62225739,
                        "test": [
                          31916.2166,
                          47750.97956
                        ]
                      },
                      {
                        "learn": [
                          27580.39611,
                          39994.07713
                        ],
                        "iteration": 540,
                        "passed_time": 8.730905971,
                        "remaining_time": 10.63524406,
                        "test": [
                          31914.47092,
                          47748.02766
                        ]
                      },
                      {
                        "learn": [
                          27569.67975,
                          39978.54872
                        ],
                        "iteration": 541,
                        "passed_time": 8.75327676,
                        "remaining_time": 10.62667179,
                        "test": [
                          31902.05778,
                          47730.22974
                        ]
                      },
                      {
                        "learn": [
                          27553.74349,
                          39961.5865
                        ],
                        "iteration": 542,
                        "passed_time": 8.774527642,
                        "remaining_time": 10.61669367,
                        "test": [
                          31894.35328,
                          47725.62222
                        ]
                      },
                      {
                        "learn": [
                          27547.00322,
                          39949.86707
                        ],
                        "iteration": 543,
                        "passed_time": 8.796310294,
                        "remaining_time": 10.60731535,
                        "test": [
                          31895.187,
                          47726.94344
                        ]
                      },
                      {
                        "learn": [
                          27535.97332,
                          39932.6479
                        ],
                        "iteration": 544,
                        "passed_time": 8.818967726,
                        "remaining_time": 10.59894286,
                        "test": [
                          31887.02262,
                          47727.47275
                        ]
                      },
                      {
                        "learn": [
                          27525.03126,
                          39916.95794
                        ],
                        "iteration": 545,
                        "passed_time": 8.838208335,
                        "remaining_time": 10.58642537,
                        "test": [
                          31883.28836,
                          47727.05361
                        ]
                      },
                      {
                        "learn": [
                          27512.98786,
                          39897.99179
                        ],
                        "iteration": 546,
                        "passed_time": 8.879882881,
                        "remaining_time": 10.60066457,
                        "test": [
                          31880.85799,
                          47721.71662
                        ]
                      },
                      {
                        "learn": [
                          27505.1763,
                          39885.07504
                        ],
                        "iteration": 547,
                        "passed_time": 8.931147664,
                        "remaining_time": 10.62610999,
                        "test": [
                          31875.03524,
                          47713.32115
                        ]
                      },
                      {
                        "learn": [
                          27494.92814,
                          39866.0737
                        ],
                        "iteration": 548,
                        "passed_time": 8.959492313,
                        "remaining_time": 10.62409744,
                        "test": [
                          31862.8365,
                          47693.67683
                        ]
                      },
                      {
                        "learn": [
                          27488.04799,
                          39854.94918
                        ],
                        "iteration": 549,
                        "passed_time": 8.982782643,
                        "remaining_time": 10.61601585,
                        "test": [
                          31865.18731,
                          47692.68972
                        ]
                      },
                      {
                        "learn": [
                          27482.51928,
                          39844.67292
                        ],
                        "iteration": 550,
                        "passed_time": 9.021244464,
                        "remaining_time": 10.62574892,
                        "test": [
                          31861.26483,
                          47692.08998
                        ]
                      },
                      {
                        "learn": [
                          27474.20236,
                          39826.52005
                        ],
                        "iteration": 551,
                        "passed_time": 9.09603195,
                        "remaining_time": 10.67795055,
                        "test": [
                          31854.65556,
                          47680.66706
                        ]
                      },
                      {
                        "learn": [
                          27466.84596,
                          39812.46766
                        ],
                        "iteration": 552,
                        "passed_time": 9.108067052,
                        "remaining_time": 10.65627375,
                        "test": [
                          31853.84428,
                          47678.94918
                        ]
                      },
                      {
                        "learn": [
                          27457.28853,
                          39796.30417
                        ],
                        "iteration": 553,
                        "passed_time": 9.12479959,
                        "remaining_time": 10.64010927,
                        "test": [
                          31847.10957,
                          47669.91552
                        ]
                      },
                      {
                        "learn": [
                          27440.61256,
                          39773.60875
                        ],
                        "iteration": 554,
                        "passed_time": 9.162014655,
                        "remaining_time": 10.64774676,
                        "test": [
                          31836.857,
                          47662.47627
                        ]
                      },
                      {
                        "learn": [
                          27427.4774,
                          39753.82572
                        ],
                        "iteration": 555,
                        "passed_time": 9.187026302,
                        "remaining_time": 10.64108802,
                        "test": [
                          31827.86843,
                          47649.85273
                        ]
                      },
                      {
                        "learn": [
                          27422.73469,
                          39748.55046
                        ],
                        "iteration": 556,
                        "passed_time": 9.234988938,
                        "remaining_time": 10.66085797,
                        "test": [
                          31826.9098,
                          47651.29088
                        ]
                      },
                      {
                        "learn": [
                          27417.73301,
                          39737.65185
                        ],
                        "iteration": 557,
                        "passed_time": 9.264708476,
                        "remaining_time": 10.65939577,
                        "test": [
                          31828.38629,
                          47656.01365
                        ]
                      },
                      {
                        "learn": [
                          27412.21492,
                          39731.73024
                        ],
                        "iteration": 558,
                        "passed_time": 9.276521071,
                        "remaining_time": 10.63729876,
                        "test": [
                          31826.13224,
                          47656.34567
                        ]
                      },
                      {
                        "learn": [
                          27401.6048,
                          39718.09716
                        ],
                        "iteration": 559,
                        "passed_time": 9.28703542,
                        "remaining_time": 10.61375477,
                        "test": [
                          31817.58931,
                          47648.06349
                        ]
                      },
                      {
                        "learn": [
                          27390.09986,
                          39700.16122
                        ],
                        "iteration": 560,
                        "passed_time": 9.328018027,
                        "remaining_time": 10.62496171,
                        "test": [
                          31804.33739,
                          47631.7027
                        ]
                      },
                      {
                        "learn": [
                          27385.4819,
                          39692.28354
                        ],
                        "iteration": 561,
                        "passed_time": 9.341724835,
                        "remaining_time": 10.60501858,
                        "test": [
                          31803.45601,
                          47628.52356
                        ]
                      },
                      {
                        "learn": [
                          27379.9063,
                          39683.92982
                        ],
                        "iteration": 562,
                        "passed_time": 9.37898257,
                        "remaining_time": 10.61174404,
                        "test": [
                          31802.64448,
                          47625.34255
                        ]
                      },
                      {
                        "learn": [
                          27374.57327,
                          39675.55349
                        ],
                        "iteration": 563,
                        "passed_time": 9.408981941,
                        "remaining_time": 10.61012857,
                        "test": [
                          31797.18846,
                          47619.13248
                        ]
                      },
                      {
                        "learn": [
                          27363.07341,
                          39657.43899
                        ],
                        "iteration": 564,
                        "passed_time": 9.430316347,
                        "remaining_time": 10.59867412,
                        "test": [
                          31794.84054,
                          47616.57119
                        ]
                      },
                      {
                        "learn": [
                          27356.04345,
                          39644.89173
                        ],
                        "iteration": 565,
                        "passed_time": 9.443404876,
                        "remaining_time": 10.57794822,
                        "test": [
                          31792.40519,
                          47613.68668
                        ]
                      },
                      {
                        "learn": [
                          27345.20227,
                          39628.6979
                        ],
                        "iteration": 566,
                        "passed_time": 9.454401158,
                        "remaining_time": 10.55491346,
                        "test": [
                          31784.83007,
                          47607.49203
                        ]
                      },
                      {
                        "learn": [
                          27338.98538,
                          39614.97768
                        ],
                        "iteration": 567,
                        "passed_time": 9.465790153,
                        "remaining_time": 10.53235806,
                        "test": [
                          31782.74822,
                          47605.61758
                        ]
                      },
                      {
                        "learn": [
                          27336.42954,
                          39610.2175
                        ],
                        "iteration": 568,
                        "passed_time": 9.474878588,
                        "remaining_time": 10.50729067,
                        "test": [
                          31780.43167,
                          47601.25781
                        ]
                      },
                      {
                        "learn": [
                          27329.76216,
                          39600.92932
                        ],
                        "iteration": 569,
                        "passed_time": 9.485777186,
                        "remaining_time": 10.48428005,
                        "test": [
                          31782.21031,
                          47600.21586
                        ]
                      },
                      {
                        "learn": [
                          27323.90782,
                          39589.86683
                        ],
                        "iteration": 570,
                        "passed_time": 9.497411929,
                        "remaining_time": 10.46212277,
                        "test": [
                          31778.13252,
                          47591.74481
                        ]
                      },
                      {
                        "learn": [
                          27313.7994,
                          39572.21289
                        ],
                        "iteration": 571,
                        "passed_time": 9.509051639,
                        "remaining_time": 10.44000774,
                        "test": [
                          31775.41743,
                          47582.55664
                        ]
                      },
                      {
                        "learn": [
                          27303.87584,
                          39556.70177
                        ],
                        "iteration": 572,
                        "passed_time": 9.522775978,
                        "remaining_time": 10.42021036,
                        "test": [
                          31769.27126,
                          47563.44812
                        ]
                      },
                      {
                        "learn": [
                          27297.79177,
                          39546.74307
                        ],
                        "iteration": 573,
                        "passed_time": 9.534178815,
                        "remaining_time": 10.39790233,
                        "test": [
                          31765.98427,
                          47554.91379
                        ]
                      },
                      {
                        "learn": [
                          27290.79319,
                          39532.93522
                        ],
                        "iteration": 574,
                        "passed_time": 9.545897357,
                        "remaining_time": 10.37597539,
                        "test": [
                          31767.30715,
                          47554.17757
                        ]
                      },
                      {
                        "learn": [
                          27279.14865,
                          39513.79165
                        ],
                        "iteration": 575,
                        "passed_time": 9.556898143,
                        "remaining_time": 10.35330632,
                        "test": [
                          31762.45644,
                          47548.18521
                        ]
                      },
                      {
                        "learn": [
                          27271.54693,
                          39501.72277
                        ],
                        "iteration": 576,
                        "passed_time": 9.570317037,
                        "remaining_time": 10.33328859,
                        "test": [
                          31764.45403,
                          47550.77497
                        ]
                      },
                      {
                        "learn": [
                          27264.66979,
                          39489.58546
                        ],
                        "iteration": 577,
                        "passed_time": 9.603152238,
                        "remaining_time": 10.33418805,
                        "test": [
                          31758.07896,
                          47537.92946
                        ]
                      },
                      {
                        "learn": [
                          27259.1394,
                          39476.6155
                        ],
                        "iteration": 578,
                        "passed_time": 9.634062801,
                        "remaining_time": 10.33290674,
                        "test": [
                          31757.38801,
                          47533.54646
                        ]
                      },
                      {
                        "learn": [
                          27246.64334,
                          39455.86628
                        ],
                        "iteration": 579,
                        "passed_time": 9.647842505,
                        "remaining_time": 10.31321095,
                        "test": [
                          31751.12469,
                          47524.00932
                        ]
                      },
                      {
                        "learn": [
                          27241.99605,
                          39445.6451
                        ],
                        "iteration": 580,
                        "passed_time": 9.671430729,
                        "remaining_time": 10.30398558,
                        "test": [
                          31753.73334,
                          47524.7668
                        ]
                      },
                      {
                        "learn": [
                          27237.77025,
                          39438.82229
                        ],
                        "iteration": 581,
                        "passed_time": 9.697296993,
                        "remaining_time": 10.2971298,
                        "test": [
                          31753.73443,
                          47523.2183
                        ]
                      },
                      {
                        "learn": [
                          27230.52509,
                          39426.9583
                        ],
                        "iteration": 582,
                        "passed_time": 9.722046881,
                        "remaining_time": 10.28902732,
                        "test": [
                          31754.55512,
                          47525.43031
                        ]
                      },
                      {
                        "learn": [
                          27220.96161,
                          39413.96739
                        ],
                        "iteration": 583,
                        "passed_time": 9.763115868,
                        "remaining_time": 10.29808112,
                        "test": [
                          31750.40504,
                          47520.55985
                        ]
                      },
                      {
                        "learn": [
                          27215.99181,
                          39405.04214
                        ],
                        "iteration": 584,
                        "passed_time": 9.796410302,
                        "remaining_time": 10.29879032,
                        "test": [
                          31752.89025,
                          47526.17868
                        ]
                      },
                      {
                        "learn": [
                          27204.10873,
                          39388.09332
                        ],
                        "iteration": 585,
                        "passed_time": 9.828876775,
                        "remaining_time": 10.29851594,
                        "test": [
                          31748.49056,
                          47529.18994
                        ]
                      },
                      {
                        "learn": [
                          27202.66444,
                          39383.4408
                        ],
                        "iteration": 586,
                        "passed_time": 9.849168112,
                        "remaining_time": 10.28541747,
                        "test": [
                          31747.72085,
                          47530.24265
                        ]
                      },
                      {
                        "learn": [
                          27197.65727,
                          39374.96392
                        ],
                        "iteration": 587,
                        "passed_time": 9.875667824,
                        "remaining_time": 10.27875631,
                        "test": [
                          31745.29832,
                          47530.17722
                        ]
                      },
                      {
                        "learn": [
                          27190.58528,
                          39359.88653
                        ],
                        "iteration": 588,
                        "passed_time": 9.901167462,
                        "remaining_time": 10.27099036,
                        "test": [
                          31747.26645,
                          47534.225
                        ]
                      },
                      {
                        "learn": [
                          27184.10861,
                          39348.71347
                        ],
                        "iteration": 589,
                        "passed_time": 9.961811418,
                        "remaining_time": 10.29949994,
                        "test": [
                          31743.89608,
                          47531.846
                        ]
                      },
                      {
                        "learn": [
                          27167.05042,
                          39327.84342
                        ],
                        "iteration": 590,
                        "passed_time": 9.98277633,
                        "remaining_time": 10.28682028,
                        "test": [
                          31732.16835,
                          47512.3473
                        ]
                      },
                      {
                        "learn": [
                          27163.11097,
                          39321.55292
                        ],
                        "iteration": 591,
                        "passed_time": 10.00164065,
                        "remaining_time": 10.27195526,
                        "test": [
                          31730.95769,
                          47510.52724
                        ]
                      },
                      {
                        "learn": [
                          27156.8463,
                          39310.993
                        ],
                        "iteration": 592,
                        "passed_time": 10.0340092,
                        "remaining_time": 10.2708998,
                        "test": [
                          31729.38054,
                          47510.11309
                        ]
                      },
                      {
                        "learn": [
                          27149.30168,
                          39300.34576
                        ],
                        "iteration": 593,
                        "passed_time": 10.05782826,
                        "remaining_time": 10.26101671,
                        "test": [
                          31728.28926,
                          47506.21138
                        ]
                      },
                      {
                        "learn": [
                          27146.71273,
                          39295.8449
                        ],
                        "iteration": 594,
                        "passed_time": 10.08269344,
                        "remaining_time": 10.25215047,
                        "test": [
                          31729.05925,
                          47506.99173
                        ]
                      },
                      {
                        "learn": [
                          27135.54589,
                          39279.85397
                        ],
                        "iteration": 595,
                        "passed_time": 10.10367008,
                        "remaining_time": 10.23928981,
                        "test": [
                          31721.19414,
                          47497.15011
                        ]
                      },
                      {
                        "learn": [
                          27132.15347,
                          39269.59609
                        ],
                        "iteration": 596,
                        "passed_time": 10.13342573,
                        "remaining_time": 10.2352692,
                        "test": [
                          31722.80354,
                          47495.82674
                        ]
                      },
                      {
                        "learn": [
                          27127.48937,
                          39263.21353
                        ],
                        "iteration": 597,
                        "passed_time": 10.14943678,
                        "remaining_time": 10.21732599,
                        "test": [
                          31721.66408,
                          47494.33358
                        ]
                      },
                      {
                        "learn": [
                          27115.7885,
                          39245.01128
                        ],
                        "iteration": 598,
                        "passed_time": 10.17529836,
                        "remaining_time": 10.20927265,
                        "test": [
                          31718.24321,
                          47489.08323
                        ]
                      },
                      {
                        "learn": [
                          27105.54514,
                          39225.89768
                        ],
                        "iteration": 599,
                        "passed_time": 10.20381501,
                        "remaining_time": 10.20381501,
                        "test": [
                          31721.49142,
                          47489.1818
                        ]
                      },
                      {
                        "learn": [
                          27091.7531,
                          39209.63657
                        ],
                        "iteration": 600,
                        "passed_time": 10.23954208,
                        "remaining_time": 10.20546706,
                        "test": [
                          31708.48348,
                          47479.42681
                        ]
                      },
                      {
                        "learn": [
                          27084.8048,
                          39199.55308
                        ],
                        "iteration": 601,
                        "passed_time": 10.26137359,
                        "remaining_time": 10.1931917,
                        "test": [
                          31705.16961,
                          47473.22483
                        ]
                      },
                      {
                        "learn": [
                          27078.22432,
                          39187.94863
                        ],
                        "iteration": 602,
                        "passed_time": 10.30293847,
                        "remaining_time": 10.20042167,
                        "test": [
                          31702.79963,
                          47472.66592
                        ]
                      },
                      {
                        "learn": [
                          27069.33516,
                          39173.68031
                        ],
                        "iteration": 603,
                        "passed_time": 10.3551927,
                        "remaining_time": 10.21803783,
                        "test": [
                          31705.37548,
                          47471.61607
                        ]
                      },
                      {
                        "learn": [
                          27063.97,
                          39162.45146
                        ],
                        "iteration": 604,
                        "passed_time": 10.37933599,
                        "remaining_time": 10.20777672,
                        "test": [
                          31706.98099,
                          47472.49487
                        ]
                      },
                      {
                        "learn": [
                          27057.64188,
                          39153.75743
                        ],
                        "iteration": 605,
                        "passed_time": 10.41260346,
                        "remaining_time": 10.2064133,
                        "test": [
                          31705.20159,
                          47469.82244
                        ]
                      },
                      {
                        "learn": [
                          27051.17734,
                          39140.41795
                        ],
                        "iteration": 606,
                        "passed_time": 10.4301048,
                        "remaining_time": 10.18954225,
                        "test": [
                          31705.00206,
                          47468.68241
                        ]
                      },
                      {
                        "learn": [
                          27045.42131,
                          39134.30499
                        ],
                        "iteration": 607,
                        "passed_time": 10.45581812,
                        "remaining_time": 10.18066501,
                        "test": [
                          31702.59304,
                          47467.93044
                        ]
                      },
                      {
                        "learn": [
                          27030.41667,
                          39115.59222
                        ],
                        "iteration": 608,
                        "passed_time": 10.49708612,
                        "remaining_time": 10.18682742,
                        "test": [
                          31696.28279,
                          47467.85093
                        ]
                      },
                      {
                        "learn": [
                          27023.11506,
                          39102.12343
                        ],
                        "iteration": 609,
                        "passed_time": 10.52575904,
                        "remaining_time": 10.18065219,
                        "test": [
                          31695.4464,
                          47466.3859
                        ]
                      },
                      {
                        "learn": [
                          27015.92425,
                          39090.86083
                        ],
                        "iteration": 610,
                        "passed_time": 10.55676338,
                        "remaining_time": 10.17665079,
                        "test": [
                          31691.62756,
                          47461.36626
                        ]
                      },
                      {
                        "learn": [
                          27003.30368,
                          39070.98042
                        ],
                        "iteration": 611,
                        "passed_time": 10.57812066,
                        "remaining_time": 10.1632924,
                        "test": [
                          31684.51839,
                          47450.30291
                        ]
                      },
                      {
                        "learn": [
                          26994.78451,
                          39063.53405
                        ],
                        "iteration": 612,
                        "passed_time": 10.59698708,
                        "remaining_time": 10.14752271,
                        "test": [
                          31680.40262,
                          47444.53758
                        ]
                      },
                      {
                        "learn": [
                          26988.15378,
                          39051.65363
                        ],
                        "iteration": 613,
                        "passed_time": 10.62492567,
                        "remaining_time": 10.14040137,
                        "test": [
                          31679.48293,
                          47437.32907
                        ]
                      },
                      {
                        "learn": [
                          26973.87104,
                          39033.94143
                        ],
                        "iteration": 614,
                        "passed_time": 10.64803912,
                        "remaining_time": 10.12862258,
                        "test": [
                          31674.45972,
                          47431.17339
                        ]
                      },
                      {
                        "learn": [
                          26969.49994,
                          39026.21107
                        ],
                        "iteration": 615,
                        "passed_time": 10.67494294,
                        "remaining_time": 10.12040045,
                        "test": [
                          31671.05252,
                          47426.86297
                        ]
                      },
                      {
                        "learn": [
                          26963.30997,
                          39020.09787
                        ],
                        "iteration": 616,
                        "passed_time": 10.69764322,
                        "remaining_time": 10.10814586,
                        "test": [
                          31664.10535,
                          47418.83779
                        ]
                      },
                      {
                        "learn": [
                          26952.86212,
                          39004.9237
                        ],
                        "iteration": 617,
                        "passed_time": 10.72634927,
                        "remaining_time": 10.10151339,
                        "test": [
                          31658.15665,
                          47412.89931
                        ]
                      },
                      {
                        "learn": [
                          26940.519,
                          38989.86477
                        ],
                        "iteration": 618,
                        "passed_time": 10.75323173,
                        "remaining_time": 10.09309796,
                        "test": [
                          31653.32997,
                          47409.45473
                        ]
                      },
                      {
                        "learn": [
                          26932.14754,
                          38977.71188
                        ],
                        "iteration": 619,
                        "passed_time": 10.7741006,
                        "remaining_time": 10.07899733,
                        "test": [
                          31651.61953,
                          47407.75885
                        ]
                      },
                      {
                        "learn": [
                          26924.67237,
                          38964.37151
                        ],
                        "iteration": 620,
                        "passed_time": 10.79424033,
                        "remaining_time": 10.06419509,
                        "test": [
                          31651.21413,
                          47409.09085
                        ]
                      },
                      {
                        "learn": [
                          26917.07585,
                          38953.34547
                        ],
                        "iteration": 621,
                        "passed_time": 10.82459061,
                        "remaining_time": 10.05886395,
                        "test": [
                          31646.27729,
                          47398.37131
                        ]
                      },
                      {
                        "learn": [
                          26903.89391,
                          38935.35727
                        ],
                        "iteration": 622,
                        "passed_time": 10.84491321,
                        "remaining_time": 10.04416521,
                        "test": [
                          31639.57125,
                          47392.54967
                        ]
                      },
                      {
                        "learn": [
                          26897.5829,
                          38925.13784
                        ],
                        "iteration": 623,
                        "passed_time": 10.86493789,
                        "remaining_time": 10.02917344,
                        "test": [
                          31636.01568,
                          47389.92657
                        ]
                      },
                      {
                        "learn": [
                          26875.14292,
                          38907.15427
                        ],
                        "iteration": 624,
                        "passed_time": 10.8873631,
                        "remaining_time": 10.01637405,
                        "test": [
                          31621.60388,
                          47382.01887
                        ]
                      },
                      {
                        "learn": [
                          26863.3876,
                          38889.59668
                        ],
                        "iteration": 625,
                        "passed_time": 10.90535666,
                        "remaining_time": 9.99948039,
                        "test": [
                          31621.70788,
                          47380.02766
                        ]
                      },
                      {
                        "learn": [
                          26849.60761,
                          38872.19709
                        ],
                        "iteration": 626,
                        "passed_time": 10.92690014,
                        "remaining_time": 9.985827397,
                        "test": [
                          31619.18413,
                          47372.99975
                        ]
                      },
                      {
                        "learn": [
                          26841.13453,
                          38857.45641
                        ],
                        "iteration": 627,
                        "passed_time": 11.09048238,
                        "remaining_time": 10.10152217,
                        "test": [
                          31618.38231,
                          47372.28578
                        ]
                      },
                      {
                        "learn": [
                          26834.77417,
                          38848.38831
                        ],
                        "iteration": 628,
                        "passed_time": 11.11416922,
                        "remaining_time": 10.08933327,
                        "test": [
                          31617.51879,
                          47372.54899
                        ]
                      },
                      {
                        "learn": [
                          26830.38917,
                          38840.73274
                        ],
                        "iteration": 629,
                        "passed_time": 11.15461223,
                        "remaining_time": 10.09226821,
                        "test": [
                          31616.24319,
                          47371.46873
                        ]
                      },
                      {
                        "learn": [
                          26827.03164,
                          38831.82058
                        ],
                        "iteration": 630,
                        "passed_time": 11.17970807,
                        "remaining_time": 10.08122645,
                        "test": [
                          31617.80234,
                          47376.83276
                        ]
                      },
                      {
                        "learn": [
                          26822.7957,
                          38823.46912
                        ],
                        "iteration": 631,
                        "passed_time": 11.19983701,
                        "remaining_time": 10.0656763,
                        "test": [
                          31617.82012,
                          47375.4419
                        ]
                      },
                      {
                        "learn": [
                          26814.9201,
                          38812.29569
                        ],
                        "iteration": 632,
                        "passed_time": 11.22143281,
                        "remaining_time": 10.0514256,
                        "test": [
                          31612.81851,
                          47368.35291
                        ]
                      },
                      {
                        "learn": [
                          26807.49378,
                          38797.57988
                        ],
                        "iteration": 633,
                        "passed_time": 11.24310148,
                        "remaining_time": 10.03721678,
                        "test": [
                          31608.1954,
                          47367.4539
                        ]
                      },
                      {
                        "learn": [
                          26800.08679,
                          38785.21087
                        ],
                        "iteration": 634,
                        "passed_time": 11.26341716,
                        "remaining_time": 10.02178062,
                        "test": [
                          31606.22773,
                          47366.62506
                        ]
                      },
                      {
                        "learn": [
                          26793.53639,
                          38773.09986
                        ],
                        "iteration": 635,
                        "passed_time": 11.29492393,
                        "remaining_time": 10.01625329,
                        "test": [
                          31603.98921,
                          47367.80365
                        ]
                      },
                      {
                        "learn": [
                          26782.6443,
                          38756.36498
                        ],
                        "iteration": 636,
                        "passed_time": 11.31660801,
                        "remaining_time": 10.00196281,
                        "test": [
                          31600.98204,
                          47364.96508
                        ]
                      },
                      {
                        "learn": [
                          26770.95618,
                          38740.05469
                        ],
                        "iteration": 637,
                        "passed_time": 11.34400023,
                        "remaining_time": 9.992677316,
                        "test": [
                          31590.32823,
                          47351.99475
                        ]
                      },
                      {
                        "learn": [
                          26768.60286,
                          38735.32191
                        ],
                        "iteration": 638,
                        "passed_time": 11.36666264,
                        "remaining_time": 9.979182692,
                        "test": [
                          31589.89107,
                          47355.15048
                        ]
                      },
                      {
                        "learn": [
                          26753.24525,
                          38714.41736
                        ],
                        "iteration": 639,
                        "passed_time": 11.38866716,
                        "remaining_time": 9.965083764,
                        "test": [
                          31585.77246,
                          47348.80459
                        ]
                      },
                      {
                        "learn": [
                          26746.95652,
                          38705.93757
                        ],
                        "iteration": 640,
                        "passed_time": 11.41917927,
                        "remaining_time": 9.958379429,
                        "test": [
                          31585.18124,
                          47346.04306
                        ]
                      },
                      {
                        "learn": [
                          26738.03278,
                          38693.76087
                        ],
                        "iteration": 641,
                        "passed_time": 11.44223538,
                        "remaining_time": 9.945120471,
                        "test": [
                          31588.41704,
                          47353.02798
                        ]
                      },
                      {
                        "learn": [
                          26730.81336,
                          38680.71271
                        ],
                        "iteration": 642,
                        "passed_time": 11.47248456,
                        "remaining_time": 9.938062055,
                        "test": [
                          31577.42794,
                          47341.55286
                        ]
                      },
                      {
                        "learn": [
                          26725.34744,
                          38672.20126
                        ],
                        "iteration": 643,
                        "passed_time": 11.49824099,
                        "remaining_time": 9.927052777,
                        "test": [
                          31578.38645,
                          47339.32857
                        ]
                      },
                      {
                        "learn": [
                          26716.12752,
                          38658.8758
                        ],
                        "iteration": 644,
                        "passed_time": 11.51926425,
                        "remaining_time": 9.911925054,
                        "test": [
                          31576.20899,
                          47335.70494
                        ]
                      },
                      {
                        "learn": [
                          26707.92318,
                          38646.29313
                        ],
                        "iteration": 645,
                        "passed_time": 11.53924362,
                        "remaining_time": 9.895883843,
                        "test": [
                          31575.36293,
                          47333.21186
                        ]
                      },
                      {
                        "learn": [
                          26696.55304,
                          38634.24525
                        ],
                        "iteration": 646,
                        "passed_time": 11.56370137,
                        "remaining_time": 9.883658204,
                        "test": [
                          31567.37822,
                          47326.17387
                        ]
                      },
                      {
                        "learn": [
                          26683.59935,
                          38620.6138
                        ],
                        "iteration": 647,
                        "passed_time": 11.59108291,
                        "remaining_time": 9.873885441,
                        "test": [
                          31561.76421,
                          47323.9407
                        ]
                      },
                      {
                        "learn": [
                          26674.59327,
                          38604.91501
                        ],
                        "iteration": 648,
                        "passed_time": 11.61555815,
                        "remaining_time": 9.861590974,
                        "test": [
                          31556.79697,
                          47320.68766
                        ]
                      },
                      {
                        "learn": [
                          26671.39288,
                          38599.67154
                        ],
                        "iteration": 649,
                        "passed_time": 11.64502224,
                        "remaining_time": 9.853480356,
                        "test": [
                          31554.77544,
                          47317.09203
                        ]
                      },
                      {
                        "learn": [
                          26664.98312,
                          38586.83513
                        ],
                        "iteration": 650,
                        "passed_time": 11.68342143,
                        "remaining_time": 9.852839271,
                        "test": [
                          31548.4902,
                          47311.46303
                        ]
                      },
                      {
                        "learn": [
                          26659.68495,
                          38577.36295
                        ],
                        "iteration": 651,
                        "passed_time": 11.72298032,
                        "remaining_time": 9.853057078,
                        "test": [
                          31544.96179,
                          47303.65952
                        ]
                      },
                      {
                        "learn": [
                          26651.92457,
                          38564.63994
                        ],
                        "iteration": 652,
                        "passed_time": 11.75287065,
                        "remaining_time": 9.845053975,
                        "test": [
                          31537.9631,
                          47295.23328
                        ]
                      },
                      {
                        "learn": [
                          26642.60454,
                          38547.41985
                        ],
                        "iteration": 653,
                        "passed_time": 11.78547486,
                        "remaining_time": 9.839249654,
                        "test": [
                          31534.39659,
                          47290.03869
                        ]
                      },
                      {
                        "learn": [
                          26637.54058,
                          38540.60814
                        ],
                        "iteration": 654,
                        "passed_time": 11.82774026,
                        "remaining_time": 9.841402205,
                        "test": [
                          31532.18598,
                          47287.81317
                        ]
                      },
                      {
                        "learn": [
                          26628.9298,
                          38526.02316
                        ],
                        "iteration": 655,
                        "passed_time": 11.87484848,
                        "remaining_time": 9.847435326,
                        "test": [
                          31530.65476,
                          47287.45849
                        ]
                      },
                      {
                        "learn": [
                          26623.35633,
                          38516.92707
                        ],
                        "iteration": 656,
                        "passed_time": 11.91585898,
                        "remaining_time": 9.848267009,
                        "test": [
                          31527.31376,
                          47286.17803
                        ]
                      },
                      {
                        "learn": [
                          26615.00266,
                          38503.61612
                        ],
                        "iteration": 657,
                        "passed_time": 11.94216187,
                        "remaining_time": 9.836856739,
                        "test": [
                          31523.94891,
                          47278.1653
                        ]
                      },
                      {
                        "learn": [
                          26611.52772,
                          38499.0882
                        ],
                        "iteration": 658,
                        "passed_time": 11.96158898,
                        "remaining_time": 9.819756655,
                        "test": [
                          31525.66874,
                          47277.89595
                        ]
                      },
                      {
                        "learn": [
                          26600.82662,
                          38483.33437
                        ],
                        "iteration": 659,
                        "passed_time": 11.9760436,
                        "remaining_time": 9.798581124,
                        "test": [
                          31524.35916,
                          47278.63719
                        ]
                      },
                      {
                        "learn": [
                          26595.50264,
                          38470.14722
                        ],
                        "iteration": 660,
                        "passed_time": 12.01110722,
                        "remaining_time": 9.794231152,
                        "test": [
                          31523.45953,
                          47279.5464
                        ]
                      },
                      {
                        "learn": [
                          26591.33779,
                          38463.68204
                        ],
                        "iteration": 661,
                        "passed_time": 12.03134432,
                        "remaining_time": 9.777739037,
                        "test": [
                          31521.97059,
                          47279.95662
                        ]
                      },
                      {
                        "learn": [
                          26585.42754,
                          38453.24984
                        ],
                        "iteration": 662,
                        "passed_time": 12.05323283,
                        "remaining_time": 9.762573195,
                        "test": [
                          31519.12198,
                          47278.6023
                        ]
                      },
                      {
                        "learn": [
                          26576.57818,
                          38438.51042
                        ],
                        "iteration": 663,
                        "passed_time": 12.10450573,
                        "remaining_time": 9.771107034,
                        "test": [
                          31521.88296,
                          47281.18397
                        ]
                      },
                      {
                        "learn": [
                          26560.8318,
                          38419.36927
                        ],
                        "iteration": 664,
                        "passed_time": 12.17534407,
                        "remaining_time": 9.795201618,
                        "test": [
                          31510.23918,
                          47274.24788
                        ]
                      },
                      {
                        "learn": [
                          26555.65893,
                          38412.54548
                        ],
                        "iteration": 665,
                        "passed_time": 12.21799692,
                        "remaining_time": 9.796411945,
                        "test": [
                          31506.76668,
                          47271.81433
                        ]
                      },
                      {
                        "learn": [
                          26550.14946,
                          38404.1994
                        ],
                        "iteration": 666,
                        "passed_time": 12.23810202,
                        "remaining_time": 9.779472827,
                        "test": [
                          31500.46003,
                          47268.89922
                        ]
                      },
                      {
                        "learn": [
                          26541.88702,
                          38393.83401
                        ],
                        "iteration": 667,
                        "passed_time": 12.25950002,
                        "remaining_time": 9.763553912,
                        "test": [
                          31496.53967,
                          47262.21338
                        ]
                      },
                      {
                        "learn": [
                          26532.58098,
                          38373.01396
                        ],
                        "iteration": 668,
                        "passed_time": 12.27063484,
                        "remaining_time": 9.739472493,
                        "test": [
                          31488.76206,
                          47254.65085
                        ]
                      },
                      {
                        "learn": [
                          26524.24479,
                          38359.49944
                        ],
                        "iteration": 669,
                        "passed_time": 12.2949598,
                        "remaining_time": 9.725863723,
                        "test": [
                          31487.04375,
                          47250.85151
                        ]
                      },
                      {
                        "learn": [
                          26515.18479,
                          38344.83025
                        ],
                        "iteration": 670,
                        "passed_time": 12.31706767,
                        "remaining_time": 9.710475105,
                        "test": [
                          31485.5459,
                          47248.32101
                        ]
                      },
                      {
                        "learn": [
                          26504.64775,
                          38329.5273
                        ],
                        "iteration": 671,
                        "passed_time": 12.36324737,
                        "remaining_time": 9.713980074,
                        "test": [
                          31478.12184,
                          47245.68284
                        ]
                      },
                      {
                        "learn": [
                          26496.66982,
                          38321.18639
                        ],
                        "iteration": 672,
                        "passed_time": 12.4112518,
                        "remaining_time": 9.718766271,
                        "test": [
                          31474.47285,
                          47241.53182
                        ]
                      },
                      {
                        "learn": [
                          26491.21081,
                          38311.08998
                        ],
                        "iteration": 673,
                        "passed_time": 12.4593068,
                        "remaining_time": 9.723435275,
                        "test": [
                          31471.62378,
                          47239.67088
                        ]
                      },
                      {
                        "learn": [
                          26481.54207,
                          38298.41056
                        ],
                        "iteration": 674,
                        "passed_time": 12.48994395,
                        "remaining_time": 9.714400853,
                        "test": [
                          31471.66605,
                          47239.78035
                        ]
                      },
                      {
                        "learn": [
                          26474.63767,
                          38285.06961
                        ],
                        "iteration": 675,
                        "passed_time": 12.51557936,
                        "remaining_time": 9.701425418,
                        "test": [
                          31471.89097,
                          47239.22328
                        ]
                      },
                      {
                        "learn": [
                          26467.69636,
                          38275.75392
                        ],
                        "iteration": 676,
                        "passed_time": 12.53610404,
                        "remaining_time": 9.684464418,
                        "test": [
                          31468.37939,
                          47234.76121
                        ]
                      },
                      {
                        "learn": [
                          26454.64634,
                          38259.06172
                        ],
                        "iteration": 677,
                        "passed_time": 12.57018807,
                        "remaining_time": 9.677932407,
                        "test": [
                          31464.73134,
                          47236.40804
                        ]
                      },
                      {
                        "learn": [
                          26444.54771,
                          38242.83053
                        ],
                        "iteration": 678,
                        "passed_time": 12.59147471,
                        "remaining_time": 9.661499737,
                        "test": [
                          31461.87212,
                          47230.74785
                        ]
                      },
                      {
                        "learn": [
                          26434.90089,
                          38228.28443
                        ],
                        "iteration": 679,
                        "passed_time": 12.62465657,
                        "remaining_time": 9.654149138,
                        "test": [
                          31456.26047,
                          47222.96248
                        ]
                      },
                      {
                        "learn": [
                          26430.07357,
                          38219.78001
                        ],
                        "iteration": 680,
                        "passed_time": 12.64843558,
                        "remaining_time": 9.639556631,
                        "test": [
                          31454.54489,
                          47224.79602
                        ]
                      },
                      {
                        "learn": [
                          26419.36523,
                          38205.89941
                        ],
                        "iteration": 681,
                        "passed_time": 12.68627381,
                        "remaining_time": 9.635615595,
                        "test": [
                          31445.37331,
                          47216.50444
                        ]
                      },
                      {
                        "learn": [
                          26411.08118,
                          38194.97189
                        ],
                        "iteration": 682,
                        "passed_time": 12.70511954,
                        "remaining_time": 9.617198834,
                        "test": [
                          31434.00089,
                          47204.96642
                        ]
                      },
                      {
                        "learn": [
                          26404.64729,
                          38181.6644
                        ],
                        "iteration": 683,
                        "passed_time": 12.73019644,
                        "remaining_time": 9.603481523,
                        "test": [
                          31435.83326,
                          47205.1549
                        ]
                      },
                      {
                        "learn": [
                          26399.08685,
                          38175.99389
                        ],
                        "iteration": 684,
                        "passed_time": 12.74690446,
                        "remaining_time": 9.583439116,
                        "test": [
                          31432.40444,
                          47199.13976
                        ]
                      },
                      {
                        "learn": [
                          26388.291,
                          38160.55439
                        ],
                        "iteration": 685,
                        "passed_time": 12.78601058,
                        "remaining_time": 9.580188683,
                        "test": [
                          31436.80363,
                          47197.47224
                        ]
                      },
                      {
                        "learn": [
                          26382.26118,
                          38148.05834
                        ],
                        "iteration": 686,
                        "passed_time": 12.81017405,
                        "remaining_time": 9.565675816,
                        "test": [
                          31431.94987,
                          47193.7023
                        ]
                      },
                      {
                        "learn": [
                          26379.06331,
                          38141.5252
                        ],
                        "iteration": 687,
                        "passed_time": 12.83958833,
                        "remaining_time": 9.555042479,
                        "test": [
                          31433.41522,
                          47194.0744
                        ]
                      },
                      {
                        "learn": [
                          26369.88046,
                          38127.40145
                        ],
                        "iteration": 688,
                        "passed_time": 12.86798488,
                        "remaining_time": 9.543599818,
                        "test": [
                          31427.84109,
                          47186.42429
                        ]
                      },
                      {
                        "learn": [
                          26369.82261,
                          38127.12289
                        ],
                        "iteration": 689,
                        "passed_time": 12.88043642,
                        "remaining_time": 9.520322571,
                        "test": [
                          31428.4385,
                          47186.29887
                        ]
                      },
                      {
                        "learn": [
                          26362.39382,
                          38115.5601
                        ],
                        "iteration": 690,
                        "passed_time": 12.91600164,
                        "remaining_time": 9.51410251,
                        "test": [
                          31428.09657,
                          47189.87977
                        ]
                      },
                      {
                        "learn": [
                          26353.65217,
                          38100.85582
                        ],
                        "iteration": 691,
                        "passed_time": 12.93377925,
                        "remaining_time": 9.494739683,
                        "test": [
                          31428.92825,
                          47192.87177
                        ]
                      },
                      {
                        "learn": [
                          26347.74724,
                          38091.72534
                        ],
                        "iteration": 692,
                        "passed_time": 12.94668044,
                        "remaining_time": 9.471813831,
                        "test": [
                          31426.36265,
                          47189.07797
                        ]
                      },
                      {
                        "learn": [
                          26337.01884,
                          38078.88781
                        ],
                        "iteration": 693,
                        "passed_time": 12.96085196,
                        "remaining_time": 9.449843074,
                        "test": [
                          31418.61139,
                          47187.39965
                        ]
                      },
                      {
                        "learn": [
                          26330.75398,
                          38067.91105
                        ],
                        "iteration": 694,
                        "passed_time": 12.98605865,
                        "remaining_time": 9.435913117,
                        "test": [
                          31417.80837,
                          47187.38104
                        ]
                      },
                      {
                        "learn": [
                          26325.61356,
                          38060.07262
                        ],
                        "iteration": 695,
                        "passed_time": 13.02168432,
                        "remaining_time": 9.42949554,
                        "test": [
                          31419.05664,
                          47185.7497
                        ]
                      },
                      {
                        "learn": [
                          26321.40234,
                          38051.31883
                        ],
                        "iteration": 696,
                        "passed_time": 13.04982362,
                        "remaining_time": 9.417591507,
                        "test": [
                          31421.74349,
                          47187.83207
                        ]
                      },
                      {
                        "learn": [
                          26313.89748,
                          38037.07347
                        ],
                        "iteration": 697,
                        "passed_time": 13.0731657,
                        "remaining_time": 9.402190803,
                        "test": [
                          31421.54229,
                          47182.42602
                        ]
                      },
                      {
                        "learn": [
                          26310.93195,
                          38030.71349
                        ],
                        "iteration": 698,
                        "passed_time": 13.09689545,
                        "remaining_time": 9.387045239,
                        "test": [
                          31420.21214,
                          47181.94585
                        ]
                      },
                      {
                        "learn": [
                          26305.52742,
                          38023.09931
                        ],
                        "iteration": 699,
                        "passed_time": 13.12065748,
                        "remaining_time": 9.371898201,
                        "test": [
                          31418.69494,
                          47179.83654
                        ]
                      },
                      {
                        "learn": [
                          26300.43206,
                          38014.72111
                        ],
                        "iteration": 700,
                        "passed_time": 13.14823111,
                        "remaining_time": 9.359439836,
                        "test": [
                          31418.72873,
                          47176.25312
                        ]
                      },
                      {
                        "learn": [
                          26293.05452,
                          38003.00681
                        ],
                        "iteration": 701,
                        "passed_time": 13.19777065,
                        "remaining_time": 9.362521062,
                        "test": [
                          31414.9623,
                          47172.44785
                        ]
                      },
                      {
                        "learn": [
                          26288.82449,
                          37995.46605
                        ],
                        "iteration": 702,
                        "passed_time": 13.23294431,
                        "remaining_time": 9.355296331,
                        "test": [
                          31419.82059,
                          47182.42976
                        ]
                      },
                      {
                        "learn": [
                          26281.73553,
                          37984.31962
                        ],
                        "iteration": 703,
                        "passed_time": 13.30282747,
                        "remaining_time": 9.372446628,
                        "test": [
                          31415.33738,
                          47177.23303
                        ]
                      },
                      {
                        "learn": [
                          26274.40981,
                          37969.95417
                        ],
                        "iteration": 704,
                        "passed_time": 13.32795138,
                        "remaining_time": 9.357923312,
                        "test": [
                          31415.88583,
                          47170.79581
                        ]
                      },
                      {
                        "learn": [
                          26266.83324,
                          37955.96447
                        ],
                        "iteration": 705,
                        "passed_time": 13.34671755,
                        "remaining_time": 9.338921342,
                        "test": [
                          31411.97145,
                          47163.90557
                        ]
                      },
                      {
                        "learn": [
                          26253.24885,
                          37935.07767
                        ],
                        "iteration": 706,
                        "passed_time": 13.35825088,
                        "remaining_time": 9.314876495,
                        "test": [
                          31409.23468,
                          47157.35022
                        ]
                      },
                      {
                        "learn": [
                          26242.65299,
                          37926.02532
                        ],
                        "iteration": 707,
                        "passed_time": 13.37077823,
                        "remaining_time": 9.291557755,
                        "test": [
                          31404.3326,
                          47159.03037
                        ]
                      },
                      {
                        "learn": [
                          26235.14828,
                          37913.63617
                        ],
                        "iteration": 708,
                        "passed_time": 13.39083321,
                        "remaining_time": 9.273482516,
                        "test": [
                          31400.77646,
                          47153.00522
                        ]
                      },
                      {
                        "learn": [
                          26231.66036,
                          37909.51733
                        ],
                        "iteration": 709,
                        "passed_time": 13.42676162,
                        "remaining_time": 9.266356608,
                        "test": [
                          31400.23975,
                          47154.58174
                        ]
                      },
                      {
                        "learn": [
                          26228.36448,
                          37902.84451
                        ],
                        "iteration": 710,
                        "passed_time": 13.4509472,
                        "remaining_time": 9.251073392,
                        "test": [
                          31400.61077,
                          47149.78357
                        ]
                      },
                      {
                        "learn": [
                          26221.77224,
                          37888.63585
                        ],
                        "iteration": 711,
                        "passed_time": 13.48130403,
                        "remaining_time": 9.239994899,
                        "test": [
                          31400.05117,
                          47151.6908
                        ]
                      },
                      {
                        "learn": [
                          26212.70602,
                          37876.95402
                        ],
                        "iteration": 712,
                        "passed_time": 13.54268315,
                        "remaining_time": 9.250051464,
                        "test": [
                          31398.14916,
                          47149.37618
                        ]
                      },
                      {
                        "learn": [
                          26205.36391,
                          37865.57584
                        ],
                        "iteration": 713,
                        "passed_time": 13.5622144,
                        "remaining_time": 9.231423246,
                        "test": [
                          31395.86923,
                          47142.00831
                        ]
                      },
                      {
                        "learn": [
                          26201.07935,
                          37859.25489
                        ],
                        "iteration": 714,
                        "passed_time": 13.58719483,
                        "remaining_time": 9.216488797,
                        "test": [
                          31393.71712,
                          47137.92349
                        ]
                      },
                      {
                        "learn": [
                          26192.39871,
                          37846.11753
                        ],
                        "iteration": 715,
                        "passed_time": 13.62348465,
                        "remaining_time": 9.209171188,
                        "test": [
                          31389.43422,
                          47129.83435
                        ]
                      },
                      {
                        "learn": [
                          26185.45122,
                          37834.475
                        ],
                        "iteration": 716,
                        "passed_time": 13.65600821,
                        "remaining_time": 9.199235653,
                        "test": [
                          31383.73291,
                          47127.73101
                        ]
                      },
                      {
                        "learn": [
                          26180.29992,
                          37826.80367
                        ],
                        "iteration": 717,
                        "passed_time": 13.68818795,
                        "remaining_time": 9.189006395,
                        "test": [
                          31386.78863,
                          47132.29328
                        ]
                      },
                      {
                        "learn": [
                          26171.64811,
                          37817.50874
                        ],
                        "iteration": 718,
                        "passed_time": 13.73471962,
                        "remaining_time": 9.188317298,
                        "test": [
                          31381.34742,
                          47125.81272
                        ]
                      },
                      {
                        "learn": [
                          26162.31145,
                          37800.50669
                        ],
                        "iteration": 719,
                        "passed_time": 13.76159369,
                        "remaining_time": 9.174395793,
                        "test": [
                          31375.19703,
                          47118.9811
                        ]
                      },
                      {
                        "learn": [
                          26157.36564,
                          37792.01028
                        ],
                        "iteration": 720,
                        "passed_time": 13.78606445,
                        "remaining_time": 9.158841709,
                        "test": [
                          31371.17179,
                          47113.00977
                        ]
                      },
                      {
                        "learn": [
                          26151.59721,
                          37782.02325
                        ],
                        "iteration": 721,
                        "passed_time": 13.81377793,
                        "remaining_time": 9.145409767,
                        "test": [
                          31368.8192,
                          47108.3231
                        ]
                      },
                      {
                        "learn": [
                          26145.86226,
                          37773.73945
                        ],
                        "iteration": 722,
                        "passed_time": 13.83844712,
                        "remaining_time": 9.129929846,
                        "test": [
                          31368.94481,
                          47112.68927
                        ]
                      },
                      {
                        "learn": [
                          26139.90242,
                          37767.51832
                        ],
                        "iteration": 723,
                        "passed_time": 13.86464632,
                        "remaining_time": 9.115430456,
                        "test": [
                          31364.42442,
                          47106.14119
                        ]
                      },
                      {
                        "learn": [
                          26132.60301,
                          37757.85049
                        ],
                        "iteration": 724,
                        "passed_time": 13.89062395,
                        "remaining_time": 9.100753625,
                        "test": [
                          31360.78382,
                          47103.0447
                        ]
                      },
                      {
                        "learn": [
                          26123.74269,
                          37739.92756
                        ],
                        "iteration": 725,
                        "passed_time": 13.90350409,
                        "remaining_time": 9.077494406,
                        "test": [
                          31359.10665,
                          47101.96621
                        ]
                      },
                      {
                        "learn": [
                          26115.40518,
                          37728.57543
                        ],
                        "iteration": 726,
                        "passed_time": 13.91486404,
                        "remaining_time": 9.053274681,
                        "test": [
                          31354.6529,
                          47096.6894
                        ]
                      },
                      {
                        "learn": [
                          26107.57513,
                          37716.13616
                        ],
                        "iteration": 727,
                        "passed_time": 13.93044965,
                        "remaining_time": 9.03182999,
                        "test": [
                          31356.82341,
                          47096.72423
                        ]
                      },
                      {
                        "learn": [
                          26101.38527,
                          37703.24147
                        ],
                        "iteration": 728,
                        "passed_time": 13.99614577,
                        "remaining_time": 9.042777309,
                        "test": [
                          31355.61713,
                          47097.78389
                        ]
                      },
                      {
                        "learn": [
                          26094.90396,
                          37697.03259
                        ],
                        "iteration": 729,
                        "passed_time": 14.07669767,
                        "remaining_time": 9.063079323,
                        "test": [
                          31354.04285,
                          47094.04822
                        ]
                      },
                      {
                        "learn": [
                          26084.92889,
                          37682.8814
                        ],
                        "iteration": 730,
                        "passed_time": 14.0958393,
                        "remaining_time": 9.043705378,
                        "test": [
                          31349.04665,
                          47089.9644
                        ]
                      },
                      {
                        "learn": [
                          26077.2211,
                          37674.50488
                        ],
                        "iteration": 731,
                        "passed_time": 14.10768537,
                        "remaining_time": 9.019667695,
                        "test": [
                          31344.5824,
                          47088.10621
                        ]
                      },
                      {
                        "learn": [
                          26073.35253,
                          37670.78335
                        ],
                        "iteration": 732,
                        "passed_time": 14.13148318,
                        "remaining_time": 9.003277824,
                        "test": [
                          31344.26021,
                          47088.6383
                        ]
                      },
                      {
                        "learn": [
                          26067.33482,
                          37664.89788
                        ],
                        "iteration": 733,
                        "passed_time": 14.20365271,
                        "remaining_time": 9.017577876,
                        "test": [
                          31338.93763,
                          47080.36595
                        ]
                      },
                      {
                        "learn": [
                          26061.11598,
                          37654.33916
                        ],
                        "iteration": 734,
                        "passed_time": 14.22234959,
                        "remaining_time": 8.997813003,
                        "test": [
                          31336.65258,
                          47084.0098
                        ]
                      },
                      {
                        "learn": [
                          26055.64119,
                          37643.32638
                        ],
                        "iteration": 735,
                        "passed_time": 14.26794912,
                        "remaining_time": 8.995011399,
                        "test": [
                          31338.65109,
                          47084.55717
                        ]
                      },
                      {
                        "learn": [
                          26048.63464,
                          37634.96016
                        ],
                        "iteration": 736,
                        "passed_time": 14.30313426,
                        "remaining_time": 8.985551104,
                        "test": [
                          31335.21435,
                          47081.33044
                        ]
                      },
                      {
                        "learn": [
                          26045.5733,
                          37629.41234
                        ],
                        "iteration": 737,
                        "passed_time": 14.35180781,
                        "remaining_time": 8.984465052,
                        "test": [
                          31335.35703,
                          47080.98142
                        ]
                      },
                      {
                        "learn": [
                          26040.80289,
                          37622.47877
                        ],
                        "iteration": 738,
                        "passed_time": 14.42329597,
                        "remaining_time": 8.997482332,
                        "test": [
                          31332.95036,
                          47078.75242
                        ]
                      },
                      {
                        "learn": [
                          26035.87314,
                          37613.70159
                        ],
                        "iteration": 739,
                        "passed_time": 14.46970095,
                        "remaining_time": 8.994678969,
                        "test": [
                          31334.42028,
                          47076.34165
                        ]
                      },
                      {
                        "learn": [
                          26026.6441,
                          37601.81218
                        ],
                        "iteration": 740,
                        "passed_time": 14.50004622,
                        "remaining_time": 8.981810007,
                        "test": [
                          31335.98694,
                          47075.55722
                        ]
                      },
                      {
                        "learn": [
                          26017.10554,
                          37588.05773
                        ],
                        "iteration": 741,
                        "passed_time": 14.52404488,
                        "remaining_time": 8.96497649,
                        "test": [
                          31330.30802,
                          47066.60878
                        ]
                      },
                      {
                        "learn": [
                          26011.14793,
                          37579.4537
                        ],
                        "iteration": 742,
                        "passed_time": 14.55384498,
                        "remaining_time": 8.951692001,
                        "test": [
                          31330.77844,
                          47065.37101
                        ]
                      },
                      {
                        "learn": [
                          26001.73357,
                          37568.51317
                        ],
                        "iteration": 743,
                        "passed_time": 14.58626032,
                        "remaining_time": 8.939966003,
                        "test": [
                          31322.91762,
                          47058.32182
                        ]
                      },
                      {
                        "learn": [
                          25993.6219,
                          37558.60316
                        ],
                        "iteration": 744,
                        "passed_time": 14.64226278,
                        "remaining_time": 8.942590019,
                        "test": [
                          31320.17643,
                          47054.68686
                        ]
                      },
                      {
                        "learn": [
                          25989.40114,
                          37552.10323
                        ],
                        "iteration": 745,
                        "passed_time": 14.68094245,
                        "remaining_time": 8.934514576,
                        "test": [
                          31319.51286,
                          47055.10226
                        ]
                      },
                      {
                        "learn": [
                          25980.39877,
                          37539.36033
                        ],
                        "iteration": 746,
                        "passed_time": 14.7231895,
                        "remaining_time": 8.928520538,
                        "test": [
                          31314.71708,
                          47052.0423
                        ]
                      },
                      {
                        "learn": [
                          25971.94043,
                          37526.95401
                        ],
                        "iteration": 747,
                        "passed_time": 14.75766066,
                        "remaining_time": 8.917730773,
                        "test": [
                          31305.42624,
                          47039.37798
                        ]
                      },
                      {
                        "learn": [
                          25962.70805,
                          37515.01453
                        ],
                        "iteration": 748,
                        "passed_time": 14.77633708,
                        "remaining_time": 8.897367185,
                        "test": [
                          31298.70455,
                          47031.56679
                        ]
                      },
                      {
                        "learn": [
                          25956.35833,
                          37503.53186
                        ],
                        "iteration": 749,
                        "passed_time": 14.8168161,
                        "remaining_time": 8.890089658,
                        "test": [
                          31304.74354,
                          47035.92076
                        ]
                      },
                      {
                        "learn": [
                          25952.46206,
                          37497.82023
                        ],
                        "iteration": 750,
                        "passed_time": 14.85437426,
                        "remaining_time": 8.88097742,
                        "test": [
                          31304.60395,
                          47035.62913
                        ]
                      },
                      {
                        "learn": [
                          25941.47319,
                          37482.80311
                        ],
                        "iteration": 751,
                        "passed_time": 14.88980584,
                        "remaining_time": 8.870522629,
                        "test": [
                          31301.38829,
                          47031.30468
                        ]
                      },
                      {
                        "learn": [
                          25937.05931,
                          37472.64138
                        ],
                        "iteration": 752,
                        "passed_time": 14.91344475,
                        "remaining_time": 8.853001066,
                        "test": [
                          31294.37159,
                          47024.54213
                        ]
                      },
                      {
                        "learn": [
                          25928.42924,
                          37459.77708
                        ],
                        "iteration": 753,
                        "passed_time": 14.94381727,
                        "remaining_time": 8.839446291,
                        "test": [
                          31288.77573,
                          47021.18184
                        ]
                      },
                      {
                        "learn": [
                          25914.35597,
                          37440.64055
                        ],
                        "iteration": 754,
                        "passed_time": 14.96391213,
                        "remaining_time": 8.819789266,
                        "test": [
                          31284.05696,
                          47019.89511
                        ]
                      },
                      {
                        "learn": [
                          25907.27629,
                          37429.17671
                        ],
                        "iteration": 755,
                        "passed_time": 14.99434426,
                        "remaining_time": 8.806202186,
                        "test": [
                          31280.38755,
                          47012.8179
                        ]
                      },
                      {
                        "learn": [
                          25897.71104,
                          37415.48667
                        ],
                        "iteration": 756,
                        "passed_time": 15.02366946,
                        "remaining_time": 8.791922816,
                        "test": [
                          31280.81844,
                          47012.99404
                        ]
                      },
                      {
                        "learn": [
                          25892.60592,
                          37401.55547
                        ],
                        "iteration": 757,
                        "passed_time": 15.05952965,
                        "remaining_time": 8.781414386,
                        "test": [
                          31280.01013,
                          47012.03344
                        ]
                      },
                      {
                        "learn": [
                          25887.37771,
                          37390.12805
                        ],
                        "iteration": 758,
                        "passed_time": 15.07499886,
                        "remaining_time": 8.758991435,
                        "test": [
                          31275.60216,
                          47001.26852
                        ]
                      },
                      {
                        "learn": [
                          25877.76505,
                          37374.62283
                        ],
                        "iteration": 759,
                        "passed_time": 15.10967149,
                        "remaining_time": 8.74770455,
                        "test": [
                          31271.31772,
                          46990.6556
                        ]
                      },
                      {
                        "learn": [
                          25871.49783,
                          37362.24027
                        ],
                        "iteration": 760,
                        "passed_time": 15.13589728,
                        "remaining_time": 8.731483451,
                        "test": [
                          31271.35977,
                          46989.75332
                        ]
                      },
                      {
                        "learn": [
                          25864.46187,
                          37347.60753
                        ],
                        "iteration": 761,
                        "passed_time": 15.16557042,
                        "remaining_time": 8.71721764,
                        "test": [
                          31268.10096,
                          46985.64857
                        ]
                      },
                      {
                        "learn": [
                          25856.41925,
                          37336.49133
                        ],
                        "iteration": 762,
                        "passed_time": 15.194971,
                        "remaining_time": 8.702755342,
                        "test": [
                          31261.02875,
                          46983.0028
                        ]
                      },
                      {
                        "learn": [
                          25849.37218,
                          37324.1458
                        ],
                        "iteration": 763,
                        "passed_time": 15.22204401,
                        "remaining_time": 8.686925641,
                        "test": [
                          31260.7133,
                          46983.28465
                        ]
                      },
                      {
                        "learn": [
                          25838.06885,
                          37307.45174
                        ],
                        "iteration": 764,
                        "passed_time": 15.26506363,
                        "remaining_time": 8.680134221,
                        "test": [
                          31257.26595,
                          46975.46752
                        ]
                      },
                      {
                        "learn": [
                          25830.84402,
                          37296.29727
                        ],
                        "iteration": 765,
                        "passed_time": 15.30266387,
                        "remaining_time": 8.6701777,
                        "test": [
                          31253.24886,
                          46961.48091
                        ]
                      },
                      {
                        "learn": [
                          25827.75435,
                          37289.90858
                        ],
                        "iteration": 766,
                        "passed_time": 15.34696263,
                        "remaining_time": 8.663930665,
                        "test": [
                          31250.709,
                          46955.64218
                        ]
                      },
                      {
                        "learn": [
                          25819.30133,
                          37278.94774
                        ],
                        "iteration": 767,
                        "passed_time": 15.41633738,
                        "remaining_time": 8.671689777,
                        "test": [
                          31246.09923,
                          46952.25442
                        ]
                      },
                      {
                        "learn": [
                          25816.68854,
                          37275.43175
                        ],
                        "iteration": 768,
                        "passed_time": 15.44856777,
                        "remaining_time": 8.65843005,
                        "test": [
                          31245.54896,
                          46952.52036
                        ]
                      },
                      {
                        "learn": [
                          25813.56417,
                          37270.54367
                        ],
                        "iteration": 769,
                        "passed_time": 15.49066088,
                        "remaining_time": 8.650628801,
                        "test": [
                          31244.87069,
                          46951.29293
                        ]
                      },
                      {
                        "learn": [
                          25803.80918,
                          37256.79586
                        ],
                        "iteration": 770,
                        "passed_time": 15.54025202,
                        "remaining_time": 8.646910659,
                        "test": [
                          31241.17705,
                          46950.19834
                        ]
                      },
                      {
                        "learn": [
                          25796.4055,
                          37245.99384
                        ],
                        "iteration": 771,
                        "passed_time": 15.57056614,
                        "remaining_time": 8.63238641,
                        "test": [
                          31235.16916,
                          46941.60853
                        ]
                      },
                      {
                        "learn": [
                          25790.7646,
                          37236.78317
                        ],
                        "iteration": 772,
                        "passed_time": 15.59539572,
                        "remaining_time": 8.614791687,
                        "test": [
                          31233.42824,
                          46937.28649
                        ]
                      },
                      {
                        "learn": [
                          25782.68885,
                          37225.76803
                        ],
                        "iteration": 773,
                        "passed_time": 15.62073821,
                        "remaining_time": 8.597460566,
                        "test": [
                          31230.69994,
                          46937.82588
                        ]
                      },
                      {
                        "learn": [
                          25776.02729,
                          37217.71357
                        ],
                        "iteration": 774,
                        "passed_time": 15.67711523,
                        "remaining_time": 8.597127709,
                        "test": [
                          31228.09498,
                          46937.47398
                        ]
                      },
                      {
                        "learn": [
                          25768.06613,
                          37208.5598
                        ],
                        "iteration": 775,
                        "passed_time": 15.72653053,
                        "remaining_time": 8.59284658,
                        "test": [
                          31221.62604,
                          46931.17712
                        ]
                      },
                      {
                        "learn": [
                          25757.20235,
                          37191.19044
                        ],
                        "iteration": 776,
                        "passed_time": 15.76935917,
                        "remaining_time": 8.584863486,
                        "test": [
                          31223.70409,
                          46933.77872
                        ]
                      },
                      {
                        "learn": [
                          25751.42055,
                          37184.34989
                        ],
                        "iteration": 777,
                        "passed_time": 15.80149444,
                        "remaining_time": 8.57099056,
                        "test": [
                          31219.80869,
                          46928.82163
                        ]
                      },
                      {
                        "learn": [
                          25741.98518,
                          37170.1846
                        ],
                        "iteration": 778,
                        "passed_time": 15.82339483,
                        "remaining_time": 8.551539438,
                        "test": [
                          31218.92579,
                          46926.92887
                        ]
                      },
                      {
                        "learn": [
                          25731.40795,
                          37155.72541
                        ],
                        "iteration": 779,
                        "passed_time": 15.83485398,
                        "remaining_time": 8.526459835,
                        "test": [
                          31215.40176,
                          46925.76157
                        ]
                      },
                      {
                        "learn": [
                          25723.88947,
                          37140.48879
                        ],
                        "iteration": 780,
                        "passed_time": 15.84526147,
                        "remaining_time": 8.500850905,
                        "test": [
                          31215.37411,
                          46922.01468
                        ]
                      },
                      {
                        "learn": [
                          25714.83728,
                          37129.44312
                        ],
                        "iteration": 781,
                        "passed_time": 15.85732394,
                        "remaining_time": 8.476165481,
                        "test": [
                          31214.24799,
                          46921.15924
                        ]
                      },
                      {
                        "learn": [
                          25707.76518,
                          37119.68565
                        ],
                        "iteration": 782,
                        "passed_time": 15.86871897,
                        "remaining_time": 8.451156847,
                        "test": [
                          31211.17345,
                          46915.32552
                        ]
                      },
                      {
                        "learn": [
                          25704.07633,
                          37114.49752
                        ],
                        "iteration": 783,
                        "passed_time": 15.89321173,
                        "remaining_time": 8.433132757,
                        "test": [
                          31207.87525,
                          46911.45565
                        ]
                      },
                      {
                        "learn": [
                          25699.87526,
                          37105.62407
                        ],
                        "iteration": 784,
                        "passed_time": 15.92521632,
                        "remaining_time": 8.419063407,
                        "test": [
                          31207.11073,
                          46913.54064
                        ]
                      },
                      {
                        "learn": [
                          25692.2977,
                          37091.4712
                        ],
                        "iteration": 785,
                        "passed_time": 15.94169153,
                        "remaining_time": 8.396768819,
                        "test": [
                          31202.33042,
                          46906.08634
                        ]
                      },
                      {
                        "learn": [
                          25688.09469,
                          37085.17491
                        ],
                        "iteration": 786,
                        "passed_time": 15.96583161,
                        "remaining_time": 8.378511379,
                        "test": [
                          31201.24872,
                          46903.30599
                        ]
                      },
                      {
                        "learn": [
                          25684.07406,
                          37080.56211
                        ],
                        "iteration": 787,
                        "passed_time": 16.00071654,
                        "remaining_time": 8.365856869,
                        "test": [
                          31196.90976,
                          46898.34577
                        ]
                      },
                      {
                        "learn": [
                          25677.98611,
                          37067.83372
                        ],
                        "iteration": 788,
                        "passed_time": 16.01463536,
                        "remaining_time": 8.342224502,
                        "test": [
                          31196.19076,
                          46895.04491
                        ]
                      },
                      {
                        "learn": [
                          25672.74533,
                          37058.30653
                        ],
                        "iteration": 789,
                        "passed_time": 16.02598313,
                        "remaining_time": 8.317282382,
                        "test": [
                          31192.51252,
                          46894.1495
                        ]
                      },
                      {
                        "learn": [
                          25666.47053,
                          37050.9144
                        ],
                        "iteration": 790,
                        "passed_time": 16.04709763,
                        "remaining_time": 8.297424691,
                        "test": [
                          31191.63958,
                          46894.15516
                        ]
                      },
                      {
                        "learn": [
                          25661.9182,
                          37042.97891
                        ],
                        "iteration": 791,
                        "passed_time": 16.0632828,
                        "remaining_time": 8.275024473,
                        "test": [
                          31190.78103,
                          46891.50145
                        ]
                      },
                      {
                        "learn": [
                          25655.31583,
                          37033.0944
                        ],
                        "iteration": 792,
                        "passed_time": 16.07527161,
                        "remaining_time": 8.250486185,
                        "test": [
                          31188.00891,
                          46887.66612
                        ]
                      },
                      {
                        "learn": [
                          25652.46749,
                          37027.05392
                        ],
                        "iteration": 793,
                        "passed_time": 16.08725348,
                        "remaining_time": 8.225975963,
                        "test": [
                          31187.14987,
                          46889.11841
                        ]
                      },
                      {
                        "learn": [
                          25643.62449,
                          37011.45293
                        ],
                        "iteration": 794,
                        "passed_time": 16.0983844,
                        "remaining_time": 8.20106375,
                        "test": [
                          31184.02876,
                          46886.08094
                        ]
                      },
                      {
                        "learn": [
                          25630.39253,
                          36990.12821
                        ],
                        "iteration": 795,
                        "passed_time": 16.12490315,
                        "remaining_time": 8.183996072,
                        "test": [
                          31172.90068,
                          46873.91818
                        ]
                      },
                      {
                        "learn": [
                          25622.38038,
                          36976.9339
                        ],
                        "iteration": 796,
                        "passed_time": 16.15795804,
                        "remaining_time": 8.170209648,
                        "test": [
                          31179.16073,
                          46878.86527
                        ]
                      },
                      {
                        "learn": [
                          25617.82147,
                          36971.03209
                        ],
                        "iteration": 797,
                        "passed_time": 16.19950316,
                        "remaining_time": 8.160651968,
                        "test": [
                          31178.71089,
                          46879.16171
                        ]
                      },
                      {
                        "learn": [
                          25611.85784,
                          36961.19984
                        ],
                        "iteration": 798,
                        "passed_time": 16.24098701,
                        "remaining_time": 8.150983467,
                        "test": [
                          31178.32669,
                          46878.56027
                        ]
                      },
                      {
                        "learn": [
                          25608.26628,
                          36956.48415
                        ],
                        "iteration": 799,
                        "passed_time": 16.2732918,
                        "remaining_time": 8.1366459,
                        "test": [
                          31174.71716,
                          46872.09041
                        ]
                      },
                      {
                        "learn": [
                          25605.52622,
                          36951.42426
                        ],
                        "iteration": 800,
                        "passed_time": 16.28753126,
                        "remaining_time": 8.113264635,
                        "test": [
                          31172.79212,
                          46868.0126
                        ]
                      },
                      {
                        "learn": [
                          25599.51792,
                          36939.23164
                        ],
                        "iteration": 801,
                        "passed_time": 16.30258642,
                        "remaining_time": 8.090310969,
                        "test": [
                          31168.77808,
                          46867.49117
                        ]
                      },
                      {
                        "learn": [
                          25592.35403,
                          36927.36792
                        ],
                        "iteration": 802,
                        "passed_time": 16.31515695,
                        "remaining_time": 8.066148577,
                        "test": [
                          31162.59035,
                          46859.11397
                        ]
                      },
                      {
                        "learn": [
                          25586.08393,
                          36917.8279
                        ],
                        "iteration": 803,
                        "passed_time": 16.33694595,
                        "remaining_time": 8.046555467,
                        "test": [
                          31161.38246,
                          46858.95454
                        ]
                      },
                      {
                        "learn": [
                          25583.37022,
                          36912.44923
                        ],
                        "iteration": 804,
                        "passed_time": 16.38422621,
                        "remaining_time": 8.039465032,
                        "test": [
                          31161.62677,
                          46860.90888
                        ]
                      },
                      {
                        "learn": [
                          25571.0181,
                          36894.47516
                        ],
                        "iteration": 805,
                        "passed_time": 16.4039403,
                        "remaining_time": 8.018799599,
                        "test": [
                          31155.45674,
                          46841.95883
                        ]
                      },
                      {
                        "learn": [
                          25566.82572,
                          36885.8375
                        ],
                        "iteration": 806,
                        "passed_time": 16.42674361,
                        "remaining_time": 7.999640942,
                        "test": [
                          31153.45106,
                          46837.97361
                        ]
                      },
                      {
                        "learn": [
                          25560.94127,
                          36876.46397
                        ],
                        "iteration": 807,
                        "passed_time": 16.46640451,
                        "remaining_time": 7.988651694,
                        "test": [
                          31153.77154,
                          46836.32695
                        ]
                      },
                      {
                        "learn": [
                          25556.71687,
                          36867.53694
                        ],
                        "iteration": 808,
                        "passed_time": 16.49072879,
                        "remaining_time": 7.97017918,
                        "test": [
                          31152.93483,
                          46832.24688
                        ]
                      },
                      {
                        "learn": [
                          25550.73391,
                          36855.68212
                        ],
                        "iteration": 809,
                        "passed_time": 16.54169843,
                        "remaining_time": 7.964521467,
                        "test": [
                          31152.393,
                          46834.59844
                        ]
                      },
                      {
                        "learn": [
                          25546.06631,
                          36849.10042
                        ],
                        "iteration": 810,
                        "passed_time": 16.55714735,
                        "remaining_time": 7.941714327,
                        "test": [
                          31152.08864,
                          46832.95576
                        ]
                      },
                      {
                        "learn": [
                          25537.17654,
                          36833.48757
                        ],
                        "iteration": 811,
                        "passed_time": 16.57954186,
                        "remaining_time": 7.922244142,
                        "test": [
                          31150.0359,
                          46831.18572
                        ]
                      },
                      {
                        "learn": [
                          25530.03151,
                          36824.79842
                        ],
                        "iteration": 812,
                        "passed_time": 16.60477663,
                        "remaining_time": 7.904118763,
                        "test": [
                          31146.49993,
                          46825.90697
                        ]
                      },
                      {
                        "learn": [
                          25513.2088,
                          36804.03249
                        ],
                        "iteration": 813,
                        "passed_time": 16.63242214,
                        "remaining_time": 7.887119098,
                        "test": [
                          31133.96669,
                          46806.29635
                        ]
                      },
                      {
                        "learn": [
                          25494.08911,
                          36786.84118
                        ],
                        "iteration": 814,
                        "passed_time": 16.65695152,
                        "remaining_time": 7.868621271,
                        "test": [
                          31121.33589,
                          46796.12152
                        ]
                      },
                      {
                        "learn": [
                          25486.73056,
                          36774.6041
                        ],
                        "iteration": 815,
                        "passed_time": 16.66993239,
                        "remaining_time": 7.844674064,
                        "test": [
                          31120.10902,
                          46794.67709
                        ]
                      },
                      {
                        "learn": [
                          25481.97794,
                          36768.05618
                        ],
                        "iteration": 816,
                        "passed_time": 16.68116816,
                        "remaining_time": 7.819935626,
                        "test": [
                          31116.04191,
                          46790.73553
                        ]
                      },
                      {
                        "learn": [
                          25477.69296,
                          36760.68243
                        ],
                        "iteration": 817,
                        "passed_time": 16.70347621,
                        "remaining_time": 7.800400869,
                        "test": [
                          31113.3134,
                          46787.11947
                        ]
                      },
                      {
                        "learn": [
                          25471.308,
                          36749.88876
                        ],
                        "iteration": 818,
                        "passed_time": 16.74407153,
                        "remaining_time": 7.789366608,
                        "test": [
                          31109.27809,
                          46783.85755
                        ]
                      },
                      {
                        "learn": [
                          25462.30991,
                          36735.30373
                        ],
                        "iteration": 819,
                        "passed_time": 16.75942698,
                        "remaining_time": 7.766563722,
                        "test": [
                          31103.76499,
                          46777.5717
                        ]
                      },
                      {
                        "learn": [
                          25454.19745,
                          36722.42812
                        ],
                        "iteration": 820,
                        "passed_time": 16.77251392,
                        "remaining_time": 7.74273176,
                        "test": [
                          31099.51133,
                          46773.5103
                        ]
                      },
                      {
                        "learn": [
                          25450.06831,
                          36712.67699
                        ],
                        "iteration": 821,
                        "passed_time": 16.78590059,
                        "remaining_time": 7.719063775,
                        "test": [
                          31095.66284,
                          46767.79473
                        ]
                      },
                      {
                        "learn": [
                          25445.10076,
                          36705.24034
                        ],
                        "iteration": 822,
                        "passed_time": 16.79734836,
                        "remaining_time": 7.694532602,
                        "test": [
                          31093.40918,
                          46767.61549
                        ]
                      },
                      {
                        "learn": [
                          25439.01728,
                          36695.04031
                        ],
                        "iteration": 823,
                        "passed_time": 16.81025751,
                        "remaining_time": 7.670700027,
                        "test": [
                          31093.13067,
                          46769.41376
                        ]
                      },
                      {
                        "learn": [
                          25434.94689,
                          36688.0083
                        ],
                        "iteration": 824,
                        "passed_time": 16.84301841,
                        "remaining_time": 7.655917459,
                        "test": [
                          31093.01039,
                          46775.35566
                        ]
                      },
                      {
                        "learn": [
                          25429.82659,
                          36678.53167
                        ],
                        "iteration": 825,
                        "passed_time": 16.85817622,
                        "remaining_time": 7.633120952,
                        "test": [
                          31088.98245,
                          46768.19053
                        ]
                      },
                      {
                        "learn": [
                          25424.4035,
                          36671.02276
                        ],
                        "iteration": 826,
                        "passed_time": 16.87220874,
                        "remaining_time": 7.609835383,
                        "test": [
                          31081.02247,
                          46760.81427
                        ]
                      },
                      {
                        "learn": [
                          25413.659,
                          36655.40671
                        ],
                        "iteration": 827,
                        "passed_time": 16.88527596,
                        "remaining_time": 7.586138473,
                        "test": [
                          31077.60712,
                          46754.86115
                        ]
                      },
                      {
                        "learn": [
                          25409.6881,
                          36649.5716
                        ],
                        "iteration": 828,
                        "passed_time": 16.89883937,
                        "remaining_time": 7.56268927,
                        "test": [
                          31077.60344,
                          46756.08058
                        ]
                      },
                      {
                        "learn": [
                          25404.78852,
                          36640.84295
                        ],
                        "iteration": 829,
                        "passed_time": 16.92840766,
                        "remaining_time": 7.546398597,
                        "test": [
                          31078.48753,
                          46752.22823
                        ]
                      },
                      {
                        "learn": [
                          25403.47408,
                          36637.25494
                        ],
                        "iteration": 830,
                        "passed_time": 16.95613852,
                        "remaining_time": 7.529260064,
                        "test": [
                          31078.98116,
                          46751.50854
                        ]
                      },
                      {
                        "learn": [
                          25398.31344,
                          36627.80489
                        ],
                        "iteration": 831,
                        "passed_time": 16.9747724,
                        "remaining_time": 7.508072406,
                        "test": [
                          31076.10539,
                          46748.3709
                        ]
                      },
                      {
                        "learn": [
                          25387.52005,
                          36614.55024
                        ],
                        "iteration": 832,
                        "passed_time": 17.00887653,
                        "remaining_time": 7.493706707,
                        "test": [
                          31068.81098,
                          46745.24079
                        ]
                      },
                      {
                        "learn": [
                          25384.56486,
                          36610.95836
                        ],
                        "iteration": 833,
                        "passed_time": 17.05857186,
                        "remaining_time": 7.486135851,
                        "test": [
                          31068.50104,
                          46746.06467
                        ]
                      },
                      {
                        "learn": [
                          25376.87088,
                          36597.89013
                        ],
                        "iteration": 834,
                        "passed_time": 17.08646198,
                        "remaining_time": 7.468932483,
                        "test": [
                          31064.2999,
                          46739.088
                        ]
                      },
                      {
                        "learn": [
                          25371.11142,
                          36589.97844
                        ],
                        "iteration": 835,
                        "passed_time": 17.11045815,
                        "remaining_time": 7.450008093,
                        "test": [
                          31060.25444,
                          46732.6649
                        ]
                      },
                      {
                        "learn": [
                          25367.22604,
                          36582.7714
                        ],
                        "iteration": 836,
                        "passed_time": 17.17153917,
                        "remaining_time": 7.447154982,
                        "test": [
                          31058.19949,
                          46727.78404
                        ]
                      },
                      {
                        "learn": [
                          25360.62402,
                          36573.9199
                        ],
                        "iteration": 837,
                        "passed_time": 17.2232247,
                        "remaining_time": 7.440104224,
                        "test": [
                          31057.03195,
                          46724.61875
                        ]
                      },
                      {
                        "learn": [
                          25356.66311,
                          36567.39197
                        ],
                        "iteration": 838,
                        "passed_time": 17.24728995,
                        "remaining_time": 7.421062779,
                        "test": [
                          31055.59499,
                          46723.73224
                        ]
                      },
                      {
                        "learn": [
                          25346.90369,
                          36550.7124
                        ],
                        "iteration": 839,
                        "passed_time": 17.29057115,
                        "remaining_time": 7.410244778,
                        "test": [
                          31059.72325,
                          46725.73421
                        ]
                      },
                      {
                        "learn": [
                          25340.38441,
                          36538.22857
                        ],
                        "iteration": 840,
                        "passed_time": 17.31571511,
                        "remaining_time": 7.39160728,
                        "test": [
                          31057.37115,
                          46722.75885
                        ]
                      },
                      {
                        "learn": [
                          25331.02261,
                          36524.06699
                        ],
                        "iteration": 841,
                        "passed_time": 17.33614104,
                        "remaining_time": 7.370948328,
                        "test": [
                          31053.06019,
                          46716.78025
                        ]
                      },
                      {
                        "learn": [
                          25326.26118,
                          36514.79388
                        ],
                        "iteration": 842,
                        "passed_time": 17.35912064,
                        "remaining_time": 7.351371376,
                        "test": [
                          31049.93903,
                          46710.99152
                        ]
                      },
                      {
                        "learn": [
                          25318.58229,
                          36503.00884
                        ],
                        "iteration": 843,
                        "passed_time": 17.42133119,
                        "remaining_time": 7.34833401,
                        "test": [
                          31045.75771,
                          46706.16419
                        ]
                      },
                      {
                        "learn": [
                          25311.98028,
                          36492.1223
                        ],
                        "iteration": 844,
                        "passed_time": 17.43524275,
                        "remaining_time": 7.324865296,
                        "test": [
                          31045.0726,
                          46704.35499
                        ]
                      },
                      {
                        "learn": [
                          25307.54551,
                          36483.10909
                        ],
                        "iteration": 845,
                        "passed_time": 17.44633886,
                        "remaining_time": 7.300241085,
                        "test": [
                          31045.18997,
                          46705.03278
                        ]
                      },
                      {
                        "learn": [
                          25300.43566,
                          36472.01615
                        ],
                        "iteration": 846,
                        "passed_time": 17.45739091,
                        "remaining_time": 7.275630452,
                        "test": [
                          31042.63893,
                          46703.00537
                        ]
                      },
                      {
                        "learn": [
                          25293.61626,
                          36460.95641
                        ],
                        "iteration": 847,
                        "passed_time": 17.46834954,
                        "remaining_time": 7.251013018,
                        "test": [
                          31040.02975,
                          46700.83901
                        ]
                      },
                      {
                        "learn": [
                          25289.42379,
                          36454.69148
                        ],
                        "iteration": 848,
                        "passed_time": 17.50874124,
                        "remaining_time": 7.238596202,
                        "test": [
                          31042.78889,
                          46705.08015
                        ]
                      },
                      {
                        "learn": [
                          25285.70744,
                          36448.04366
                        ],
                        "iteration": 849,
                        "passed_time": 17.57722471,
                        "remaining_time": 7.237680763,
                        "test": [
                          31040.81859,
                          46704.83527
                        ]
                      },
                      {
                        "learn": [
                          25277.98684,
                          36435.42356
                        ],
                        "iteration": 850,
                        "passed_time": 17.60466763,
                        "remaining_time": 7.21977556,
                        "test": [
                          31033.82761,
                          46695.99234
                        ]
                      },
                      {
                        "learn": [
                          25270.22636,
                          36424.63522
                        ],
                        "iteration": 851,
                        "passed_time": 17.66176156,
                        "remaining_time": 7.213958948,
                        "test": [
                          31035.05502,
                          46695.00732
                        ]
                      },
                      {
                        "learn": [
                          25266.89706,
                          36420.18486
                        ],
                        "iteration": 852,
                        "passed_time": 17.68662824,
                        "remaining_time": 7.194912074,
                        "test": [
                          31038.07968,
                          46698.25507
                        ]
                      },
                      {
                        "learn": [
                          25261.50172,
                          36412.6145
                        ],
                        "iteration": 853,
                        "passed_time": 17.70830266,
                        "remaining_time": 7.174558221,
                        "test": [
                          31036.60981,
                          46699.10392
                        ]
                      },
                      {
                        "learn": [
                          25253.53672,
                          36402.16594
                        ],
                        "iteration": 854,
                        "passed_time": 17.72981176,
                        "remaining_time": 7.154134569,
                        "test": [
                          31033.04338,
                          46695.08696
                        ]
                      },
                      {
                        "learn": [
                          25247.22951,
                          36392.80974
                        ],
                        "iteration": 855,
                        "passed_time": 17.75042244,
                        "remaining_time": 7.133347334,
                        "test": [
                          31032.63409,
                          46694.18256
                        ]
                      },
                      {
                        "learn": [
                          25240.97317,
                          36380.38325
                        ],
                        "iteration": 856,
                        "passed_time": 17.7741367,
                        "remaining_time": 7.113802669,
                        "test": [
                          31031.73866,
                          46693.88502
                        ]
                      },
                      {
                        "learn": [
                          25234.34501,
                          36369.44444
                        ],
                        "iteration": 857,
                        "passed_time": 17.8071222,
                        "remaining_time": 7.097943815,
                        "test": [
                          31029.22954,
                          46686.85614
                        ]
                      },
                      {
                        "learn": [
                          25228.8264,
                          36360.85725
                        ],
                        "iteration": 858,
                        "passed_time": 17.83599169,
                        "remaining_time": 7.080411135,
                        "test": [
                          31028.84098,
                          46687.93997
                        ]
                      },
                      {
                        "learn": [
                          25224.92831,
                          36356.05333
                        ],
                        "iteration": 859,
                        "passed_time": 17.84879475,
                        "remaining_time": 7.056500248,
                        "test": [
                          31026.81288,
                          46686.21885
                        ]
                      },
                      {
                        "learn": [
                          25219.85481,
                          36347.59654
                        ],
                        "iteration": 860,
                        "passed_time": 17.86126821,
                        "remaining_time": 7.032485394,
                        "test": [
                          31023.0594,
                          46680.95367
                        ]
                      },
                      {
                        "learn": [
                          25213.67329,
                          36341.29191
                        ],
                        "iteration": 861,
                        "passed_time": 17.87890849,
                        "remaining_time": 7.010523284,
                        "test": [
                          31019.32522,
                          46676.64208
                        ]
                      },
                      {
                        "learn": [
                          25212.7527,
                          36338.88604
                        ],
                        "iteration": 862,
                        "passed_time": 17.89065566,
                        "remaining_time": 6.986269938,
                        "test": [
                          31018.84711,
                          46676.58018
                        ]
                      },
                      {
                        "learn": [
                          25205.35362,
                          36329.68788
                        ],
                        "iteration": 863,
                        "passed_time": 17.90584951,
                        "remaining_time": 6.963385922,
                        "test": [
                          31014.22376,
                          46675.2131
                        ]
                      },
                      {
                        "learn": [
                          25200.46617,
                          36321.82403
                        ],
                        "iteration": 864,
                        "passed_time": 17.92692915,
                        "remaining_time": 6.942799151,
                        "test": [
                          31014.78114,
                          46679.88387
                        ]
                      },
                      {
                        "learn": [
                          25192.88378,
                          36311.86663
                        ],
                        "iteration": 865,
                        "passed_time": 17.95217299,
                        "remaining_time": 6.923817296,
                        "test": [
                          31013.61444,
                          46678.44408
                        ]
                      },
                      {
                        "learn": [
                          25187.27145,
                          36303.06872
                        ],
                        "iteration": 866,
                        "passed_time": 17.97859432,
                        "remaining_time": 6.905273249,
                        "test": [
                          31013.94633,
                          46675.8541
                        ]
                      },
                      {
                        "learn": [
                          25182.22879,
                          36296.51826
                        ],
                        "iteration": 867,
                        "passed_time": 17.99018248,
                        "remaining_time": 6.88103754,
                        "test": [
                          31013.41135,
                          46676.65069
                        ]
                      },
                      {
                        "learn": [
                          25172.79501,
                          36284.06669
                        ],
                        "iteration": 868,
                        "passed_time": 18.0012241,
                        "remaining_time": 6.856622759,
                        "test": [
                          31009.73185,
                          46671.27836
                        ]
                      },
                      {
                        "learn": [
                          25165.68503,
                          36271.76255
                        ],
                        "iteration": 869,
                        "passed_time": 18.02469196,
                        "remaining_time": 6.836952122,
                        "test": [
                          31002.62551,
                          46660.88366
                        ]
                      },
                      {
                        "learn": [
                          25159.90315,
                          36262.91475
                        ],
                        "iteration": 870,
                        "passed_time": 18.0520058,
                        "remaining_time": 6.818725498,
                        "test": [
                          31001.55289,
                          46660.61542
                        ]
                      },
                      {
                        "learn": [
                          25151.66377,
                          36250.11262
                        ],
                        "iteration": 871,
                        "passed_time": 18.08208526,
                        "remaining_time": 6.801518309,
                        "test": [
                          30996.66436,
                          46658.02093
                        ]
                      },
                      {
                        "learn": [
                          25144.53909,
                          36240.99744
                        ],
                        "iteration": 872,
                        "passed_time": 18.11423456,
                        "remaining_time": 6.785056933,
                        "test": [
                          30992.57793,
                          46655.58645
                        ]
                      },
                      {
                        "learn": [
                          25134.62009,
                          36231.77792
                        ],
                        "iteration": 873,
                        "passed_time": 18.12830707,
                        "remaining_time": 6.761817054,
                        "test": [
                          30985.70509,
                          46646.9244
                        ]
                      },
                      {
                        "learn": [
                          25128.77346,
                          36223.51148
                        ],
                        "iteration": 874,
                        "passed_time": 18.14211725,
                        "remaining_time": 6.738500694,
                        "test": [
                          30985.16318,
                          46648.95344
                        ]
                      },
                      {
                        "learn": [
                          25122.82118,
                          36213.02687
                        ],
                        "iteration": 875,
                        "passed_time": 18.17289422,
                        "remaining_time": 6.721481423,
                        "test": [
                          30984.07543,
                          46646.53659
                        ]
                      },
                      {
                        "learn": [
                          25117.37779,
                          36201.42941
                        ],
                        "iteration": 876,
                        "passed_time": 18.19405904,
                        "remaining_time": 6.700890616,
                        "test": [
                          30980.32429,
                          46640.41089
                        ]
                      },
                      {
                        "learn": [
                          25113.89114,
                          36194.62273
                        ],
                        "iteration": 877,
                        "passed_time": 18.20789286,
                        "remaining_time": 6.677609908,
                        "test": [
                          30981.75173,
                          46638.9736
                        ]
                      },
                      {
                        "learn": [
                          25104.74062,
                          36183.13051
                        ],
                        "iteration": 878,
                        "passed_time": 18.22990727,
                        "remaining_time": 6.657338151,
                        "test": [
                          30981.32734,
                          46638.58399
                        ]
                      },
                      {
                        "learn": [
                          25098.4418,
                          36172.02339
                        ],
                        "iteration": 879,
                        "passed_time": 18.24902605,
                        "remaining_time": 6.636009474,
                        "test": [
                          30978.56011,
                          46637.83851
                        ]
                      },
                      {
                        "learn": [
                          25092.8375,
                          36162.90913
                        ],
                        "iteration": 880,
                        "passed_time": 18.25909394,
                        "remaining_time": 6.61140859,
                        "test": [
                          30976.79856,
                          46637.31837
                        ]
                      },
                      {
                        "learn": [
                          25089.59898,
                          36158.26191
                        ],
                        "iteration": 881,
                        "passed_time": 18.26999327,
                        "remaining_time": 6.58714043,
                        "test": [
                          30974.22146,
                          46641.37899
                        ]
                      },
                      {
                        "learn": [
                          25084.50897,
                          36147.78301
                        ],
                        "iteration": 882,
                        "passed_time": 18.28760353,
                        "remaining_time": 6.5653118,
                        "test": [
                          30972.82031,
                          46636.88763
                        ]
                      },
                      {
                        "learn": [
                          25079.30055,
                          36138.50041
                        ],
                        "iteration": 883,
                        "passed_time": 18.31365918,
                        "remaining_time": 6.546511653,
                        "test": [
                          30968.94305,
                          46634.60602
                        ]
                      },
                      {
                        "learn": [
                          25071.94475,
                          36130.62378
                        ],
                        "iteration": 884,
                        "passed_time": 18.33155998,
                        "remaining_time": 6.524792536,
                        "test": [
                          30962.1816,
                          46629.4296
                        ]
                      },
                      {
                        "learn": [
                          25068.4867,
                          36124.62227
                        ],
                        "iteration": 885,
                        "passed_time": 18.35343073,
                        "remaining_time": 6.504488993,
                        "test": [
                          30959.37606,
                          46624.73158
                        ]
                      },
                      {
                        "learn": [
                          25065.22467,
                          36119.42091
                        ],
                        "iteration": 886,
                        "passed_time": 18.38009459,
                        "remaining_time": 6.485873287,
                        "test": [
                          30956.81342,
                          46623.27065
                        ]
                      },
                      {
                        "learn": [
                          25062.3367,
                          36111.59069
                        ],
                        "iteration": 887,
                        "passed_time": 18.41990237,
                        "remaining_time": 6.471857589,
                        "test": [
                          30957.30268,
                          46622.03452
                        ]
                      },
                      {
                        "learn": [
                          25058.95524,
                          36105.2089
                        ],
                        "iteration": 888,
                        "passed_time": 18.43449258,
                        "remaining_time": 6.44896197,
                        "test": [
                          30960.04665,
                          46625.11251
                        ]
                      },
                      {
                        "learn": [
                          25053.30773,
                          36095.27044
                        ],
                        "iteration": 889,
                        "passed_time": 18.44540082,
                        "remaining_time": 6.424802532,
                        "test": [
                          30957.16156,
                          46625.01047
                        ]
                      },
                      {
                        "learn": [
                          25049.56076,
                          36087.5518
                        ],
                        "iteration": 890,
                        "passed_time": 18.4579252,
                        "remaining_time": 6.401233318,
                        "test": [
                          30954.31235,
                          46621.8878
                        ]
                      },
                      {
                        "learn": [
                          25045.82552,
                          36080.6137
                        ],
                        "iteration": 891,
                        "passed_time": 18.47030723,
                        "remaining_time": 6.377639718,
                        "test": [
                          30953.967,
                          46623.12669
                        ]
                      },
                      {
                        "learn": [
                          25039.31355,
                          36071.46395
                        ],
                        "iteration": 892,
                        "passed_time": 18.4994065,
                        "remaining_time": 6.359818361,
                        "test": [
                          30952.25097,
                          46618.99223
                        ]
                      },
                      {
                        "learn": [
                          25034.84477,
                          36063.6927
                        ],
                        "iteration": 893,
                        "passed_time": 18.54366051,
                        "remaining_time": 6.347158966,
                        "test": [
                          30949.96284,
                          46618.12322
                        ]
                      },
                      {
                        "learn": [
                          25023.24874,
                          36050.08992
                        ],
                        "iteration": 894,
                        "passed_time": 18.55767255,
                        "remaining_time": 6.324123049,
                        "test": [
                          30941.1375,
                          46612.99699
                        ]
                      },
                      {
                        "learn": [
                          25019.84651,
                          36044.93784
                        ],
                        "iteration": 895,
                        "passed_time": 18.65831318,
                        "remaining_time": 6.330499115,
                        "test": [
                          30942.05112,
                          46611.85424
                        ]
                      },
                      {
                        "learn": [
                          25012.87868,
                          36033.47477
                        ],
                        "iteration": 896,
                        "passed_time": 18.68512454,
                        "remaining_time": 6.311697586,
                        "test": [
                          30938.90746,
                          46607.41809
                        ]
                      },
                      {
                        "learn": [
                          25005.35236,
                          36020.69327
                        ],
                        "iteration": 897,
                        "passed_time": 18.75959462,
                        "remaining_time": 6.308905986,
                        "test": [
                          30940.04357,
                          46612.9565
                        ]
                      },
                      {
                        "learn": [
                          24997.32267,
                          36011.49569
                        ],
                        "iteration": 898,
                        "passed_time": 18.78717159,
                        "remaining_time": 6.290254336,
                        "test": [
                          30936.50199,
                          46608.54225
                        ]
                      },
                      {
                        "learn": [
                          24994.81144,
                          36007.23005
                        ],
                        "iteration": 899,
                        "passed_time": 18.79736852,
                        "remaining_time": 6.265789506,
                        "test": [
                          30938.53519,
                          46613.26691
                        ]
                      },
                      {
                        "learn": [
                          24986.52218,
                          35993.52302
                        ],
                        "iteration": 900,
                        "passed_time": 18.81044765,
                        "remaining_time": 6.242312815,
                        "test": [
                          30935.07439,
                          46613.15695
                        ]
                      },
                      {
                        "learn": [
                          24981.63406,
                          35987.50977
                        ],
                        "iteration": 901,
                        "passed_time": 18.8215391,
                        "remaining_time": 6.218202497,
                        "test": [
                          30929.95191,
                          46613.19272
                        ]
                      },
                      {
                        "learn": [
                          24974.7797,
                          35977.09184
                        ],
                        "iteration": 902,
                        "passed_time": 18.83220102,
                        "remaining_time": 6.193979738,
                        "test": [
                          30927.60726,
                          46609.9593
                        ]
                      },
                      {
                        "learn": [
                          24969.41622,
                          35970.40071
                        ],
                        "iteration": 903,
                        "passed_time": 18.84157385,
                        "remaining_time": 6.169364888,
                        "test": [
                          30926.63487,
                          46609.02824
                        ]
                      },
                      {
                        "learn": [
                          24964.43455,
                          35963.30752
                        ],
                        "iteration": 904,
                        "passed_time": 18.85098798,
                        "remaining_time": 6.144797187,
                        "test": [
                          30927.5293,
                          46610.79331
                        ]
                      },
                      {
                        "learn": [
                          24961.29152,
                          35958.16748
                        ],
                        "iteration": 905,
                        "passed_time": 18.85966033,
                        "remaining_time": 6.120022226,
                        "test": [
                          30923.55198,
                          46604.30901
                        ]
                      },
                      {
                        "learn": [
                          24957.7108,
                          35954.00855
                        ],
                        "iteration": 906,
                        "passed_time": 18.86836437,
                        "remaining_time": 6.09529301,
                        "test": [
                          30921.70467,
                          46607.50997
                        ]
                      },
                      {
                        "learn": [
                          24946.81333,
                          35937.94789
                        ],
                        "iteration": 907,
                        "passed_time": 18.8943379,
                        "remaining_time": 6.076152717,
                        "test": [
                          30920.15381,
                          46601.5113
                        ]
                      },
                      {
                        "learn": [
                          24935.26058,
                          35923.70907
                        ],
                        "iteration": 908,
                        "passed_time": 18.90459473,
                        "remaining_time": 6.051965969,
                        "test": [
                          30910.45699,
                          46590.95857
                        ]
                      },
                      {
                        "learn": [
                          24928.99666,
                          35912.73575
                        ],
                        "iteration": 909,
                        "passed_time": 18.92485528,
                        "remaining_time": 6.030997836,
                        "test": [
                          30907.18508,
                          46588.44184
                        ]
                      },
                      {
                        "learn": [
                          24922.14853,
                          35902.00381
                        ],
                        "iteration": 910,
                        "passed_time": 18.93473326,
                        "remaining_time": 6.006737555,
                        "test": [
                          30905.13544,
                          46585.33305
                        ]
                      },
                      {
                        "learn": [
                          24918.19014,
                          35893.61385
                        ],
                        "iteration": 911,
                        "passed_time": 18.9441388,
                        "remaining_time": 5.982359622,
                        "test": [
                          30902.97188,
                          46587.8205
                        ]
                      },
                      {
                        "learn": [
                          24914.50864,
                          35886.71786
                        ],
                        "iteration": 912,
                        "passed_time": 18.9534749,
                        "remaining_time": 5.957992657,
                        "test": [
                          30900.31601,
                          46582.00357
                        ]
                      },
                      {
                        "learn": [
                          24909.02467,
                          35877.30083
                        ],
                        "iteration": 913,
                        "passed_time": 18.96772292,
                        "remaining_time": 5.935195574,
                        "test": [
                          30899.1914,
                          46583.91375
                        ]
                      },
                      {
                        "learn": [
                          24896.68224,
                          35863.34621
                        ],
                        "iteration": 914,
                        "passed_time": 18.97736233,
                        "remaining_time": 5.91098171,
                        "test": [
                          30893.21872,
                          46577.23135
                        ]
                      },
                      {
                        "learn": [
                          24892.43346,
                          35855.54145
                        ],
                        "iteration": 915,
                        "passed_time": 18.98704669,
                        "remaining_time": 5.886813602,
                        "test": [
                          30889.03546,
                          46574.11783
                        ]
                      },
                      {
                        "learn": [
                          24884.66485,
                          35846.14509
                        ],
                        "iteration": 916,
                        "passed_time": 18.99681115,
                        "remaining_time": 5.862701805,
                        "test": [
                          30886.16657,
                          46569.54226
                        ]
                      },
                      {
                        "learn": [
                          24877.20071,
                          35835.3972
                        ],
                        "iteration": 917,
                        "passed_time": 19.00656227,
                        "remaining_time": 5.838617168,
                        "test": [
                          30884.02897,
                          46568.39318
                        ]
                      },
                      {
                        "learn": [
                          24865.85868,
                          35818.9628
                        ],
                        "iteration": 918,
                        "passed_time": 19.01583831,
                        "remaining_time": 5.81441846,
                        "test": [
                          30880.70934,
                          46566.00099
                        ]
                      },
                      {
                        "learn": [
                          24860.42249,
                          35812.73637
                        ],
                        "iteration": 919,
                        "passed_time": 19.02557569,
                        "remaining_time": 5.790392601,
                        "test": [
                          30881.34654,
                          46565.07194
                        ]
                      },
                      {
                        "learn": [
                          24852.33116,
                          35799.78898
                        ],
                        "iteration": 920,
                        "passed_time": 19.03491556,
                        "remaining_time": 5.766277353,
                        "test": [
                          30881.54909,
                          46569.29471
                        ]
                      },
                      {
                        "learn": [
                          24843.83899,
                          35787.25735
                        ],
                        "iteration": 921,
                        "passed_time": 19.0442215,
                        "remaining_time": 5.742183924,
                        "test": [
                          30873.68178,
                          46561.065
                        ]
                      },
                      {
                        "learn": [
                          24835.65705,
                          35773.35083
                        ],
                        "iteration": 922,
                        "passed_time": 19.05447595,
                        "remaining_time": 5.718407191,
                        "test": [
                          30871.90319,
                          46560.83555
                        ]
                      },
                      {
                        "learn": [
                          24824.82696,
                          35758.86752
                        ],
                        "iteration": 923,
                        "passed_time": 19.06451553,
                        "remaining_time": 5.694595548,
                        "test": [
                          30866.26856,
                          46564.27707
                        ]
                      },
                      {
                        "learn": [
                          24817.38509,
                          35746.9988
                        ],
                        "iteration": 924,
                        "passed_time": 19.07428356,
                        "remaining_time": 5.67073295,
                        "test": [
                          30861.76466,
                          46560.43098
                        ]
                      },
                      {
                        "learn": [
                          24811.33771,
                          35738.67896
                        ],
                        "iteration": 925,
                        "passed_time": 19.08389657,
                        "remaining_time": 5.646854925,
                        "test": [
                          30860.28444,
                          46556.89097
                        ]
                      },
                      {
                        "learn": [
                          24803.77717,
                          35727.63622
                        ],
                        "iteration": 926,
                        "passed_time": 19.09367447,
                        "remaining_time": 5.623056236,
                        "test": [
                          30857.97201,
                          46552.54668
                        ]
                      },
                      {
                        "learn": [
                          24797.60838,
                          35718.91233
                        ],
                        "iteration": 927,
                        "passed_time": 19.10351252,
                        "remaining_time": 5.599305392,
                        "test": [
                          30853.60697,
                          46547.86941
                        ]
                      },
                      {
                        "learn": [
                          24793.98962,
                          35708.3521
                        ],
                        "iteration": 928,
                        "passed_time": 19.11272529,
                        "remaining_time": 5.575402104,
                        "test": [
                          30853.90144,
                          46550.08671
                        ]
                      },
                      {
                        "learn": [
                          24786.78267,
                          35698.93881
                        ],
                        "iteration": 929,
                        "passed_time": 19.12124594,
                        "remaining_time": 5.551329465,
                        "test": [
                          30853.45584,
                          46549.9628
                        ]
                      },
                      {
                        "learn": [
                          24777.98173,
                          35686.35884
                        ],
                        "iteration": 930,
                        "passed_time": 19.13057257,
                        "remaining_time": 5.527523117,
                        "test": [
                          30850.12987,
                          46545.25443
                        ]
                      },
                      {
                        "learn": [
                          24773.5383,
                          35680.88258
                        ],
                        "iteration": 931,
                        "passed_time": 19.13994971,
                        "remaining_time": 5.503762363,
                        "test": [
                          30845.78212,
                          46542.94506
                        ]
                      },
                      {
                        "learn": [
                          24764.80476,
                          35668.01615
                        ],
                        "iteration": 932,
                        "passed_time": 19.14921116,
                        "remaining_time": 5.479999334,
                        "test": [
                          30841.43524,
                          46539.5755
                        ]
                      },
                      {
                        "learn": [
                          24759.77765,
                          35659.38962
                        ],
                        "iteration": 933,
                        "passed_time": 19.15833363,
                        "remaining_time": 5.456227779,
                        "test": [
                          30838.85359,
                          46538.73111
                        ]
                      },
                      {
                        "learn": [
                          24755.60761,
                          35649.32292
                        ],
                        "iteration": 934,
                        "passed_time": 19.17288013,
                        "remaining_time": 5.434024851,
                        "test": [
                          30842.74365,
                          46545.52236
                        ]
                      },
                      {
                        "learn": [
                          24749.49028,
                          35641.16008
                        ],
                        "iteration": 935,
                        "passed_time": 19.18305852,
                        "remaining_time": 5.410606249,
                        "test": [
                          30836.01098,
                          46540.2478
                        ]
                      },
                      {
                        "learn": [
                          24742.35485,
                          35629.09682
                        ],
                        "iteration": 936,
                        "passed_time": 19.19228727,
                        "remaining_time": 5.386949361,
                        "test": [
                          30833.36324,
                          46540.44899
                        ]
                      },
                      {
                        "learn": [
                          24733.98908,
                          35615.31244
                        ],
                        "iteration": 937,
                        "passed_time": 19.20241865,
                        "remaining_time": 5.363575358,
                        "test": [
                          30827.16963,
                          46535.6867
                        ]
                      },
                      {
                        "learn": [
                          24731.73238,
                          35608.53019
                        ],
                        "iteration": 938,
                        "passed_time": 19.21210788,
                        "remaining_time": 5.340106664,
                        "test": [
                          30828.05287,
                          46537.39993
                        ]
                      },
                      {
                        "learn": [
                          24725.52545,
                          35599.82664
                        ],
                        "iteration": 939,
                        "passed_time": 19.22135938,
                        "remaining_time": 5.316546212,
                        "test": [
                          30825.4254,
                          46534.83014
                        ]
                      },
                      {
                        "learn": [
                          24718.56605,
                          35588.52506
                        ],
                        "iteration": 940,
                        "passed_time": 19.23035591,
                        "remaining_time": 5.292945994,
                        "test": [
                          30823.12252,
                          46529.03546
                        ]
                      },
                      {
                        "learn": [
                          24712.08268,
                          35578.79445
                        ],
                        "iteration": 941,
                        "passed_time": 19.24105753,
                        "remaining_time": 5.269843782,
                        "test": [
                          30820.01051,
                          46525.79546
                        ]
                      },
                      {
                        "learn": [
                          24706.84783,
                          35571.64066
                        ],
                        "iteration": 942,
                        "passed_time": 19.25004886,
                        "remaining_time": 5.246301758,
                        "test": [
                          30818.0493,
                          46521.65754
                        ]
                      },
                      {
                        "learn": [
                          24700.58001,
                          35561.73377
                        ],
                        "iteration": 943,
                        "passed_time": 19.2611119,
                        "remaining_time": 5.22335238,
                        "test": [
                          30817.57637,
                          46521.39591
                        ]
                      },
                      {
                        "learn": [
                          24695.31968,
                          35553.6121
                        ],
                        "iteration": 944,
                        "passed_time": 19.27017991,
                        "remaining_time": 5.199889817,
                        "test": [
                          30813.68537,
                          46517.75014
                        ]
                      },
                      {
                        "learn": [
                          24690.81175,
                          35547.36969
                        ],
                        "iteration": 945,
                        "passed_time": 19.27872007,
                        "remaining_time": 5.17631596,
                        "test": [
                          30813.2378,
                          46518.32105
                        ]
                      },
                      {
                        "learn": [
                          24685.94406,
                          35537.24224
                        ],
                        "iteration": 946,
                        "passed_time": 19.28847991,
                        "remaining_time": 5.153099702,
                        "test": [
                          30812.12352,
                          46515.55762
                        ]
                      },
                      {
                        "learn": [
                          24678.70556,
                          35525.22279
                        ],
                        "iteration": 947,
                        "passed_time": 19.29823283,
                        "remaining_time": 5.129909994,
                        "test": [
                          30810.59722,
                          46511.64784
                        ]
                      },
                      {
                        "learn": [
                          24673.822,
                          35515.46629
                        ],
                        "iteration": 948,
                        "passed_time": 19.30972342,
                        "remaining_time": 5.107208196,
                        "test": [
                          30812.88789,
                          46513.24689
                        ]
                      },
                      {
                        "learn": [
                          24669.8887,
                          35508.0638
                        ],
                        "iteration": 949,
                        "passed_time": 19.31809188,
                        "remaining_time": 5.083708388,
                        "test": [
                          30811.73418,
                          46510.3684
                        ]
                      },
                      {
                        "learn": [
                          24658.17028,
                          35495.38479
                        ],
                        "iteration": 950,
                        "passed_time": 19.32792856,
                        "remaining_time": 5.060624828,
                        "test": [
                          30803.41314,
                          46507.52325
                        ]
                      },
                      {
                        "learn": [
                          24654.99642,
                          35486.50586
                        ],
                        "iteration": 951,
                        "passed_time": 19.33703766,
                        "remaining_time": 5.037379558,
                        "test": [
                          30800.36105,
                          46505.41412
                        ]
                      },
                      {
                        "learn": [
                          24647.89514,
                          35478.6451
                        ],
                        "iteration": 952,
                        "passed_time": 19.34659885,
                        "remaining_time": 5.014281128,
                        "test": [
                          30797.00567,
                          46504.33165
                        ]
                      },
                      {
                        "learn": [
                          24642.14494,
                          35467.84462
                        ],
                        "iteration": 953,
                        "passed_time": 19.35655431,
                        "remaining_time": 4.991312748,
                        "test": [
                          30792.46298,
                          46498.08933
                        ]
                      },
                      {
                        "learn": [
                          24637.60442,
                          35460.34949
                        ],
                        "iteration": 954,
                        "passed_time": 19.36623307,
                        "remaining_time": 4.96830063,
                        "test": [
                          30790.33721,
                          46498.55624
                        ]
                      },
                      {
                        "learn": [
                          24630.17449,
                          35451.24723
                        ],
                        "iteration": 955,
                        "passed_time": 19.38659149,
                        "remaining_time": 4.948042179,
                        "test": [
                          30787.62948,
                          46499.05708
                        ]
                      },
                      {
                        "learn": [
                          24624.80992,
                          35442.67733
                        ],
                        "iteration": 956,
                        "passed_time": 19.39978787,
                        "remaining_time": 4.925964945,
                        "test": [
                          30785.36466,
                          46501.62339
                        ]
                      },
                      {
                        "learn": [
                          24615.04994,
                          35429.99564
                        ],
                        "iteration": 957,
                        "passed_time": 19.40886097,
                        "remaining_time": 4.902864672,
                        "test": [
                          30789.24489,
                          46505.02276
                        ]
                      },
                      {
                        "learn": [
                          24610.8436,
                          35421.47586
                        ],
                        "iteration": 958,
                        "passed_time": 19.41816889,
                        "remaining_time": 4.879852662,
                        "test": [
                          30787.58325,
                          46502.98642
                        ]
                      },
                      {
                        "learn": [
                          24606.05797,
                          35412.91554
                        ],
                        "iteration": 959,
                        "passed_time": 19.42626472,
                        "remaining_time": 4.856566181,
                        "test": [
                          30775.67553,
                          46501.70539
                        ]
                      },
                      {
                        "learn": [
                          24600.7662,
                          35405.08009
                        ],
                        "iteration": 960,
                        "passed_time": 19.4349692,
                        "remaining_time": 4.833462683,
                        "test": [
                          30773.69908,
                          46497.89546
                        ]
                      },
                      {
                        "learn": [
                          24595.15749,
                          35396.15525
                        ],
                        "iteration": 961,
                        "passed_time": 19.44361091,
                        "remaining_time": 4.810373593,
                        "test": [
                          30767.71794,
                          46494.00064
                        ]
                      },
                      {
                        "learn": [
                          24590.64337,
                          35388.80434
                        ],
                        "iteration": 962,
                        "passed_time": 19.4545833,
                        "remaining_time": 4.787888101,
                        "test": [
                          30764.90984,
                          46491.07592
                        ]
                      },
                      {
                        "learn": [
                          24582.57343,
                          35375.84873
                        ],
                        "iteration": 963,
                        "passed_time": 19.46405597,
                        "remaining_time": 4.765059346,
                        "test": [
                          30763.58895,
                          46487.74081
                        ]
                      },
                      {
                        "learn": [
                          24577.65854,
                          35368.63626
                        ],
                        "iteration": 964,
                        "passed_time": 19.47256915,
                        "remaining_time": 4.742024611,
                        "test": [
                          30760.11557,
                          46485.8513
                        ]
                      },
                      {
                        "learn": [
                          24569.3893,
                          35359.23445
                        ],
                        "iteration": 965,
                        "passed_time": 19.4823656,
                        "remaining_time": 4.719330799,
                        "test": [
                          30757.91123,
                          46481.95546
                        ]
                      },
                      {
                        "learn": [
                          24566.26493,
                          35354.87679
                        ],
                        "iteration": 966,
                        "passed_time": 19.49220492,
                        "remaining_time": 4.696673989,
                        "test": [
                          30756.21306,
                          46479.81488
                        ]
                      },
                      {
                        "learn": [
                          24559.49278,
                          35345.91983
                        ],
                        "iteration": 967,
                        "passed_time": 19.50152973,
                        "remaining_time": 4.673920348,
                        "test": [
                          30753.40245,
                          46477.93182
                        ]
                      },
                      {
                        "learn": [
                          24553.94215,
                          35338.40127
                        ],
                        "iteration": 968,
                        "passed_time": 19.51174643,
                        "remaining_time": 4.651407044,
                        "test": [
                          30754.95221,
                          46484.08188
                        ]
                      },
                      {
                        "learn": [
                          24546.94983,
                          35327.15336
                        ],
                        "iteration": 969,
                        "passed_time": 19.52030804,
                        "remaining_time": 4.628526648,
                        "test": [
                          30752.95601,
                          46482.97286
                        ]
                      },
                      {
                        "learn": [
                          24541.44621,
                          35316.6669
                        ],
                        "iteration": 970,
                        "passed_time": 19.53021439,
                        "remaining_time": 4.60599289,
                        "test": [
                          30751.99765,
                          46478.33811
                        ]
                      },
                      {
                        "learn": [
                          24538.10464,
                          35311.22367
                        ],
                        "iteration": 971,
                        "passed_time": 19.53922015,
                        "remaining_time": 4.583273862,
                        "test": [
                          30750.10074,
                          46477.63359
                        ]
                      },
                      {
                        "learn": [
                          24529.88521,
                          35298.88934
                        ],
                        "iteration": 972,
                        "passed_time": 19.54907106,
                        "remaining_time": 4.560780195,
                        "test": [
                          30750.68232,
                          46474.04294
                        ]
                      },
                      {
                        "learn": [
                          24529.93809,
                          35298.66109
                        ],
                        "iteration": 973,
                        "passed_time": 19.55450833,
                        "remaining_time": 4.53728838,
                        "test": [
                          30751.38107,
                          46473.86356
                        ]
                      },
                      {
                        "learn": [
                          24529.99473,
                          35298.45433
                        ],
                        "iteration": 974,
                        "passed_time": 19.55960756,
                        "remaining_time": 4.513755591,
                        "test": [
                          30752.02621,
                          46473.68181
                        ]
                      },
                      {
                        "learn": [
                          24524.05334,
                          35289.36973
                        ],
                        "iteration": 975,
                        "passed_time": 19.57002226,
                        "remaining_time": 4.491480519,
                        "test": [
                          30753.74847,
                          46472.81547
                        ]
                      },
                      {
                        "learn": [
                          24518.05778,
                          35279.66634
                        ],
                        "iteration": 976,
                        "passed_time": 19.57993638,
                        "remaining_time": 4.469115468,
                        "test": [
                          30750.00954,
                          46467.30072
                        ]
                      },
                      {
                        "learn": [
                          24508.99008,
                          35267.3864
                        ],
                        "iteration": 977,
                        "passed_time": 19.59386948,
                        "remaining_time": 4.447688164,
                        "test": [
                          30748.83007,
                          46468.13434
                        ]
                      },
                      {
                        "learn": [
                          24505.45094,
                          35259.34371
                        ],
                        "iteration": 978,
                        "passed_time": 19.60357813,
                        "remaining_time": 4.425322541,
                        "test": [
                          30747.94243,
                          46461.96781
                        ]
                      },
                      {
                        "learn": [
                          24504.58258,
                          35258.48338
                        ],
                        "iteration": 979,
                        "passed_time": 19.60898738,
                        "remaining_time": 4.402017574,
                        "test": [
                          30747.283,
                          46462.16729
                        ]
                      },
                      {
                        "learn": [
                          24498.27114,
                          35247.18689
                        ],
                        "iteration": 980,
                        "passed_time": 19.61934837,
                        "remaining_time": 4.379854528,
                        "test": [
                          30745.81766,
                          46463.82164
                        ]
                      },
                      {
                        "learn": [
                          24495.00628,
                          35241.962
                        ],
                        "iteration": 981,
                        "passed_time": 19.62866896,
                        "remaining_time": 4.357484555,
                        "test": [
                          30744.77522,
                          46462.61085
                        ]
                      },
                      {
                        "learn": [
                          24486.2162,
                          35228.99373
                        ],
                        "iteration": 982,
                        "passed_time": 19.63718462,
                        "remaining_time": 4.334963442,
                        "test": [
                          30738.23919,
                          46462.24396
                        ]
                      },
                      {
                        "learn": [
                          24479.57948,
                          35220.72556
                        ],
                        "iteration": 983,
                        "passed_time": 19.64721046,
                        "remaining_time": 4.312802296,
                        "test": [
                          30732.08483,
                          46457.90185
                        ]
                      },
                      {
                        "learn": [
                          24474.1962,
                          35212.44258
                        ],
                        "iteration": 984,
                        "passed_time": 19.65667606,
                        "remaining_time": 4.290543505,
                        "test": [
                          30726.38996,
                          46454.15956
                        ]
                      },
                      {
                        "learn": [
                          24471.32361,
                          35207.99055
                        ],
                        "iteration": 985,
                        "passed_time": 19.66627623,
                        "remaining_time": 4.268339872,
                        "test": [
                          30727.20814,
                          46454.7701
                        ]
                      },
                      {
                        "learn": [
                          24467.13226,
                          35200.15605
                        ],
                        "iteration": 986,
                        "passed_time": 19.67523369,
                        "remaining_time": 4.246023076,
                        "test": [
                          30726.59218,
                          46453.27961
                        ]
                      },
                      {
                        "learn": [
                          24460.98248,
                          35193.45482
                        ],
                        "iteration": 987,
                        "passed_time": 19.6851381,
                        "remaining_time": 4.223936516,
                        "test": [
                          30722.28677,
                          46449.65647
                        ]
                      },
                      {
                        "learn": [
                          24457.09977,
                          35189.31466
                        ],
                        "iteration": 988,
                        "passed_time": 19.70116829,
                        "remaining_time": 4.203181505,
                        "test": [
                          30722.31586,
                          46449.99631
                        ]
                      },
                      {
                        "learn": [
                          24450.98192,
                          35181.71782
                        ],
                        "iteration": 989,
                        "passed_time": 19.71055697,
                        "remaining_time": 4.181027236,
                        "test": [
                          30719.1401,
                          46448.63344
                        ]
                      },
                      {
                        "learn": [
                          24446.14103,
                          35174.05399
                        ],
                        "iteration": 990,
                        "passed_time": 19.71925439,
                        "remaining_time": 4.158752944,
                        "test": [
                          30717.73651,
                          46447.04977
                        ]
                      },
                      {
                        "learn": [
                          24441.73803,
                          35165.31875
                        ],
                        "iteration": 991,
                        "passed_time": 19.72875685,
                        "remaining_time": 4.136674823,
                        "test": [
                          30716.55826,
                          46442.83372
                        ]
                      },
                      {
                        "learn": [
                          24439.05356,
                          35160.70884
                        ],
                        "iteration": 992,
                        "passed_time": 19.73736714,
                        "remaining_time": 4.114436051,
                        "test": [
                          30717.65458,
                          46445.59642
                        ]
                      },
                      {
                        "learn": [
                          24436.36686,
                          35155.38918
                        ],
                        "iteration": 993,
                        "passed_time": 19.78722267,
                        "remaining_time": 4.100772506,
                        "test": [
                          30718.91602,
                          46449.65387
                        ]
                      },
                      {
                        "learn": [
                          24428.68805,
                          35144.3362
                        ],
                        "iteration": 994,
                        "passed_time": 19.8049309,
                        "remaining_time": 4.0804129,
                        "test": [
                          30716.94928,
                          46445.74944
                        ]
                      },
                      {
                        "learn": [
                          24423.15216,
                          35136.77533
                        ],
                        "iteration": 995,
                        "passed_time": 19.82094873,
                        "remaining_time": 4.05971239,
                        "test": [
                          30711.87368,
                          46442.37418
                        ]
                      },
                      {
                        "learn": [
                          24420.29213,
                          35130.48253
                        ],
                        "iteration": 996,
                        "passed_time": 19.84095166,
                        "remaining_time": 4.039832685,
                        "test": [
                          30711.97314,
                          46444.63844
                        ]
                      },
                      {
                        "learn": [
                          24415.08742,
                          35123.44424
                        ],
                        "iteration": 997,
                        "passed_time": 19.85096903,
                        "remaining_time": 4.017931607,
                        "test": [
                          30711.10537,
                          46445.5985
                        ]
                      },
                      {
                        "learn": [
                          24409.75267,
                          35114.05324
                        ],
                        "iteration": 998,
                        "passed_time": 19.86032372,
                        "remaining_time": 3.995920989,
                        "test": [
                          30711.27679,
                          46451.27623
                        ]
                      },
                      {
                        "learn": [
                          24405.38223,
                          35105.94815
                        ],
                        "iteration": 999,
                        "passed_time": 19.86961273,
                        "remaining_time": 3.973922546,
                        "test": [
                          30710.9532,
                          46450.93684
                        ]
                      },
                      {
                        "learn": [
                          24398.92454,
                          35097.14262
                        ],
                        "iteration": 1000,
                        "passed_time": 19.87929593,
                        "remaining_time": 3.952027863,
                        "test": [
                          30713.24179,
                          46456.98967
                        ]
                      },
                      {
                        "learn": [
                          24395.61039,
                          35088.76267
                        ],
                        "iteration": 1001,
                        "passed_time": 19.8884262,
                        "remaining_time": 3.930048292,
                        "test": [
                          30716.69694,
                          46460.65302
                        ]
                      },
                      {
                        "learn": [
                          24392.10269,
                          35084.04418
                        ],
                        "iteration": 1002,
                        "passed_time": 19.90615316,
                        "remaining_time": 3.909782824,
                        "test": [
                          30714.82172,
                          46456.82045
                        ]
                      },
                      {
                        "learn": [
                          24386.30204,
                          35077.2808
                        ],
                        "iteration": 1003,
                        "passed_time": 19.91666168,
                        "remaining_time": 3.888113237,
                        "test": [
                          30714.44244,
                          46460.56148
                        ]
                      },
                      {
                        "learn": [
                          24381.88727,
                          35068.46752
                        ],
                        "iteration": 1004,
                        "passed_time": 19.92578061,
                        "remaining_time": 3.866196237,
                        "test": [
                          30710.15996,
                          46456.09969
                        ]
                      },
                      {
                        "learn": [
                          24377.24882,
                          35061.40861
                        ],
                        "iteration": 1005,
                        "passed_time": 19.93491723,
                        "remaining_time": 3.844308095,
                        "test": [
                          30710.57103,
                          46456.65375
                        ]
                      },
                      {
                        "learn": [
                          24371.72056,
                          35052.87375
                        ],
                        "iteration": 1006,
                        "passed_time": 19.94434485,
                        "remaining_time": 3.822501048,
                        "test": [
                          30707.69032,
                          46453.91934
                        ]
                      },
                      {
                        "learn": [
                          24369.01762,
                          35049.84148
                        ],
                        "iteration": 1007,
                        "passed_time": 19.95136671,
                        "remaining_time": 3.800260326,
                        "test": [
                          30708.15633,
                          46453.38102
                        ]
                      },
                      {
                        "learn": [
                          24362.52875,
                          35042.66351
                        ],
                        "iteration": 1008,
                        "passed_time": 19.96140565,
                        "remaining_time": 3.778620891,
                        "test": [
                          30705.35452,
                          46450.12047
                        ]
                      },
                      {
                        "learn": [
                          24358.82509,
                          35036.27378
                        ],
                        "iteration": 1009,
                        "passed_time": 19.97068031,
                        "remaining_time": 3.756860653,
                        "test": [
                          30702.02595,
                          46447.05534
                        ]
                      },
                      {
                        "learn": [
                          24352.56859,
                          35027.87392
                        ],
                        "iteration": 1010,
                        "passed_time": 19.9862484,
                        "remaining_time": 3.736301629,
                        "test": [
                          30696.46818,
                          46438.67207
                        ]
                      },
                      {
                        "learn": [
                          24349.79736,
                          35022.68301
                        ],
                        "iteration": 1011,
                        "passed_time": 20.00207727,
                        "remaining_time": 3.715800916,
                        "test": [
                          30696.61625,
                          46441.03433
                        ]
                      },
                      {
                        "learn": [
                          24343.11165,
                          35015.20435
                        ],
                        "iteration": 1012,
                        "passed_time": 20.01525711,
                        "remaining_time": 3.694820414,
                        "test": [
                          30695.4457,
                          46439.31505
                        ]
                      },
                      {
                        "learn": [
                          24335.51681,
                          35004.5438
                        ],
                        "iteration": 1013,
                        "passed_time": 20.02482823,
                        "remaining_time": 3.673193344,
                        "test": [
                          30694.07092,
                          46435.30509
                        ]
                      },
                      {
                        "learn": [
                          24331.2032,
                          34998.43847
                        ],
                        "iteration": 1014,
                        "passed_time": 20.0343967,
                        "remaining_time": 3.651589547,
                        "test": [
                          30692.04364,
                          46430.3364
                        ]
                      },
                      {
                        "learn": [
                          24325.56934,
                          34989.69506
                        ],
                        "iteration": 1015,
                        "passed_time": 20.04412981,
                        "remaining_time": 3.630039258,
                        "test": [
                          30690.58373,
                          46429.92107
                        ]
                      },
                      {
                        "learn": [
                          24318.56537,
                          34980.1641
                        ],
                        "iteration": 1016,
                        "passed_time": 20.05369453,
                        "remaining_time": 3.608481906,
                        "test": [
                          30686.89294,
                          46425.35412
                        ]
                      },
                      {
                        "learn": [
                          24314.52773,
                          34972.96304
                        ],
                        "iteration": 1017,
                        "passed_time": 20.0622279,
                        "remaining_time": 3.586763731,
                        "test": [
                          30685.2311,
                          46419.84709
                        ]
                      },
                      {
                        "learn": [
                          24309.64945,
                          34966.38524
                        ],
                        "iteration": 1018,
                        "passed_time": 20.07183196,
                        "remaining_time": 3.565261614,
                        "test": [
                          30683.99601,
                          46419.70614
                        ]
                      },
                      {
                        "learn": [
                          24302.40914,
                          34958.20309
                        ],
                        "iteration": 1019,
                        "passed_time": 20.08138465,
                        "remaining_time": 3.543773762,
                        "test": [
                          30683.10459,
                          46417.03025
                        ]
                      },
                      {
                        "learn": [
                          24296.30781,
                          34948.77502
                        ],
                        "iteration": 1020,
                        "passed_time": 20.09052027,
                        "remaining_time": 3.522236169,
                        "test": [
                          30682.82397,
                          46417.10586
                        ]
                      },
                      {
                        "learn": [
                          24287.47513,
                          34935.5031
                        ],
                        "iteration": 1021,
                        "passed_time": 20.09990591,
                        "remaining_time": 3.500766392,
                        "test": [
                          30677.11707,
                          46412.43477
                        ]
                      },
                      {
                        "learn": [
                          24283.1304,
                          34927.61168
                        ],
                        "iteration": 1022,
                        "passed_time": 20.10948188,
                        "remaining_time": 3.47935317,
                        "test": [
                          30677.61747,
                          46409.88261
                        ]
                      },
                      {
                        "learn": [
                          24281.33724,
                          34923.85586
                        ],
                        "iteration": 1023,
                        "passed_time": 20.11912863,
                        "remaining_time": 3.457975233,
                        "test": [
                          30676.42102,
                          46408.35057
                        ]
                      },
                      {
                        "learn": [
                          24272.79698,
                          34911.02137
                        ],
                        "iteration": 1024,
                        "passed_time": 20.12952999,
                        "remaining_time": 3.436749023,
                        "test": [
                          30669.55072,
                          46400.013
                        ]
                      },
                      {
                        "learn": [
                          24267.87912,
                          34902.91225
                        ],
                        "iteration": 1025,
                        "passed_time": 20.14140021,
                        "remaining_time": 3.415793018,
                        "test": [
                          30666.46978,
                          46395.94064
                        ]
                      },
                      {
                        "learn": [
                          24261.87563,
                          34893.49672
                        ],
                        "iteration": 1026,
                        "passed_time": 20.15115707,
                        "remaining_time": 3.394498709,
                        "test": [
                          30666.3017,
                          46397.13502
                        ]
                      },
                      {
                        "learn": [
                          24252.35276,
                          34882.62542
                        ],
                        "iteration": 1027,
                        "passed_time": 20.16039123,
                        "remaining_time": 3.373139389,
                        "test": [
                          30662.36379,
                          46392.90175
                        ]
                      },
                      {
                        "learn": [
                          24246.94421,
                          34875.35828
                        ],
                        "iteration": 1028,
                        "passed_time": 20.17006584,
                        "remaining_time": 3.35187683,
                        "test": [
                          30661.95837,
                          46390.41307
                        ]
                      },
                      {
                        "learn": [
                          24241.30299,
                          34868.33381
                        ],
                        "iteration": 1029,
                        "passed_time": 20.17971592,
                        "remaining_time": 3.330632724,
                        "test": [
                          30664.85338,
                          46395.84278
                        ]
                      },
                      {
                        "learn": [
                          24232.22107,
                          34854.05577
                        ],
                        "iteration": 1030,
                        "passed_time": 20.18878184,
                        "remaining_time": 3.309315355,
                        "test": [
                          30659.04989,
                          46390.84681
                        ]
                      },
                      {
                        "learn": [
                          24227.12581,
                          34845.04787
                        ],
                        "iteration": 1031,
                        "passed_time": 20.19852175,
                        "remaining_time": 3.288131447,
                        "test": [
                          30658.93263,
                          46391.98147
                        ]
                      },
                      {
                        "learn": [
                          24218.88939,
                          34831.13736
                        ],
                        "iteration": 1032,
                        "passed_time": 20.21443063,
                        "remaining_time": 3.267967005,
                        "test": [
                          30652.83738,
                          46387.14339
                        ]
                      },
                      {
                        "learn": [
                          24214.97396,
                          34826.51222
                        ],
                        "iteration": 1033,
                        "passed_time": 20.22358327,
                        "remaining_time": 3.246726135,
                        "test": [
                          30650.7392,
                          46385.28948
                        ]
                      },
                      {
                        "learn": [
                          24212.03409,
                          34822.25964
                        ],
                        "iteration": 1034,
                        "passed_time": 20.23318448,
                        "remaining_time": 3.225580134,
                        "test": [
                          30648.24391,
                          46383.96725
                        ]
                      },
                      {
                        "learn": [
                          24208.70736,
                          34817.37326
                        ],
                        "iteration": 1035,
                        "passed_time": 20.2429421,
                        "remaining_time": 3.204481181,
                        "test": [
                          30647.33614,
                          46385.03314
                        ]
                      },
                      {
                        "learn": [
                          24202.44051,
                          34808.12363
                        ],
                        "iteration": 1036,
                        "passed_time": 20.25243885,
                        "remaining_time": 3.183363098,
                        "test": [
                          30645.54163,
                          46383.0806
                        ]
                      },
                      {
                        "learn": [
                          24199.4821,
                          34802.40292
                        ],
                        "iteration": 1037,
                        "passed_time": 20.26183675,
                        "remaining_time": 3.162251978,
                        "test": [
                          30644.9186,
                          46379.78349
                        ]
                      },
                      {
                        "learn": [
                          24190.43107,
                          34789.4097
                        ],
                        "iteration": 1038,
                        "passed_time": 20.27140567,
                        "remaining_time": 3.141189907,
                        "test": [
                          30637.43829,
                          46373.64423
                        ]
                      },
                      {
                        "learn": [
                          24180.38851,
                          34776.42418
                        ],
                        "iteration": 1039,
                        "passed_time": 20.28110384,
                        "remaining_time": 3.120169821,
                        "test": [
                          30630.24934,
                          46368.99076
                        ]
                      },
                      {
                        "learn": [
                          24176.2066,
                          34769.36171
                        ],
                        "iteration": 1040,
                        "passed_time": 20.29039379,
                        "remaining_time": 3.099109139,
                        "test": [
                          30625.84852,
                          46365.38911
                        ]
                      },
                      {
                        "learn": [
                          24169.46872,
                          34757.18336
                        ],
                        "iteration": 1041,
                        "passed_time": 20.29875943,
                        "remaining_time": 3.077930892,
                        "test": [
                          30620.41661,
                          46362.33527
                        ]
                      },
                      {
                        "learn": [
                          24158.74352,
                          34744.91655
                        ],
                        "iteration": 1042,
                        "passed_time": 20.30822527,
                        "remaining_time": 3.056942826,
                        "test": [
                          30611.6802,
                          46357.61834
                        ]
                      },
                      {
                        "learn": [
                          24155.08989,
                          34739.14503
                        ],
                        "iteration": 1043,
                        "passed_time": 20.31756091,
                        "remaining_time": 3.035957378,
                        "test": [
                          30611.00341,
                          46360.79395
                        ]
                      },
                      {
                        "learn": [
                          24150.94787,
                          34731.68824
                        ],
                        "iteration": 1044,
                        "passed_time": 20.32691468,
                        "remaining_time": 3.014996915,
                        "test": [
                          30610.8008,
                          46362.14583
                        ]
                      },
                      {
                        "learn": [
                          24144.87262,
                          34723.88871
                        ],
                        "iteration": 1045,
                        "passed_time": 20.33633358,
                        "remaining_time": 2.994068233,
                        "test": [
                          30605.33683,
                          46355.13541
                        ]
                      },
                      {
                        "learn": [
                          24139.79092,
                          34714.88799
                        ],
                        "iteration": 1046,
                        "passed_time": 20.34634357,
                        "remaining_time": 2.973247914,
                        "test": [
                          30601.22918,
                          46348.39411
                        ]
                      },
                      {
                        "learn": [
                          24136.29973,
                          34707.34573
                        ],
                        "iteration": 1047,
                        "passed_time": 20.35615797,
                        "remaining_time": 2.952419859,
                        "test": [
                          30599.18773,
                          46338.32572
                        ]
                      },
                      {
                        "learn": [
                          24132.16829,
                          34700.80309
                        ],
                        "iteration": 1048,
                        "passed_time": 20.36599928,
                        "remaining_time": 2.931616675,
                        "test": [
                          30600.03382,
                          46339.15698
                        ]
                      },
                      {
                        "learn": [
                          24128.7057,
                          34694.25602
                        ],
                        "iteration": 1049,
                        "passed_time": 20.37437937,
                        "remaining_time": 2.910625624,
                        "test": [
                          30600.35582,
                          46340.19103
                        ]
                      },
                      {
                        "learn": [
                          24122.95029,
                          34684.24402
                        ],
                        "iteration": 1050,
                        "passed_time": 20.38416054,
                        "remaining_time": 2.889857203,
                        "test": [
                          30597.42254,
                          46338.40775
                        ]
                      },
                      {
                        "learn": [
                          24120.03381,
                          34680.03477
                        ],
                        "iteration": 1051,
                        "passed_time": 20.39374112,
                        "remaining_time": 2.86908145,
                        "test": [
                          30596.88501,
                          46338.12398
                        ]
                      },
                      {
                        "learn": [
                          24110.90004,
                          34665.79761
                        ],
                        "iteration": 1052,
                        "passed_time": 20.40369122,
                        "remaining_time": 2.848378547,
                        "test": [
                          30594.72676,
                          46331.69171
                        ]
                      },
                      {
                        "learn": [
                          24105.68562,
                          34659.19761
                        ],
                        "iteration": 1053,
                        "passed_time": 20.41947865,
                        "remaining_time": 2.828504632,
                        "test": [
                          30592.29627,
                          46327.85658
                        ]
                      },
                      {
                        "learn": [
                          24100.69384,
                          34652.30295
                        ],
                        "iteration": 1054,
                        "passed_time": 20.42952304,
                        "remaining_time": 2.807849138,
                        "test": [
                          30588.10229,
                          46321.33743
                        ]
                      },
                      {
                        "learn": [
                          24094.52051,
                          34643.32842
                        ],
                        "iteration": 1055,
                        "passed_time": 20.43923608,
                        "remaining_time": 2.787168557,
                        "test": [
                          30588.94313,
                          46320.36344
                        ]
                      },
                      {
                        "learn": [
                          24089.95042,
                          34636.9844
                        ],
                        "iteration": 1056,
                        "passed_time": 20.44816322,
                        "remaining_time": 2.766402403,
                        "test": [
                          30588.47131,
                          46318.78589
                        ]
                      },
                      {
                        "learn": [
                          24083.88967,
                          34629.97509
                        ],
                        "iteration": 1057,
                        "passed_time": 20.45666678,
                        "remaining_time": 2.745601779,
                        "test": [
                          30588.08062,
                          46318.90132
                        ]
                      },
                      {
                        "learn": [
                          24078.9235,
                          34622.73538
                        ],
                        "iteration": 1058,
                        "passed_time": 20.46608691,
                        "remaining_time": 2.724946415,
                        "test": [
                          30585.64842,
                          46319.417
                        ]
                      },
                      {
                        "learn": [
                          24072.98372,
                          34614.09636
                        ],
                        "iteration": 1059,
                        "passed_time": 20.47598131,
                        "remaining_time": 2.70437489,
                        "test": [
                          30582.04661,
                          46315.31637
                        ]
                      },
                      {
                        "learn": [
                          24069.36804,
                          34606.96086
                        ],
                        "iteration": 1060,
                        "passed_time": 20.4858166,
                        "remaining_time": 2.683815746,
                        "test": [
                          30581.81148,
                          46313.76084
                        ]
                      },
                      {
                        "learn": [
                          24068.97685,
                          34606.25795
                        ],
                        "iteration": 1061,
                        "passed_time": 20.49349033,
                        "remaining_time": 2.662995919,
                        "test": [
                          30582.19375,
                          46314.64603
                        ]
                      },
                      {
                        "learn": [
                          24061.17478,
                          34596.84618
                        ],
                        "iteration": 1062,
                        "passed_time": 20.50289031,
                        "remaining_time": 2.642423304,
                        "test": [
                          30578.98283,
                          46311.35887
                        ]
                      },
                      {
                        "learn": [
                          24058.71734,
                          34590.86378
                        ],
                        "iteration": 1063,
                        "passed_time": 20.52032845,
                        "remaining_time": 2.622899125,
                        "test": [
                          30576.56994,
                          46305.90307
                        ]
                      },
                      {
                        "learn": [
                          24052.48524,
                          34583.02575
                        ],
                        "iteration": 1064,
                        "passed_time": 20.52944696,
                        "remaining_time": 2.602324262,
                        "test": [
                          30570.04995,
                          46298.71996
                        ]
                      },
                      {
                        "learn": [
                          24045.2092,
                          34574.37761
                        ],
                        "iteration": 1065,
                        "passed_time": 20.53924358,
                        "remaining_time": 2.581856135,
                        "test": [
                          30570.92411,
                          46297.38159
                        ]
                      },
                      {
                        "learn": [
                          24041.98532,
                          34570.06219
                        ],
                        "iteration": 1066,
                        "passed_time": 20.54716065,
                        "remaining_time": 2.561173727,
                        "test": [
                          30570.35235,
                          46295.23119
                        ]
                      },
                      {
                        "learn": [
                          24036.45933,
                          34564.50531
                        ],
                        "iteration": 1067,
                        "passed_time": 20.55623633,
                        "remaining_time": 2.540658423,
                        "test": [
                          30570.56241,
                          46295.05806
                        ]
                      },
                      {
                        "learn": [
                          24026.56428,
                          34548.97203
                        ],
                        "iteration": 1068,
                        "passed_time": 20.56630699,
                        "remaining_time": 2.520286451,
                        "test": [
                          30564.35077,
                          46284.00815
                        ]
                      },
                      {
                        "learn": [
                          24023.40335,
                          34542.02635
                        ],
                        "iteration": 1069,
                        "passed_time": 20.57476914,
                        "remaining_time": 2.499738306,
                        "test": [
                          30563.3334,
                          46278.64934
                        ]
                      },
                      {
                        "learn": [
                          24014.68373,
                          34528.89897
                        ],
                        "iteration": 1070,
                        "passed_time": 20.58481891,
                        "remaining_time": 2.479403958,
                        "test": [
                          30565.46797,
                          46279.51838
                        ]
                      },
                      {
                        "learn": [
                          24009.92656,
                          34522.33551
                        ],
                        "iteration": 1071,
                        "passed_time": 20.59529024,
                        "remaining_time": 2.459139133,
                        "test": [
                          30563.54998,
                          46276.15633
                        ]
                      },
                      {
                        "learn": [
                          24006.13788,
                          34516.63927
                        ],
                        "iteration": 1072,
                        "passed_time": 20.60451767,
                        "remaining_time": 2.438745335,
                        "test": [
                          30560.20623,
                          46274.10706
                        ]
                      },
                      {
                        "learn": [
                          24001.05717,
                          34510.84949
                        ],
                        "iteration": 1073,
                        "passed_time": 20.61429442,
                        "remaining_time": 2.418436775,
                        "test": [
                          30558.01522,
                          46270.8793
                        ]
                      },
                      {
                        "learn": [
                          23994.41508,
                          34503.12765
                        ],
                        "iteration": 1074,
                        "passed_time": 20.63044355,
                        "remaining_time": 2.398888785,
                        "test": [
                          30556.58962,
                          46268.63824
                        ]
                      },
                      {
                        "learn": [
                          23989.39597,
                          34496.20119
                        ],
                        "iteration": 1075,
                        "passed_time": 20.64107627,
                        "remaining_time": 2.378711392,
                        "test": [
                          30557.46284,
                          46270.57357
                        ]
                      },
                      {
                        "learn": [
                          23983.9764,
                          34487.54835
                        ],
                        "iteration": 1076,
                        "passed_time": 20.65090766,
                        "remaining_time": 2.358460206,
                        "test": [
                          30558.05297,
                          46274.32681
                        ]
                      },
                      {
                        "learn": [
                          23975.94454,
                          34476.34967
                        ],
                        "iteration": 1077,
                        "passed_time": 20.6607704,
                        "remaining_time": 2.338231901,
                        "test": [
                          30556.95311,
                          46274.87538
                        ]
                      },
                      {
                        "learn": [
                          23972.66316,
                          34470.11024
                        ],
                        "iteration": 1078,
                        "passed_time": 20.66977816,
                        "remaining_time": 2.31792693,
                        "test": [
                          30553.87745,
                          46276.42402
                        ]
                      },
                      {
                        "learn": [
                          23970.67858,
                          34466.82218
                        ],
                        "iteration": 1079,
                        "passed_time": 20.67861949,
                        "remaining_time": 2.297624387,
                        "test": [
                          30552.92935,
                          46274.25241
                        ]
                      },
                      {
                        "learn": [
                          23965.6004,
                          34455.62582
                        ],
                        "iteration": 1080,
                        "passed_time": 20.68722398,
                        "remaining_time": 2.277316979,
                        "test": [
                          30552.25171,
                          46273.16132
                        ]
                      },
                      {
                        "learn": [
                          23961.42691,
                          34449.05344
                        ],
                        "iteration": 1081,
                        "passed_time": 20.69643576,
                        "remaining_time": 2.25709743,
                        "test": [
                          30548.41401,
                          46270.17767
                        ]
                      },
                      {
                        "learn": [
                          23955.31676,
                          34439.86119
                        ],
                        "iteration": 1082,
                        "passed_time": 20.70547401,
                        "remaining_time": 2.236879464,
                        "test": [
                          30547.11685,
                          46267.90656
                        ]
                      },
                      {
                        "learn": [
                          23945.43407,
                          34423.07545
                        ],
                        "iteration": 1083,
                        "passed_time": 20.71586947,
                        "remaining_time": 2.21682736,
                        "test": [
                          30539.42187,
                          46258.24833
                        ]
                      },
                      {
                        "learn": [
                          23943.70186,
                          34420.67489
                        ],
                        "iteration": 1084,
                        "passed_time": 20.72412231,
                        "remaining_time": 2.196565959,
                        "test": [
                          30540.27948,
                          46258.19462
                        ]
                      },
                      {
                        "learn": [
                          23939.58774,
                          34414.9229
                        ],
                        "iteration": 1085,
                        "passed_time": 20.7337359,
                        "remaining_time": 2.176469514,
                        "test": [
                          30538.71225,
                          46255.5467
                        ]
                      },
                      {
                        "learn": [
                          23935.99224,
                          34410.10687
                        ],
                        "iteration": 1086,
                        "passed_time": 20.74349735,
                        "remaining_time": 2.156407728,
                        "test": [
                          30539.28392,
                          46257.18311
                        ]
                      },
                      {
                        "learn": [
                          23932.05676,
                          34401.84027
                        ],
                        "iteration": 1087,
                        "passed_time": 20.76080214,
                        "remaining_time": 2.137141397,
                        "test": [
                          30536.43336,
                          46252.99613
                        ]
                      },
                      {
                        "learn": [
                          23922.23679,
                          34389.79061
                        ],
                        "iteration": 1088,
                        "passed_time": 20.8073392,
                        "remaining_time": 2.120858265,
                        "test": [
                          30532.76418,
                          46252.81907
                        ]
                      },
                      {
                        "learn": [
                          23916.61688,
                          34380.04287
                        ],
                        "iteration": 1089,
                        "passed_time": 20.83746658,
                        "remaining_time": 2.1028636,
                        "test": [
                          30532.91035,
                          46252.1616
                        ]
                      },
                      {
                        "learn": [
                          23913.01978,
                          34376.17017
                        ],
                        "iteration": 1090,
                        "passed_time": 20.85766777,
                        "remaining_time": 2.083854983,
                        "test": [
                          30532.01857,
                          46252.72369
                        ]
                      },
                      {
                        "learn": [
                          23904.50939,
                          34365.71512
                        ],
                        "iteration": 1091,
                        "passed_time": 20.867489,
                        "remaining_time": 2.063817594,
                        "test": [
                          30528.35646,
                          46249.43
                        ]
                      },
                      {
                        "learn": [
                          23898.79745,
                          34357.43926
                        ],
                        "iteration": 1092,
                        "passed_time": 20.88778176,
                        "remaining_time": 2.044824015,
                        "test": [
                          30526.78715,
                          46246.6131
                        ]
                      },
                      {
                        "learn": [
                          23894.84371,
                          34347.65107
                        ],
                        "iteration": 1093,
                        "passed_time": 20.89800989,
                        "remaining_time": 2.024852878,
                        "test": [
                          30527.0396,
                          46248.9636
                        ]
                      },
                      {
                        "learn": [
                          23891.57122,
                          34343.73119
                        ],
                        "iteration": 1094,
                        "passed_time": 20.90779181,
                        "remaining_time": 2.004856749,
                        "test": [
                          30528.18743,
                          46249.00844
                        ]
                      },
                      {
                        "learn": [
                          23886.34199,
                          34336.40491
                        ],
                        "iteration": 1095,
                        "passed_time": 20.91700072,
                        "remaining_time": 1.984824886,
                        "test": [
                          30524.75534,
                          46244.0391
                        ]
                      },
                      {
                        "learn": [
                          23879.16215,
                          34327.72378
                        ],
                        "iteration": 1096,
                        "passed_time": 20.92643205,
                        "remaining_time": 1.964833639,
                        "test": [
                          30518.49408,
                          46237.91606
                        ]
                      },
                      {
                        "learn": [
                          23874.88728,
                          34318.38822
                        ],
                        "iteration": 1097,
                        "passed_time": 20.93553041,
                        "remaining_time": 1.944830693,
                        "test": [
                          30520.15527,
                          46239.85746
                        ]
                      },
                      {
                        "learn": [
                          23870.92806,
                          34312.20923
                        ],
                        "iteration": 1098,
                        "passed_time": 20.9447422,
                        "remaining_time": 1.924858019,
                        "test": [
                          30518.68979,
                          46238.37375
                        ]
                      },
                      {
                        "learn": [
                          23866.49031,
                          34303.09007
                        ],
                        "iteration": 1099,
                        "passed_time": 20.95437849,
                        "remaining_time": 1.904943499,
                        "test": [
                          30517.82567,
                          46236.83279
                        ]
                      },
                      {
                        "learn": [
                          23851.6838,
                          34291.28365
                        ],
                        "iteration": 1100,
                        "passed_time": 20.96431922,
                        "remaining_time": 1.885075025,
                        "test": [
                          30508.28523,
                          46234.87178
                        ]
                      },
                      {
                        "learn": [
                          23846.17839,
                          34283.79402
                        ],
                        "iteration": 1101,
                        "passed_time": 20.97422348,
                        "remaining_time": 1.865221326,
                        "test": [
                          30506.38437,
                          46234.46903
                        ]
                      },
                      {
                        "learn": [
                          23842.162,
                          34276.28438
                        ],
                        "iteration": 1102,
                        "passed_time": 20.98325491,
                        "remaining_time": 1.845308909,
                        "test": [
                          30505.19298,
                          46230.92857
                        ]
                      },
                      {
                        "learn": [
                          23838.04215,
                          34269.90012
                        ],
                        "iteration": 1103,
                        "passed_time": 20.99102539,
                        "remaining_time": 1.825306556,
                        "test": [
                          30504.17089,
                          46226.25507
                        ]
                      },
                      {
                        "learn": [
                          23831.33005,
                          34260.19001
                        ],
                        "iteration": 1104,
                        "passed_time": 21.00392814,
                        "remaining_time": 1.805767578,
                        "test": [
                          30505.67534,
                          46227.23589
                        ]
                      },
                      {
                        "learn": [
                          23825.7733,
                          34251.57655
                        ],
                        "iteration": 1105,
                        "passed_time": 21.01397303,
                        "remaining_time": 1.785997708,
                        "test": [
                          30506.06535,
                          46227.60129
                        ]
                      },
                      {
                        "learn": [
                          23817.908,
                          34240.44714
                        ],
                        "iteration": 1106,
                        "passed_time": 21.02337013,
                        "remaining_time": 1.766190987,
                        "test": [
                          30505.65527,
                          46227.69865
                        ]
                      },
                      {
                        "learn": [
                          23814.20734,
                          34233.24786
                        ],
                        "iteration": 1107,
                        "passed_time": 21.03222523,
                        "remaining_time": 1.746358051,
                        "test": [
                          30503.06018,
                          46225.32239
                        ]
                      },
                      {
                        "learn": [
                          23808.83719,
                          34226.25416
                        ],
                        "iteration": 1108,
                        "passed_time": 21.04896902,
                        "remaining_time": 1.727192228,
                        "test": [
                          30499.762,
                          46221.91355
                        ]
                      },
                      {
                        "learn": [
                          23797.65531,
                          34213.46319
                        ],
                        "iteration": 1109,
                        "passed_time": 21.05856347,
                        "remaining_time": 1.707451092,
                        "test": [
                          30492.66492,
                          46218.68785
                        ]
                      },
                      {
                        "learn": [
                          23790.80213,
                          34202.02235
                        ],
                        "iteration": 1110,
                        "passed_time": 21.06848831,
                        "remaining_time": 1.687754689,
                        "test": [
                          30491.59726,
                          46216.09321
                        ]
                      },
                      {
                        "learn": [
                          23788.90335,
                          34200.20499
                        ],
                        "iteration": 1111,
                        "passed_time": 21.07707496,
                        "remaining_time": 1.667969961,
                        "test": [
                          30491.52856,
                          46215.89394
                        ]
                      },
                      {
                        "learn": [
                          23785.24284,
                          34196.38445
                        ],
                        "iteration": 1112,
                        "passed_time": 21.08616223,
                        "remaining_time": 1.648244487,
                        "test": [
                          30489.96729,
                          46215.96316
                        ]
                      },
                      {
                        "learn": [
                          23780.32607,
                          34189.46352
                        ],
                        "iteration": 1113,
                        "passed_time": 21.09580931,
                        "remaining_time": 1.628581329,
                        "test": [
                          30486.81253,
                          46211.71005
                        ]
                      },
                      {
                        "learn": [
                          23770.91537,
                          34179.17275
                        ],
                        "iteration": 1114,
                        "passed_time": 21.10557301,
                        "remaining_time": 1.608945028,
                        "test": [
                          30482.6711,
                          46206.53387
                        ]
                      },
                      {
                        "learn": [
                          23769.51044,
                          34177.11551
                        ],
                        "iteration": 1115,
                        "passed_time": 21.11358333,
                        "remaining_time": 1.589194444,
                        "test": [
                          30482.33032,
                          46207.1274
                        ]
                      },
                      {
                        "learn": [
                          23762.79943,
                          34166.67145
                        ],
                        "iteration": 1116,
                        "passed_time": 21.12351052,
                        "remaining_time": 1.569607317,
                        "test": [
                          30482.79362,
                          46208.41666
                        ]
                      },
                      {
                        "learn": [
                          23759.58875,
                          34162.12084
                        ],
                        "iteration": 1117,
                        "passed_time": 21.13283417,
                        "remaining_time": 1.549993204,
                        "test": [
                          30484.9714,
                          46212.29965
                        ]
                      },
                      {
                        "learn": [
                          23753.3135,
                          34152.01869
                        ],
                        "iteration": 1118,
                        "passed_time": 21.14226642,
                        "remaining_time": 1.530405344,
                        "test": [
                          30478.34671,
                          46202.52929
                        ]
                      },
                      {
                        "learn": [
                          23746.36342,
                          34144.80777
                        ],
                        "iteration": 1119,
                        "passed_time": 21.15211487,
                        "remaining_time": 1.510865348,
                        "test": [
                          30480.68331,
                          46204.88628
                        ]
                      },
                      {
                        "learn": [
                          23742.93369,
                          34136.75816
                        ],
                        "iteration": 1120,
                        "passed_time": 21.16224729,
                        "remaining_time": 1.491362655,
                        "test": [
                          30481.35257,
                          46206.70459
                        ]
                      },
                      {
                        "learn": [
                          23739.30602,
                          34129.77214
                        ],
                        "iteration": 1121,
                        "passed_time": 21.17317809,
                        "remaining_time": 1.471932166,
                        "test": [
                          30482.29602,
                          46206.72521
                        ]
                      },
                      {
                        "learn": [
                          23736.73262,
                          34124.02738
                        ],
                        "iteration": 1122,
                        "passed_time": 21.18282048,
                        "remaining_time": 1.452428474,
                        "test": [
                          30481.91811,
                          46204.70123
                        ]
                      },
                      {
                        "learn": [
                          23733.23066,
                          34118.01283
                        ],
                        "iteration": 1123,
                        "passed_time": 21.19257132,
                        "remaining_time": 1.432949662,
                        "test": [
                          30480.82204,
                          46205.18954
                        ]
                      },
                      {
                        "learn": [
                          23728.42279,
                          34111.64205
                        ],
                        "iteration": 1124,
                        "passed_time": 21.20224285,
                        "remaining_time": 1.413482857,
                        "test": [
                          30476.06141,
                          46203.52592
                        ]
                      },
                      {
                        "learn": [
                          23719.34425,
                          34099.88885
                        ],
                        "iteration": 1125,
                        "passed_time": 21.21223402,
                        "remaining_time": 1.394054456,
                        "test": [
                          30470.66496,
                          46200.71634
                        ]
                      },
                      {
                        "learn": [
                          23713.47549,
                          34092.57811
                        ],
                        "iteration": 1126,
                        "passed_time": 21.22228476,
                        "remaining_time": 1.374646662,
                        "test": [
                          30469.14192,
                          46201.66132
                        ]
                      },
                      {
                        "learn": [
                          23710.14156,
                          34088.41126
                        ],
                        "iteration": 1127,
                        "passed_time": 21.23147072,
                        "remaining_time": 1.355200259,
                        "test": [
                          30468.14258,
                          46201.11496
                        ]
                      },
                      {
                        "learn": [
                          23707.83607,
                          34084.70854
                        ],
                        "iteration": 1128,
                        "passed_time": 21.25606871,
                        "remaining_time": 1.336741256,
                        "test": [
                          30467.5957,
                          46204.45182
                        ]
                      },
                      {
                        "learn": [
                          23701.94115,
                          34075.76646
                        ],
                        "iteration": 1129,
                        "passed_time": 21.26813621,
                        "remaining_time": 1.317495164,
                        "test": [
                          30465.0912,
                          46203.26474
                        ]
                      },
                      {
                        "learn": [
                          23695.6613,
                          34066.40749
                        ],
                        "iteration": 1130,
                        "passed_time": 21.27808245,
                        "remaining_time": 1.298132351,
                        "test": [
                          30467.34621,
                          46204.28785
                        ]
                      },
                      {
                        "learn": [
                          23689.43968,
                          34057.66653
                        ],
                        "iteration": 1131,
                        "passed_time": 21.28887877,
                        "remaining_time": 1.27883724,
                        "test": [
                          30468.10568,
                          46200.06541
                        ]
                      },
                      {
                        "learn": [
                          23685.30291,
                          34049.94853
                        ],
                        "iteration": 1132,
                        "passed_time": 21.29885663,
                        "remaining_time": 1.259508733,
                        "test": [
                          30469.43592,
                          46202.67724
                        ]
                      },
                      {
                        "learn": [
                          23677.89324,
                          34035.57433
                        ],
                        "iteration": 1133,
                        "passed_time": 21.30844465,
                        "remaining_time": 1.240174028,
                        "test": [
                          30464.24982,
                          46198.58016
                        ]
                      },
                      {
                        "learn": [
                          23669.25946,
                          34024.73523
                        ],
                        "iteration": 1134,
                        "passed_time": 21.31839556,
                        "remaining_time": 1.220877279,
                        "test": [
                          30462.28855,
                          46198.37997
                        ]
                      },
                      {
                        "learn": [
                          23666.95937,
                          34021.34212
                        ],
                        "iteration": 1135,
                        "passed_time": 21.32776058,
                        "remaining_time": 1.201563976,
                        "test": [
                          30461.56206,
                          46201.01987
                        ]
                      },
                      {
                        "learn": [
                          23659.57895,
                          34012.03546
                        ],
                        "iteration": 1136,
                        "passed_time": 21.33807007,
                        "remaining_time": 1.182320505,
                        "test": [
                          30460.84364,
                          46203.52227
                        ]
                      },
                      {
                        "learn": [
                          23657.09627,
                          34007.63629
                        ],
                        "iteration": 1137,
                        "passed_time": 21.34725968,
                        "remaining_time": 1.163031722,
                        "test": [
                          30462.31815,
                          46208.05905
                        ]
                      },
                      {
                        "learn": [
                          23652.32745,
                          34001.40279
                        ],
                        "iteration": 1138,
                        "passed_time": 21.35634018,
                        "remaining_time": 1.143754829,
                        "test": [
                          30460.71142,
                          46207.03252
                        ]
                      },
                      {
                        "learn": [
                          23648.79015,
                          33995.71254
                        ],
                        "iteration": 1139,
                        "passed_time": 21.36545528,
                        "remaining_time": 1.124497646,
                        "test": [
                          30459.57453,
                          46206.50659
                        ]
                      },
                      {
                        "learn": [
                          23644.21521,
                          33987.70746
                        ],
                        "iteration": 1140,
                        "passed_time": 21.37525929,
                        "remaining_time": 1.105293863,
                        "test": [
                          30458.24526,
                          46207.21275
                        ]
                      },
                      {
                        "learn": [
                          23640.05988,
                          33981.69083
                        ],
                        "iteration": 1141,
                        "passed_time": 21.3867208,
                        "remaining_time": 1.086190724,
                        "test": [
                          30459.10551,
                          46208.64962
                        ]
                      },
                      {
                        "learn": [
                          23633.15354,
                          33971.22692
                        ],
                        "iteration": 1142,
                        "passed_time": 21.39644127,
                        "remaining_time": 1.067014131,
                        "test": [
                          30458.51299,
                          46206.25783
                        ]
                      },
                      {
                        "learn": [
                          23630.44497,
                          33966.12142
                        ],
                        "iteration": 1143,
                        "passed_time": 21.40550718,
                        "remaining_time": 1.04782203,
                        "test": [
                          30455.54555,
                          46202.29868
                        ]
                      },
                      {
                        "learn": [
                          23627.19969,
                          33961.68935
                        ],
                        "iteration": 1144,
                        "passed_time": 21.41524843,
                        "remaining_time": 1.028680056,
                        "test": [
                          30454.55314,
                          46203.15259
                        ]
                      },
                      {
                        "learn": [
                          23621.25378,
                          33954.15353
                        ],
                        "iteration": 1145,
                        "passed_time": 21.42371562,
                        "remaining_time": 1.009494453,
                        "test": [
                          30448.59449,
                          46198.6413
                        ]
                      },
                      {
                        "learn": [
                          23617.86635,
                          33944.79469
                        ],
                        "iteration": 1146,
                        "passed_time": 21.4335757,
                        "remaining_time": 0.9903919024,
                        "test": [
                          30446.90826,
                          46197.9478
                        ]
                      },
                      {
                        "learn": [
                          23612.4547,
                          33935.79611
                        ],
                        "iteration": 1147,
                        "passed_time": 21.44332035,
                        "remaining_time": 0.9713002247,
                        "test": [
                          30445.67536,
                          46196.9826
                        ]
                      },
                      {
                        "learn": [
                          23607.76327,
                          33928.41013
                        ],
                        "iteration": 1148,
                        "passed_time": 21.45467738,
                        "remaining_time": 0.9522963852,
                        "test": [
                          30444.94826,
                          46196.23887
                        ]
                      },
                      {
                        "learn": [
                          23602.94951,
                          33921.84909
                        ],
                        "iteration": 1149,
                        "passed_time": 21.46648951,
                        "remaining_time": 0.9333256309,
                        "test": [
                          30444.53085,
                          46196.53016
                        ]
                      },
                      {
                        "learn": [
                          23598.58202,
                          33915.72205
                        ],
                        "iteration": 1150,
                        "passed_time": 21.47637351,
                        "remaining_time": 0.9142852319,
                        "test": [
                          30445.38492,
                          46198.5892
                        ]
                      },
                      {
                        "learn": [
                          23596.20206,
                          33912.37832
                        ],
                        "iteration": 1151,
                        "passed_time": 21.48469967,
                        "remaining_time": 0.8951958194,
                        "test": [
                          30447.23249,
                          46200.4197
                        ]
                      },
                      {
                        "learn": [
                          23594.3379,
                          33908.37997
                        ],
                        "iteration": 1152,
                        "passed_time": 21.49323762,
                        "remaining_time": 0.8761337104,
                        "test": [
                          30448.55321,
                          46202.8303
                        ]
                      },
                      {
                        "learn": [
                          23591.29647,
                          33904.51348
                        ],
                        "iteration": 1153,
                        "passed_time": 21.5023245,
                        "remaining_time": 0.8571117217,
                        "test": [
                          30447.77293,
                          46202.37052
                        ]
                      },
                      {
                        "learn": [
                          23587.72907,
                          33897.46126
                        ],
                        "iteration": 1154,
                        "passed_time": 21.51144253,
                        "remaining_time": 0.8381081506,
                        "test": [
                          30447.80076,
                          46202.43252
                        ]
                      },
                      {
                        "learn": [
                          23582.46631,
                          33890.43713
                        ],
                        "iteration": 1155,
                        "passed_time": 21.52111879,
                        "remaining_time": 0.8191429296,
                        "test": [
                          30447.39878,
                          46198.3595
                        ]
                      },
                      {
                        "learn": [
                          23574.92299,
                          33879.65393
                        ],
                        "iteration": 1156,
                        "passed_time": 21.53028982,
                        "remaining_time": 0.8001749889,
                        "test": [
                          30443.3307,
                          46192.78061
                        ]
                      },
                      {
                        "learn": [
                          23569.89035,
                          33873.34108
                        ],
                        "iteration": 1157,
                        "passed_time": 21.53896545,
                        "remaining_time": 0.7812060008,
                        "test": [
                          30440.49461,
                          46187.81899
                        ]
                      },
                      {
                        "learn": [
                          23565.06609,
                          33865.80661
                        ],
                        "iteration": 1158,
                        "passed_time": 21.5489739,
                        "remaining_time": 0.7623019241,
                        "test": [
                          30437.39378,
                          46186.44197
                        ]
                      },
                      {
                        "learn": [
                          23562.62596,
                          33861.80844
                        ],
                        "iteration": 1159,
                        "passed_time": 21.55786095,
                        "remaining_time": 0.7433745154,
                        "test": [
                          30437.75938,
                          46186.25216
                        ]
                      },
                      {
                        "learn": [
                          23558.49406,
                          33856.20628
                        ],
                        "iteration": 1160,
                        "passed_time": 21.56761996,
                        "remaining_time": 0.7244936937,
                        "test": [
                          30437.77012,
                          46186.01518
                        ]
                      },
                      {
                        "learn": [
                          23553.43935,
                          33849.73613
                        ],
                        "iteration": 1161,
                        "passed_time": 21.57743606,
                        "remaining_time": 0.7056304393,
                        "test": [
                          30436.68112,
                          46184.91437
                        ]
                      },
                      {
                        "learn": [
                          23549.6231,
                          33845.51541
                        ],
                        "iteration": 1162,
                        "passed_time": 21.58738911,
                        "remaining_time": 0.6867870998,
                        "test": [
                          30433.63396,
                          46183.3033
                        ]
                      },
                      {
                        "learn": [
                          23540.5187,
                          33832.4057
                        ],
                        "iteration": 1163,
                        "passed_time": 21.59657575,
                        "remaining_time": 0.6679353324,
                        "test": [
                          30432.86962,
                          46181.83186
                        ]
                      },
                      {
                        "learn": [
                          23535.6033,
                          33825.92652
                        ],
                        "iteration": 1164,
                        "passed_time": 21.60620543,
                        "remaining_time": 0.6491134679,
                        "test": [
                          30431.7705,
                          46178.98066
                        ]
                      },
                      {
                        "learn": [
                          23529.28413,
                          33812.88848
                        ],
                        "iteration": 1165,
                        "passed_time": 21.6157579,
                        "remaining_time": 0.6303051189,
                        "test": [
                          30431.69284,
                          46178.90308
                        ]
                      },
                      {
                        "learn": [
                          23520.04609,
                          33801.71093
                        ],
                        "iteration": 1166,
                        "passed_time": 21.62487066,
                        "remaining_time": 0.6115001986,
                        "test": [
                          30422.83207,
                          46171.60861
                        ]
                      },
                      {
                        "learn": [
                          23514.53048,
                          33793.39886
                        ],
                        "iteration": 1167,
                        "passed_time": 21.63379529,
                        "remaining_time": 0.5927067203,
                        "test": [
                          30422.01823,
                          46173.4825
                        ]
                      },
                      {
                        "learn": [
                          23510.60268,
                          33783.65159
                        ],
                        "iteration": 1168,
                        "passed_time": 21.64365631,
                        "remaining_time": 0.5739549579,
                        "test": [
                          30421.85134,
                          46172.36898
                        ]
                      },
                      {
                        "learn": [
                          23503.33658,
                          33775.26574
                        ],
                        "iteration": 1169,
                        "passed_time": 21.65637364,
                        "remaining_time": 0.5552916317,
                        "test": [
                          30415.97159,
                          46167.10395
                        ]
                      },
                      {
                        "learn": [
                          23499.72453,
                          33769.74746
                        ],
                        "iteration": 1170,
                        "passed_time": 21.66877447,
                        "remaining_time": 0.5366306231,
                        "test": [
                          30413.76421,
                          46166.45619
                        ]
                      },
                      {
                        "learn": [
                          23494.66258,
                          33760.76749
                        ],
                        "iteration": 1171,
                        "passed_time": 21.67818367,
                        "remaining_time": 0.5179088248,
                        "test": [
                          30415.58687,
                          46164.84907
                        ]
                      },
                      {
                        "learn": [
                          23491.07084,
                          33754.24603
                        ],
                        "iteration": 1172,
                        "passed_time": 21.68888694,
                        "remaining_time": 0.4992326917,
                        "test": [
                          30416.91842,
                          46167.50376
                        ]
                      },
                      {
                        "learn": [
                          23486.75951,
                          33746.83522
                        ],
                        "iteration": 1173,
                        "passed_time": 21.69882642,
                        "remaining_time": 0.4805532257,
                        "test": [
                          30413.8215,
                          46161.55347
                        ]
                      },
                      {
                        "learn": [
                          23483.6928,
                          33741.96068
                        ],
                        "iteration": 1174,
                        "passed_time": 21.70785491,
                        "remaining_time": 0.4618692534,
                        "test": [
                          30413.19546,
                          46164.19157
                        ]
                      },
                      {
                        "learn": [
                          23480.90464,
                          33735.01515
                        ],
                        "iteration": 1175,
                        "passed_time": 21.71726689,
                        "remaining_time": 0.4432095285,
                        "test": [
                          30412.09712,
                          46162.91936
                        ]
                      },
                      {
                        "learn": [
                          23474.31171,
                          33725.23211
                        ],
                        "iteration": 1176,
                        "passed_time": 21.7250067,
                        "remaining_time": 0.4245328412,
                        "test": [
                          30407.80902,
                          46158.39792
                        ]
                      },
                      {
                        "learn": [
                          23469.11912,
                          33717.63085
                        ],
                        "iteration": 1177,
                        "passed_time": 21.73466877,
                        "remaining_time": 0.4059106222,
                        "test": [
                          30407.1185,
                          46156.0656
                        ]
                      },
                      {
                        "learn": [
                          23465.31974,
                          33708.74525
                        ],
                        "iteration": 1178,
                        "passed_time": 21.74469281,
                        "remaining_time": 0.3873100501,
                        "test": [
                          30406.14508,
                          46151.69963
                        ]
                      },
                      {
                        "learn": [
                          23461.81592,
                          33701.09526
                        ],
                        "iteration": 1179,
                        "passed_time": 21.75431162,
                        "remaining_time": 0.3687171461,
                        "test": [
                          30405.82865,
                          46151.90078
                        ]
                      },
                      {
                        "learn": [
                          23457.94865,
                          33694.04157
                        ],
                        "iteration": 1180,
                        "passed_time": 21.81690294,
                        "remaining_time": 0.3509916646,
                        "test": [
                          30405.93773,
                          46152.41003
                        ]
                      },
                      {
                        "learn": [
                          23451.93221,
                          33685.30404
                        ],
                        "iteration": 1181,
                        "passed_time": 21.83465826,
                        "remaining_time": 0.3325074862,
                        "test": [
                          30402.09228,
                          46152.43639
                        ]
                      },
                      {
                        "learn": [
                          23445.00517,
                          33671.75197
                        ],
                        "iteration": 1182,
                        "passed_time": 21.85914589,
                        "remaining_time": 0.3141212849,
                        "test": [
                          30402.33411,
                          46151.26543
                        ]
                      },
                      {
                        "learn": [
                          23439.18614,
                          33662.44845
                        ],
                        "iteration": 1183,
                        "passed_time": 21.88496647,
                        "remaining_time": 0.2957427901,
                        "test": [
                          30400.20984,
                          46147.53581
                        ]
                      },
                      {
                        "learn": [
                          23435.68153,
                          33657.05391
                        ],
                        "iteration": 1184,
                        "passed_time": 21.89889017,
                        "remaining_time": 0.2772011413,
                        "test": [
                          30398.66214,
                          46145.48524
                        ]
                      },
                      {
                        "learn": [
                          23432.18027,
                          33648.31319
                        ],
                        "iteration": 1185,
                        "passed_time": 21.90784262,
                        "remaining_time": 0.2586085976,
                        "test": [
                          30394.18241,
                          46142.5034
                        ]
                      },
                      {
                        "learn": [
                          23425.68878,
                          33640.99481
                        ],
                        "iteration": 1186,
                        "passed_time": 21.91719188,
                        "remaining_time": 0.2400366423,
                        "test": [
                          30391.56976,
                          46141.61145
                        ]
                      },
                      {
                        "learn": [
                          23421.80876,
                          33634.89331
                        ],
                        "iteration": 1187,
                        "passed_time": 21.92603927,
                        "remaining_time": 0.2214751442,
                        "test": [
                          30389.20224,
                          46140.06961
                        ]
                      },
                      {
                        "learn": [
                          23418.96223,
                          33630.96784
                        ],
                        "iteration": 1188,
                        "passed_time": 21.93454276,
                        "remaining_time": 0.2029268044,
                        "test": [
                          30386.60591,
                          46136.75798
                        ]
                      },
                      {
                        "learn": [
                          23415.2323,
                          33625.53854
                        ],
                        "iteration": 1189,
                        "passed_time": 21.94437476,
                        "remaining_time": 0.1844065106,
                        "test": [
                          30388.32536,
                          46138.76743
                        ]
                      },
                      {
                        "learn": [
                          23411.07929,
                          33617.78687
                        ],
                        "iteration": 1190,
                        "passed_time": 21.95443627,
                        "remaining_time": 0.1659025411,
                        "test": [
                          30388.07105,
                          46139.57265
                        ]
                      },
                      {
                        "learn": [
                          23404.70235,
                          33608.49698
                        ],
                        "iteration": 1191,
                        "passed_time": 21.96357484,
                        "remaining_time": 0.1474065425,
                        "test": [
                          30388.2115,
                          46139.46907
                        ]
                      },
                      {
                        "learn": [
                          23401.71532,
                          33603.51734
                        ],
                        "iteration": 1192,
                        "passed_time": 21.97350871,
                        "remaining_time": 0.1289308977,
                        "test": [
                          30387.28485,
                          46140.21451
                        ]
                      },
                      {
                        "learn": [
                          23397.33353,
                          33595.4322
                        ],
                        "iteration": 1193,
                        "passed_time": 21.98340032,
                        "remaining_time": 0.1104693484,
                        "test": [
                          30385.32341,
                          46135.80634
                        ]
                      },
                      {
                        "learn": [
                          23393.24038,
                          33588.14118
                        ],
                        "iteration": 1194,
                        "passed_time": 21.99242217,
                        "remaining_time": 0.09201850281,
                        "test": [
                          30385.49634,
                          46136.01868
                        ]
                      },
                      {
                        "learn": [
                          23390.63998,
                          33585.33195
                        ],
                        "iteration": 1195,
                        "passed_time": 22.00147358,
                        "remaining_time": 0.07358352367,
                        "test": [
                          30384.71661,
                          46137.62546
                        ]
                      },
                      {
                        "learn": [
                          23386.60825,
                          33578.50258
                        ],
                        "iteration": 1196,
                        "passed_time": 22.01070134,
                        "remaining_time": 0.055164665,
                        "test": [
                          30384.06322,
                          46138.64089
                        ]
                      },
                      {
                        "learn": [
                          23378.75694,
                          33568.30403
                        ],
                        "iteration": 1197,
                        "passed_time": 22.02078281,
                        "remaining_time": 0.03676257564,
                        "test": [
                          30380.93635,
                          46137.79044
                        ]
                      },
                      {
                        "learn": [
                          23375.37283,
                          33562.38478
                        ],
                        "iteration": 1198,
                        "passed_time": 22.03059026,
                        "remaining_time": 0.018374137,
                        "test": [
                          30376.62389,
                          46134.10823
                        ]
                      },
                      {
                        "learn": [
                          23372.65883,
                          33558.4954
                        ],
                        "iteration": 1199,
                        "passed_time": 22.03835331,
                        "remaining_time": 0,
                        "test": [
                          30374.06462,
                          46132.36803
                        ]
                      }
                    ],
                    "meta": {
                      "test_sets": [
                        "test"
                      ],
                      "test_metrics": [
                        {
                          "best_value": "Min",
                          "name": "MAE"
                        },
                        {
                          "best_value": "Min",
                          "name": "RMSE"
                        }
                      ],
                      "learn_metrics": [
                        {
                          "best_value": "Min",
                          "name": "MAE"
                        },
                        {
                          "best_value": "Min",
                          "name": "RMSE"
                        }
                      ],
                      "launch_mode": "Train",
                      "parameters": "",
                      "iteration_count": 1200,
                      "learn_sets": [
                        "learn"
                      ],
                      "name": "experiment"
                    }
                  }
                }
              }
            },
            "layout": "IPY_MODEL_25736eaae3fa4f45a7ae72bed54fdce6"
          }
        }
      }
    }
  },
  "cells": [
    {
      "cell_type": "markdown",
      "metadata": {
        "id": "view-in-github",
        "colab_type": "text"
      },
      "source": [
        "<a href=\"https://colab.research.google.com/github/mongrelDS/MsDS-CoLab/blob/main/Real_Estate_Pricing_Project.ipynb\" target=\"_parent\"><img src=\"https://colab.research.google.com/assets/colab-badge.svg\" alt=\"Open In Colab\"/></a>"
      ]
    },
    {
      "cell_type": "markdown",
      "source": [
        "This is the improved version of the project. The 'Base Model' produced a result with MAE of 60203 USD. This is the [link](https://github.com/mongrelDS/MsDS-CoLab/blob/main/Feature_Engineering_Techniques_using_California_DataSet.ipynb) to the base model notebook.\n",
        "\n",
        "Colab [Notebook](https://github.com/mongrelDS/MsDS-CoLab) on Github\n",
        "\n",
        "California Housing [Kaggle Dataset](https://www.kaggle.com/ernstein/real-estate-pricing)\n",
        "\n",
        "\n",
        "This project uses CatBoostRegressor"
      ],
      "metadata": {
        "id": "dkQKSXoqO7GJ"
      }
    },
    {
      "cell_type": "markdown",
      "source": [
        "# Real Estate Pricing Project\n"
      ],
      "metadata": {
        "id": "b9mSWf_XSRuc"
      }
    },
    {
      "cell_type": "markdown",
      "source": [
        "#### Initial Setup"
      ],
      "metadata": {
        "id": "O0WINKaLTzog"
      }
    },
    {
      "cell_type": "code",
      "source": [
        "# Read in the CSV into a Pandas DataFrame\n",
        "import pandas as pd\n",
        "\n",
        "filepath= 'https://raw.githubusercontent.com/mongrelDS/MsDS-CoLab/main/housing.csv'\n",
        "df = pd.read_csv(filepath)\n",
        "df = df.dropna()\n",
        "\n",
        "df.info()"
      ],
      "metadata": {
        "colab": {
          "base_uri": "https://localhost:8080/"
        },
        "id": "NlrGgaAmQ694",
        "outputId": "32e57875-3f72-4d6d-c207-63e18f9a7586"
      },
      "execution_count": 1,
      "outputs": [
        {
          "output_type": "stream",
          "name": "stdout",
          "text": [
            "<class 'pandas.core.frame.DataFrame'>\n",
            "Int64Index: 20433 entries, 0 to 20639\n",
            "Data columns (total 10 columns):\n",
            " #   Column              Non-Null Count  Dtype  \n",
            "---  ------              --------------  -----  \n",
            " 0   longitude           20433 non-null  float64\n",
            " 1   latitude            20433 non-null  float64\n",
            " 2   housing_median_age  20433 non-null  float64\n",
            " 3   total_rooms         20433 non-null  float64\n",
            " 4   total_bedrooms      20433 non-null  float64\n",
            " 5   population          20433 non-null  float64\n",
            " 6   households          20433 non-null  float64\n",
            " 7   median_income       20433 non-null  float64\n",
            " 8   median_house_value  20433 non-null  float64\n",
            " 9   ocean_proximity     20433 non-null  object \n",
            "dtypes: float64(9), object(1)\n",
            "memory usage: 1.7+ MB\n"
          ]
        }
      ]
    },
    {
      "cell_type": "code",
      "source": [
        "#@title Train Test Split { vertical-output: true, form-width: \"300px\" }\n",
        "test_size = 0.20 #@param [\"0.2\", \"0.1\"] {type:\"raw\", allow-input: true}\n",
        "random_state=42 #@param [\"42\", \"80\", \"120\"] {type:\"raw\", allow-input: true}\n",
        "\n",
        "from sklearn.model_selection import train_test_split\n",
        "X= df.drop(columns= \"median_house_value\" )\n",
        "y = df[\"median_house_value\"]\n",
        "\n",
        "print(\"X shape:\", X.shape)\n",
        "print(\"y shape:\", y.shape)\n",
        "\n",
        "X_train, X_val, y_train, y_val = train_test_split(\n",
        "    X, y, test_size=test_size, random_state=random_state)\n",
        "\n",
        "print(\"X_train shape:\", X_train.shape)\n",
        "print(\"y_train shape:\", y_train.shape)\n",
        "print(\"X_val shape:\", X_val.shape)\n",
        "print(\"y_val shape:\", y_val.shape)\n",
        "\n",
        "# Confirm if train and test sets added equals X\n",
        "if len(X_train) + len(X_val)==len(X): print(\"Data Split Successful\")\n",
        "else: print(\"Error, please retry with new params\")"
      ],
      "metadata": {
        "colab": {
          "base_uri": "https://localhost:8080/"
        },
        "id": "XYNONFd3fc7m",
        "outputId": "9d2ca91f-00bb-4ebf-8ffe-dc3ced024ce6"
      },
      "execution_count": 2,
      "outputs": [
        {
          "output_type": "stream",
          "name": "stdout",
          "text": [
            "X shape: (20433, 9)\n",
            "y shape: (20433,)\n",
            "X_train shape: (16346, 9)\n",
            "y_train shape: (16346,)\n",
            "X_val shape: (4087, 9)\n",
            "y_val shape: (4087,)\n",
            "Data Split Successful\n"
          ]
        }
      ]
    },
    {
      "cell_type": "markdown",
      "source": [
        "Catboost Regression Model"
      ],
      "metadata": {
        "id": "FmlPI48ilwzv"
      }
    },
    {
      "cell_type": "code",
      "source": [
        "!pip install catboost \n",
        "from catboost import CatBoostRegressor"
      ],
      "metadata": {
        "colab": {
          "base_uri": "https://localhost:8080/"
        },
        "id": "RLzvBaKrls5i",
        "outputId": "a8450d12-1094-4ee8-b14b-b0aaf28ccaaf"
      },
      "execution_count": 3,
      "outputs": [
        {
          "output_type": "stream",
          "name": "stdout",
          "text": [
            "Looking in indexes: https://pypi.org/simple, https://us-python.pkg.dev/colab-wheels/public/simple/\n",
            "Requirement already satisfied: catboost in /usr/local/lib/python3.8/dist-packages (1.1.1)\n",
            "Requirement already satisfied: numpy>=1.16.0 in /usr/local/lib/python3.8/dist-packages (from catboost) (1.21.6)\n",
            "Requirement already satisfied: six in /usr/local/lib/python3.8/dist-packages (from catboost) (1.15.0)\n",
            "Requirement already satisfied: scipy in /usr/local/lib/python3.8/dist-packages (from catboost) (1.7.3)\n",
            "Requirement already satisfied: matplotlib in /usr/local/lib/python3.8/dist-packages (from catboost) (3.2.2)\n",
            "Requirement already satisfied: plotly in /usr/local/lib/python3.8/dist-packages (from catboost) (5.5.0)\n",
            "Requirement already satisfied: graphviz in /usr/local/lib/python3.8/dist-packages (from catboost) (0.10.1)\n",
            "Requirement already satisfied: pandas>=0.24.0 in /usr/local/lib/python3.8/dist-packages (from catboost) (1.3.5)\n",
            "Requirement already satisfied: python-dateutil>=2.7.3 in /usr/local/lib/python3.8/dist-packages (from pandas>=0.24.0->catboost) (2.8.2)\n",
            "Requirement already satisfied: pytz>=2017.3 in /usr/local/lib/python3.8/dist-packages (from pandas>=0.24.0->catboost) (2022.6)\n",
            "Requirement already satisfied: cycler>=0.10 in /usr/local/lib/python3.8/dist-packages (from matplotlib->catboost) (0.11.0)\n",
            "Requirement already satisfied: kiwisolver>=1.0.1 in /usr/local/lib/python3.8/dist-packages (from matplotlib->catboost) (1.4.4)\n",
            "Requirement already satisfied: pyparsing!=2.0.4,!=2.1.2,!=2.1.6,>=2.0.1 in /usr/local/lib/python3.8/dist-packages (from matplotlib->catboost) (3.0.9)\n",
            "Requirement already satisfied: tenacity>=6.2.0 in /usr/local/lib/python3.8/dist-packages (from plotly->catboost) (8.1.0)\n"
          ]
        }
      ]
    },
    {
      "cell_type": "code",
      "source": [
        "cat_features= ['ocean_proximity']"
      ],
      "metadata": {
        "id": "tt6QVhCXmdWd"
      },
      "execution_count": 4,
      "outputs": []
    },
    {
      "cell_type": "code",
      "source": [
        "#@title Model Fitting {  form-width: \"300px\" }\n",
        "\n",
        "X_train = X_train #@param {type:\"raw\"}\n",
        "y_train = y_train #@param {type:\"raw\"}\n",
        "\n",
        "model = CatBoostRegressor(iterations=1200, random_state=42, eval_metric=\"MAE\")\n",
        "model.fit(X_train , y_train,\n",
        "             cat_features=cat_features,\n",
        "             plot=True, eval_set= (X_val, y_val))"
      ],
      "metadata": {
        "colab": {
          "base_uri": "https://localhost:8080/",
          "height": 1000,
          "referenced_widgets": [
            "e50cd6867c82498d9822932b22e60751"
          ]
        },
        "id": "C_HGtw7Vm1c5",
        "outputId": "fcb1fd8f-ef72-410b-9e53-fe6c9d99b5d3"
      },
      "execution_count": 5,
      "outputs": [
        {
          "output_type": "display_data",
          "data": {
            "text/plain": [
              "MetricVisualizer(layout=Layout(align_self='stretch', height='500px'))"
            ],
            "application/vnd.jupyter.widget-view+json": {
              "version_major": 2,
              "version_minor": 0,
              "model_id": "e50cd6867c82498d9822932b22e60751"
            }
          },
          "metadata": {}
        },
        {
          "output_type": "stream",
          "name": "stdout",
          "text": [
            "Learning rate set to 0.070648\n",
            "0:\tlearn: 86792.5154743\ttest: 88871.1321280\tbest: 88871.1321280 (0)\ttotal: 97.8ms\tremaining: 1m 57s\n",
            "1:\tlearn: 83242.8047783\ttest: 85311.7787380\tbest: 85311.7787380 (1)\ttotal: 123ms\tremaining: 1m 13s\n",
            "2:\tlearn: 80062.8125394\ttest: 82146.4254900\tbest: 82146.4254900 (2)\ttotal: 161ms\tremaining: 1m 4s\n",
            "3:\tlearn: 77134.9943917\ttest: 79217.3270704\tbest: 79217.3270704 (3)\ttotal: 186ms\tremaining: 55.6s\n",
            "4:\tlearn: 74465.7036459\ttest: 76477.9884433\tbest: 76477.9884433 (4)\ttotal: 226ms\tremaining: 54s\n",
            "5:\tlearn: 71965.5954321\ttest: 73942.2145364\tbest: 73942.2145364 (5)\ttotal: 266ms\tremaining: 53s\n",
            "6:\tlearn: 69754.8271152\ttest: 71650.1180655\tbest: 71650.1180655 (6)\ttotal: 287ms\tremaining: 48.9s\n",
            "7:\tlearn: 67715.7219871\ttest: 69546.6753270\tbest: 69546.6753270 (7)\ttotal: 309ms\tremaining: 46s\n",
            "8:\tlearn: 65862.3756472\ttest: 67644.2117650\tbest: 67644.2117650 (8)\ttotal: 356ms\tremaining: 47.2s\n",
            "9:\tlearn: 64232.8046696\ttest: 65953.7493005\tbest: 65953.7493005 (9)\ttotal: 377ms\tremaining: 44.9s\n",
            "10:\tlearn: 62547.6538995\ttest: 64239.7188142\tbest: 64239.7188142 (10)\ttotal: 397ms\tremaining: 42.9s\n",
            "11:\tlearn: 61189.6729890\ttest: 62869.9988427\tbest: 62869.9988427 (11)\ttotal: 412ms\tremaining: 40.7s\n",
            "12:\tlearn: 59915.3849365\ttest: 61553.4796818\tbest: 61553.4796818 (12)\ttotal: 423ms\tremaining: 38.6s\n",
            "13:\tlearn: 58793.9065008\ttest: 60348.5179433\tbest: 60348.5179433 (13)\ttotal: 433ms\tremaining: 36.6s\n",
            "14:\tlearn: 57604.7726055\ttest: 59150.1654214\tbest: 59150.1654214 (14)\ttotal: 444ms\tremaining: 35.1s\n",
            "15:\tlearn: 56675.2271287\ttest: 58194.5272841\tbest: 58194.5272841 (15)\ttotal: 455ms\tremaining: 33.7s\n",
            "16:\tlearn: 55758.0459271\ttest: 57282.3868156\tbest: 57282.3868156 (16)\ttotal: 465ms\tremaining: 32.4s\n",
            "17:\tlearn: 54959.5177198\ttest: 56481.8304569\tbest: 56481.8304569 (17)\ttotal: 477ms\tremaining: 31.3s\n",
            "18:\tlearn: 54120.1310725\ttest: 55633.1186383\tbest: 55633.1186383 (18)\ttotal: 510ms\tremaining: 31.7s\n",
            "19:\tlearn: 53416.7022757\ttest: 54922.5749306\tbest: 54922.5749306 (19)\ttotal: 522ms\tremaining: 30.8s\n",
            "20:\tlearn: 52751.0797832\ttest: 54247.3388907\tbest: 54247.3388907 (20)\ttotal: 533ms\tremaining: 29.9s\n",
            "21:\tlearn: 52083.9556866\ttest: 53571.5688321\tbest: 53571.5688321 (21)\ttotal: 547ms\tremaining: 29.3s\n",
            "22:\tlearn: 51469.8682050\ttest: 52949.6304773\tbest: 52949.6304773 (22)\ttotal: 561ms\tremaining: 28.7s\n",
            "23:\tlearn: 50963.1662220\ttest: 52452.7593230\tbest: 52452.7593230 (23)\ttotal: 575ms\tremaining: 28.2s\n",
            "24:\tlearn: 50535.4691575\ttest: 52029.2782172\tbest: 52029.2782172 (24)\ttotal: 600ms\tremaining: 28.2s\n",
            "25:\tlearn: 50135.5065503\ttest: 51605.6410167\tbest: 51605.6410167 (25)\ttotal: 615ms\tremaining: 27.8s\n",
            "26:\tlearn: 49659.4137415\ttest: 51133.5217007\tbest: 51133.5217007 (26)\ttotal: 635ms\tremaining: 27.6s\n",
            "27:\tlearn: 49277.1768192\ttest: 50723.8511008\tbest: 50723.8511008 (27)\ttotal: 653ms\tremaining: 27.3s\n",
            "28:\tlearn: 48881.5580657\ttest: 50336.1723818\tbest: 50336.1723818 (28)\ttotal: 665ms\tremaining: 26.9s\n",
            "29:\tlearn: 48521.9848213\ttest: 49971.8654879\tbest: 49971.8654879 (29)\ttotal: 677ms\tremaining: 26.4s\n",
            "30:\tlearn: 48156.1218149\ttest: 49589.8539477\tbest: 49589.8539477 (30)\ttotal: 689ms\tremaining: 26s\n",
            "31:\tlearn: 47839.7992553\ttest: 49269.4640974\tbest: 49269.4640974 (31)\ttotal: 700ms\tremaining: 25.5s\n",
            "32:\tlearn: 47552.8358330\ttest: 48994.2781104\tbest: 48994.2781104 (32)\ttotal: 712ms\tremaining: 25.2s\n",
            "33:\tlearn: 47303.9165330\ttest: 48753.5813810\tbest: 48753.5813810 (33)\ttotal: 723ms\tremaining: 24.8s\n",
            "34:\tlearn: 46888.3726466\ttest: 48330.6836898\tbest: 48330.6836898 (34)\ttotal: 736ms\tremaining: 24.5s\n",
            "35:\tlearn: 46623.3488110\ttest: 48061.8837402\tbest: 48061.8837402 (35)\ttotal: 778ms\tremaining: 25.2s\n",
            "36:\tlearn: 46375.4706645\ttest: 47828.5113776\tbest: 47828.5113776 (36)\ttotal: 807ms\tremaining: 25.4s\n",
            "37:\tlearn: 45955.4459883\ttest: 47395.6465994\tbest: 47395.6465994 (37)\ttotal: 816ms\tremaining: 25s\n",
            "38:\tlearn: 45704.1095507\ttest: 47159.6107806\tbest: 47159.6107806 (38)\ttotal: 825ms\tremaining: 24.6s\n",
            "39:\tlearn: 45405.9638445\ttest: 46846.2549735\tbest: 46846.2549735 (39)\ttotal: 835ms\tremaining: 24.2s\n",
            "40:\tlearn: 45187.8826133\ttest: 46643.4209039\tbest: 46643.4209039 (40)\ttotal: 845ms\tremaining: 23.9s\n",
            "41:\tlearn: 44907.6484756\ttest: 46360.7141618\tbest: 46360.7141618 (41)\ttotal: 853ms\tremaining: 23.5s\n",
            "42:\tlearn: 44654.5295879\ttest: 46143.7648315\tbest: 46143.7648315 (42)\ttotal: 863ms\tremaining: 23.2s\n",
            "43:\tlearn: 44436.0527270\ttest: 45936.5705768\tbest: 45936.5705768 (43)\ttotal: 872ms\tremaining: 22.9s\n",
            "44:\tlearn: 44172.6789192\ttest: 45650.4844360\tbest: 45650.4844360 (44)\ttotal: 881ms\tremaining: 22.6s\n",
            "45:\tlearn: 43916.5741859\ttest: 45405.7158146\tbest: 45405.7158146 (45)\ttotal: 890ms\tremaining: 22.3s\n",
            "46:\tlearn: 43732.0561785\ttest: 45225.5816908\tbest: 45225.5816908 (46)\ttotal: 900ms\tremaining: 22.1s\n",
            "47:\tlearn: 43533.0977047\ttest: 45040.5721291\tbest: 45040.5721291 (47)\ttotal: 909ms\tremaining: 21.8s\n",
            "48:\tlearn: 43231.4153331\ttest: 44759.5312196\tbest: 44759.5312196 (48)\ttotal: 928ms\tremaining: 21.8s\n",
            "49:\tlearn: 42993.7231160\ttest: 44511.4512011\tbest: 44511.4512011 (49)\ttotal: 959ms\tremaining: 22.1s\n",
            "50:\tlearn: 42818.4012732\ttest: 44338.0775430\tbest: 44338.0775430 (50)\ttotal: 992ms\tremaining: 22.3s\n",
            "51:\tlearn: 42599.2152879\ttest: 44120.9980346\tbest: 44120.9980346 (51)\ttotal: 1.02s\tremaining: 22.5s\n",
            "52:\tlearn: 42432.2933884\ttest: 43982.1680002\tbest: 43982.1680002 (52)\ttotal: 1.04s\tremaining: 22.5s\n",
            "53:\tlearn: 42223.5800493\ttest: 43762.2096426\tbest: 43762.2096426 (53)\ttotal: 1.06s\tremaining: 22.5s\n",
            "54:\tlearn: 41932.2321356\ttest: 43462.6728582\tbest: 43462.6728582 (54)\ttotal: 1.09s\tremaining: 22.6s\n",
            "55:\tlearn: 41755.6629022\ttest: 43294.5975552\tbest: 43294.5975552 (55)\ttotal: 1.11s\tremaining: 22.7s\n",
            "56:\tlearn: 41630.5455664\ttest: 43179.7516389\tbest: 43179.7516389 (56)\ttotal: 1.14s\tremaining: 22.8s\n",
            "57:\tlearn: 41476.2900394\ttest: 43025.8819808\tbest: 43025.8819808 (57)\ttotal: 1.16s\tremaining: 22.8s\n",
            "58:\tlearn: 41340.1816798\ttest: 42894.3045946\tbest: 42894.3045946 (58)\ttotal: 1.18s\tremaining: 22.9s\n",
            "59:\tlearn: 41171.6421469\ttest: 42744.2853040\tbest: 42744.2853040 (59)\ttotal: 1.21s\tremaining: 23s\n",
            "60:\tlearn: 40976.6929901\ttest: 42535.7270370\tbest: 42535.7270370 (60)\ttotal: 1.24s\tremaining: 23.2s\n",
            "61:\tlearn: 40853.7126331\ttest: 42406.7455391\tbest: 42406.7455391 (61)\ttotal: 1.26s\tremaining: 23.1s\n",
            "62:\tlearn: 40744.6162906\ttest: 42290.1132214\tbest: 42290.1132214 (62)\ttotal: 1.27s\tremaining: 22.9s\n",
            "63:\tlearn: 40535.2606151\ttest: 42068.9150054\tbest: 42068.9150054 (63)\ttotal: 1.28s\tremaining: 22.7s\n",
            "64:\tlearn: 40427.6843788\ttest: 41959.7213258\tbest: 41959.7213258 (64)\ttotal: 1.29s\tremaining: 22.5s\n",
            "65:\tlearn: 40305.7623475\ttest: 41832.9772481\tbest: 41832.9772481 (65)\ttotal: 1.3s\tremaining: 22.3s\n",
            "66:\tlearn: 40118.9776998\ttest: 41621.3462528\tbest: 41621.3462528 (66)\ttotal: 1.31s\tremaining: 22.1s\n",
            "67:\tlearn: 39996.6125765\ttest: 41462.8727997\tbest: 41462.8727997 (67)\ttotal: 1.32s\tremaining: 21.9s\n",
            "68:\tlearn: 39904.5390768\ttest: 41382.4464946\tbest: 41382.4464946 (68)\ttotal: 1.32s\tremaining: 21.7s\n",
            "69:\tlearn: 39803.0172891\ttest: 41296.1836737\tbest: 41296.1836737 (69)\ttotal: 1.34s\tremaining: 21.6s\n",
            "70:\tlearn: 39608.2199961\ttest: 41074.5018153\tbest: 41074.5018153 (70)\ttotal: 1.35s\tremaining: 21.4s\n",
            "71:\tlearn: 39505.1426070\ttest: 40977.2649228\tbest: 40977.2649228 (71)\ttotal: 1.35s\tremaining: 21.2s\n",
            "72:\tlearn: 39366.4029399\ttest: 40848.9592092\tbest: 40848.9592092 (72)\ttotal: 1.36s\tremaining: 21.1s\n",
            "73:\tlearn: 39290.9439204\ttest: 40783.6731861\tbest: 40783.6731861 (73)\ttotal: 1.38s\tremaining: 20.9s\n",
            "74:\tlearn: 39206.9857183\ttest: 40719.6749746\tbest: 40719.6749746 (74)\ttotal: 1.39s\tremaining: 20.8s\n",
            "75:\tlearn: 39123.4158046\ttest: 40647.8161451\tbest: 40647.8161451 (75)\ttotal: 1.4s\tremaining: 20.6s\n",
            "76:\tlearn: 39057.2214850\ttest: 40583.0155277\tbest: 40583.0155277 (76)\ttotal: 1.4s\tremaining: 20.5s\n",
            "77:\tlearn: 38978.3692106\ttest: 40499.5052671\tbest: 40499.5052671 (77)\ttotal: 1.42s\tremaining: 20.4s\n",
            "78:\tlearn: 38879.4126809\ttest: 40420.7261138\tbest: 40420.7261138 (78)\ttotal: 1.43s\tremaining: 20.3s\n",
            "79:\tlearn: 38783.9386479\ttest: 40314.6208175\tbest: 40314.6208175 (79)\ttotal: 1.44s\tremaining: 20.1s\n",
            "80:\tlearn: 38657.4278859\ttest: 40198.4639848\tbest: 40198.4639848 (80)\ttotal: 1.45s\tremaining: 20s\n",
            "81:\tlearn: 38554.8501778\ttest: 40104.0694090\tbest: 40104.0694090 (81)\ttotal: 1.46s\tremaining: 19.8s\n",
            "82:\tlearn: 38463.4940428\ttest: 40035.3755850\tbest: 40035.3755850 (82)\ttotal: 1.47s\tremaining: 19.7s\n",
            "83:\tlearn: 38411.2172264\ttest: 39984.0894707\tbest: 39984.0894707 (83)\ttotal: 1.47s\tremaining: 19.6s\n",
            "84:\tlearn: 38347.1853920\ttest: 39939.4986735\tbest: 39939.4986735 (84)\ttotal: 1.48s\tremaining: 19.5s\n",
            "85:\tlearn: 38242.3549038\ttest: 39831.2621206\tbest: 39831.2621206 (85)\ttotal: 1.49s\tremaining: 19.4s\n",
            "86:\tlearn: 38107.4898316\ttest: 39686.1854876\tbest: 39686.1854876 (86)\ttotal: 1.5s\tremaining: 19.2s\n",
            "87:\tlearn: 38000.1879460\ttest: 39565.8500221\tbest: 39565.8500221 (87)\ttotal: 1.52s\tremaining: 19.2s\n",
            "88:\tlearn: 37903.2276107\ttest: 39462.4599544\tbest: 39462.4599544 (88)\ttotal: 1.52s\tremaining: 19s\n",
            "89:\tlearn: 37844.8621784\ttest: 39401.7080621\tbest: 39401.7080621 (89)\ttotal: 1.55s\tremaining: 19.1s\n",
            "90:\tlearn: 37845.1251841\ttest: 39402.0151774\tbest: 39401.7080621 (89)\ttotal: 1.55s\tremaining: 18.9s\n",
            "91:\tlearn: 37765.8508036\ttest: 39323.7492283\tbest: 39323.7492283 (91)\ttotal: 1.56s\tremaining: 18.9s\n",
            "92:\tlearn: 37693.0276081\ttest: 39254.8211786\tbest: 39254.8211786 (92)\ttotal: 1.58s\tremaining: 18.8s\n",
            "93:\tlearn: 37637.1851189\ttest: 39208.9490872\tbest: 39208.9490872 (93)\ttotal: 1.6s\tremaining: 18.8s\n",
            "94:\tlearn: 37573.7579616\ttest: 39162.7030672\tbest: 39162.7030672 (94)\ttotal: 1.61s\tremaining: 18.7s\n",
            "95:\tlearn: 37526.5244954\ttest: 39119.8302385\tbest: 39119.8302385 (95)\ttotal: 1.62s\tremaining: 18.6s\n",
            "96:\tlearn: 37478.9080215\ttest: 39083.8841857\tbest: 39083.8841857 (96)\ttotal: 1.63s\tremaining: 18.5s\n",
            "97:\tlearn: 37402.3513309\ttest: 39001.8989913\tbest: 39001.8989913 (97)\ttotal: 1.64s\tremaining: 18.5s\n",
            "98:\tlearn: 37356.1876241\ttest: 38960.3560212\tbest: 38960.3560212 (98)\ttotal: 1.66s\tremaining: 18.4s\n",
            "99:\tlearn: 37236.5494805\ttest: 38829.5840105\tbest: 38829.5840105 (99)\ttotal: 1.66s\tremaining: 18.3s\n",
            "100:\tlearn: 37115.5475562\ttest: 38710.8861786\tbest: 38710.8861786 (100)\ttotal: 1.67s\tremaining: 18.2s\n",
            "101:\tlearn: 37069.0222210\ttest: 38681.8330044\tbest: 38681.8330044 (101)\ttotal: 1.68s\tremaining: 18.1s\n",
            "102:\tlearn: 37033.2931692\ttest: 38643.9067878\tbest: 38643.9067878 (102)\ttotal: 1.69s\tremaining: 18s\n",
            "103:\tlearn: 36929.9208360\ttest: 38530.5519065\tbest: 38530.5519065 (103)\ttotal: 1.7s\tremaining: 17.9s\n",
            "104:\tlearn: 36853.1759597\ttest: 38450.5095359\tbest: 38450.5095359 (104)\ttotal: 1.71s\tremaining: 17.8s\n",
            "105:\tlearn: 36804.6845618\ttest: 38391.7154915\tbest: 38391.7154915 (105)\ttotal: 1.72s\tremaining: 17.7s\n",
            "106:\tlearn: 36757.6600620\ttest: 38345.0902728\tbest: 38345.0902728 (106)\ttotal: 1.73s\tremaining: 17.7s\n",
            "107:\tlearn: 36712.3759872\ttest: 38317.4782387\tbest: 38317.4782387 (107)\ttotal: 1.74s\tremaining: 17.6s\n",
            "108:\tlearn: 36649.0534783\ttest: 38251.7637953\tbest: 38251.7637953 (108)\ttotal: 1.75s\tremaining: 17.5s\n",
            "109:\tlearn: 36616.6623497\ttest: 38243.6541251\tbest: 38243.6541251 (109)\ttotal: 1.75s\tremaining: 17.4s\n",
            "110:\tlearn: 36532.1420457\ttest: 38154.4155740\tbest: 38154.4155740 (110)\ttotal: 1.76s\tremaining: 17.3s\n",
            "111:\tlearn: 36418.6511489\ttest: 38037.1992570\tbest: 38037.1992570 (111)\ttotal: 1.77s\tremaining: 17.2s\n",
            "112:\tlearn: 36372.5637446\ttest: 37997.5848033\tbest: 37997.5848033 (112)\ttotal: 1.78s\tremaining: 17.2s\n",
            "113:\tlearn: 36332.1696115\ttest: 37973.3059814\tbest: 37973.3059814 (113)\ttotal: 1.79s\tremaining: 17.1s\n",
            "114:\tlearn: 36297.9399243\ttest: 37942.4792968\tbest: 37942.4792968 (114)\ttotal: 1.8s\tremaining: 17s\n",
            "115:\tlearn: 36256.6205231\ttest: 37898.7780757\tbest: 37898.7780757 (115)\ttotal: 1.81s\tremaining: 16.9s\n",
            "116:\tlearn: 36203.4646284\ttest: 37839.3923514\tbest: 37839.3923514 (116)\ttotal: 1.82s\tremaining: 16.9s\n",
            "117:\tlearn: 36108.3133475\ttest: 37749.1653027\tbest: 37749.1653027 (117)\ttotal: 1.83s\tremaining: 16.8s\n",
            "118:\tlearn: 36079.5956759\ttest: 37717.1356709\tbest: 37717.1356709 (118)\ttotal: 1.84s\tremaining: 16.7s\n",
            "119:\tlearn: 35996.0042814\ttest: 37633.0471368\tbest: 37633.0471368 (119)\ttotal: 1.85s\tremaining: 16.7s\n",
            "120:\tlearn: 35966.4711898\ttest: 37616.8665480\tbest: 37616.8665480 (120)\ttotal: 1.86s\tremaining: 16.6s\n",
            "121:\tlearn: 35934.0965842\ttest: 37581.7501321\tbest: 37581.7501321 (121)\ttotal: 1.88s\tremaining: 16.6s\n",
            "122:\tlearn: 35901.7156348\ttest: 37557.0083216\tbest: 37557.0083216 (122)\ttotal: 1.89s\tremaining: 16.6s\n",
            "123:\tlearn: 35858.7539125\ttest: 37515.3877007\tbest: 37515.3877007 (123)\ttotal: 1.9s\tremaining: 16.5s\n",
            "124:\tlearn: 35779.7852128\ttest: 37442.8505254\tbest: 37442.8505254 (124)\ttotal: 1.91s\tremaining: 16.4s\n",
            "125:\tlearn: 35743.4762704\ttest: 37417.2929635\tbest: 37417.2929635 (125)\ttotal: 1.92s\tremaining: 16.4s\n",
            "126:\tlearn: 35687.7992002\ttest: 37374.6226917\tbest: 37374.6226917 (126)\ttotal: 1.93s\tremaining: 16.3s\n",
            "127:\tlearn: 35625.7483374\ttest: 37319.6829882\tbest: 37319.6829882 (127)\ttotal: 1.94s\tremaining: 16.3s\n",
            "128:\tlearn: 35551.2189125\ttest: 37251.4623341\tbest: 37251.4623341 (128)\ttotal: 1.95s\tremaining: 16.2s\n",
            "129:\tlearn: 35517.3745132\ttest: 37220.9744278\tbest: 37220.9744278 (129)\ttotal: 1.96s\tremaining: 16.1s\n",
            "130:\tlearn: 35453.2339184\ttest: 37157.8453979\tbest: 37157.8453979 (130)\ttotal: 1.97s\tremaining: 16.1s\n",
            "131:\tlearn: 35421.9731181\ttest: 37133.5737956\tbest: 37133.5737956 (131)\ttotal: 1.98s\tremaining: 16s\n",
            "132:\tlearn: 35388.5415897\ttest: 37112.0229230\tbest: 37112.0229230 (132)\ttotal: 2s\tremaining: 16s\n",
            "133:\tlearn: 35359.5319095\ttest: 37097.1770737\tbest: 37097.1770737 (133)\ttotal: 2.01s\tremaining: 16s\n",
            "134:\tlearn: 35278.9072289\ttest: 37022.0077665\tbest: 37022.0077665 (134)\ttotal: 2.02s\tremaining: 16s\n",
            "135:\tlearn: 35172.7764356\ttest: 36927.1777022\tbest: 36927.1777022 (135)\ttotal: 2.03s\tremaining: 15.9s\n",
            "136:\tlearn: 35103.7331916\ttest: 36874.6016208\tbest: 36874.6016208 (136)\ttotal: 2.04s\tremaining: 15.9s\n",
            "137:\tlearn: 35057.8971894\ttest: 36843.5364044\tbest: 36843.5364044 (137)\ttotal: 2.05s\tremaining: 15.8s\n",
            "138:\tlearn: 35005.6337352\ttest: 36799.5905722\tbest: 36799.5905722 (138)\ttotal: 2.07s\tremaining: 15.8s\n",
            "139:\tlearn: 34951.2070284\ttest: 36753.3854863\tbest: 36753.3854863 (139)\ttotal: 2.1s\tremaining: 15.9s\n",
            "140:\tlearn: 34902.8098819\ttest: 36690.7238685\tbest: 36690.7238685 (140)\ttotal: 2.1s\tremaining: 15.8s\n",
            "141:\tlearn: 34878.1656704\ttest: 36673.9539918\tbest: 36673.9539918 (141)\ttotal: 2.13s\tremaining: 15.8s\n",
            "142:\tlearn: 34828.5833713\ttest: 36628.7148576\tbest: 36628.7148576 (142)\ttotal: 2.13s\tremaining: 15.8s\n",
            "143:\tlearn: 34782.9115970\ttest: 36585.7940413\tbest: 36585.7940413 (143)\ttotal: 2.14s\tremaining: 15.7s\n",
            "144:\tlearn: 34765.4456021\ttest: 36570.6420921\tbest: 36570.6420921 (144)\ttotal: 2.15s\tremaining: 15.6s\n",
            "145:\tlearn: 34736.2796161\ttest: 36553.0105204\tbest: 36553.0105204 (145)\ttotal: 2.16s\tremaining: 15.6s\n",
            "146:\tlearn: 34700.6075106\ttest: 36526.3364431\tbest: 36526.3364431 (146)\ttotal: 2.17s\tremaining: 15.5s\n",
            "147:\tlearn: 34669.7694135\ttest: 36505.2971264\tbest: 36505.2971264 (147)\ttotal: 2.18s\tremaining: 15.5s\n",
            "148:\tlearn: 34637.1814441\ttest: 36475.9817735\tbest: 36475.9817735 (148)\ttotal: 2.19s\tremaining: 15.4s\n",
            "149:\tlearn: 34607.2651696\ttest: 36464.8061707\tbest: 36464.8061707 (149)\ttotal: 2.2s\tremaining: 15.4s\n",
            "150:\tlearn: 34559.0424943\ttest: 36423.8556768\tbest: 36423.8556768 (150)\ttotal: 2.21s\tremaining: 15.4s\n",
            "151:\tlearn: 34523.7735638\ttest: 36394.8389179\tbest: 36394.8389179 (151)\ttotal: 2.22s\tremaining: 15.3s\n",
            "152:\tlearn: 34486.8891128\ttest: 36354.8867992\tbest: 36354.8867992 (152)\ttotal: 2.23s\tremaining: 15.3s\n",
            "153:\tlearn: 34417.5974894\ttest: 36299.7298363\tbest: 36299.7298363 (153)\ttotal: 2.24s\tremaining: 15.2s\n",
            "154:\tlearn: 34368.7415426\ttest: 36246.4870327\tbest: 36246.4870327 (154)\ttotal: 2.25s\tremaining: 15.2s\n",
            "155:\tlearn: 34329.0593123\ttest: 36215.3253802\tbest: 36215.3253802 (155)\ttotal: 2.26s\tremaining: 15.1s\n",
            "156:\tlearn: 34253.2208067\ttest: 36145.5536257\tbest: 36145.5536257 (156)\ttotal: 2.27s\tremaining: 15.1s\n",
            "157:\tlearn: 34235.2415040\ttest: 36145.8016245\tbest: 36145.5536257 (156)\ttotal: 2.28s\tremaining: 15s\n",
            "158:\tlearn: 34205.7618066\ttest: 36131.1167399\tbest: 36131.1167399 (158)\ttotal: 2.29s\tremaining: 15s\n",
            "159:\tlearn: 34159.1428139\ttest: 36081.0882801\tbest: 36081.0882801 (159)\ttotal: 2.31s\tremaining: 15s\n",
            "160:\tlearn: 34117.9061068\ttest: 36043.3413158\tbest: 36043.3413158 (160)\ttotal: 2.34s\tremaining: 15.1s\n",
            "161:\tlearn: 34089.1974351\ttest: 36018.8454320\tbest: 36018.8454320 (161)\ttotal: 2.36s\tremaining: 15.1s\n",
            "162:\tlearn: 34029.0757377\ttest: 35964.4999955\tbest: 35964.4999955 (162)\ttotal: 2.38s\tremaining: 15.2s\n",
            "163:\tlearn: 33998.2531135\ttest: 35948.9875141\tbest: 35948.9875141 (163)\ttotal: 2.4s\tremaining: 15.1s\n",
            "164:\tlearn: 33938.0105178\ttest: 35894.9095710\tbest: 35894.9095710 (164)\ttotal: 2.4s\tremaining: 15.1s\n",
            "165:\tlearn: 33919.8029536\ttest: 35888.3971869\tbest: 35888.3971869 (165)\ttotal: 2.42s\tremaining: 15.1s\n",
            "166:\tlearn: 33859.0938929\ttest: 35835.7894241\tbest: 35835.7894241 (166)\ttotal: 2.46s\tremaining: 15.2s\n",
            "167:\tlearn: 33827.0276211\ttest: 35811.8370341\tbest: 35811.8370341 (167)\ttotal: 2.48s\tremaining: 15.2s\n",
            "168:\tlearn: 33798.8651596\ttest: 35790.1580805\tbest: 35790.1580805 (168)\ttotal: 2.49s\tremaining: 15.2s\n",
            "169:\tlearn: 33765.8407415\ttest: 35774.9358474\tbest: 35774.9358474 (169)\ttotal: 2.5s\tremaining: 15.2s\n",
            "170:\tlearn: 33742.7281913\ttest: 35762.2860678\tbest: 35762.2860678 (170)\ttotal: 2.51s\tremaining: 15.1s\n",
            "171:\tlearn: 33697.5410457\ttest: 35727.5401192\tbest: 35727.5401192 (171)\ttotal: 2.52s\tremaining: 15.1s\n",
            "172:\tlearn: 33675.8016318\ttest: 35706.1395838\tbest: 35706.1395838 (172)\ttotal: 2.54s\tremaining: 15.1s\n",
            "173:\tlearn: 33641.7368715\ttest: 35697.5173884\tbest: 35697.5173884 (173)\ttotal: 2.56s\tremaining: 15.1s\n",
            "174:\tlearn: 33598.1293728\ttest: 35646.6341601\tbest: 35646.6341601 (174)\ttotal: 2.57s\tremaining: 15s\n",
            "175:\tlearn: 33574.8872656\ttest: 35628.0932777\tbest: 35628.0932777 (175)\ttotal: 2.58s\tremaining: 15s\n",
            "176:\tlearn: 33567.4822333\ttest: 35625.9175528\tbest: 35625.9175528 (176)\ttotal: 2.59s\tremaining: 15s\n",
            "177:\tlearn: 33530.6724996\ttest: 35586.1097282\tbest: 35586.1097282 (177)\ttotal: 2.6s\tremaining: 14.9s\n",
            "178:\tlearn: 33502.4215715\ttest: 35566.2147176\tbest: 35566.2147176 (178)\ttotal: 2.61s\tremaining: 14.9s\n",
            "179:\tlearn: 33484.7826774\ttest: 35553.8060665\tbest: 35553.8060665 (179)\ttotal: 2.62s\tremaining: 14.9s\n",
            "180:\tlearn: 33409.8278675\ttest: 35504.2879412\tbest: 35504.2879412 (180)\ttotal: 2.64s\tremaining: 14.8s\n",
            "181:\tlearn: 33381.7925417\ttest: 35484.7080064\tbest: 35484.7080064 (181)\ttotal: 2.65s\tremaining: 14.8s\n",
            "182:\tlearn: 33371.5514682\ttest: 35473.0192447\tbest: 35473.0192447 (182)\ttotal: 2.66s\tremaining: 14.8s\n",
            "183:\tlearn: 33336.4188967\ttest: 35455.3018952\tbest: 35455.3018952 (183)\ttotal: 2.67s\tremaining: 14.8s\n",
            "184:\tlearn: 33315.2918743\ttest: 35445.4949571\tbest: 35445.4949571 (184)\ttotal: 2.69s\tremaining: 14.8s\n",
            "185:\tlearn: 33253.2093117\ttest: 35410.8310556\tbest: 35410.8310556 (185)\ttotal: 2.71s\tremaining: 14.8s\n",
            "186:\tlearn: 33187.4380435\ttest: 35355.7510400\tbest: 35355.7510400 (186)\ttotal: 2.73s\tremaining: 14.8s\n",
            "187:\tlearn: 33160.7859093\ttest: 35351.3198401\tbest: 35351.3198401 (187)\ttotal: 2.74s\tremaining: 14.7s\n",
            "188:\tlearn: 33141.8698601\ttest: 35334.6165564\tbest: 35334.6165564 (188)\ttotal: 2.75s\tremaining: 14.7s\n",
            "189:\tlearn: 33124.2523076\ttest: 35330.5419077\tbest: 35330.5419077 (189)\ttotal: 2.75s\tremaining: 14.6s\n",
            "190:\tlearn: 33093.5666624\ttest: 35301.3203564\tbest: 35301.3203564 (190)\ttotal: 2.77s\tremaining: 14.6s\n",
            "191:\tlearn: 33064.5505325\ttest: 35283.4497057\tbest: 35283.4497057 (191)\ttotal: 2.77s\tremaining: 14.6s\n",
            "192:\tlearn: 33048.3424922\ttest: 35274.1608371\tbest: 35274.1608371 (192)\ttotal: 2.79s\tremaining: 14.6s\n",
            "193:\tlearn: 32997.9301723\ttest: 35210.3931608\tbest: 35210.3931608 (193)\ttotal: 2.8s\tremaining: 14.5s\n",
            "194:\tlearn: 32951.3553382\ttest: 35186.2214237\tbest: 35186.2214237 (194)\ttotal: 2.81s\tremaining: 14.5s\n",
            "195:\tlearn: 32930.1200450\ttest: 35175.7553201\tbest: 35175.7553201 (195)\ttotal: 2.82s\tremaining: 14.4s\n",
            "196:\tlearn: 32888.7356451\ttest: 35132.2316677\tbest: 35132.2316677 (196)\ttotal: 2.83s\tremaining: 14.4s\n",
            "197:\tlearn: 32875.9715818\ttest: 35131.7414120\tbest: 35131.7414120 (197)\ttotal: 2.85s\tremaining: 14.4s\n",
            "198:\tlearn: 32861.3202806\ttest: 35120.3038471\tbest: 35120.3038471 (198)\ttotal: 2.87s\tremaining: 14.4s\n",
            "199:\tlearn: 32812.3719962\ttest: 35087.7123209\tbest: 35087.7123209 (199)\ttotal: 2.88s\tremaining: 14.4s\n",
            "200:\tlearn: 32766.2654493\ttest: 35046.7644125\tbest: 35046.7644125 (200)\ttotal: 2.89s\tremaining: 14.4s\n",
            "201:\tlearn: 32740.0182765\ttest: 35038.8280665\tbest: 35038.8280665 (201)\ttotal: 2.9s\tremaining: 14.3s\n",
            "202:\tlearn: 32705.3877472\ttest: 35019.5361110\tbest: 35019.5361110 (202)\ttotal: 2.91s\tremaining: 14.3s\n",
            "203:\tlearn: 32677.7842893\ttest: 35003.2822036\tbest: 35003.2822036 (203)\ttotal: 2.92s\tremaining: 14.3s\n",
            "204:\tlearn: 32621.8830380\ttest: 34955.9477856\tbest: 34955.9477856 (204)\ttotal: 2.93s\tremaining: 14.2s\n",
            "205:\tlearn: 32584.6329464\ttest: 34938.7238460\tbest: 34938.7238460 (205)\ttotal: 2.94s\tremaining: 14.2s\n",
            "206:\tlearn: 32546.6572698\ttest: 34893.5556065\tbest: 34893.5556065 (206)\ttotal: 2.95s\tremaining: 14.1s\n",
            "207:\tlearn: 32539.0554878\ttest: 34886.5228107\tbest: 34886.5228107 (207)\ttotal: 2.96s\tremaining: 14.1s\n",
            "208:\tlearn: 32505.9981737\ttest: 34862.8088149\tbest: 34862.8088149 (208)\ttotal: 2.98s\tremaining: 14.1s\n",
            "209:\tlearn: 32469.3684996\ttest: 34833.0206849\tbest: 34833.0206849 (209)\ttotal: 2.98s\tremaining: 14.1s\n",
            "210:\tlearn: 32438.7994419\ttest: 34813.9326793\tbest: 34813.9326793 (210)\ttotal: 2.99s\tremaining: 14s\n",
            "211:\tlearn: 32422.3928227\ttest: 34812.0065076\tbest: 34812.0065076 (211)\ttotal: 3.02s\tremaining: 14.1s\n",
            "212:\tlearn: 32413.6923497\ttest: 34809.3772860\tbest: 34809.3772860 (212)\ttotal: 3.03s\tremaining: 14s\n",
            "213:\tlearn: 32390.6188727\ttest: 34783.5205300\tbest: 34783.5205300 (213)\ttotal: 3.04s\tremaining: 14s\n",
            "214:\tlearn: 32366.3046207\ttest: 34764.7835730\tbest: 34764.7835730 (214)\ttotal: 3.05s\tremaining: 14s\n",
            "215:\tlearn: 32336.8805215\ttest: 34750.5253967\tbest: 34750.5253967 (215)\ttotal: 3.06s\tremaining: 13.9s\n",
            "216:\tlearn: 32316.5524051\ttest: 34740.2810641\tbest: 34740.2810641 (216)\ttotal: 3.07s\tremaining: 13.9s\n",
            "217:\tlearn: 32289.4135339\ttest: 34732.8072675\tbest: 34732.8072675 (217)\ttotal: 3.09s\tremaining: 13.9s\n",
            "218:\tlearn: 32266.3173046\ttest: 34722.2524102\tbest: 34722.2524102 (218)\ttotal: 3.1s\tremaining: 13.9s\n",
            "219:\tlearn: 32242.5971755\ttest: 34702.1710188\tbest: 34702.1710188 (219)\ttotal: 3.11s\tremaining: 13.9s\n",
            "220:\tlearn: 32187.8465519\ttest: 34650.5251260\tbest: 34650.5251260 (220)\ttotal: 3.12s\tremaining: 13.8s\n",
            "221:\tlearn: 32166.3696239\ttest: 34632.5420101\tbest: 34632.5420101 (221)\ttotal: 3.13s\tremaining: 13.8s\n",
            "222:\tlearn: 32131.2932560\ttest: 34608.4808431\tbest: 34608.4808431 (222)\ttotal: 3.14s\tremaining: 13.8s\n",
            "223:\tlearn: 32084.3878222\ttest: 34564.0135932\tbest: 34564.0135932 (223)\ttotal: 3.15s\tremaining: 13.7s\n",
            "224:\tlearn: 32055.0022165\ttest: 34537.8179704\tbest: 34537.8179704 (224)\ttotal: 3.16s\tremaining: 13.7s\n",
            "225:\tlearn: 32029.5773100\ttest: 34530.8398781\tbest: 34530.8398781 (225)\ttotal: 3.17s\tremaining: 13.7s\n",
            "226:\tlearn: 32017.5088798\ttest: 34524.0348724\tbest: 34524.0348724 (226)\ttotal: 3.18s\tremaining: 13.6s\n",
            "227:\tlearn: 31992.4523805\ttest: 34506.2966823\tbest: 34506.2966823 (227)\ttotal: 3.19s\tremaining: 13.6s\n",
            "228:\tlearn: 31955.1089728\ttest: 34475.1086883\tbest: 34475.1086883 (228)\ttotal: 3.19s\tremaining: 13.6s\n",
            "229:\tlearn: 31919.5158099\ttest: 34427.0924047\tbest: 34427.0924047 (229)\ttotal: 3.2s\tremaining: 13.5s\n",
            "230:\tlearn: 31909.8741351\ttest: 34423.8613285\tbest: 34423.8613285 (230)\ttotal: 3.21s\tremaining: 13.5s\n",
            "231:\tlearn: 31885.9610560\ttest: 34407.6634188\tbest: 34407.6634188 (231)\ttotal: 3.22s\tremaining: 13.4s\n",
            "232:\tlearn: 31855.4298533\ttest: 34375.9637905\tbest: 34375.9637905 (232)\ttotal: 3.23s\tremaining: 13.4s\n",
            "233:\tlearn: 31842.1814562\ttest: 34367.4259800\tbest: 34367.4259800 (233)\ttotal: 3.24s\tremaining: 13.4s\n",
            "234:\tlearn: 31822.0238617\ttest: 34363.8628683\tbest: 34363.8628683 (234)\ttotal: 3.25s\tremaining: 13.4s\n",
            "235:\tlearn: 31797.4972387\ttest: 34349.6413572\tbest: 34349.6413572 (235)\ttotal: 3.26s\tremaining: 13.3s\n",
            "236:\tlearn: 31764.0789687\ttest: 34327.3370647\tbest: 34327.3370647 (236)\ttotal: 3.27s\tremaining: 13.3s\n",
            "237:\tlearn: 31728.8931122\ttest: 34309.3540892\tbest: 34309.3540892 (237)\ttotal: 3.28s\tremaining: 13.3s\n",
            "238:\tlearn: 31703.5783460\ttest: 34299.7549836\tbest: 34299.7549836 (238)\ttotal: 3.29s\tremaining: 13.2s\n",
            "239:\tlearn: 31689.3587601\ttest: 34288.2122729\tbest: 34288.2122729 (239)\ttotal: 3.3s\tremaining: 13.2s\n",
            "240:\tlearn: 31650.1811540\ttest: 34256.0673507\tbest: 34256.0673507 (240)\ttotal: 3.31s\tremaining: 13.2s\n",
            "241:\tlearn: 31642.5936458\ttest: 34261.2680876\tbest: 34256.0673507 (240)\ttotal: 3.32s\tremaining: 13.1s\n",
            "242:\tlearn: 31625.5471697\ttest: 34254.3113520\tbest: 34254.3113520 (242)\ttotal: 3.33s\tremaining: 13.1s\n",
            "243:\tlearn: 31601.4563658\ttest: 34227.3933967\tbest: 34227.3933967 (243)\ttotal: 3.34s\tremaining: 13.1s\n",
            "244:\tlearn: 31588.9098454\ttest: 34219.3929867\tbest: 34219.3929867 (244)\ttotal: 3.35s\tremaining: 13.1s\n",
            "245:\tlearn: 31557.9220726\ttest: 34192.1177168\tbest: 34192.1177168 (245)\ttotal: 3.36s\tremaining: 13s\n",
            "246:\tlearn: 31538.4299013\ttest: 34190.8618444\tbest: 34190.8618444 (246)\ttotal: 3.37s\tremaining: 13s\n",
            "247:\tlearn: 31521.1835163\ttest: 34183.1087737\tbest: 34183.1087737 (247)\ttotal: 3.38s\tremaining: 13s\n",
            "248:\tlearn: 31492.0158792\ttest: 34158.0001310\tbest: 34158.0001310 (248)\ttotal: 3.38s\tremaining: 12.9s\n",
            "249:\tlearn: 31472.9876765\ttest: 34144.3456469\tbest: 34144.3456469 (249)\ttotal: 3.39s\tremaining: 12.9s\n",
            "250:\tlearn: 31452.0758914\ttest: 34132.5176615\tbest: 34132.5176615 (250)\ttotal: 3.4s\tremaining: 12.9s\n",
            "251:\tlearn: 31444.1199233\ttest: 34128.2721903\tbest: 34128.2721903 (251)\ttotal: 3.41s\tremaining: 12.8s\n",
            "252:\tlearn: 31423.5426441\ttest: 34119.1992244\tbest: 34119.1992244 (252)\ttotal: 3.42s\tremaining: 12.8s\n",
            "253:\tlearn: 31403.6341818\ttest: 34114.1666661\tbest: 34114.1666661 (253)\ttotal: 3.43s\tremaining: 12.8s\n",
            "254:\tlearn: 31378.8582469\ttest: 34106.4112639\tbest: 34106.4112639 (254)\ttotal: 3.44s\tremaining: 12.8s\n",
            "255:\tlearn: 31365.1730726\ttest: 34093.9760729\tbest: 34093.9760729 (255)\ttotal: 3.45s\tremaining: 12.7s\n",
            "256:\tlearn: 31333.2097580\ttest: 34069.6533031\tbest: 34069.6533031 (256)\ttotal: 3.46s\tremaining: 12.7s\n",
            "257:\tlearn: 31322.9285788\ttest: 34060.0209596\tbest: 34060.0209596 (257)\ttotal: 3.47s\tremaining: 12.7s\n",
            "258:\tlearn: 31300.7756976\ttest: 34049.0813691\tbest: 34049.0813691 (258)\ttotal: 3.48s\tremaining: 12.7s\n",
            "259:\tlearn: 31283.0585323\ttest: 34043.3553992\tbest: 34043.3553992 (259)\ttotal: 3.5s\tremaining: 12.6s\n",
            "260:\tlearn: 31245.4840458\ttest: 34008.2354069\tbest: 34008.2354069 (260)\ttotal: 3.5s\tremaining: 12.6s\n",
            "261:\tlearn: 31234.7453928\ttest: 34003.8328496\tbest: 34003.8328496 (261)\ttotal: 3.53s\tremaining: 12.6s\n",
            "262:\tlearn: 31222.2151899\ttest: 33990.6189906\tbest: 33990.6189906 (262)\ttotal: 3.54s\tremaining: 12.6s\n",
            "263:\tlearn: 31194.3049503\ttest: 33984.8311728\tbest: 33984.8311728 (263)\ttotal: 3.54s\tremaining: 12.6s\n",
            "264:\tlearn: 31186.8617401\ttest: 33979.5294204\tbest: 33979.5294204 (264)\ttotal: 3.55s\tremaining: 12.5s\n",
            "265:\tlearn: 31172.4277346\ttest: 33976.9805580\tbest: 33976.9805580 (265)\ttotal: 3.56s\tremaining: 12.5s\n",
            "266:\tlearn: 31148.4347140\ttest: 33960.4102082\tbest: 33960.4102082 (266)\ttotal: 3.57s\tremaining: 12.5s\n",
            "267:\tlearn: 31120.4236603\ttest: 33934.1853400\tbest: 33934.1853400 (267)\ttotal: 3.58s\tremaining: 12.4s\n",
            "268:\tlearn: 31087.0914357\ttest: 33909.4155908\tbest: 33909.4155908 (268)\ttotal: 3.59s\tremaining: 12.4s\n",
            "269:\tlearn: 31072.2658120\ttest: 33901.8737039\tbest: 33901.8737039 (269)\ttotal: 3.6s\tremaining: 12.4s\n",
            "270:\tlearn: 31057.7148817\ttest: 33893.8219598\tbest: 33893.8219598 (270)\ttotal: 3.61s\tremaining: 12.4s\n",
            "271:\tlearn: 31037.9938908\ttest: 33877.1518685\tbest: 33877.1518685 (271)\ttotal: 3.62s\tremaining: 12.3s\n",
            "272:\tlearn: 31025.3158877\ttest: 33870.4194822\tbest: 33870.4194822 (272)\ttotal: 3.63s\tremaining: 12.3s\n",
            "273:\tlearn: 31003.9535821\ttest: 33846.8794092\tbest: 33846.8794092 (273)\ttotal: 3.64s\tremaining: 12.3s\n",
            "274:\tlearn: 30993.6097134\ttest: 33833.0673751\tbest: 33833.0673751 (274)\ttotal: 3.65s\tremaining: 12.3s\n",
            "275:\tlearn: 30984.5875072\ttest: 33828.4205575\tbest: 33828.4205575 (275)\ttotal: 3.66s\tremaining: 12.2s\n",
            "276:\tlearn: 30958.1973167\ttest: 33823.5871300\tbest: 33823.5871300 (276)\ttotal: 3.67s\tremaining: 12.2s\n",
            "277:\tlearn: 30940.1365838\ttest: 33813.0071997\tbest: 33813.0071997 (277)\ttotal: 3.68s\tremaining: 12.2s\n",
            "278:\tlearn: 30924.8927609\ttest: 33808.3859497\tbest: 33808.3859497 (278)\ttotal: 3.69s\tremaining: 12.2s\n",
            "279:\tlearn: 30915.9262427\ttest: 33809.4481514\tbest: 33808.3859497 (278)\ttotal: 3.7s\tremaining: 12.2s\n",
            "280:\tlearn: 30900.8690048\ttest: 33800.2776233\tbest: 33800.2776233 (280)\ttotal: 3.71s\tremaining: 12.1s\n",
            "281:\tlearn: 30885.8342075\ttest: 33783.5715813\tbest: 33783.5715813 (281)\ttotal: 3.72s\tremaining: 12.1s\n",
            "282:\tlearn: 30867.0669468\ttest: 33774.7321720\tbest: 33774.7321720 (282)\ttotal: 3.73s\tremaining: 12.1s\n",
            "283:\tlearn: 30850.9795088\ttest: 33768.8147423\tbest: 33768.8147423 (283)\ttotal: 3.74s\tremaining: 12.1s\n",
            "284:\tlearn: 30841.3564105\ttest: 33766.3448364\tbest: 33766.3448364 (284)\ttotal: 3.75s\tremaining: 12s\n",
            "285:\tlearn: 30828.8865029\ttest: 33756.7467422\tbest: 33756.7467422 (285)\ttotal: 3.76s\tremaining: 12s\n",
            "286:\tlearn: 30800.5657154\ttest: 33743.5132865\tbest: 33743.5132865 (286)\ttotal: 3.77s\tremaining: 12s\n",
            "287:\tlearn: 30781.3202032\ttest: 33731.6924133\tbest: 33731.6924133 (287)\ttotal: 3.78s\tremaining: 12s\n",
            "288:\tlearn: 30757.5008447\ttest: 33715.9171825\tbest: 33715.9171825 (288)\ttotal: 3.79s\tremaining: 11.9s\n",
            "289:\tlearn: 30748.6717771\ttest: 33716.2517338\tbest: 33715.9171825 (288)\ttotal: 3.8s\tremaining: 11.9s\n",
            "290:\tlearn: 30731.6626297\ttest: 33709.0037294\tbest: 33709.0037294 (290)\ttotal: 3.81s\tremaining: 11.9s\n",
            "291:\tlearn: 30705.5370412\ttest: 33694.6994953\tbest: 33694.6994953 (291)\ttotal: 3.83s\tremaining: 11.9s\n",
            "292:\tlearn: 30695.4839633\ttest: 33691.1603735\tbest: 33691.1603735 (292)\ttotal: 3.85s\tremaining: 11.9s\n",
            "293:\tlearn: 30670.4018513\ttest: 33662.7704381\tbest: 33662.7704381 (293)\ttotal: 3.86s\tremaining: 11.9s\n",
            "294:\tlearn: 30636.6944071\ttest: 33629.5474185\tbest: 33629.5474185 (294)\ttotal: 3.87s\tremaining: 11.9s\n",
            "295:\tlearn: 30625.1140029\ttest: 33624.6237484\tbest: 33624.6237484 (295)\ttotal: 3.88s\tremaining: 11.8s\n",
            "296:\tlearn: 30618.4678653\ttest: 33621.7982929\tbest: 33621.7982929 (296)\ttotal: 3.89s\tremaining: 11.8s\n",
            "297:\tlearn: 30605.7699268\ttest: 33612.6875922\tbest: 33612.6875922 (297)\ttotal: 3.9s\tremaining: 11.8s\n",
            "298:\tlearn: 30582.7902790\ttest: 33593.0568555\tbest: 33593.0568555 (298)\ttotal: 3.91s\tremaining: 11.8s\n",
            "299:\tlearn: 30563.8662142\ttest: 33575.2183236\tbest: 33575.2183236 (299)\ttotal: 3.92s\tremaining: 11.8s\n",
            "300:\tlearn: 30550.1011060\ttest: 33569.9038754\tbest: 33569.9038754 (300)\ttotal: 3.93s\tremaining: 11.7s\n",
            "301:\tlearn: 30531.7694490\ttest: 33561.9592624\tbest: 33561.9592624 (301)\ttotal: 3.94s\tremaining: 11.7s\n",
            "302:\tlearn: 30513.8682556\ttest: 33554.0146111\tbest: 33554.0146111 (302)\ttotal: 3.95s\tremaining: 11.7s\n",
            "303:\tlearn: 30507.5542577\ttest: 33562.8686449\tbest: 33554.0146111 (302)\ttotal: 3.96s\tremaining: 11.7s\n",
            "304:\tlearn: 30487.4092344\ttest: 33555.0930308\tbest: 33554.0146111 (302)\ttotal: 3.96s\tremaining: 11.6s\n",
            "305:\tlearn: 30463.3210496\ttest: 33539.9356840\tbest: 33539.9356840 (305)\ttotal: 3.97s\tremaining: 11.6s\n",
            "306:\tlearn: 30441.5010127\ttest: 33524.0541643\tbest: 33524.0541643 (306)\ttotal: 3.98s\tremaining: 11.6s\n",
            "307:\tlearn: 30424.7501273\ttest: 33506.6480659\tbest: 33506.6480659 (307)\ttotal: 4s\tremaining: 11.6s\n",
            "308:\tlearn: 30411.5581941\ttest: 33495.7341689\tbest: 33495.7341689 (308)\ttotal: 4.01s\tremaining: 11.6s\n",
            "309:\tlearn: 30382.4759006\ttest: 33472.7754510\tbest: 33472.7754510 (309)\ttotal: 4.02s\tremaining: 11.5s\n",
            "310:\tlearn: 30373.8944370\ttest: 33469.2436570\tbest: 33469.2436570 (310)\ttotal: 4.03s\tremaining: 11.5s\n",
            "311:\tlearn: 30359.8909241\ttest: 33469.5160029\tbest: 33469.2436570 (310)\ttotal: 4.04s\tremaining: 11.5s\n",
            "312:\tlearn: 30345.2517554\ttest: 33459.7785907\tbest: 33459.7785907 (312)\ttotal: 4.05s\tremaining: 11.5s\n",
            "313:\tlearn: 30334.0032070\ttest: 33452.8746486\tbest: 33452.8746486 (313)\ttotal: 4.06s\tremaining: 11.4s\n",
            "314:\tlearn: 30323.7964498\ttest: 33448.7004686\tbest: 33448.7004686 (314)\ttotal: 4.07s\tremaining: 11.4s\n",
            "315:\tlearn: 30311.0313564\ttest: 33433.7438431\tbest: 33433.7438431 (315)\ttotal: 4.08s\tremaining: 11.4s\n",
            "316:\tlearn: 30291.1312394\ttest: 33431.4533578\tbest: 33431.4533578 (316)\ttotal: 4.09s\tremaining: 11.4s\n",
            "317:\tlearn: 30260.7803036\ttest: 33409.3093585\tbest: 33409.3093585 (317)\ttotal: 4.11s\tremaining: 11.4s\n",
            "318:\tlearn: 30239.6989070\ttest: 33397.1275938\tbest: 33397.1275938 (318)\ttotal: 4.13s\tremaining: 11.4s\n",
            "319:\tlearn: 30213.9527846\ttest: 33373.0073247\tbest: 33373.0073247 (319)\ttotal: 4.13s\tremaining: 11.4s\n",
            "320:\tlearn: 30198.9869936\ttest: 33365.3070255\tbest: 33365.3070255 (320)\ttotal: 4.14s\tremaining: 11.3s\n",
            "321:\tlearn: 30175.3322643\ttest: 33345.9657501\tbest: 33345.9657501 (321)\ttotal: 4.15s\tremaining: 11.3s\n",
            "322:\tlearn: 30141.8841532\ttest: 33323.1571593\tbest: 33323.1571593 (322)\ttotal: 4.16s\tremaining: 11.3s\n",
            "323:\tlearn: 30120.0862405\ttest: 33307.0238409\tbest: 33307.0238409 (323)\ttotal: 4.17s\tremaining: 11.3s\n",
            "324:\tlearn: 30107.2021080\ttest: 33302.9262027\tbest: 33302.9262027 (324)\ttotal: 4.18s\tremaining: 11.3s\n",
            "325:\tlearn: 30097.4089011\ttest: 33298.2659806\tbest: 33298.2659806 (325)\ttotal: 4.19s\tremaining: 11.2s\n",
            "326:\tlearn: 30091.6665937\ttest: 33296.3317604\tbest: 33296.3317604 (326)\ttotal: 4.2s\tremaining: 11.2s\n",
            "327:\tlearn: 30077.9954914\ttest: 33290.1309049\tbest: 33290.1309049 (327)\ttotal: 4.21s\tremaining: 11.2s\n",
            "328:\tlearn: 30054.5834182\ttest: 33277.2304217\tbest: 33277.2304217 (328)\ttotal: 4.22s\tremaining: 11.2s\n",
            "329:\tlearn: 30044.6938887\ttest: 33270.5653854\tbest: 33270.5653854 (329)\ttotal: 4.23s\tremaining: 11.2s\n",
            "330:\tlearn: 30037.1253296\ttest: 33265.6918895\tbest: 33265.6918895 (330)\ttotal: 4.24s\tremaining: 11.1s\n",
            "331:\tlearn: 30022.7301600\ttest: 33258.5827243\tbest: 33258.5827243 (331)\ttotal: 4.25s\tremaining: 11.1s\n",
            "332:\tlearn: 30002.9686568\ttest: 33252.5802721\tbest: 33252.5802721 (332)\ttotal: 4.26s\tremaining: 11.1s\n",
            "333:\tlearn: 29993.9511866\ttest: 33248.9772010\tbest: 33248.9772010 (333)\ttotal: 4.28s\tremaining: 11.1s\n",
            "334:\tlearn: 29985.3389926\ttest: 33248.3517759\tbest: 33248.3517759 (334)\ttotal: 4.3s\tremaining: 11.1s\n",
            "335:\tlearn: 29968.5971975\ttest: 33235.2304945\tbest: 33235.2304945 (335)\ttotal: 4.31s\tremaining: 11.1s\n",
            "336:\tlearn: 29956.0831737\ttest: 33229.6190537\tbest: 33229.6190537 (336)\ttotal: 4.32s\tremaining: 11.1s\n",
            "337:\tlearn: 29942.3059025\ttest: 33227.2363995\tbest: 33227.2363995 (337)\ttotal: 4.33s\tremaining: 11s\n",
            "338:\tlearn: 29924.5713365\ttest: 33219.1750059\tbest: 33219.1750059 (338)\ttotal: 4.34s\tremaining: 11s\n",
            "339:\tlearn: 29905.4114711\ttest: 33207.1837265\tbest: 33207.1837265 (339)\ttotal: 4.34s\tremaining: 11s\n",
            "340:\tlearn: 29880.6947287\ttest: 33189.2694724\tbest: 33189.2694724 (340)\ttotal: 4.35s\tremaining: 11s\n",
            "341:\tlearn: 29868.3185657\ttest: 33183.9527233\tbest: 33183.9527233 (341)\ttotal: 4.36s\tremaining: 10.9s\n",
            "342:\tlearn: 29854.8263390\ttest: 33179.2050928\tbest: 33179.2050928 (342)\ttotal: 4.37s\tremaining: 10.9s\n",
            "343:\tlearn: 29843.0985741\ttest: 33166.8227987\tbest: 33166.8227987 (343)\ttotal: 4.38s\tremaining: 10.9s\n",
            "344:\tlearn: 29834.9248547\ttest: 33163.3380034\tbest: 33163.3380034 (344)\ttotal: 4.39s\tremaining: 10.9s\n",
            "345:\tlearn: 29820.8365867\ttest: 33150.0161926\tbest: 33150.0161926 (345)\ttotal: 4.4s\tremaining: 10.9s\n",
            "346:\tlearn: 29807.2353124\ttest: 33147.0052636\tbest: 33147.0052636 (346)\ttotal: 4.41s\tremaining: 10.8s\n",
            "347:\tlearn: 29798.4651501\ttest: 33143.1577074\tbest: 33143.1577074 (347)\ttotal: 4.42s\tremaining: 10.8s\n",
            "348:\tlearn: 29783.7047519\ttest: 33134.9768970\tbest: 33134.9768970 (348)\ttotal: 4.43s\tremaining: 10.8s\n",
            "349:\tlearn: 29766.0566330\ttest: 33125.4482364\tbest: 33125.4482364 (349)\ttotal: 4.44s\tremaining: 10.8s\n",
            "350:\tlearn: 29751.1442947\ttest: 33119.2490620\tbest: 33119.2490620 (350)\ttotal: 4.45s\tremaining: 10.8s\n",
            "351:\tlearn: 29733.9413061\ttest: 33107.8413070\tbest: 33107.8413070 (351)\ttotal: 4.46s\tremaining: 10.7s\n",
            "352:\tlearn: 29725.4601455\ttest: 33112.3930470\tbest: 33107.8413070 (351)\ttotal: 4.47s\tremaining: 10.7s\n",
            "353:\tlearn: 29716.2564687\ttest: 33107.3439060\tbest: 33107.3439060 (353)\ttotal: 4.48s\tremaining: 10.7s\n",
            "354:\tlearn: 29688.3221990\ttest: 33075.1033466\tbest: 33075.1033466 (354)\ttotal: 4.5s\tremaining: 10.7s\n",
            "355:\tlearn: 29656.1166284\ttest: 33049.1992098\tbest: 33049.1992098 (355)\ttotal: 4.51s\tremaining: 10.7s\n",
            "356:\tlearn: 29645.9034802\ttest: 33052.4986600\tbest: 33049.1992098 (355)\ttotal: 4.52s\tremaining: 10.7s\n",
            "357:\tlearn: 29642.5639031\ttest: 33054.5341159\tbest: 33049.1992098 (355)\ttotal: 4.53s\tremaining: 10.6s\n",
            "358:\tlearn: 29618.7145053\ttest: 33028.5949534\tbest: 33028.5949534 (358)\ttotal: 4.54s\tremaining: 10.6s\n",
            "359:\tlearn: 29599.8146159\ttest: 33021.9546043\tbest: 33021.9546043 (359)\ttotal: 4.55s\tremaining: 10.6s\n",
            "360:\tlearn: 29592.4958950\ttest: 33020.9855870\tbest: 33020.9855870 (360)\ttotal: 4.56s\tremaining: 10.6s\n",
            "361:\tlearn: 29582.0798124\ttest: 33016.0836517\tbest: 33016.0836517 (361)\ttotal: 4.57s\tremaining: 10.6s\n",
            "362:\tlearn: 29565.5641477\ttest: 32992.4476400\tbest: 32992.4476400 (362)\ttotal: 4.58s\tremaining: 10.6s\n",
            "363:\tlearn: 29560.0728333\ttest: 32990.9239124\tbest: 32990.9239124 (363)\ttotal: 4.59s\tremaining: 10.5s\n",
            "364:\tlearn: 29540.1434511\ttest: 32977.4189539\tbest: 32977.4189539 (364)\ttotal: 4.6s\tremaining: 10.5s\n",
            "365:\tlearn: 29527.0878927\ttest: 32963.1246849\tbest: 32963.1246849 (365)\ttotal: 4.61s\tremaining: 10.5s\n",
            "366:\tlearn: 29505.1913917\ttest: 32957.6303827\tbest: 32957.6303827 (366)\ttotal: 4.61s\tremaining: 10.5s\n",
            "367:\tlearn: 29492.3430952\ttest: 32953.2835873\tbest: 32953.2835873 (367)\ttotal: 4.62s\tremaining: 10.5s\n",
            "368:\tlearn: 29486.0236979\ttest: 32953.9242921\tbest: 32953.2835873 (367)\ttotal: 4.63s\tremaining: 10.4s\n",
            "369:\tlearn: 29470.2765373\ttest: 32945.6022014\tbest: 32945.6022014 (369)\ttotal: 4.64s\tremaining: 10.4s\n",
            "370:\tlearn: 29458.5143930\ttest: 32940.5586370\tbest: 32940.5586370 (370)\ttotal: 4.65s\tremaining: 10.4s\n",
            "371:\tlearn: 29452.2870233\ttest: 32936.5594239\tbest: 32936.5594239 (371)\ttotal: 4.66s\tremaining: 10.4s\n",
            "372:\tlearn: 29443.2856091\ttest: 32935.8754960\tbest: 32935.8754960 (372)\ttotal: 4.67s\tremaining: 10.4s\n",
            "373:\tlearn: 29430.8115374\ttest: 32924.3440800\tbest: 32924.3440800 (373)\ttotal: 4.68s\tremaining: 10.3s\n",
            "374:\tlearn: 29414.1979374\ttest: 32907.8929190\tbest: 32907.8929190 (374)\ttotal: 4.69s\tremaining: 10.3s\n",
            "375:\tlearn: 29397.5164004\ttest: 32894.0089887\tbest: 32894.0089887 (375)\ttotal: 4.7s\tremaining: 10.3s\n",
            "376:\tlearn: 29393.7699691\ttest: 32895.7686529\tbest: 32894.0089887 (375)\ttotal: 4.71s\tremaining: 10.3s\n",
            "377:\tlearn: 29381.5728109\ttest: 32889.1544313\tbest: 32889.1544313 (377)\ttotal: 4.72s\tremaining: 10.3s\n",
            "378:\tlearn: 29364.3639867\ttest: 32880.5777605\tbest: 32880.5777605 (378)\ttotal: 4.73s\tremaining: 10.2s\n",
            "379:\tlearn: 29359.8440865\ttest: 32881.3349857\tbest: 32880.5777605 (378)\ttotal: 4.74s\tremaining: 10.2s\n",
            "380:\tlearn: 29351.9509996\ttest: 32878.4548997\tbest: 32878.4548997 (380)\ttotal: 4.75s\tremaining: 10.2s\n",
            "381:\tlearn: 29333.2587558\ttest: 32869.6343430\tbest: 32869.6343430 (381)\ttotal: 4.75s\tremaining: 10.2s\n",
            "382:\tlearn: 29317.3268832\ttest: 32869.3843759\tbest: 32869.3843759 (382)\ttotal: 4.77s\tremaining: 10.2s\n",
            "383:\tlearn: 29310.1757220\ttest: 32867.4031015\tbest: 32867.4031015 (383)\ttotal: 4.79s\tremaining: 10.2s\n",
            "384:\tlearn: 29300.4327138\ttest: 32867.2790122\tbest: 32867.2790122 (384)\ttotal: 4.82s\tremaining: 10.2s\n",
            "385:\tlearn: 29285.3446878\ttest: 32864.0917558\tbest: 32864.0917558 (385)\ttotal: 4.84s\tremaining: 10.2s\n",
            "386:\tlearn: 29274.0943195\ttest: 32860.7405264\tbest: 32860.7405264 (386)\ttotal: 4.89s\tremaining: 10.3s\n",
            "387:\tlearn: 29264.2657887\ttest: 32858.1056905\tbest: 32858.1056905 (387)\ttotal: 4.91s\tremaining: 10.3s\n",
            "388:\tlearn: 29252.3145409\ttest: 32854.2274172\tbest: 32854.2274172 (388)\ttotal: 4.96s\tremaining: 10.3s\n",
            "389:\tlearn: 29232.6887063\ttest: 32842.0915568\tbest: 32842.0915568 (389)\ttotal: 4.98s\tremaining: 10.4s\n",
            "390:\tlearn: 29211.0004207\ttest: 32820.2798055\tbest: 32820.2798055 (390)\ttotal: 5s\tremaining: 10.4s\n",
            "391:\tlearn: 29205.3002956\ttest: 32820.9936282\tbest: 32820.2798055 (390)\ttotal: 5.02s\tremaining: 10.4s\n",
            "392:\tlearn: 29186.1751775\ttest: 32823.0744530\tbest: 32820.2798055 (390)\ttotal: 5.05s\tremaining: 10.4s\n",
            "393:\tlearn: 29181.9528868\ttest: 32824.0772364\tbest: 32820.2798055 (390)\ttotal: 5.06s\tremaining: 10.3s\n",
            "394:\tlearn: 29175.1531663\ttest: 32822.3860324\tbest: 32820.2798055 (390)\ttotal: 5.07s\tremaining: 10.3s\n",
            "395:\tlearn: 29159.5095533\ttest: 32803.6021471\tbest: 32803.6021471 (395)\ttotal: 5.09s\tremaining: 10.3s\n",
            "396:\tlearn: 29131.7610480\ttest: 32781.4470111\tbest: 32781.4470111 (396)\ttotal: 5.13s\tremaining: 10.4s\n",
            "397:\tlearn: 29121.6270559\ttest: 32775.8990217\tbest: 32775.8990217 (397)\ttotal: 5.15s\tremaining: 10.4s\n",
            "398:\tlearn: 29114.7183847\ttest: 32770.2148585\tbest: 32770.2148585 (398)\ttotal: 5.17s\tremaining: 10.4s\n",
            "399:\tlearn: 29103.8454956\ttest: 32759.3685478\tbest: 32759.3685478 (399)\ttotal: 5.2s\tremaining: 10.4s\n",
            "400:\tlearn: 29087.6952562\ttest: 32750.7350350\tbest: 32750.7350350 (400)\ttotal: 5.23s\tremaining: 10.4s\n",
            "401:\tlearn: 29076.9403243\ttest: 32744.2649409\tbest: 32744.2649409 (401)\ttotal: 5.26s\tremaining: 10.4s\n",
            "402:\tlearn: 29071.9390209\ttest: 32747.3586038\tbest: 32744.2649409 (401)\ttotal: 5.29s\tremaining: 10.5s\n",
            "403:\tlearn: 29049.3908931\ttest: 32727.0905652\tbest: 32727.0905652 (403)\ttotal: 5.31s\tremaining: 10.5s\n",
            "404:\tlearn: 29040.5289742\ttest: 32725.7521964\tbest: 32725.7521964 (404)\ttotal: 5.34s\tremaining: 10.5s\n",
            "405:\tlearn: 29027.3225793\ttest: 32719.7679238\tbest: 32719.7679238 (405)\ttotal: 5.38s\tremaining: 10.5s\n",
            "406:\tlearn: 29019.4023454\ttest: 32723.0135395\tbest: 32719.7679238 (405)\ttotal: 5.4s\tremaining: 10.5s\n",
            "407:\tlearn: 29016.7380790\ttest: 32721.0229685\tbest: 32719.7679238 (405)\ttotal: 5.42s\tremaining: 10.5s\n",
            "408:\tlearn: 28999.9336527\ttest: 32710.9777475\tbest: 32710.9777475 (408)\ttotal: 5.44s\tremaining: 10.5s\n",
            "409:\tlearn: 28983.2064421\ttest: 32704.8187829\tbest: 32704.8187829 (409)\ttotal: 5.46s\tremaining: 10.5s\n",
            "410:\tlearn: 28977.5480417\ttest: 32702.3294204\tbest: 32702.3294204 (410)\ttotal: 5.49s\tremaining: 10.5s\n",
            "411:\tlearn: 28966.5876510\ttest: 32695.4948048\tbest: 32695.4948048 (411)\ttotal: 5.51s\tremaining: 10.5s\n",
            "412:\tlearn: 28947.9206956\ttest: 32681.2584602\tbest: 32681.2584602 (412)\ttotal: 5.54s\tremaining: 10.6s\n",
            "413:\tlearn: 28917.7683694\ttest: 32653.8638694\tbest: 32653.8638694 (413)\ttotal: 5.58s\tremaining: 10.6s\n",
            "414:\tlearn: 28910.8270322\ttest: 32652.0020434\tbest: 32652.0020434 (414)\ttotal: 5.61s\tremaining: 10.6s\n",
            "415:\tlearn: 28903.2650153\ttest: 32645.5895960\tbest: 32645.5895960 (415)\ttotal: 5.63s\tremaining: 10.6s\n",
            "416:\tlearn: 28891.7272586\ttest: 32641.3840462\tbest: 32641.3840462 (416)\ttotal: 5.66s\tremaining: 10.6s\n",
            "417:\tlearn: 28878.7886570\ttest: 32628.1894459\tbest: 32628.1894459 (417)\ttotal: 5.68s\tremaining: 10.6s\n",
            "418:\tlearn: 28875.5016839\ttest: 32631.8084476\tbest: 32628.1894459 (417)\ttotal: 5.71s\tremaining: 10.6s\n",
            "419:\tlearn: 28866.5319938\ttest: 32626.5750425\tbest: 32626.5750425 (419)\ttotal: 5.73s\tremaining: 10.6s\n",
            "420:\tlearn: 28863.0360854\ttest: 32625.8480074\tbest: 32625.8480074 (420)\ttotal: 5.76s\tremaining: 10.7s\n",
            "421:\tlearn: 28856.9783381\ttest: 32624.6087792\tbest: 32624.6087792 (421)\ttotal: 5.78s\tremaining: 10.7s\n",
            "422:\tlearn: 28848.2361524\ttest: 32623.6171355\tbest: 32623.6171355 (422)\ttotal: 5.8s\tremaining: 10.7s\n",
            "423:\tlearn: 28842.4331431\ttest: 32622.5643654\tbest: 32622.5643654 (423)\ttotal: 5.83s\tremaining: 10.7s\n",
            "424:\tlearn: 28824.7560810\ttest: 32615.9170765\tbest: 32615.9170765 (424)\ttotal: 5.88s\tremaining: 10.7s\n",
            "425:\tlearn: 28813.8855307\ttest: 32613.2714870\tbest: 32613.2714870 (425)\ttotal: 5.9s\tremaining: 10.7s\n",
            "426:\tlearn: 28807.7057021\ttest: 32616.5781866\tbest: 32613.2714870 (425)\ttotal: 5.91s\tremaining: 10.7s\n",
            "427:\tlearn: 28800.0790903\ttest: 32614.1609128\tbest: 32613.2714870 (425)\ttotal: 5.92s\tremaining: 10.7s\n",
            "428:\tlearn: 28795.4143406\ttest: 32615.1910361\tbest: 32613.2714870 (425)\ttotal: 5.93s\tremaining: 10.7s\n",
            "429:\tlearn: 28783.4133899\ttest: 32601.5675686\tbest: 32601.5675686 (429)\ttotal: 5.95s\tremaining: 10.6s\n",
            "430:\tlearn: 28761.9902714\ttest: 32587.3396295\tbest: 32587.3396295 (430)\ttotal: 5.96s\tremaining: 10.6s\n",
            "431:\tlearn: 28748.4315683\ttest: 32577.2176969\tbest: 32577.2176969 (431)\ttotal: 5.98s\tremaining: 10.6s\n",
            "432:\tlearn: 28731.3604377\ttest: 32556.2499268\tbest: 32556.2499268 (432)\ttotal: 5.99s\tremaining: 10.6s\n",
            "433:\tlearn: 28719.0403823\ttest: 32547.4668132\tbest: 32547.4668132 (433)\ttotal: 6s\tremaining: 10.6s\n",
            "434:\tlearn: 28709.3585928\ttest: 32537.1105353\tbest: 32537.1105353 (434)\ttotal: 6.03s\tremaining: 10.6s\n",
            "435:\tlearn: 28702.3356611\ttest: 32537.3397203\tbest: 32537.1105353 (434)\ttotal: 6.06s\tremaining: 10.6s\n",
            "436:\tlearn: 28696.2128447\ttest: 32533.9466748\tbest: 32533.9466748 (436)\ttotal: 6.09s\tremaining: 10.6s\n",
            "437:\tlearn: 28691.4099969\ttest: 32535.9727022\tbest: 32533.9466748 (436)\ttotal: 6.12s\tremaining: 10.6s\n",
            "438:\tlearn: 28677.1561614\ttest: 32534.2107519\tbest: 32533.9466748 (436)\ttotal: 6.14s\tremaining: 10.6s\n",
            "439:\tlearn: 28669.4397629\ttest: 32530.0457858\tbest: 32530.0457858 (439)\ttotal: 6.17s\tremaining: 10.7s\n",
            "440:\tlearn: 28654.8115565\ttest: 32530.2322169\tbest: 32530.0457858 (439)\ttotal: 6.2s\tremaining: 10.7s\n",
            "441:\tlearn: 28646.4590503\ttest: 32527.2656258\tbest: 32527.2656258 (441)\ttotal: 6.23s\tremaining: 10.7s\n",
            "442:\tlearn: 28630.5399906\ttest: 32519.6927307\tbest: 32519.6927307 (442)\ttotal: 6.25s\tremaining: 10.7s\n",
            "443:\tlearn: 28619.9139171\ttest: 32512.2493118\tbest: 32512.2493118 (443)\ttotal: 6.28s\tremaining: 10.7s\n",
            "444:\tlearn: 28612.5358214\ttest: 32511.5041180\tbest: 32511.5041180 (444)\ttotal: 6.3s\tremaining: 10.7s\n",
            "445:\tlearn: 28608.8930416\ttest: 32512.9275684\tbest: 32511.5041180 (444)\ttotal: 6.33s\tremaining: 10.7s\n",
            "446:\tlearn: 28594.6375902\ttest: 32494.5200213\tbest: 32494.5200213 (446)\ttotal: 6.35s\tremaining: 10.7s\n",
            "447:\tlearn: 28585.1567373\ttest: 32492.5508586\tbest: 32492.5508586 (447)\ttotal: 6.38s\tremaining: 10.7s\n",
            "448:\tlearn: 28580.0997776\ttest: 32490.5670578\tbest: 32490.5670578 (448)\ttotal: 6.39s\tremaining: 10.7s\n",
            "449:\tlearn: 28575.7691270\ttest: 32491.1377911\tbest: 32490.5670578 (448)\ttotal: 6.4s\tremaining: 10.7s\n",
            "450:\tlearn: 28559.4046998\ttest: 32472.6707451\tbest: 32472.6707451 (450)\ttotal: 6.42s\tremaining: 10.7s\n",
            "451:\tlearn: 28550.8297171\ttest: 32467.2427214\tbest: 32467.2427214 (451)\ttotal: 6.43s\tremaining: 10.6s\n",
            "452:\tlearn: 28537.7455154\ttest: 32456.4724246\tbest: 32456.4724246 (452)\ttotal: 6.45s\tremaining: 10.6s\n",
            "453:\tlearn: 28516.0684076\ttest: 32445.3002536\tbest: 32445.3002536 (453)\ttotal: 6.46s\tremaining: 10.6s\n",
            "454:\tlearn: 28498.0796384\ttest: 32431.2546617\tbest: 32431.2546617 (454)\ttotal: 6.49s\tremaining: 10.6s\n",
            "455:\tlearn: 28488.4685725\ttest: 32429.0740087\tbest: 32429.0740087 (455)\ttotal: 6.53s\tremaining: 10.7s\n",
            "456:\tlearn: 28470.7705883\ttest: 32416.4738826\tbest: 32416.4738826 (456)\ttotal: 6.58s\tremaining: 10.7s\n",
            "457:\tlearn: 28461.1832938\ttest: 32413.6016403\tbest: 32413.6016403 (457)\ttotal: 6.63s\tremaining: 10.7s\n",
            "458:\tlearn: 28452.2232647\ttest: 32411.7812649\tbest: 32411.7812649 (458)\ttotal: 6.66s\tremaining: 10.8s\n",
            "459:\tlearn: 28445.3293644\ttest: 32408.3447481\tbest: 32408.3447481 (459)\ttotal: 6.67s\tremaining: 10.7s\n",
            "460:\tlearn: 28431.3137930\ttest: 32395.7675273\tbest: 32395.7675273 (460)\ttotal: 6.69s\tremaining: 10.7s\n",
            "461:\tlearn: 28422.0581822\ttest: 32386.0282664\tbest: 32386.0282664 (461)\ttotal: 6.74s\tremaining: 10.8s\n",
            "462:\tlearn: 28416.9621751\ttest: 32382.9872311\tbest: 32382.9872311 (462)\ttotal: 6.76s\tremaining: 10.8s\n",
            "463:\tlearn: 28403.7596432\ttest: 32377.1861187\tbest: 32377.1861187 (463)\ttotal: 6.79s\tremaining: 10.8s\n",
            "464:\tlearn: 28392.2222985\ttest: 32371.6233831\tbest: 32371.6233831 (464)\ttotal: 6.81s\tremaining: 10.8s\n",
            "465:\tlearn: 28380.3335646\ttest: 32366.4462183\tbest: 32366.4462183 (465)\ttotal: 6.87s\tremaining: 10.8s\n",
            "466:\tlearn: 28370.6575662\ttest: 32363.3604173\tbest: 32363.3604173 (466)\ttotal: 6.9s\tremaining: 10.8s\n",
            "467:\tlearn: 28365.4104076\ttest: 32361.1204809\tbest: 32361.1204809 (467)\ttotal: 6.92s\tremaining: 10.8s\n",
            "468:\tlearn: 28351.3187950\ttest: 32353.0671901\tbest: 32353.0671901 (468)\ttotal: 6.95s\tremaining: 10.8s\n",
            "469:\tlearn: 28341.4351066\ttest: 32340.2390225\tbest: 32340.2390225 (469)\ttotal: 6.97s\tremaining: 10.8s\n",
            "470:\tlearn: 28337.3160873\ttest: 32339.5213565\tbest: 32339.5213565 (470)\ttotal: 7s\tremaining: 10.8s\n",
            "471:\tlearn: 28329.6433975\ttest: 32333.7934910\tbest: 32333.7934910 (471)\ttotal: 7.04s\tremaining: 10.9s\n",
            "472:\tlearn: 28313.7762194\ttest: 32324.2812763\tbest: 32324.2812763 (472)\ttotal: 7.07s\tremaining: 10.9s\n",
            "473:\tlearn: 28304.5677621\ttest: 32317.1053786\tbest: 32317.1053786 (473)\ttotal: 7.1s\tremaining: 10.9s\n",
            "474:\tlearn: 28295.3028034\ttest: 32308.1507642\tbest: 32308.1507642 (474)\ttotal: 7.12s\tremaining: 10.9s\n",
            "475:\tlearn: 28282.6725228\ttest: 32303.0211177\tbest: 32303.0211177 (475)\ttotal: 7.14s\tremaining: 10.9s\n",
            "476:\tlearn: 28274.0540436\ttest: 32307.3071626\tbest: 32303.0211177 (475)\ttotal: 7.16s\tremaining: 10.9s\n",
            "477:\tlearn: 28241.1082249\ttest: 32280.1627778\tbest: 32280.1627778 (477)\ttotal: 7.19s\tremaining: 10.9s\n",
            "478:\tlearn: 28236.4254866\ttest: 32283.9477330\tbest: 32280.1627778 (477)\ttotal: 7.22s\tremaining: 10.9s\n",
            "479:\tlearn: 28229.7178349\ttest: 32278.3700719\tbest: 32278.3700719 (479)\ttotal: 7.25s\tremaining: 10.9s\n",
            "480:\tlearn: 28226.2554496\ttest: 32267.9585455\tbest: 32267.9585455 (480)\ttotal: 7.27s\tremaining: 10.9s\n",
            "481:\tlearn: 28213.9242912\ttest: 32260.8864961\tbest: 32260.8864961 (481)\ttotal: 7.3s\tremaining: 10.9s\n",
            "482:\tlearn: 28200.2563539\ttest: 32240.1797088\tbest: 32240.1797088 (482)\ttotal: 7.32s\tremaining: 10.9s\n",
            "483:\tlearn: 28196.2958370\ttest: 32239.1084796\tbest: 32239.1084796 (483)\ttotal: 7.33s\tremaining: 10.8s\n",
            "484:\tlearn: 28193.7319560\ttest: 32229.8693057\tbest: 32229.8693057 (484)\ttotal: 7.36s\tremaining: 10.8s\n",
            "485:\tlearn: 28181.3323117\ttest: 32226.9387670\tbest: 32226.9387670 (485)\ttotal: 7.38s\tremaining: 10.8s\n",
            "486:\tlearn: 28168.2620802\ttest: 32210.2050549\tbest: 32210.2050549 (486)\ttotal: 7.42s\tremaining: 10.9s\n",
            "487:\tlearn: 28158.5065434\ttest: 32198.9248231\tbest: 32198.9248231 (487)\ttotal: 7.44s\tremaining: 10.9s\n",
            "488:\tlearn: 28147.1530345\ttest: 32197.7357687\tbest: 32197.7357687 (488)\ttotal: 7.46s\tremaining: 10.8s\n",
            "489:\tlearn: 28132.0010457\ttest: 32196.1530837\tbest: 32196.1530837 (489)\ttotal: 7.48s\tremaining: 10.8s\n",
            "490:\tlearn: 28118.9120469\ttest: 32183.7897156\tbest: 32183.7897156 (490)\ttotal: 7.51s\tremaining: 10.8s\n",
            "491:\tlearn: 28097.7640475\ttest: 32167.2645694\tbest: 32167.2645694 (491)\ttotal: 7.54s\tremaining: 10.8s\n",
            "492:\tlearn: 28078.4490220\ttest: 32151.1284134\tbest: 32151.1284134 (492)\ttotal: 7.56s\tremaining: 10.8s\n",
            "493:\tlearn: 28070.4370319\ttest: 32150.6334075\tbest: 32150.6334075 (493)\ttotal: 7.58s\tremaining: 10.8s\n",
            "494:\tlearn: 28061.0582861\ttest: 32149.6017500\tbest: 32149.6017500 (494)\ttotal: 7.62s\tremaining: 10.8s\n",
            "495:\tlearn: 28042.5385998\ttest: 32139.9288642\tbest: 32139.9288642 (495)\ttotal: 7.68s\tremaining: 10.9s\n",
            "496:\tlearn: 28031.3652755\ttest: 32132.5472408\tbest: 32132.5472408 (496)\ttotal: 7.7s\tremaining: 10.9s\n",
            "497:\tlearn: 28029.2941588\ttest: 32133.2798622\tbest: 32132.5472408 (496)\ttotal: 7.76s\tremaining: 10.9s\n",
            "498:\tlearn: 28018.4729849\ttest: 32131.7367047\tbest: 32131.7367047 (498)\ttotal: 7.78s\tremaining: 10.9s\n",
            "499:\tlearn: 28007.2590665\ttest: 32120.7614037\tbest: 32120.7614037 (499)\ttotal: 7.81s\tremaining: 10.9s\n",
            "500:\tlearn: 28000.2690389\ttest: 32120.9395728\tbest: 32120.7614037 (499)\ttotal: 7.85s\tremaining: 10.9s\n",
            "501:\tlearn: 27990.9832684\ttest: 32115.8224519\tbest: 32115.8224519 (501)\ttotal: 7.89s\tremaining: 11s\n",
            "502:\tlearn: 27986.9503868\ttest: 32113.0461029\tbest: 32113.0461029 (502)\ttotal: 7.94s\tremaining: 11s\n",
            "503:\tlearn: 27986.7418034\ttest: 32113.8392416\tbest: 32113.0461029 (502)\ttotal: 7.95s\tremaining: 11s\n",
            "504:\tlearn: 27977.5220806\ttest: 32103.4171286\tbest: 32103.4171286 (504)\ttotal: 7.98s\tremaining: 11s\n",
            "505:\tlearn: 27954.8707575\ttest: 32091.9961939\tbest: 32091.9961939 (505)\ttotal: 8.02s\tremaining: 11s\n",
            "506:\tlearn: 27949.8521040\ttest: 32093.8564608\tbest: 32091.9961939 (505)\ttotal: 8.07s\tremaining: 11s\n",
            "507:\tlearn: 27938.0766767\ttest: 32088.9975549\tbest: 32088.9975549 (507)\ttotal: 8.08s\tremaining: 11s\n",
            "508:\tlearn: 27932.3888917\ttest: 32088.4056040\tbest: 32088.4056040 (508)\ttotal: 8.1s\tremaining: 11s\n",
            "509:\tlearn: 27915.6385637\ttest: 32076.4836068\tbest: 32076.4836068 (509)\ttotal: 8.11s\tremaining: 11s\n",
            "510:\tlearn: 27906.7649959\ttest: 32071.8701699\tbest: 32071.8701699 (510)\ttotal: 8.12s\tremaining: 11s\n",
            "511:\tlearn: 27877.3345413\ttest: 32046.6917175\tbest: 32046.6917175 (511)\ttotal: 8.15s\tremaining: 11s\n",
            "512:\tlearn: 27864.8522146\ttest: 32043.3821031\tbest: 32043.3821031 (512)\ttotal: 8.17s\tremaining: 10.9s\n",
            "513:\tlearn: 27857.5819643\ttest: 32040.4904800\tbest: 32040.4904800 (513)\ttotal: 8.19s\tremaining: 10.9s\n",
            "514:\tlearn: 27848.0512963\ttest: 32032.0025298\tbest: 32032.0025298 (514)\ttotal: 8.2s\tremaining: 10.9s\n",
            "515:\tlearn: 27837.3207221\ttest: 32025.6434273\tbest: 32025.6434273 (515)\ttotal: 8.22s\tremaining: 10.9s\n",
            "516:\tlearn: 27823.2878793\ttest: 32023.3455724\tbest: 32023.3455724 (516)\ttotal: 8.23s\tremaining: 10.9s\n",
            "517:\tlearn: 27802.8202365\ttest: 32011.2090085\tbest: 32011.2090085 (517)\ttotal: 8.24s\tremaining: 10.9s\n",
            "518:\tlearn: 27791.7813209\ttest: 32009.5161699\tbest: 32009.5161699 (518)\ttotal: 8.26s\tremaining: 10.8s\n",
            "519:\tlearn: 27786.3057687\ttest: 32006.6030515\tbest: 32006.6030515 (519)\ttotal: 8.29s\tremaining: 10.8s\n",
            "520:\tlearn: 27778.9126234\ttest: 32004.5621825\tbest: 32004.5621825 (520)\ttotal: 8.32s\tremaining: 10.8s\n",
            "521:\tlearn: 27762.8819966\ttest: 31997.5239843\tbest: 31997.5239843 (521)\ttotal: 8.33s\tremaining: 10.8s\n",
            "522:\tlearn: 27753.5494230\ttest: 31989.3645194\tbest: 31989.3645194 (522)\ttotal: 8.35s\tremaining: 10.8s\n",
            "523:\tlearn: 27742.5822351\ttest: 31988.7673688\tbest: 31988.7673688 (523)\ttotal: 8.37s\tremaining: 10.8s\n",
            "524:\tlearn: 27738.2568976\ttest: 31986.7710562\tbest: 31986.7710562 (524)\ttotal: 8.39s\tremaining: 10.8s\n",
            "525:\tlearn: 27724.8268389\ttest: 31983.8335093\tbest: 31983.8335093 (525)\ttotal: 8.41s\tremaining: 10.8s\n",
            "526:\tlearn: 27711.1822641\ttest: 31977.1928491\tbest: 31977.1928491 (526)\ttotal: 8.43s\tremaining: 10.8s\n",
            "527:\tlearn: 27704.0908938\ttest: 31971.2088022\tbest: 31971.2088022 (527)\ttotal: 8.44s\tremaining: 10.7s\n",
            "528:\tlearn: 27697.5820806\ttest: 31972.6269272\tbest: 31971.2088022 (527)\ttotal: 8.45s\tremaining: 10.7s\n",
            "529:\tlearn: 27681.6754055\ttest: 31955.9149326\tbest: 31955.9149326 (529)\ttotal: 8.46s\tremaining: 10.7s\n",
            "530:\tlearn: 27672.8409282\ttest: 31949.9303139\tbest: 31949.9303139 (530)\ttotal: 8.47s\tremaining: 10.7s\n",
            "531:\tlearn: 27665.4640095\ttest: 31945.3937010\tbest: 31945.3937010 (531)\ttotal: 8.49s\tremaining: 10.7s\n",
            "532:\tlearn: 27647.5118907\ttest: 31931.6954763\tbest: 31931.6954763 (532)\ttotal: 8.51s\tremaining: 10.7s\n",
            "533:\tlearn: 27638.7319203\ttest: 31929.2624302\tbest: 31929.2624302 (533)\ttotal: 8.54s\tremaining: 10.7s\n",
            "534:\tlearn: 27630.4963022\ttest: 31924.7015526\tbest: 31924.7015526 (534)\ttotal: 8.57s\tremaining: 10.6s\n",
            "535:\tlearn: 27626.0849976\ttest: 31923.6930871\tbest: 31923.6930871 (535)\ttotal: 8.58s\tremaining: 10.6s\n",
            "536:\tlearn: 27610.6367374\ttest: 31922.1584018\tbest: 31922.1584018 (536)\ttotal: 8.61s\tremaining: 10.6s\n",
            "537:\tlearn: 27603.4243684\ttest: 31918.0064380\tbest: 31918.0064380 (537)\ttotal: 8.64s\tremaining: 10.6s\n",
            "538:\tlearn: 27594.3926104\ttest: 31914.2113511\tbest: 31914.2113511 (538)\ttotal: 8.67s\tremaining: 10.6s\n",
            "539:\tlearn: 27588.4456571\ttest: 31916.2165958\tbest: 31914.2113511 (538)\ttotal: 8.69s\tremaining: 10.6s\n",
            "540:\tlearn: 27580.3961122\ttest: 31914.4709225\tbest: 31914.2113511 (538)\ttotal: 8.73s\tremaining: 10.6s\n",
            "541:\tlearn: 27569.6797523\ttest: 31902.0577787\tbest: 31902.0577787 (541)\ttotal: 8.75s\tremaining: 10.6s\n",
            "542:\tlearn: 27553.7434935\ttest: 31894.3532813\tbest: 31894.3532813 (542)\ttotal: 8.77s\tremaining: 10.6s\n",
            "543:\tlearn: 27547.0032191\ttest: 31895.1870023\tbest: 31894.3532813 (542)\ttotal: 8.8s\tremaining: 10.6s\n",
            "544:\tlearn: 27535.9733241\ttest: 31887.0226245\tbest: 31887.0226245 (544)\ttotal: 8.82s\tremaining: 10.6s\n",
            "545:\tlearn: 27525.0312580\ttest: 31883.2883589\tbest: 31883.2883589 (545)\ttotal: 8.84s\tremaining: 10.6s\n",
            "546:\tlearn: 27512.9878592\ttest: 31880.8579918\tbest: 31880.8579918 (546)\ttotal: 8.88s\tremaining: 10.6s\n",
            "547:\tlearn: 27505.1763009\ttest: 31875.0352363\tbest: 31875.0352363 (547)\ttotal: 8.93s\tremaining: 10.6s\n",
            "548:\tlearn: 27494.9281366\ttest: 31862.8365017\tbest: 31862.8365017 (548)\ttotal: 8.96s\tremaining: 10.6s\n",
            "549:\tlearn: 27488.0479936\ttest: 31865.1873072\tbest: 31862.8365017 (548)\ttotal: 8.98s\tremaining: 10.6s\n",
            "550:\tlearn: 27482.5192821\ttest: 31861.2648270\tbest: 31861.2648270 (550)\ttotal: 9.02s\tremaining: 10.6s\n",
            "551:\tlearn: 27474.2023590\ttest: 31854.6555649\tbest: 31854.6555649 (551)\ttotal: 9.1s\tremaining: 10.7s\n",
            "552:\tlearn: 27466.8459600\ttest: 31853.8442816\tbest: 31853.8442816 (552)\ttotal: 9.11s\tremaining: 10.7s\n",
            "553:\tlearn: 27457.2885263\ttest: 31847.1095704\tbest: 31847.1095704 (553)\ttotal: 9.12s\tremaining: 10.6s\n",
            "554:\tlearn: 27440.6125576\ttest: 31836.8569977\tbest: 31836.8569977 (554)\ttotal: 9.16s\tremaining: 10.6s\n",
            "555:\tlearn: 27427.4774008\ttest: 31827.8684260\tbest: 31827.8684260 (555)\ttotal: 9.19s\tremaining: 10.6s\n",
            "556:\tlearn: 27422.7346932\ttest: 31826.9098027\tbest: 31826.9098027 (556)\ttotal: 9.23s\tremaining: 10.7s\n",
            "557:\tlearn: 27417.7330110\ttest: 31828.3862866\tbest: 31826.9098027 (556)\ttotal: 9.26s\tremaining: 10.7s\n",
            "558:\tlearn: 27412.2149158\ttest: 31826.1322442\tbest: 31826.1322442 (558)\ttotal: 9.28s\tremaining: 10.6s\n",
            "559:\tlearn: 27401.6048040\ttest: 31817.5893060\tbest: 31817.5893060 (559)\ttotal: 9.29s\tremaining: 10.6s\n",
            "560:\tlearn: 27390.0998601\ttest: 31804.3373919\tbest: 31804.3373919 (560)\ttotal: 9.33s\tremaining: 10.6s\n",
            "561:\tlearn: 27385.4818965\ttest: 31803.4560120\tbest: 31803.4560120 (561)\ttotal: 9.34s\tremaining: 10.6s\n",
            "562:\tlearn: 27379.9062973\ttest: 31802.6444788\tbest: 31802.6444788 (562)\ttotal: 9.38s\tremaining: 10.6s\n",
            "563:\tlearn: 27374.5732722\ttest: 31797.1884611\tbest: 31797.1884611 (563)\ttotal: 9.41s\tremaining: 10.6s\n",
            "564:\tlearn: 27363.0734079\ttest: 31794.8405404\tbest: 31794.8405404 (564)\ttotal: 9.43s\tremaining: 10.6s\n",
            "565:\tlearn: 27356.0434517\ttest: 31792.4051939\tbest: 31792.4051939 (565)\ttotal: 9.44s\tremaining: 10.6s\n",
            "566:\tlearn: 27345.2022711\ttest: 31784.8300710\tbest: 31784.8300710 (566)\ttotal: 9.45s\tremaining: 10.6s\n",
            "567:\tlearn: 27338.9853818\ttest: 31782.7482159\tbest: 31782.7482159 (567)\ttotal: 9.46s\tremaining: 10.5s\n",
            "568:\tlearn: 27336.4295361\ttest: 31780.4316747\tbest: 31780.4316747 (568)\ttotal: 9.47s\tremaining: 10.5s\n",
            "569:\tlearn: 27329.7621572\ttest: 31782.2103063\tbest: 31780.4316747 (568)\ttotal: 9.48s\tremaining: 10.5s\n",
            "570:\tlearn: 27323.9078165\ttest: 31778.1325188\tbest: 31778.1325188 (570)\ttotal: 9.5s\tremaining: 10.5s\n",
            "571:\tlearn: 27313.7993975\ttest: 31775.4174298\tbest: 31775.4174298 (571)\ttotal: 9.51s\tremaining: 10.4s\n",
            "572:\tlearn: 27303.8758411\ttest: 31769.2712590\tbest: 31769.2712590 (572)\ttotal: 9.52s\tremaining: 10.4s\n",
            "573:\tlearn: 27297.7917706\ttest: 31765.9842664\tbest: 31765.9842664 (573)\ttotal: 9.53s\tremaining: 10.4s\n",
            "574:\tlearn: 27290.7931912\ttest: 31767.3071536\tbest: 31765.9842664 (573)\ttotal: 9.54s\tremaining: 10.4s\n",
            "575:\tlearn: 27279.1486488\ttest: 31762.4564386\tbest: 31762.4564386 (575)\ttotal: 9.56s\tremaining: 10.4s\n",
            "576:\tlearn: 27271.5469347\ttest: 31764.4540327\tbest: 31762.4564386 (575)\ttotal: 9.57s\tremaining: 10.3s\n",
            "577:\tlearn: 27264.6697943\ttest: 31758.0789646\tbest: 31758.0789646 (577)\ttotal: 9.6s\tremaining: 10.3s\n",
            "578:\tlearn: 27259.1393997\ttest: 31757.3880133\tbest: 31757.3880133 (578)\ttotal: 9.63s\tremaining: 10.3s\n",
            "579:\tlearn: 27246.6433387\ttest: 31751.1246950\tbest: 31751.1246950 (579)\ttotal: 9.65s\tremaining: 10.3s\n",
            "580:\tlearn: 27241.9960501\ttest: 31753.7333369\tbest: 31751.1246950 (579)\ttotal: 9.67s\tremaining: 10.3s\n",
            "581:\tlearn: 27237.7702463\ttest: 31753.7344273\tbest: 31751.1246950 (579)\ttotal: 9.7s\tremaining: 10.3s\n",
            "582:\tlearn: 27230.5250949\ttest: 31754.5551187\tbest: 31751.1246950 (579)\ttotal: 9.72s\tremaining: 10.3s\n",
            "583:\tlearn: 27220.9616094\ttest: 31750.4050380\tbest: 31750.4050380 (583)\ttotal: 9.76s\tremaining: 10.3s\n",
            "584:\tlearn: 27215.9918083\ttest: 31752.8902451\tbest: 31750.4050380 (583)\ttotal: 9.8s\tremaining: 10.3s\n",
            "585:\tlearn: 27204.1087259\ttest: 31748.4905632\tbest: 31748.4905632 (585)\ttotal: 9.83s\tremaining: 10.3s\n",
            "586:\tlearn: 27202.6644428\ttest: 31747.7208456\tbest: 31747.7208456 (586)\ttotal: 9.85s\tremaining: 10.3s\n",
            "587:\tlearn: 27197.6572723\ttest: 31745.2983248\tbest: 31745.2983248 (587)\ttotal: 9.88s\tremaining: 10.3s\n",
            "588:\tlearn: 27190.5852849\ttest: 31747.2664530\tbest: 31745.2983248 (587)\ttotal: 9.9s\tremaining: 10.3s\n",
            "589:\tlearn: 27184.1086128\ttest: 31743.8960765\tbest: 31743.8960765 (589)\ttotal: 9.96s\tremaining: 10.3s\n",
            "590:\tlearn: 27167.0504174\ttest: 31732.1683541\tbest: 31732.1683541 (590)\ttotal: 9.98s\tremaining: 10.3s\n",
            "591:\tlearn: 27163.1109653\ttest: 31730.9576945\tbest: 31730.9576945 (591)\ttotal: 10s\tremaining: 10.3s\n",
            "592:\tlearn: 27156.8462986\ttest: 31729.3805402\tbest: 31729.3805402 (592)\ttotal: 10s\tremaining: 10.3s\n",
            "593:\tlearn: 27149.3016841\ttest: 31728.2892612\tbest: 31728.2892612 (593)\ttotal: 10.1s\tremaining: 10.3s\n",
            "594:\tlearn: 27146.7127340\ttest: 31729.0592487\tbest: 31728.2892612 (593)\ttotal: 10.1s\tremaining: 10.3s\n",
            "595:\tlearn: 27135.5458882\ttest: 31721.1941400\tbest: 31721.1941400 (595)\ttotal: 10.1s\tremaining: 10.2s\n",
            "596:\tlearn: 27132.1534733\ttest: 31722.8035445\tbest: 31721.1941400 (595)\ttotal: 10.1s\tremaining: 10.2s\n",
            "597:\tlearn: 27127.4893686\ttest: 31721.6640757\tbest: 31721.1941400 (595)\ttotal: 10.1s\tremaining: 10.2s\n",
            "598:\tlearn: 27115.7884984\ttest: 31718.2432113\tbest: 31718.2432113 (598)\ttotal: 10.2s\tremaining: 10.2s\n",
            "599:\tlearn: 27105.5451372\ttest: 31721.4914203\tbest: 31718.2432113 (598)\ttotal: 10.2s\tremaining: 10.2s\n",
            "600:\tlearn: 27091.7530975\ttest: 31708.4834803\tbest: 31708.4834803 (600)\ttotal: 10.2s\tremaining: 10.2s\n",
            "601:\tlearn: 27084.8047957\ttest: 31705.1696119\tbest: 31705.1696119 (601)\ttotal: 10.3s\tremaining: 10.2s\n",
            "602:\tlearn: 27078.2243205\ttest: 31702.7996292\tbest: 31702.7996292 (602)\ttotal: 10.3s\tremaining: 10.2s\n",
            "603:\tlearn: 27069.3351604\ttest: 31705.3754785\tbest: 31702.7996292 (602)\ttotal: 10.4s\tremaining: 10.2s\n",
            "604:\tlearn: 27063.9699963\ttest: 31706.9809867\tbest: 31702.7996292 (602)\ttotal: 10.4s\tremaining: 10.2s\n",
            "605:\tlearn: 27057.6418763\ttest: 31705.2015914\tbest: 31702.7996292 (602)\ttotal: 10.4s\tremaining: 10.2s\n",
            "606:\tlearn: 27051.1773387\ttest: 31705.0020550\tbest: 31702.7996292 (602)\ttotal: 10.4s\tremaining: 10.2s\n",
            "607:\tlearn: 27045.4213062\ttest: 31702.5930363\tbest: 31702.5930363 (607)\ttotal: 10.5s\tremaining: 10.2s\n",
            "608:\tlearn: 27030.4166709\ttest: 31696.2827870\tbest: 31696.2827870 (608)\ttotal: 10.5s\tremaining: 10.2s\n",
            "609:\tlearn: 27023.1150615\ttest: 31695.4464031\tbest: 31695.4464031 (609)\ttotal: 10.5s\tremaining: 10.2s\n",
            "610:\tlearn: 27015.9242497\ttest: 31691.6275634\tbest: 31691.6275634 (610)\ttotal: 10.6s\tremaining: 10.2s\n",
            "611:\tlearn: 27003.3036848\ttest: 31684.5183932\tbest: 31684.5183932 (611)\ttotal: 10.6s\tremaining: 10.2s\n",
            "612:\tlearn: 26994.7845074\ttest: 31680.4026175\tbest: 31680.4026175 (612)\ttotal: 10.6s\tremaining: 10.1s\n",
            "613:\tlearn: 26988.1537803\ttest: 31679.4829291\tbest: 31679.4829291 (613)\ttotal: 10.6s\tremaining: 10.1s\n",
            "614:\tlearn: 26973.8710382\ttest: 31674.4597195\tbest: 31674.4597195 (614)\ttotal: 10.6s\tremaining: 10.1s\n",
            "615:\tlearn: 26969.4999416\ttest: 31671.0525221\tbest: 31671.0525221 (615)\ttotal: 10.7s\tremaining: 10.1s\n",
            "616:\tlearn: 26963.3099750\ttest: 31664.1053500\tbest: 31664.1053500 (616)\ttotal: 10.7s\tremaining: 10.1s\n",
            "617:\tlearn: 26952.8621213\ttest: 31658.1566455\tbest: 31658.1566455 (617)\ttotal: 10.7s\tremaining: 10.1s\n",
            "618:\tlearn: 26940.5190040\ttest: 31653.3299692\tbest: 31653.3299692 (618)\ttotal: 10.8s\tremaining: 10.1s\n",
            "619:\tlearn: 26932.1475397\ttest: 31651.6195266\tbest: 31651.6195266 (619)\ttotal: 10.8s\tremaining: 10.1s\n",
            "620:\tlearn: 26924.6723667\ttest: 31651.2141305\tbest: 31651.2141305 (620)\ttotal: 10.8s\tremaining: 10.1s\n",
            "621:\tlearn: 26917.0758492\ttest: 31646.2772865\tbest: 31646.2772865 (621)\ttotal: 10.8s\tremaining: 10.1s\n",
            "622:\tlearn: 26903.8939095\ttest: 31639.5712503\tbest: 31639.5712503 (622)\ttotal: 10.8s\tremaining: 10s\n",
            "623:\tlearn: 26897.5829027\ttest: 31636.0156753\tbest: 31636.0156753 (623)\ttotal: 10.9s\tremaining: 10s\n",
            "624:\tlearn: 26875.1429151\ttest: 31621.6038848\tbest: 31621.6038848 (624)\ttotal: 10.9s\tremaining: 10s\n",
            "625:\tlearn: 26863.3875993\ttest: 31621.7078789\tbest: 31621.6038848 (624)\ttotal: 10.9s\tremaining: 10s\n",
            "626:\tlearn: 26849.6076139\ttest: 31619.1841267\tbest: 31619.1841267 (626)\ttotal: 10.9s\tremaining: 9.98s\n",
            "627:\tlearn: 26841.1345304\ttest: 31618.3823050\tbest: 31618.3823050 (627)\ttotal: 11.1s\tremaining: 10.1s\n",
            "628:\tlearn: 26834.7741722\ttest: 31617.5187930\tbest: 31617.5187930 (628)\ttotal: 11.1s\tremaining: 10.1s\n",
            "629:\tlearn: 26830.3891662\ttest: 31616.2431936\tbest: 31616.2431936 (629)\ttotal: 11.2s\tremaining: 10.1s\n",
            "630:\tlearn: 26827.0316413\ttest: 31617.8023446\tbest: 31616.2431936 (629)\ttotal: 11.2s\tremaining: 10.1s\n",
            "631:\tlearn: 26822.7957011\ttest: 31617.8201211\tbest: 31616.2431936 (629)\ttotal: 11.2s\tremaining: 10.1s\n",
            "632:\tlearn: 26814.9200995\ttest: 31612.8185100\tbest: 31612.8185100 (632)\ttotal: 11.2s\tremaining: 10.1s\n",
            "633:\tlearn: 26807.4937821\ttest: 31608.1953962\tbest: 31608.1953962 (633)\ttotal: 11.2s\tremaining: 10s\n",
            "634:\tlearn: 26800.0867866\ttest: 31606.2277269\tbest: 31606.2277269 (634)\ttotal: 11.3s\tremaining: 10s\n",
            "635:\tlearn: 26793.5363870\ttest: 31603.9892105\tbest: 31603.9892105 (635)\ttotal: 11.3s\tremaining: 10s\n",
            "636:\tlearn: 26782.6442987\ttest: 31600.9820432\tbest: 31600.9820432 (636)\ttotal: 11.3s\tremaining: 10s\n",
            "637:\tlearn: 26770.9561768\ttest: 31590.3282280\tbest: 31590.3282280 (637)\ttotal: 11.3s\tremaining: 9.99s\n",
            "638:\tlearn: 26768.6028592\ttest: 31589.8910709\tbest: 31589.8910709 (638)\ttotal: 11.4s\tremaining: 9.98s\n",
            "639:\tlearn: 26753.2452489\ttest: 31585.7724585\tbest: 31585.7724585 (639)\ttotal: 11.4s\tremaining: 9.96s\n",
            "640:\tlearn: 26746.9565187\ttest: 31585.1812447\tbest: 31585.1812447 (640)\ttotal: 11.4s\tremaining: 9.96s\n",
            "641:\tlearn: 26738.0327808\ttest: 31588.4170402\tbest: 31585.1812447 (640)\ttotal: 11.4s\tremaining: 9.95s\n",
            "642:\tlearn: 26730.8133562\ttest: 31577.4279397\tbest: 31577.4279397 (642)\ttotal: 11.5s\tremaining: 9.94s\n",
            "643:\tlearn: 26725.3474357\ttest: 31578.3864495\tbest: 31577.4279397 (642)\ttotal: 11.5s\tremaining: 9.93s\n",
            "644:\tlearn: 26716.1275238\ttest: 31576.2089859\tbest: 31576.2089859 (644)\ttotal: 11.5s\tremaining: 9.91s\n",
            "645:\tlearn: 26707.9231816\ttest: 31575.3629321\tbest: 31575.3629321 (645)\ttotal: 11.5s\tremaining: 9.89s\n",
            "646:\tlearn: 26696.5530436\ttest: 31567.3782153\tbest: 31567.3782153 (646)\ttotal: 11.6s\tremaining: 9.88s\n",
            "647:\tlearn: 26683.5993486\ttest: 31561.7642087\tbest: 31561.7642087 (647)\ttotal: 11.6s\tremaining: 9.87s\n",
            "648:\tlearn: 26674.5932650\ttest: 31556.7969691\tbest: 31556.7969691 (648)\ttotal: 11.6s\tremaining: 9.86s\n",
            "649:\tlearn: 26671.3928803\ttest: 31554.7754373\tbest: 31554.7754373 (649)\ttotal: 11.6s\tremaining: 9.85s\n",
            "650:\tlearn: 26664.9831244\ttest: 31548.4902025\tbest: 31548.4902025 (650)\ttotal: 11.7s\tremaining: 9.85s\n",
            "651:\tlearn: 26659.6849541\ttest: 31544.9617855\tbest: 31544.9617855 (651)\ttotal: 11.7s\tremaining: 9.85s\n",
            "652:\tlearn: 26651.9245712\ttest: 31537.9630993\tbest: 31537.9630993 (652)\ttotal: 11.8s\tremaining: 9.85s\n",
            "653:\tlearn: 26642.6045446\ttest: 31534.3965932\tbest: 31534.3965932 (653)\ttotal: 11.8s\tremaining: 9.84s\n",
            "654:\tlearn: 26637.5405776\ttest: 31532.1859809\tbest: 31532.1859809 (654)\ttotal: 11.8s\tremaining: 9.84s\n",
            "655:\tlearn: 26628.9298022\ttest: 31530.6547634\tbest: 31530.6547634 (655)\ttotal: 11.9s\tremaining: 9.85s\n",
            "656:\tlearn: 26623.3563283\ttest: 31527.3137562\tbest: 31527.3137562 (656)\ttotal: 11.9s\tremaining: 9.85s\n",
            "657:\tlearn: 26615.0026594\ttest: 31523.9489084\tbest: 31523.9489084 (657)\ttotal: 11.9s\tremaining: 9.84s\n",
            "658:\tlearn: 26611.5277225\ttest: 31525.6687362\tbest: 31523.9489084 (657)\ttotal: 12s\tremaining: 9.82s\n",
            "659:\tlearn: 26600.8266194\ttest: 31524.3591604\tbest: 31523.9489084 (657)\ttotal: 12s\tremaining: 9.8s\n",
            "660:\tlearn: 26595.5026358\ttest: 31523.4595263\tbest: 31523.4595263 (660)\ttotal: 12s\tremaining: 9.79s\n",
            "661:\tlearn: 26591.3377922\ttest: 31521.9705862\tbest: 31521.9705862 (661)\ttotal: 12s\tremaining: 9.78s\n",
            "662:\tlearn: 26585.4275407\ttest: 31519.1219785\tbest: 31519.1219785 (662)\ttotal: 12.1s\tremaining: 9.76s\n",
            "663:\tlearn: 26576.5781775\ttest: 31521.8829577\tbest: 31519.1219785 (662)\ttotal: 12.1s\tremaining: 9.77s\n",
            "664:\tlearn: 26560.8317973\ttest: 31510.2391847\tbest: 31510.2391847 (664)\ttotal: 12.2s\tremaining: 9.79s\n",
            "665:\tlearn: 26555.6589318\ttest: 31506.7666838\tbest: 31506.7666838 (665)\ttotal: 12.2s\tremaining: 9.8s\n",
            "666:\tlearn: 26550.1494599\ttest: 31500.4600345\tbest: 31500.4600345 (666)\ttotal: 12.2s\tremaining: 9.78s\n",
            "667:\tlearn: 26541.8870237\ttest: 31496.5396682\tbest: 31496.5396682 (667)\ttotal: 12.3s\tremaining: 9.76s\n",
            "668:\tlearn: 26532.5809754\ttest: 31488.7620572\tbest: 31488.7620572 (668)\ttotal: 12.3s\tremaining: 9.74s\n",
            "669:\tlearn: 26524.2447881\ttest: 31487.0437509\tbest: 31487.0437509 (669)\ttotal: 12.3s\tremaining: 9.72s\n",
            "670:\tlearn: 26515.1847865\ttest: 31485.5458984\tbest: 31485.5458984 (670)\ttotal: 12.3s\tremaining: 9.71s\n",
            "671:\tlearn: 26504.6477454\ttest: 31478.1218383\tbest: 31478.1218383 (671)\ttotal: 12.4s\tremaining: 9.71s\n",
            "672:\tlearn: 26496.6698213\ttest: 31474.4728500\tbest: 31474.4728500 (672)\ttotal: 12.4s\tremaining: 9.72s\n",
            "673:\tlearn: 26491.2108063\ttest: 31471.6237829\tbest: 31471.6237829 (673)\ttotal: 12.5s\tremaining: 9.72s\n",
            "674:\tlearn: 26481.5420705\ttest: 31471.6660536\tbest: 31471.6237829 (673)\ttotal: 12.5s\tremaining: 9.71s\n",
            "675:\tlearn: 26474.6376654\ttest: 31471.8909680\tbest: 31471.6237829 (673)\ttotal: 12.5s\tremaining: 9.7s\n",
            "676:\tlearn: 26467.6963609\ttest: 31468.3793912\tbest: 31468.3793912 (676)\ttotal: 12.5s\tremaining: 9.68s\n",
            "677:\tlearn: 26454.6463444\ttest: 31464.7313437\tbest: 31464.7313437 (677)\ttotal: 12.6s\tremaining: 9.68s\n",
            "678:\tlearn: 26444.5477140\ttest: 31461.8721161\tbest: 31461.8721161 (678)\ttotal: 12.6s\tremaining: 9.66s\n",
            "679:\tlearn: 26434.9008868\ttest: 31456.2604665\tbest: 31456.2604665 (679)\ttotal: 12.6s\tremaining: 9.65s\n",
            "680:\tlearn: 26430.0735749\ttest: 31454.5448922\tbest: 31454.5448922 (680)\ttotal: 12.6s\tremaining: 9.64s\n",
            "681:\tlearn: 26419.3652283\ttest: 31445.3733064\tbest: 31445.3733064 (681)\ttotal: 12.7s\tremaining: 9.63s\n",
            "682:\tlearn: 26411.0811836\ttest: 31434.0008917\tbest: 31434.0008917 (682)\ttotal: 12.7s\tremaining: 9.62s\n",
            "683:\tlearn: 26404.6472906\ttest: 31435.8332578\tbest: 31434.0008917 (682)\ttotal: 12.7s\tremaining: 9.6s\n",
            "684:\tlearn: 26399.0868535\ttest: 31432.4044350\tbest: 31432.4044350 (684)\ttotal: 12.7s\tremaining: 9.58s\n",
            "685:\tlearn: 26388.2909950\ttest: 31436.8036255\tbest: 31432.4044350 (684)\ttotal: 12.8s\tremaining: 9.58s\n",
            "686:\tlearn: 26382.2611755\ttest: 31431.9498682\tbest: 31431.9498682 (686)\ttotal: 12.8s\tremaining: 9.56s\n",
            "687:\tlearn: 26379.0633094\ttest: 31433.4152248\tbest: 31431.9498682 (686)\ttotal: 12.8s\tremaining: 9.55s\n",
            "688:\tlearn: 26369.8804649\ttest: 31427.8410934\tbest: 31427.8410934 (688)\ttotal: 12.9s\tremaining: 9.54s\n",
            "689:\tlearn: 26369.8226063\ttest: 31428.4384980\tbest: 31427.8410934 (688)\ttotal: 12.9s\tremaining: 9.52s\n",
            "690:\tlearn: 26362.3938171\ttest: 31428.0965747\tbest: 31427.8410934 (688)\ttotal: 12.9s\tremaining: 9.51s\n",
            "691:\tlearn: 26353.6521748\ttest: 31428.9282529\tbest: 31427.8410934 (688)\ttotal: 12.9s\tremaining: 9.49s\n",
            "692:\tlearn: 26347.7472423\ttest: 31426.3626468\tbest: 31426.3626468 (692)\ttotal: 12.9s\tremaining: 9.47s\n",
            "693:\tlearn: 26337.0188448\ttest: 31418.6113857\tbest: 31418.6113857 (693)\ttotal: 13s\tremaining: 9.45s\n",
            "694:\tlearn: 26330.7539776\ttest: 31417.8083667\tbest: 31417.8083667 (694)\ttotal: 13s\tremaining: 9.44s\n",
            "695:\tlearn: 26325.6135639\ttest: 31419.0566393\tbest: 31417.8083667 (694)\ttotal: 13s\tremaining: 9.43s\n",
            "696:\tlearn: 26321.4023432\ttest: 31421.7434853\tbest: 31417.8083667 (694)\ttotal: 13s\tremaining: 9.42s\n",
            "697:\tlearn: 26313.8974751\ttest: 31421.5422921\tbest: 31417.8083667 (694)\ttotal: 13.1s\tremaining: 9.4s\n",
            "698:\tlearn: 26310.9319509\ttest: 31420.2121405\tbest: 31417.8083667 (694)\ttotal: 13.1s\tremaining: 9.39s\n",
            "699:\tlearn: 26305.5274198\ttest: 31418.6949428\tbest: 31417.8083667 (694)\ttotal: 13.1s\tremaining: 9.37s\n",
            "700:\tlearn: 26300.4320598\ttest: 31418.7287315\tbest: 31417.8083667 (694)\ttotal: 13.1s\tremaining: 9.36s\n",
            "701:\tlearn: 26293.0545218\ttest: 31414.9623017\tbest: 31414.9623017 (701)\ttotal: 13.2s\tremaining: 9.36s\n",
            "702:\tlearn: 26288.8244865\ttest: 31419.8205861\tbest: 31414.9623017 (701)\ttotal: 13.2s\tremaining: 9.36s\n",
            "703:\tlearn: 26281.7355283\ttest: 31415.3373801\tbest: 31414.9623017 (701)\ttotal: 13.3s\tremaining: 9.37s\n",
            "704:\tlearn: 26274.4098096\ttest: 31415.8858266\tbest: 31414.9623017 (701)\ttotal: 13.3s\tremaining: 9.36s\n",
            "705:\tlearn: 26266.8332403\ttest: 31411.9714476\tbest: 31411.9714476 (705)\ttotal: 13.3s\tremaining: 9.34s\n",
            "706:\tlearn: 26253.2488465\ttest: 31409.2346805\tbest: 31409.2346805 (706)\ttotal: 13.4s\tremaining: 9.31s\n",
            "707:\tlearn: 26242.6529898\ttest: 31404.3326041\tbest: 31404.3326041 (707)\ttotal: 13.4s\tremaining: 9.29s\n",
            "708:\tlearn: 26235.1482820\ttest: 31400.7764561\tbest: 31400.7764561 (708)\ttotal: 13.4s\tremaining: 9.27s\n",
            "709:\tlearn: 26231.6603598\ttest: 31400.2397498\tbest: 31400.2397498 (709)\ttotal: 13.4s\tremaining: 9.27s\n",
            "710:\tlearn: 26228.3644785\ttest: 31400.6107708\tbest: 31400.2397498 (709)\ttotal: 13.4s\tremaining: 9.25s\n",
            "711:\tlearn: 26221.7722373\ttest: 31400.0511660\tbest: 31400.0511660 (711)\ttotal: 13.5s\tremaining: 9.24s\n",
            "712:\tlearn: 26212.7060178\ttest: 31398.1491599\tbest: 31398.1491599 (712)\ttotal: 13.5s\tremaining: 9.25s\n",
            "713:\tlearn: 26205.3639111\ttest: 31395.8692324\tbest: 31395.8692324 (713)\ttotal: 13.6s\tremaining: 9.23s\n",
            "714:\tlearn: 26201.0793537\ttest: 31393.7171228\tbest: 31393.7171228 (714)\ttotal: 13.6s\tremaining: 9.22s\n",
            "715:\tlearn: 26192.3987146\ttest: 31389.4342167\tbest: 31389.4342167 (715)\ttotal: 13.6s\tremaining: 9.21s\n",
            "716:\tlearn: 26185.4512174\ttest: 31383.7329090\tbest: 31383.7329090 (716)\ttotal: 13.7s\tremaining: 9.2s\n",
            "717:\tlearn: 26180.2999167\ttest: 31386.7886326\tbest: 31383.7329090 (716)\ttotal: 13.7s\tremaining: 9.19s\n",
            "718:\tlearn: 26171.6481057\ttest: 31381.3474218\tbest: 31381.3474218 (718)\ttotal: 13.7s\tremaining: 9.19s\n",
            "719:\tlearn: 26162.3114533\ttest: 31375.1970280\tbest: 31375.1970280 (719)\ttotal: 13.8s\tremaining: 9.17s\n",
            "720:\tlearn: 26157.3656434\ttest: 31371.1717928\tbest: 31371.1717928 (720)\ttotal: 13.8s\tremaining: 9.16s\n",
            "721:\tlearn: 26151.5972087\ttest: 31368.8192028\tbest: 31368.8192028 (721)\ttotal: 13.8s\tremaining: 9.14s\n",
            "722:\tlearn: 26145.8622550\ttest: 31368.9448067\tbest: 31368.8192028 (721)\ttotal: 13.8s\tremaining: 9.13s\n",
            "723:\tlearn: 26139.9024237\ttest: 31364.4244166\tbest: 31364.4244166 (723)\ttotal: 13.9s\tremaining: 9.12s\n",
            "724:\tlearn: 26132.6030066\ttest: 31360.7838166\tbest: 31360.7838166 (724)\ttotal: 13.9s\tremaining: 9.1s\n",
            "725:\tlearn: 26123.7426891\ttest: 31359.1066494\tbest: 31359.1066494 (725)\ttotal: 13.9s\tremaining: 9.08s\n",
            "726:\tlearn: 26115.4051807\ttest: 31354.6528969\tbest: 31354.6528969 (726)\ttotal: 13.9s\tremaining: 9.05s\n",
            "727:\tlearn: 26107.5751338\ttest: 31356.8234101\tbest: 31354.6528969 (726)\ttotal: 13.9s\tremaining: 9.03s\n",
            "728:\tlearn: 26101.3852679\ttest: 31355.6171281\tbest: 31354.6528969 (726)\ttotal: 14s\tremaining: 9.04s\n",
            "729:\tlearn: 26094.9039563\ttest: 31354.0428523\tbest: 31354.0428523 (729)\ttotal: 14.1s\tremaining: 9.06s\n",
            "730:\tlearn: 26084.9288886\ttest: 31349.0466522\tbest: 31349.0466522 (730)\ttotal: 14.1s\tremaining: 9.04s\n",
            "731:\tlearn: 26077.2210955\ttest: 31344.5824027\tbest: 31344.5824027 (731)\ttotal: 14.1s\tremaining: 9.02s\n",
            "732:\tlearn: 26073.3525344\ttest: 31344.2602066\tbest: 31344.2602066 (732)\ttotal: 14.1s\tremaining: 9s\n",
            "733:\tlearn: 26067.3348200\ttest: 31338.9376333\tbest: 31338.9376333 (733)\ttotal: 14.2s\tremaining: 9.02s\n",
            "734:\tlearn: 26061.1159794\ttest: 31336.6525764\tbest: 31336.6525764 (734)\ttotal: 14.2s\tremaining: 9s\n",
            "735:\tlearn: 26055.6411868\ttest: 31338.6510905\tbest: 31336.6525764 (734)\ttotal: 14.3s\tremaining: 8.99s\n",
            "736:\tlearn: 26048.6346366\ttest: 31335.2143487\tbest: 31335.2143487 (736)\ttotal: 14.3s\tremaining: 8.98s\n",
            "737:\tlearn: 26045.5733026\ttest: 31335.3570274\tbest: 31335.2143487 (736)\ttotal: 14.4s\tremaining: 8.98s\n",
            "738:\tlearn: 26040.8028899\ttest: 31332.9503644\tbest: 31332.9503644 (738)\ttotal: 14.4s\tremaining: 9s\n",
            "739:\tlearn: 26035.8731352\ttest: 31334.4202816\tbest: 31332.9503644 (738)\ttotal: 14.5s\tremaining: 8.99s\n",
            "740:\tlearn: 26026.6440974\ttest: 31335.9869358\tbest: 31332.9503644 (738)\ttotal: 14.5s\tremaining: 8.98s\n",
            "741:\tlearn: 26017.1055378\ttest: 31330.3080230\tbest: 31330.3080230 (741)\ttotal: 14.5s\tremaining: 8.96s\n",
            "742:\tlearn: 26011.1479294\ttest: 31330.7784424\tbest: 31330.3080230 (741)\ttotal: 14.6s\tremaining: 8.95s\n",
            "743:\tlearn: 26001.7335656\ttest: 31322.9176153\tbest: 31322.9176153 (743)\ttotal: 14.6s\tremaining: 8.94s\n",
            "744:\tlearn: 25993.6219003\ttest: 31320.1764260\tbest: 31320.1764260 (744)\ttotal: 14.6s\tremaining: 8.94s\n",
            "745:\tlearn: 25989.4011378\ttest: 31319.5128552\tbest: 31319.5128552 (745)\ttotal: 14.7s\tremaining: 8.93s\n",
            "746:\tlearn: 25980.3987665\ttest: 31314.7170764\tbest: 31314.7170764 (746)\ttotal: 14.7s\tremaining: 8.93s\n",
            "747:\tlearn: 25971.9404345\ttest: 31305.4262351\tbest: 31305.4262351 (747)\ttotal: 14.8s\tremaining: 8.92s\n",
            "748:\tlearn: 25962.7080505\ttest: 31298.7045490\tbest: 31298.7045490 (748)\ttotal: 14.8s\tremaining: 8.9s\n",
            "749:\tlearn: 25956.3583274\ttest: 31304.7435423\tbest: 31298.7045490 (748)\ttotal: 14.8s\tremaining: 8.89s\n",
            "750:\tlearn: 25952.4620577\ttest: 31304.6039520\tbest: 31298.7045490 (748)\ttotal: 14.9s\tremaining: 8.88s\n",
            "751:\tlearn: 25941.4731900\ttest: 31301.3882926\tbest: 31298.7045490 (748)\ttotal: 14.9s\tremaining: 8.87s\n",
            "752:\tlearn: 25937.0593107\ttest: 31294.3715878\tbest: 31294.3715878 (752)\ttotal: 14.9s\tremaining: 8.85s\n",
            "753:\tlearn: 25928.4292397\ttest: 31288.7757277\tbest: 31288.7757277 (753)\ttotal: 14.9s\tremaining: 8.84s\n",
            "754:\tlearn: 25914.3559698\ttest: 31284.0569566\tbest: 31284.0569566 (754)\ttotal: 15s\tremaining: 8.82s\n",
            "755:\tlearn: 25907.2762860\ttest: 31280.3875527\tbest: 31280.3875527 (755)\ttotal: 15s\tremaining: 8.81s\n",
            "756:\tlearn: 25897.7110351\ttest: 31280.8184450\tbest: 31280.3875527 (755)\ttotal: 15s\tremaining: 8.79s\n",
            "757:\tlearn: 25892.6059187\ttest: 31280.0101342\tbest: 31280.0101342 (757)\ttotal: 15.1s\tremaining: 8.78s\n",
            "758:\tlearn: 25887.3777080\ttest: 31275.6021586\tbest: 31275.6021586 (758)\ttotal: 15.1s\tremaining: 8.76s\n",
            "759:\tlearn: 25877.7650527\ttest: 31271.3177167\tbest: 31271.3177167 (759)\ttotal: 15.1s\tremaining: 8.75s\n",
            "760:\tlearn: 25871.4978310\ttest: 31271.3597711\tbest: 31271.3177167 (759)\ttotal: 15.1s\tremaining: 8.73s\n",
            "761:\tlearn: 25864.4618692\ttest: 31268.1009554\tbest: 31268.1009554 (761)\ttotal: 15.2s\tremaining: 8.72s\n",
            "762:\tlearn: 25856.4192528\ttest: 31261.0287492\tbest: 31261.0287492 (762)\ttotal: 15.2s\tremaining: 8.7s\n",
            "763:\tlearn: 25849.3721820\ttest: 31260.7132963\tbest: 31260.7132963 (763)\ttotal: 15.2s\tremaining: 8.69s\n",
            "764:\tlearn: 25838.0688451\ttest: 31257.2659451\tbest: 31257.2659451 (764)\ttotal: 15.3s\tremaining: 8.68s\n",
            "765:\tlearn: 25830.8440175\ttest: 31253.2488563\tbest: 31253.2488563 (765)\ttotal: 15.3s\tremaining: 8.67s\n",
            "766:\tlearn: 25827.7543538\ttest: 31250.7089972\tbest: 31250.7089972 (766)\ttotal: 15.3s\tremaining: 8.66s\n",
            "767:\tlearn: 25819.3013293\ttest: 31246.0992283\tbest: 31246.0992283 (767)\ttotal: 15.4s\tremaining: 8.67s\n",
            "768:\tlearn: 25816.6885384\ttest: 31245.5489578\tbest: 31245.5489578 (768)\ttotal: 15.4s\tremaining: 8.66s\n",
            "769:\tlearn: 25813.5641696\ttest: 31244.8706924\tbest: 31244.8706924 (769)\ttotal: 15.5s\tremaining: 8.65s\n",
            "770:\tlearn: 25803.8091837\ttest: 31241.1770468\tbest: 31241.1770468 (770)\ttotal: 15.5s\tremaining: 8.65s\n",
            "771:\tlearn: 25796.4054996\ttest: 31235.1691598\tbest: 31235.1691598 (771)\ttotal: 15.6s\tremaining: 8.63s\n",
            "772:\tlearn: 25790.7645972\ttest: 31233.4282353\tbest: 31233.4282353 (772)\ttotal: 15.6s\tremaining: 8.61s\n",
            "773:\tlearn: 25782.6888470\ttest: 31230.6999363\tbest: 31230.6999363 (773)\ttotal: 15.6s\tremaining: 8.6s\n",
            "774:\tlearn: 25776.0272925\ttest: 31228.0949831\tbest: 31228.0949831 (774)\ttotal: 15.7s\tremaining: 8.6s\n",
            "775:\tlearn: 25768.0661310\ttest: 31221.6260404\tbest: 31221.6260404 (775)\ttotal: 15.7s\tremaining: 8.59s\n",
            "776:\tlearn: 25757.2023539\ttest: 31223.7040915\tbest: 31221.6260404 (775)\ttotal: 15.8s\tremaining: 8.58s\n",
            "777:\tlearn: 25751.4205518\ttest: 31219.8086878\tbest: 31219.8086878 (777)\ttotal: 15.8s\tremaining: 8.57s\n",
            "778:\tlearn: 25741.9851756\ttest: 31218.9257881\tbest: 31218.9257881 (778)\ttotal: 15.8s\tremaining: 8.55s\n",
            "779:\tlearn: 25731.4079495\ttest: 31215.4017573\tbest: 31215.4017573 (779)\ttotal: 15.8s\tremaining: 8.53s\n",
            "780:\tlearn: 25723.8894729\ttest: 31215.3741112\tbest: 31215.3741112 (780)\ttotal: 15.8s\tremaining: 8.5s\n",
            "781:\tlearn: 25714.8372802\ttest: 31214.2479907\tbest: 31214.2479907 (781)\ttotal: 15.9s\tremaining: 8.48s\n",
            "782:\tlearn: 25707.7651778\ttest: 31211.1734483\tbest: 31211.1734483 (782)\ttotal: 15.9s\tremaining: 8.45s\n",
            "783:\tlearn: 25704.0763300\ttest: 31207.8752457\tbest: 31207.8752457 (783)\ttotal: 15.9s\tremaining: 8.43s\n",
            "784:\tlearn: 25699.8752571\ttest: 31207.1107303\tbest: 31207.1107303 (784)\ttotal: 15.9s\tremaining: 8.42s\n",
            "785:\tlearn: 25692.2976968\ttest: 31202.3304240\tbest: 31202.3304240 (785)\ttotal: 15.9s\tremaining: 8.4s\n",
            "786:\tlearn: 25688.0946868\ttest: 31201.2487187\tbest: 31201.2487187 (786)\ttotal: 16s\tremaining: 8.38s\n",
            "787:\tlearn: 25684.0740581\ttest: 31196.9097582\tbest: 31196.9097582 (787)\ttotal: 16s\tremaining: 8.37s\n",
            "788:\tlearn: 25677.9861059\ttest: 31196.1907624\tbest: 31196.1907624 (788)\ttotal: 16s\tremaining: 8.34s\n",
            "789:\tlearn: 25672.7453267\ttest: 31192.5125241\tbest: 31192.5125241 (789)\ttotal: 16s\tremaining: 8.32s\n",
            "790:\tlearn: 25666.4705343\ttest: 31191.6395846\tbest: 31191.6395846 (790)\ttotal: 16s\tremaining: 8.3s\n",
            "791:\tlearn: 25661.9181969\ttest: 31190.7810344\tbest: 31190.7810344 (791)\ttotal: 16.1s\tremaining: 8.28s\n",
            "792:\tlearn: 25655.3158274\ttest: 31188.0089131\tbest: 31188.0089131 (792)\ttotal: 16.1s\tremaining: 8.25s\n",
            "793:\tlearn: 25652.4674876\ttest: 31187.1498712\tbest: 31187.1498712 (793)\ttotal: 16.1s\tremaining: 8.22s\n",
            "794:\tlearn: 25643.6244897\ttest: 31184.0287614\tbest: 31184.0287614 (794)\ttotal: 16.1s\tremaining: 8.2s\n",
            "795:\tlearn: 25630.3925298\ttest: 31172.9006826\tbest: 31172.9006826 (795)\ttotal: 16.1s\tremaining: 8.18s\n",
            "796:\tlearn: 25622.3803807\ttest: 31179.1607278\tbest: 31172.9006826 (795)\ttotal: 16.2s\tremaining: 8.17s\n",
            "797:\tlearn: 25617.8214691\ttest: 31178.7108854\tbest: 31172.9006826 (795)\ttotal: 16.2s\tremaining: 8.16s\n",
            "798:\tlearn: 25611.8578396\ttest: 31178.3266939\tbest: 31172.9006826 (795)\ttotal: 16.2s\tremaining: 8.15s\n",
            "799:\tlearn: 25608.2662750\ttest: 31174.7171568\tbest: 31172.9006826 (795)\ttotal: 16.3s\tremaining: 8.14s\n",
            "800:\tlearn: 25605.5262190\ttest: 31172.7921237\tbest: 31172.7921237 (800)\ttotal: 16.3s\tremaining: 8.11s\n",
            "801:\tlearn: 25599.5179183\ttest: 31168.7780766\tbest: 31168.7780766 (801)\ttotal: 16.3s\tremaining: 8.09s\n",
            "802:\tlearn: 25592.3540330\ttest: 31162.5903522\tbest: 31162.5903522 (802)\ttotal: 16.3s\tremaining: 8.07s\n",
            "803:\tlearn: 25586.0839284\ttest: 31161.3824627\tbest: 31161.3824627 (803)\ttotal: 16.3s\tremaining: 8.05s\n",
            "804:\tlearn: 25583.3702173\ttest: 31161.6267718\tbest: 31161.3824627 (803)\ttotal: 16.4s\tremaining: 8.04s\n",
            "805:\tlearn: 25571.0181013\ttest: 31155.4567354\tbest: 31155.4567354 (805)\ttotal: 16.4s\tremaining: 8.02s\n",
            "806:\tlearn: 25566.8257231\ttest: 31153.4510568\tbest: 31153.4510568 (806)\ttotal: 16.4s\tremaining: 8s\n",
            "807:\tlearn: 25560.9412680\ttest: 31153.7715408\tbest: 31153.4510568 (806)\ttotal: 16.5s\tremaining: 7.99s\n",
            "808:\tlearn: 25556.7168712\ttest: 31152.9348260\tbest: 31152.9348260 (808)\ttotal: 16.5s\tremaining: 7.97s\n",
            "809:\tlearn: 25550.7339064\ttest: 31152.3930030\tbest: 31152.3930030 (809)\ttotal: 16.5s\tremaining: 7.96s\n",
            "810:\tlearn: 25546.0663107\ttest: 31152.0886411\tbest: 31152.0886411 (810)\ttotal: 16.6s\tremaining: 7.94s\n",
            "811:\tlearn: 25537.1765419\ttest: 31150.0359007\tbest: 31150.0359007 (811)\ttotal: 16.6s\tremaining: 7.92s\n",
            "812:\tlearn: 25530.0315094\ttest: 31146.4999323\tbest: 31146.4999323 (812)\ttotal: 16.6s\tremaining: 7.9s\n",
            "813:\tlearn: 25513.2088007\ttest: 31133.9666906\tbest: 31133.9666906 (813)\ttotal: 16.6s\tremaining: 7.89s\n",
            "814:\tlearn: 25494.0891143\ttest: 31121.3358936\tbest: 31121.3358936 (814)\ttotal: 16.7s\tremaining: 7.87s\n",
            "815:\tlearn: 25486.7305642\ttest: 31120.1090203\tbest: 31120.1090203 (815)\ttotal: 16.7s\tremaining: 7.84s\n",
            "816:\tlearn: 25481.9779361\ttest: 31116.0419113\tbest: 31116.0419113 (816)\ttotal: 16.7s\tremaining: 7.82s\n",
            "817:\tlearn: 25477.6929616\ttest: 31113.3133969\tbest: 31113.3133969 (817)\ttotal: 16.7s\tremaining: 7.8s\n",
            "818:\tlearn: 25471.3080006\ttest: 31109.2780859\tbest: 31109.2780859 (818)\ttotal: 16.7s\tremaining: 7.79s\n",
            "819:\tlearn: 25462.3099146\ttest: 31103.7649876\tbest: 31103.7649876 (819)\ttotal: 16.8s\tremaining: 7.77s\n",
            "820:\tlearn: 25454.1974500\ttest: 31099.5113328\tbest: 31099.5113328 (820)\ttotal: 16.8s\tremaining: 7.74s\n",
            "821:\tlearn: 25450.0683137\ttest: 31095.6628404\tbest: 31095.6628404 (821)\ttotal: 16.8s\tremaining: 7.72s\n",
            "822:\tlearn: 25445.1007624\ttest: 31093.4091762\tbest: 31093.4091762 (822)\ttotal: 16.8s\tremaining: 7.69s\n",
            "823:\tlearn: 25439.0172817\ttest: 31093.1306699\tbest: 31093.1306699 (823)\ttotal: 16.8s\tremaining: 7.67s\n",
            "824:\tlearn: 25434.9468915\ttest: 31093.0103942\tbest: 31093.0103942 (824)\ttotal: 16.8s\tremaining: 7.66s\n",
            "825:\tlearn: 25429.8265920\ttest: 31088.9824491\tbest: 31088.9824491 (825)\ttotal: 16.9s\tremaining: 7.63s\n",
            "826:\tlearn: 25424.4035040\ttest: 31081.0224746\tbest: 31081.0224746 (826)\ttotal: 16.9s\tremaining: 7.61s\n",
            "827:\tlearn: 25413.6590032\ttest: 31077.6071245\tbest: 31077.6071245 (827)\ttotal: 16.9s\tremaining: 7.59s\n",
            "828:\tlearn: 25409.6881025\ttest: 31077.6034401\tbest: 31077.6034401 (828)\ttotal: 16.9s\tremaining: 7.56s\n",
            "829:\tlearn: 25404.7885155\ttest: 31078.4875266\tbest: 31077.6034401 (828)\ttotal: 16.9s\tremaining: 7.55s\n",
            "830:\tlearn: 25403.4740780\ttest: 31078.9811646\tbest: 31077.6034401 (828)\ttotal: 17s\tremaining: 7.53s\n",
            "831:\tlearn: 25398.3134424\ttest: 31076.1053908\tbest: 31076.1053908 (831)\ttotal: 17s\tremaining: 7.51s\n",
            "832:\tlearn: 25387.5200470\ttest: 31068.8109772\tbest: 31068.8109772 (832)\ttotal: 17s\tremaining: 7.49s\n",
            "833:\tlearn: 25384.5648552\ttest: 31068.5010373\tbest: 31068.5010373 (833)\ttotal: 17.1s\tremaining: 7.49s\n",
            "834:\tlearn: 25376.8708778\ttest: 31064.2999048\tbest: 31064.2999048 (834)\ttotal: 17.1s\tremaining: 7.47s\n",
            "835:\tlearn: 25371.1114248\ttest: 31060.2544382\tbest: 31060.2544382 (835)\ttotal: 17.1s\tremaining: 7.45s\n",
            "836:\tlearn: 25367.2260386\ttest: 31058.1994863\tbest: 31058.1994863 (836)\ttotal: 17.2s\tremaining: 7.45s\n",
            "837:\tlearn: 25360.6240192\ttest: 31057.0319531\tbest: 31057.0319531 (837)\ttotal: 17.2s\tremaining: 7.44s\n",
            "838:\tlearn: 25356.6631126\ttest: 31055.5949858\tbest: 31055.5949858 (838)\ttotal: 17.2s\tremaining: 7.42s\n",
            "839:\tlearn: 25346.9036898\ttest: 31059.7232509\tbest: 31055.5949858 (838)\ttotal: 17.3s\tremaining: 7.41s\n",
            "840:\tlearn: 25340.3844096\ttest: 31057.3711455\tbest: 31055.5949858 (838)\ttotal: 17.3s\tremaining: 7.39s\n",
            "841:\tlearn: 25331.0226096\ttest: 31053.0601927\tbest: 31053.0601927 (841)\ttotal: 17.3s\tremaining: 7.37s\n",
            "842:\tlearn: 25326.2611843\ttest: 31049.9390346\tbest: 31049.9390346 (842)\ttotal: 17.4s\tremaining: 7.35s\n",
            "843:\tlearn: 25318.5822873\ttest: 31045.7577099\tbest: 31045.7577099 (843)\ttotal: 17.4s\tremaining: 7.35s\n",
            "844:\tlearn: 25311.9802841\ttest: 31045.0725975\tbest: 31045.0725975 (844)\ttotal: 17.4s\tremaining: 7.32s\n",
            "845:\tlearn: 25307.5455101\ttest: 31045.1899693\tbest: 31045.0725975 (844)\ttotal: 17.4s\tremaining: 7.3s\n",
            "846:\tlearn: 25300.4356606\ttest: 31042.6389341\tbest: 31042.6389341 (846)\ttotal: 17.5s\tremaining: 7.28s\n",
            "847:\tlearn: 25293.6162606\ttest: 31040.0297499\tbest: 31040.0297499 (847)\ttotal: 17.5s\tremaining: 7.25s\n",
            "848:\tlearn: 25289.4237875\ttest: 31042.7888943\tbest: 31040.0297499 (847)\ttotal: 17.5s\tremaining: 7.24s\n",
            "849:\tlearn: 25285.7074422\ttest: 31040.8185936\tbest: 31040.0297499 (847)\ttotal: 17.6s\tremaining: 7.24s\n",
            "850:\tlearn: 25277.9868438\ttest: 31033.8276100\tbest: 31033.8276100 (850)\ttotal: 17.6s\tremaining: 7.22s\n",
            "851:\tlearn: 25270.2263581\ttest: 31035.0550223\tbest: 31033.8276100 (850)\ttotal: 17.7s\tremaining: 7.21s\n",
            "852:\tlearn: 25266.8970629\ttest: 31038.0796777\tbest: 31033.8276100 (850)\ttotal: 17.7s\tremaining: 7.19s\n",
            "853:\tlearn: 25261.5017165\ttest: 31036.6098091\tbest: 31033.8276100 (850)\ttotal: 17.7s\tremaining: 7.17s\n",
            "854:\tlearn: 25253.5367205\ttest: 31033.0433796\tbest: 31033.0433796 (854)\ttotal: 17.7s\tremaining: 7.15s\n",
            "855:\tlearn: 25247.2295073\ttest: 31032.6340870\tbest: 31032.6340870 (855)\ttotal: 17.8s\tremaining: 7.13s\n",
            "856:\tlearn: 25240.9731746\ttest: 31031.7386565\tbest: 31031.7386565 (856)\ttotal: 17.8s\tremaining: 7.11s\n",
            "857:\tlearn: 25234.3450150\ttest: 31029.2295408\tbest: 31029.2295408 (857)\ttotal: 17.8s\tremaining: 7.1s\n",
            "858:\tlearn: 25228.8264002\ttest: 31028.8409822\tbest: 31028.8409822 (858)\ttotal: 17.8s\tremaining: 7.08s\n",
            "859:\tlearn: 25224.9283128\ttest: 31026.8128764\tbest: 31026.8128764 (859)\ttotal: 17.8s\tremaining: 7.06s\n",
            "860:\tlearn: 25219.8548072\ttest: 31023.0594028\tbest: 31023.0594028 (860)\ttotal: 17.9s\tremaining: 7.03s\n",
            "861:\tlearn: 25213.6732905\ttest: 31019.3252222\tbest: 31019.3252222 (861)\ttotal: 17.9s\tremaining: 7.01s\n",
            "862:\tlearn: 25212.7526953\ttest: 31018.8471055\tbest: 31018.8471055 (862)\ttotal: 17.9s\tremaining: 6.99s\n",
            "863:\tlearn: 25205.3536189\ttest: 31014.2237589\tbest: 31014.2237589 (863)\ttotal: 17.9s\tremaining: 6.96s\n",
            "864:\tlearn: 25200.4661697\ttest: 31014.7811416\tbest: 31014.2237589 (863)\ttotal: 17.9s\tremaining: 6.94s\n",
            "865:\tlearn: 25192.8837810\ttest: 31013.6144414\tbest: 31013.6144414 (865)\ttotal: 18s\tremaining: 6.92s\n",
            "866:\tlearn: 25187.2714528\ttest: 31013.9463316\tbest: 31013.6144414 (865)\ttotal: 18s\tremaining: 6.91s\n",
            "867:\tlearn: 25182.2287851\ttest: 31013.4113473\tbest: 31013.4113473 (867)\ttotal: 18s\tremaining: 6.88s\n",
            "868:\tlearn: 25172.7950065\ttest: 31009.7318458\tbest: 31009.7318458 (868)\ttotal: 18s\tremaining: 6.86s\n",
            "869:\tlearn: 25165.6850312\ttest: 31002.6255087\tbest: 31002.6255087 (869)\ttotal: 18s\tremaining: 6.84s\n",
            "870:\tlearn: 25159.9031461\ttest: 31001.5528879\tbest: 31001.5528879 (870)\ttotal: 18.1s\tremaining: 6.82s\n",
            "871:\tlearn: 25151.6637684\ttest: 30996.6643591\tbest: 30996.6643591 (871)\ttotal: 18.1s\tremaining: 6.8s\n",
            "872:\tlearn: 25144.5390945\ttest: 30992.5779330\tbest: 30992.5779330 (872)\ttotal: 18.1s\tremaining: 6.79s\n",
            "873:\tlearn: 25134.6200853\ttest: 30985.7050899\tbest: 30985.7050899 (873)\ttotal: 18.1s\tremaining: 6.76s\n",
            "874:\tlearn: 25128.7734567\ttest: 30985.1631765\tbest: 30985.1631765 (874)\ttotal: 18.1s\tremaining: 6.74s\n",
            "875:\tlearn: 25122.8211822\ttest: 30984.0754324\tbest: 30984.0754324 (875)\ttotal: 18.2s\tremaining: 6.72s\n",
            "876:\tlearn: 25117.3777920\ttest: 30980.3242913\tbest: 30980.3242913 (876)\ttotal: 18.2s\tremaining: 6.7s\n",
            "877:\tlearn: 25113.8911403\ttest: 30981.7517303\tbest: 30980.3242913 (876)\ttotal: 18.2s\tremaining: 6.68s\n",
            "878:\tlearn: 25104.7406187\ttest: 30981.3273425\tbest: 30980.3242913 (876)\ttotal: 18.2s\tremaining: 6.66s\n",
            "879:\tlearn: 25098.4417990\ttest: 30978.5601147\tbest: 30978.5601147 (879)\ttotal: 18.2s\tremaining: 6.64s\n",
            "880:\tlearn: 25092.8375045\ttest: 30976.7985598\tbest: 30976.7985598 (880)\ttotal: 18.3s\tremaining: 6.61s\n",
            "881:\tlearn: 25089.5989801\ttest: 30974.2214550\tbest: 30974.2214550 (881)\ttotal: 18.3s\tremaining: 6.59s\n",
            "882:\tlearn: 25084.5089665\ttest: 30972.8203054\tbest: 30972.8203054 (882)\ttotal: 18.3s\tremaining: 6.57s\n",
            "883:\tlearn: 25079.3005474\ttest: 30968.9430508\tbest: 30968.9430508 (883)\ttotal: 18.3s\tremaining: 6.55s\n",
            "884:\tlearn: 25071.9447507\ttest: 30962.1816027\tbest: 30962.1816027 (884)\ttotal: 18.3s\tremaining: 6.52s\n",
            "885:\tlearn: 25068.4866979\ttest: 30959.3760649\tbest: 30959.3760649 (885)\ttotal: 18.4s\tremaining: 6.5s\n",
            "886:\tlearn: 25065.2246652\ttest: 30956.8134201\tbest: 30956.8134201 (886)\ttotal: 18.4s\tremaining: 6.49s\n",
            "887:\tlearn: 25062.3367036\ttest: 30957.3026815\tbest: 30956.8134201 (886)\ttotal: 18.4s\tremaining: 6.47s\n",
            "888:\tlearn: 25058.9552413\ttest: 30960.0466531\tbest: 30956.8134201 (886)\ttotal: 18.4s\tremaining: 6.45s\n",
            "889:\tlearn: 25053.3077251\ttest: 30957.1615648\tbest: 30956.8134201 (886)\ttotal: 18.4s\tremaining: 6.42s\n",
            "890:\tlearn: 25049.5607649\ttest: 30954.3123477\tbest: 30954.3123477 (890)\ttotal: 18.5s\tremaining: 6.4s\n",
            "891:\tlearn: 25045.8255223\ttest: 30953.9669964\tbest: 30953.9669964 (891)\ttotal: 18.5s\tremaining: 6.38s\n",
            "892:\tlearn: 25039.3135542\ttest: 30952.2509683\tbest: 30952.2509683 (892)\ttotal: 18.5s\tremaining: 6.36s\n",
            "893:\tlearn: 25034.8447679\ttest: 30949.9628384\tbest: 30949.9628384 (893)\ttotal: 18.5s\tremaining: 6.35s\n",
            "894:\tlearn: 25023.2487383\ttest: 30941.1375008\tbest: 30941.1375008 (894)\ttotal: 18.6s\tremaining: 6.32s\n",
            "895:\tlearn: 25019.8465078\ttest: 30942.0511193\tbest: 30941.1375008 (894)\ttotal: 18.7s\tremaining: 6.33s\n",
            "896:\tlearn: 25012.8786779\ttest: 30938.9074627\tbest: 30938.9074627 (896)\ttotal: 18.7s\tremaining: 6.31s\n",
            "897:\tlearn: 25005.3523584\ttest: 30940.0435679\tbest: 30938.9074627 (896)\ttotal: 18.8s\tremaining: 6.31s\n",
            "898:\tlearn: 24997.3226741\ttest: 30936.5019885\tbest: 30936.5019885 (898)\ttotal: 18.8s\tremaining: 6.29s\n",
            "899:\tlearn: 24994.8114394\ttest: 30938.5351858\tbest: 30936.5019885 (898)\ttotal: 18.8s\tremaining: 6.26s\n",
            "900:\tlearn: 24986.5221835\ttest: 30935.0743873\tbest: 30935.0743873 (900)\ttotal: 18.8s\tremaining: 6.24s\n",
            "901:\tlearn: 24981.6340579\ttest: 30929.9519057\tbest: 30929.9519057 (901)\ttotal: 18.8s\tremaining: 6.22s\n",
            "902:\tlearn: 24974.7796980\ttest: 30927.6072581\tbest: 30927.6072581 (902)\ttotal: 18.8s\tremaining: 6.19s\n",
            "903:\tlearn: 24969.4162196\ttest: 30926.6348742\tbest: 30926.6348742 (903)\ttotal: 18.8s\tremaining: 6.17s\n",
            "904:\tlearn: 24964.4345502\ttest: 30927.5292968\tbest: 30926.6348742 (903)\ttotal: 18.9s\tremaining: 6.14s\n",
            "905:\tlearn: 24961.2915223\ttest: 30923.5519850\tbest: 30923.5519850 (905)\ttotal: 18.9s\tremaining: 6.12s\n",
            "906:\tlearn: 24957.7108029\ttest: 30921.7046714\tbest: 30921.7046714 (906)\ttotal: 18.9s\tremaining: 6.09s\n",
            "907:\tlearn: 24946.8133328\ttest: 30920.1538082\tbest: 30920.1538082 (907)\ttotal: 18.9s\tremaining: 6.08s\n",
            "908:\tlearn: 24935.2605846\ttest: 30910.4569879\tbest: 30910.4569879 (908)\ttotal: 18.9s\tremaining: 6.05s\n",
            "909:\tlearn: 24928.9966595\ttest: 30907.1850816\tbest: 30907.1850816 (909)\ttotal: 18.9s\tremaining: 6.03s\n",
            "910:\tlearn: 24922.1485271\ttest: 30905.1354434\tbest: 30905.1354434 (910)\ttotal: 18.9s\tremaining: 6.01s\n",
            "911:\tlearn: 24918.1901357\ttest: 30902.9718796\tbest: 30902.9718796 (911)\ttotal: 18.9s\tremaining: 5.98s\n",
            "912:\tlearn: 24914.5086388\ttest: 30900.3160060\tbest: 30900.3160060 (912)\ttotal: 19s\tremaining: 5.96s\n",
            "913:\tlearn: 24909.0246674\ttest: 30899.1914021\tbest: 30899.1914021 (913)\ttotal: 19s\tremaining: 5.93s\n",
            "914:\tlearn: 24896.6822434\ttest: 30893.2187156\tbest: 30893.2187156 (914)\ttotal: 19s\tremaining: 5.91s\n",
            "915:\tlearn: 24892.4334574\ttest: 30889.0354635\tbest: 30889.0354635 (915)\ttotal: 19s\tremaining: 5.89s\n",
            "916:\tlearn: 24884.6648530\ttest: 30886.1665736\tbest: 30886.1665736 (916)\ttotal: 19s\tremaining: 5.86s\n",
            "917:\tlearn: 24877.2007147\ttest: 30884.0289739\tbest: 30884.0289739 (917)\ttotal: 19s\tremaining: 5.84s\n",
            "918:\tlearn: 24865.8586782\ttest: 30880.7093400\tbest: 30880.7093400 (918)\ttotal: 19s\tremaining: 5.81s\n",
            "919:\tlearn: 24860.4224853\ttest: 30881.3465373\tbest: 30880.7093400 (918)\ttotal: 19s\tremaining: 5.79s\n",
            "920:\tlearn: 24852.3311602\ttest: 30881.5490944\tbest: 30880.7093400 (918)\ttotal: 19s\tremaining: 5.77s\n",
            "921:\tlearn: 24843.8389924\ttest: 30873.6817822\tbest: 30873.6817822 (921)\ttotal: 19s\tremaining: 5.74s\n",
            "922:\tlearn: 24835.6570488\ttest: 30871.9031940\tbest: 30871.9031940 (922)\ttotal: 19.1s\tremaining: 5.72s\n",
            "923:\tlearn: 24824.8269631\ttest: 30866.2685558\tbest: 30866.2685558 (923)\ttotal: 19.1s\tremaining: 5.69s\n",
            "924:\tlearn: 24817.3850866\ttest: 30861.7646591\tbest: 30861.7646591 (924)\ttotal: 19.1s\tremaining: 5.67s\n",
            "925:\tlearn: 24811.3377102\ttest: 30860.2844425\tbest: 30860.2844425 (925)\ttotal: 19.1s\tremaining: 5.65s\n",
            "926:\tlearn: 24803.7771681\ttest: 30857.9720059\tbest: 30857.9720059 (926)\ttotal: 19.1s\tremaining: 5.62s\n",
            "927:\tlearn: 24797.6083815\ttest: 30853.6069729\tbest: 30853.6069729 (927)\ttotal: 19.1s\tremaining: 5.6s\n",
            "928:\tlearn: 24793.9896238\ttest: 30853.9014363\tbest: 30853.6069729 (927)\ttotal: 19.1s\tremaining: 5.58s\n",
            "929:\tlearn: 24786.7826662\ttest: 30853.4558425\tbest: 30853.4558425 (929)\ttotal: 19.1s\tremaining: 5.55s\n",
            "930:\tlearn: 24777.9817309\ttest: 30850.1298746\tbest: 30850.1298746 (930)\ttotal: 19.1s\tremaining: 5.53s\n",
            "931:\tlearn: 24773.5383044\ttest: 30845.7821163\tbest: 30845.7821163 (931)\ttotal: 19.1s\tremaining: 5.5s\n",
            "932:\tlearn: 24764.8047617\ttest: 30841.4352436\tbest: 30841.4352436 (932)\ttotal: 19.1s\tremaining: 5.48s\n",
            "933:\tlearn: 24759.7776514\ttest: 30838.8535867\tbest: 30838.8535867 (933)\ttotal: 19.2s\tremaining: 5.46s\n",
            "934:\tlearn: 24755.6076142\ttest: 30842.7436513\tbest: 30838.8535867 (933)\ttotal: 19.2s\tremaining: 5.43s\n",
            "935:\tlearn: 24749.4902825\ttest: 30836.0109841\tbest: 30836.0109841 (935)\ttotal: 19.2s\tremaining: 5.41s\n",
            "936:\tlearn: 24742.3548540\ttest: 30833.3632396\tbest: 30833.3632396 (936)\ttotal: 19.2s\tremaining: 5.39s\n",
            "937:\tlearn: 24733.9890824\ttest: 30827.1696288\tbest: 30827.1696288 (937)\ttotal: 19.2s\tremaining: 5.36s\n",
            "938:\tlearn: 24731.7323764\ttest: 30828.0528676\tbest: 30827.1696288 (937)\ttotal: 19.2s\tremaining: 5.34s\n",
            "939:\tlearn: 24725.5254542\ttest: 30825.4254035\tbest: 30825.4254035 (939)\ttotal: 19.2s\tremaining: 5.32s\n",
            "940:\tlearn: 24718.5660486\ttest: 30823.1225216\tbest: 30823.1225216 (940)\ttotal: 19.2s\tremaining: 5.29s\n",
            "941:\tlearn: 24712.0826762\ttest: 30820.0105128\tbest: 30820.0105128 (941)\ttotal: 19.2s\tremaining: 5.27s\n",
            "942:\tlearn: 24706.8478252\ttest: 30818.0493040\tbest: 30818.0493040 (942)\ttotal: 19.3s\tremaining: 5.25s\n",
            "943:\tlearn: 24700.5800104\ttest: 30817.5763714\tbest: 30817.5763714 (943)\ttotal: 19.3s\tremaining: 5.22s\n",
            "944:\tlearn: 24695.3196758\ttest: 30813.6853697\tbest: 30813.6853697 (944)\ttotal: 19.3s\tremaining: 5.2s\n",
            "945:\tlearn: 24690.8117504\ttest: 30813.2378031\tbest: 30813.2378031 (945)\ttotal: 19.3s\tremaining: 5.18s\n",
            "946:\tlearn: 24685.9440578\ttest: 30812.1235223\tbest: 30812.1235223 (946)\ttotal: 19.3s\tremaining: 5.15s\n",
            "947:\tlearn: 24678.7055592\ttest: 30810.5972153\tbest: 30810.5972153 (947)\ttotal: 19.3s\tremaining: 5.13s\n",
            "948:\tlearn: 24673.8219977\ttest: 30812.8878861\tbest: 30810.5972153 (947)\ttotal: 19.3s\tremaining: 5.11s\n",
            "949:\tlearn: 24669.8887048\ttest: 30811.7341822\tbest: 30810.5972153 (947)\ttotal: 19.3s\tremaining: 5.08s\n",
            "950:\tlearn: 24658.1702824\ttest: 30803.4131411\tbest: 30803.4131411 (950)\ttotal: 19.3s\tremaining: 5.06s\n",
            "951:\tlearn: 24654.9964199\ttest: 30800.3610482\tbest: 30800.3610482 (951)\ttotal: 19.3s\tremaining: 5.04s\n",
            "952:\tlearn: 24647.8951392\ttest: 30797.0056652\tbest: 30797.0056652 (952)\ttotal: 19.3s\tremaining: 5.01s\n",
            "953:\tlearn: 24642.1449418\ttest: 30792.4629758\tbest: 30792.4629758 (953)\ttotal: 19.4s\tremaining: 4.99s\n",
            "954:\tlearn: 24637.6044216\ttest: 30790.3372053\tbest: 30790.3372053 (954)\ttotal: 19.4s\tremaining: 4.97s\n",
            "955:\tlearn: 24630.1744943\ttest: 30787.6294771\tbest: 30787.6294771 (955)\ttotal: 19.4s\tremaining: 4.95s\n",
            "956:\tlearn: 24624.8099244\ttest: 30785.3646563\tbest: 30785.3646563 (956)\ttotal: 19.4s\tremaining: 4.92s\n",
            "957:\tlearn: 24615.0499446\ttest: 30789.2448868\tbest: 30785.3646563 (956)\ttotal: 19.4s\tremaining: 4.9s\n",
            "958:\tlearn: 24610.8435989\ttest: 30787.5832503\tbest: 30785.3646563 (956)\ttotal: 19.4s\tremaining: 4.88s\n",
            "959:\tlearn: 24606.0579730\ttest: 30775.6755326\tbest: 30775.6755326 (959)\ttotal: 19.4s\tremaining: 4.86s\n",
            "960:\tlearn: 24600.7661982\ttest: 30773.6990844\tbest: 30773.6990844 (960)\ttotal: 19.4s\tremaining: 4.83s\n",
            "961:\tlearn: 24595.1574894\ttest: 30767.7179423\tbest: 30767.7179423 (961)\ttotal: 19.4s\tremaining: 4.81s\n",
            "962:\tlearn: 24590.6433715\ttest: 30764.9098428\tbest: 30764.9098428 (962)\ttotal: 19.5s\tremaining: 4.79s\n",
            "963:\tlearn: 24582.5734282\ttest: 30763.5889455\tbest: 30763.5889455 (963)\ttotal: 19.5s\tremaining: 4.76s\n",
            "964:\tlearn: 24577.6585403\ttest: 30760.1155700\tbest: 30760.1155700 (964)\ttotal: 19.5s\tremaining: 4.74s\n",
            "965:\tlearn: 24569.3892958\ttest: 30757.9112309\tbest: 30757.9112309 (965)\ttotal: 19.5s\tremaining: 4.72s\n",
            "966:\tlearn: 24566.2649275\ttest: 30756.2130637\tbest: 30756.2130637 (966)\ttotal: 19.5s\tremaining: 4.7s\n",
            "967:\tlearn: 24559.4927793\ttest: 30753.4024521\tbest: 30753.4024521 (967)\ttotal: 19.5s\tremaining: 4.67s\n",
            "968:\tlearn: 24553.9421520\ttest: 30754.9522074\tbest: 30753.4024521 (967)\ttotal: 19.5s\tremaining: 4.65s\n",
            "969:\tlearn: 24546.9498279\ttest: 30752.9560088\tbest: 30752.9560088 (969)\ttotal: 19.5s\tremaining: 4.63s\n",
            "970:\tlearn: 24541.4462101\ttest: 30751.9976456\tbest: 30751.9976456 (970)\ttotal: 19.5s\tremaining: 4.61s\n",
            "971:\tlearn: 24538.1046374\ttest: 30750.1007416\tbest: 30750.1007416 (971)\ttotal: 19.5s\tremaining: 4.58s\n",
            "972:\tlearn: 24529.8852141\ttest: 30750.6823233\tbest: 30750.1007416 (971)\ttotal: 19.5s\tremaining: 4.56s\n",
            "973:\tlearn: 24529.9380869\ttest: 30751.3810723\tbest: 30750.1007416 (971)\ttotal: 19.6s\tremaining: 4.54s\n",
            "974:\tlearn: 24529.9947342\ttest: 30752.0262078\tbest: 30750.1007416 (971)\ttotal: 19.6s\tremaining: 4.51s\n",
            "975:\tlearn: 24524.0533408\ttest: 30753.7484662\tbest: 30750.1007416 (971)\ttotal: 19.6s\tremaining: 4.49s\n",
            "976:\tlearn: 24518.0577819\ttest: 30750.0095383\tbest: 30750.0095383 (976)\ttotal: 19.6s\tremaining: 4.47s\n",
            "977:\tlearn: 24508.9900755\ttest: 30748.8300692\tbest: 30748.8300692 (977)\ttotal: 19.6s\tremaining: 4.45s\n",
            "978:\tlearn: 24505.4509366\ttest: 30747.9424283\tbest: 30747.9424283 (978)\ttotal: 19.6s\tremaining: 4.42s\n",
            "979:\tlearn: 24504.5825806\ttest: 30747.2830006\tbest: 30747.2830006 (979)\ttotal: 19.6s\tremaining: 4.4s\n",
            "980:\tlearn: 24498.2711409\ttest: 30745.8176629\tbest: 30745.8176629 (980)\ttotal: 19.6s\tremaining: 4.38s\n",
            "981:\tlearn: 24495.0062790\ttest: 30744.7752205\tbest: 30744.7752205 (981)\ttotal: 19.6s\tremaining: 4.36s\n",
            "982:\tlearn: 24486.2162020\ttest: 30738.2391857\tbest: 30738.2391857 (982)\ttotal: 19.6s\tremaining: 4.33s\n",
            "983:\tlearn: 24479.5794812\ttest: 30732.0848276\tbest: 30732.0848276 (983)\ttotal: 19.6s\tremaining: 4.31s\n",
            "984:\tlearn: 24474.1961976\ttest: 30726.3899639\tbest: 30726.3899639 (984)\ttotal: 19.7s\tremaining: 4.29s\n",
            "985:\tlearn: 24471.3236137\ttest: 30727.2081361\tbest: 30726.3899639 (984)\ttotal: 19.7s\tremaining: 4.27s\n",
            "986:\tlearn: 24467.1322608\ttest: 30726.5921830\tbest: 30726.3899639 (984)\ttotal: 19.7s\tremaining: 4.25s\n",
            "987:\tlearn: 24460.9824778\ttest: 30722.2867703\tbest: 30722.2867703 (987)\ttotal: 19.7s\tremaining: 4.22s\n",
            "988:\tlearn: 24457.0997723\ttest: 30722.3158644\tbest: 30722.2867703 (987)\ttotal: 19.7s\tremaining: 4.2s\n",
            "989:\tlearn: 24450.9819222\ttest: 30719.1400965\tbest: 30719.1400965 (989)\ttotal: 19.7s\tremaining: 4.18s\n",
            "990:\tlearn: 24446.1410253\ttest: 30717.7365059\tbest: 30717.7365059 (990)\ttotal: 19.7s\tremaining: 4.16s\n",
            "991:\tlearn: 24441.7380311\ttest: 30716.5582609\tbest: 30716.5582609 (991)\ttotal: 19.7s\tremaining: 4.14s\n",
            "992:\tlearn: 24439.0535602\ttest: 30717.6545755\tbest: 30716.5582609 (991)\ttotal: 19.7s\tremaining: 4.11s\n",
            "993:\tlearn: 24436.3668638\ttest: 30718.9160202\tbest: 30716.5582609 (991)\ttotal: 19.8s\tremaining: 4.1s\n",
            "994:\tlearn: 24428.6880545\ttest: 30716.9492823\tbest: 30716.5582609 (991)\ttotal: 19.8s\tremaining: 4.08s\n",
            "995:\tlearn: 24423.1521554\ttest: 30711.8736777\tbest: 30711.8736777 (995)\ttotal: 19.8s\tremaining: 4.06s\n",
            "996:\tlearn: 24420.2921317\ttest: 30711.9731397\tbest: 30711.8736777 (995)\ttotal: 19.8s\tremaining: 4.04s\n",
            "997:\tlearn: 24415.0874239\ttest: 30711.1053706\tbest: 30711.1053706 (997)\ttotal: 19.9s\tremaining: 4.02s\n",
            "998:\tlearn: 24409.7526667\ttest: 30711.2767885\tbest: 30711.1053706 (997)\ttotal: 19.9s\tremaining: 4s\n",
            "999:\tlearn: 24405.3822330\ttest: 30710.9531985\tbest: 30710.9531985 (999)\ttotal: 19.9s\tremaining: 3.97s\n",
            "1000:\tlearn: 24398.9245360\ttest: 30713.2417884\tbest: 30710.9531985 (999)\ttotal: 19.9s\tremaining: 3.95s\n",
            "1001:\tlearn: 24395.6103947\ttest: 30716.6969442\tbest: 30710.9531985 (999)\ttotal: 19.9s\tremaining: 3.93s\n",
            "1002:\tlearn: 24392.1026935\ttest: 30714.8217180\tbest: 30710.9531985 (999)\ttotal: 19.9s\tremaining: 3.91s\n",
            "1003:\tlearn: 24386.3020364\ttest: 30714.4424355\tbest: 30710.9531985 (999)\ttotal: 19.9s\tremaining: 3.89s\n",
            "1004:\tlearn: 24381.8872709\ttest: 30710.1599573\tbest: 30710.1599573 (1004)\ttotal: 19.9s\tremaining: 3.87s\n",
            "1005:\tlearn: 24377.2488168\ttest: 30710.5710348\tbest: 30710.1599573 (1004)\ttotal: 19.9s\tremaining: 3.84s\n",
            "1006:\tlearn: 24371.7205650\ttest: 30707.6903207\tbest: 30707.6903207 (1006)\ttotal: 19.9s\tremaining: 3.82s\n",
            "1007:\tlearn: 24369.0176186\ttest: 30708.1563321\tbest: 30707.6903207 (1006)\ttotal: 20s\tremaining: 3.8s\n",
            "1008:\tlearn: 24362.5287471\ttest: 30705.3545223\tbest: 30705.3545223 (1008)\ttotal: 20s\tremaining: 3.78s\n",
            "1009:\tlearn: 24358.8250932\ttest: 30702.0259536\tbest: 30702.0259536 (1009)\ttotal: 20s\tremaining: 3.76s\n",
            "1010:\tlearn: 24352.5685860\ttest: 30696.4681789\tbest: 30696.4681789 (1010)\ttotal: 20s\tremaining: 3.74s\n",
            "1011:\tlearn: 24349.7973605\ttest: 30696.6162529\tbest: 30696.4681789 (1010)\ttotal: 20s\tremaining: 3.71s\n",
            "1012:\tlearn: 24343.1116509\ttest: 30695.4456972\tbest: 30695.4456972 (1012)\ttotal: 20s\tremaining: 3.69s\n",
            "1013:\tlearn: 24335.5168063\ttest: 30694.0709230\tbest: 30694.0709230 (1013)\ttotal: 20s\tremaining: 3.67s\n",
            "1014:\tlearn: 24331.2031961\ttest: 30692.0436370\tbest: 30692.0436370 (1014)\ttotal: 20s\tremaining: 3.65s\n",
            "1015:\tlearn: 24325.5693374\ttest: 30690.5837298\tbest: 30690.5837298 (1015)\ttotal: 20s\tremaining: 3.63s\n",
            "1016:\tlearn: 24318.5653693\ttest: 30686.8929439\tbest: 30686.8929439 (1016)\ttotal: 20.1s\tremaining: 3.61s\n",
            "1017:\tlearn: 24314.5277271\ttest: 30685.2311007\tbest: 30685.2311007 (1017)\ttotal: 20.1s\tremaining: 3.59s\n",
            "1018:\tlearn: 24309.6494468\ttest: 30683.9960132\tbest: 30683.9960132 (1018)\ttotal: 20.1s\tremaining: 3.56s\n",
            "1019:\tlearn: 24302.4091423\ttest: 30683.1045874\tbest: 30683.1045874 (1019)\ttotal: 20.1s\tremaining: 3.54s\n",
            "1020:\tlearn: 24296.3078093\ttest: 30682.8239669\tbest: 30682.8239669 (1020)\ttotal: 20.1s\tremaining: 3.52s\n",
            "1021:\tlearn: 24287.4751261\ttest: 30677.1170650\tbest: 30677.1170650 (1021)\ttotal: 20.1s\tremaining: 3.5s\n",
            "1022:\tlearn: 24283.1303961\ttest: 30677.6174685\tbest: 30677.1170650 (1021)\ttotal: 20.1s\tremaining: 3.48s\n",
            "1023:\tlearn: 24281.3372435\ttest: 30676.4210192\tbest: 30676.4210192 (1023)\ttotal: 20.1s\tremaining: 3.46s\n",
            "1024:\tlearn: 24272.7969758\ttest: 30669.5507203\tbest: 30669.5507203 (1024)\ttotal: 20.1s\tremaining: 3.44s\n",
            "1025:\tlearn: 24267.8791203\ttest: 30666.4697790\tbest: 30666.4697790 (1025)\ttotal: 20.1s\tremaining: 3.42s\n",
            "1026:\tlearn: 24261.8756253\ttest: 30666.3017023\tbest: 30666.3017023 (1026)\ttotal: 20.2s\tremaining: 3.39s\n",
            "1027:\tlearn: 24252.3527630\ttest: 30662.3637862\tbest: 30662.3637862 (1027)\ttotal: 20.2s\tremaining: 3.37s\n",
            "1028:\tlearn: 24246.9442140\ttest: 30661.9583683\tbest: 30661.9583683 (1028)\ttotal: 20.2s\tremaining: 3.35s\n",
            "1029:\tlearn: 24241.3029892\ttest: 30664.8533787\tbest: 30661.9583683 (1028)\ttotal: 20.2s\tremaining: 3.33s\n",
            "1030:\tlearn: 24232.2210749\ttest: 30659.0498908\tbest: 30659.0498908 (1030)\ttotal: 20.2s\tremaining: 3.31s\n",
            "1031:\tlearn: 24227.1258072\ttest: 30658.9326303\tbest: 30658.9326303 (1031)\ttotal: 20.2s\tremaining: 3.29s\n",
            "1032:\tlearn: 24218.8893935\ttest: 30652.8373797\tbest: 30652.8373797 (1032)\ttotal: 20.2s\tremaining: 3.27s\n",
            "1033:\tlearn: 24214.9739605\ttest: 30650.7391992\tbest: 30650.7391992 (1033)\ttotal: 20.2s\tremaining: 3.25s\n",
            "1034:\tlearn: 24212.0340933\ttest: 30648.2439115\tbest: 30648.2439115 (1034)\ttotal: 20.2s\tremaining: 3.23s\n",
            "1035:\tlearn: 24208.7073590\ttest: 30647.3361369\tbest: 30647.3361369 (1035)\ttotal: 20.2s\tremaining: 3.2s\n",
            "1036:\tlearn: 24202.4405096\ttest: 30645.5416337\tbest: 30645.5416337 (1036)\ttotal: 20.3s\tremaining: 3.18s\n",
            "1037:\tlearn: 24199.4821021\ttest: 30644.9186011\tbest: 30644.9186011 (1037)\ttotal: 20.3s\tremaining: 3.16s\n",
            "1038:\tlearn: 24190.4310725\ttest: 30637.4382862\tbest: 30637.4382862 (1038)\ttotal: 20.3s\tremaining: 3.14s\n",
            "1039:\tlearn: 24180.3885057\ttest: 30630.2493442\tbest: 30630.2493442 (1039)\ttotal: 20.3s\tremaining: 3.12s\n",
            "1040:\tlearn: 24176.2065978\ttest: 30625.8485240\tbest: 30625.8485240 (1040)\ttotal: 20.3s\tremaining: 3.1s\n",
            "1041:\tlearn: 24169.4687210\ttest: 30620.4166090\tbest: 30620.4166090 (1041)\ttotal: 20.3s\tremaining: 3.08s\n",
            "1042:\tlearn: 24158.7435223\ttest: 30611.6801974\tbest: 30611.6801974 (1042)\ttotal: 20.3s\tremaining: 3.06s\n",
            "1043:\tlearn: 24155.0898929\ttest: 30611.0034147\tbest: 30611.0034147 (1043)\ttotal: 20.3s\tremaining: 3.04s\n",
            "1044:\tlearn: 24150.9478750\ttest: 30610.8008002\tbest: 30610.8008002 (1044)\ttotal: 20.3s\tremaining: 3.01s\n",
            "1045:\tlearn: 24144.8726236\ttest: 30605.3368290\tbest: 30605.3368290 (1045)\ttotal: 20.3s\tremaining: 2.99s\n",
            "1046:\tlearn: 24139.7909185\ttest: 30601.2291804\tbest: 30601.2291804 (1046)\ttotal: 20.3s\tremaining: 2.97s\n",
            "1047:\tlearn: 24136.2997285\ttest: 30599.1877291\tbest: 30599.1877291 (1047)\ttotal: 20.4s\tremaining: 2.95s\n",
            "1048:\tlearn: 24132.1682852\ttest: 30600.0338154\tbest: 30599.1877291 (1047)\ttotal: 20.4s\tremaining: 2.93s\n",
            "1049:\tlearn: 24128.7056973\ttest: 30600.3558182\tbest: 30599.1877291 (1047)\ttotal: 20.4s\tremaining: 2.91s\n",
            "1050:\tlearn: 24122.9502913\ttest: 30597.4225393\tbest: 30597.4225393 (1050)\ttotal: 20.4s\tremaining: 2.89s\n",
            "1051:\tlearn: 24120.0338116\ttest: 30596.8850146\tbest: 30596.8850146 (1051)\ttotal: 20.4s\tremaining: 2.87s\n",
            "1052:\tlearn: 24110.9000401\ttest: 30594.7267621\tbest: 30594.7267621 (1052)\ttotal: 20.4s\tremaining: 2.85s\n",
            "1053:\tlearn: 24105.6856194\ttest: 30592.2962738\tbest: 30592.2962738 (1053)\ttotal: 20.4s\tremaining: 2.83s\n",
            "1054:\tlearn: 24100.6938386\ttest: 30588.1022923\tbest: 30588.1022923 (1054)\ttotal: 20.4s\tremaining: 2.81s\n",
            "1055:\tlearn: 24094.5205058\ttest: 30588.9431319\tbest: 30588.1022923 (1054)\ttotal: 20.4s\tremaining: 2.79s\n",
            "1056:\tlearn: 24089.9504169\ttest: 30588.4713143\tbest: 30588.1022923 (1054)\ttotal: 20.4s\tremaining: 2.77s\n",
            "1057:\tlearn: 24083.8896739\ttest: 30588.0806238\tbest: 30588.0806238 (1057)\ttotal: 20.5s\tremaining: 2.75s\n",
            "1058:\tlearn: 24078.9234969\ttest: 30585.6484207\tbest: 30585.6484207 (1058)\ttotal: 20.5s\tremaining: 2.72s\n",
            "1059:\tlearn: 24072.9837176\ttest: 30582.0466103\tbest: 30582.0466103 (1059)\ttotal: 20.5s\tremaining: 2.7s\n",
            "1060:\tlearn: 24069.3680390\ttest: 30581.8114830\tbest: 30581.8114830 (1060)\ttotal: 20.5s\tremaining: 2.68s\n",
            "1061:\tlearn: 24068.9768497\ttest: 30582.1937547\tbest: 30581.8114830 (1060)\ttotal: 20.5s\tremaining: 2.66s\n",
            "1062:\tlearn: 24061.1747788\ttest: 30578.9828295\tbest: 30578.9828295 (1062)\ttotal: 20.5s\tremaining: 2.64s\n",
            "1063:\tlearn: 24058.7173390\ttest: 30576.5699439\tbest: 30576.5699439 (1063)\ttotal: 20.5s\tremaining: 2.62s\n",
            "1064:\tlearn: 24052.4852365\ttest: 30570.0499457\tbest: 30570.0499457 (1064)\ttotal: 20.5s\tremaining: 2.6s\n",
            "1065:\tlearn: 24045.2091951\ttest: 30570.9241099\tbest: 30570.0499457 (1064)\ttotal: 20.5s\tremaining: 2.58s\n",
            "1066:\tlearn: 24041.9853158\ttest: 30570.3523531\tbest: 30570.0499457 (1064)\ttotal: 20.5s\tremaining: 2.56s\n",
            "1067:\tlearn: 24036.4593338\ttest: 30570.5624135\tbest: 30570.0499457 (1064)\ttotal: 20.6s\tremaining: 2.54s\n",
            "1068:\tlearn: 24026.5642838\ttest: 30564.3507716\tbest: 30564.3507716 (1068)\ttotal: 20.6s\tremaining: 2.52s\n",
            "1069:\tlearn: 24023.4033497\ttest: 30563.3334024\tbest: 30563.3334024 (1069)\ttotal: 20.6s\tremaining: 2.5s\n",
            "1070:\tlearn: 24014.6837294\ttest: 30565.4679725\tbest: 30563.3334024 (1069)\ttotal: 20.6s\tremaining: 2.48s\n",
            "1071:\tlearn: 24009.9265633\ttest: 30563.5499808\tbest: 30563.3334024 (1069)\ttotal: 20.6s\tremaining: 2.46s\n",
            "1072:\tlearn: 24006.1378802\ttest: 30560.2062266\tbest: 30560.2062266 (1072)\ttotal: 20.6s\tremaining: 2.44s\n",
            "1073:\tlearn: 24001.0571695\ttest: 30558.0152173\tbest: 30558.0152173 (1073)\ttotal: 20.6s\tremaining: 2.42s\n",
            "1074:\tlearn: 23994.4150785\ttest: 30556.5896218\tbest: 30556.5896218 (1074)\ttotal: 20.6s\tremaining: 2.4s\n",
            "1075:\tlearn: 23989.3959716\ttest: 30557.4628375\tbest: 30556.5896218 (1074)\ttotal: 20.6s\tremaining: 2.38s\n",
            "1076:\tlearn: 23983.9764010\ttest: 30558.0529714\tbest: 30556.5896218 (1074)\ttotal: 20.6s\tremaining: 2.36s\n",
            "1077:\tlearn: 23975.9445368\ttest: 30556.9531149\tbest: 30556.5896218 (1074)\ttotal: 20.7s\tremaining: 2.34s\n",
            "1078:\tlearn: 23972.6631577\ttest: 30553.8774511\tbest: 30553.8774511 (1078)\ttotal: 20.7s\tremaining: 2.32s\n",
            "1079:\tlearn: 23970.6785767\ttest: 30552.9293451\tbest: 30552.9293451 (1079)\ttotal: 20.7s\tremaining: 2.3s\n",
            "1080:\tlearn: 23965.6003961\ttest: 30552.2517099\tbest: 30552.2517099 (1080)\ttotal: 20.7s\tremaining: 2.28s\n",
            "1081:\tlearn: 23961.4269067\ttest: 30548.4140069\tbest: 30548.4140069 (1081)\ttotal: 20.7s\tremaining: 2.26s\n",
            "1082:\tlearn: 23955.3167588\ttest: 30547.1168483\tbest: 30547.1168483 (1082)\ttotal: 20.7s\tremaining: 2.24s\n",
            "1083:\tlearn: 23945.4340739\ttest: 30539.4218679\tbest: 30539.4218679 (1083)\ttotal: 20.7s\tremaining: 2.22s\n",
            "1084:\tlearn: 23943.7018616\ttest: 30540.2794834\tbest: 30539.4218679 (1083)\ttotal: 20.7s\tremaining: 2.2s\n",
            "1085:\tlearn: 23939.5877388\ttest: 30538.7122450\tbest: 30538.7122450 (1085)\ttotal: 20.7s\tremaining: 2.18s\n",
            "1086:\tlearn: 23935.9922353\ttest: 30539.2839242\tbest: 30538.7122450 (1085)\ttotal: 20.7s\tremaining: 2.16s\n",
            "1087:\tlearn: 23932.0567558\ttest: 30536.4333610\tbest: 30536.4333610 (1087)\ttotal: 20.8s\tremaining: 2.14s\n",
            "1088:\tlearn: 23922.2367932\ttest: 30532.7641794\tbest: 30532.7641794 (1088)\ttotal: 20.8s\tremaining: 2.12s\n",
            "1089:\tlearn: 23916.6168845\ttest: 30532.9103537\tbest: 30532.7641794 (1088)\ttotal: 20.8s\tremaining: 2.1s\n",
            "1090:\tlearn: 23913.0197797\ttest: 30532.0185743\tbest: 30532.0185743 (1090)\ttotal: 20.9s\tremaining: 2.08s\n",
            "1091:\tlearn: 23904.5093905\ttest: 30528.3564572\tbest: 30528.3564572 (1091)\ttotal: 20.9s\tremaining: 2.06s\n",
            "1092:\tlearn: 23898.7974550\ttest: 30526.7871498\tbest: 30526.7871498 (1092)\ttotal: 20.9s\tremaining: 2.04s\n",
            "1093:\tlearn: 23894.8437106\ttest: 30527.0396037\tbest: 30526.7871498 (1092)\ttotal: 20.9s\tremaining: 2.02s\n",
            "1094:\tlearn: 23891.5712248\ttest: 30528.1874272\tbest: 30526.7871498 (1092)\ttotal: 20.9s\tremaining: 2s\n",
            "1095:\tlearn: 23886.3419927\ttest: 30524.7553392\tbest: 30524.7553392 (1095)\ttotal: 20.9s\tremaining: 1.98s\n",
            "1096:\tlearn: 23879.1621475\ttest: 30518.4940767\tbest: 30518.4940767 (1096)\ttotal: 20.9s\tremaining: 1.96s\n",
            "1097:\tlearn: 23874.8872782\ttest: 30520.1552747\tbest: 30518.4940767 (1096)\ttotal: 20.9s\tremaining: 1.94s\n",
            "1098:\tlearn: 23870.9280619\ttest: 30518.6897853\tbest: 30518.4940767 (1096)\ttotal: 20.9s\tremaining: 1.92s\n",
            "1099:\tlearn: 23866.4903136\ttest: 30517.8256697\tbest: 30517.8256697 (1099)\ttotal: 21s\tremaining: 1.9s\n",
            "1100:\tlearn: 23851.6837978\ttest: 30508.2852264\tbest: 30508.2852264 (1100)\ttotal: 21s\tremaining: 1.89s\n",
            "1101:\tlearn: 23846.1783931\ttest: 30506.3843684\tbest: 30506.3843684 (1101)\ttotal: 21s\tremaining: 1.86s\n",
            "1102:\tlearn: 23842.1619981\ttest: 30505.1929836\tbest: 30505.1929836 (1102)\ttotal: 21s\tremaining: 1.84s\n",
            "1103:\tlearn: 23838.0421474\ttest: 30504.1708898\tbest: 30504.1708898 (1103)\ttotal: 21s\tremaining: 1.82s\n",
            "1104:\tlearn: 23831.3300496\ttest: 30505.6753362\tbest: 30504.1708898 (1103)\ttotal: 21s\tremaining: 1.8s\n",
            "1105:\tlearn: 23825.7732982\ttest: 30506.0653484\tbest: 30504.1708898 (1103)\ttotal: 21s\tremaining: 1.78s\n",
            "1106:\tlearn: 23817.9080014\ttest: 30505.6552729\tbest: 30504.1708898 (1103)\ttotal: 21s\tremaining: 1.77s\n",
            "1107:\tlearn: 23814.2073403\ttest: 30503.0601822\tbest: 30503.0601822 (1107)\ttotal: 21s\tremaining: 1.75s\n",
            "1108:\tlearn: 23808.8371858\ttest: 30499.7620043\tbest: 30499.7620043 (1108)\ttotal: 21s\tremaining: 1.73s\n",
            "1109:\tlearn: 23797.6553059\ttest: 30492.6649179\tbest: 30492.6649179 (1109)\ttotal: 21.1s\tremaining: 1.71s\n",
            "1110:\tlearn: 23790.8021257\ttest: 30491.5972637\tbest: 30491.5972637 (1110)\ttotal: 21.1s\tremaining: 1.69s\n",
            "1111:\tlearn: 23788.9033450\ttest: 30491.5285574\tbest: 30491.5285574 (1111)\ttotal: 21.1s\tremaining: 1.67s\n",
            "1112:\tlearn: 23785.2428390\ttest: 30489.9672884\tbest: 30489.9672884 (1112)\ttotal: 21.1s\tremaining: 1.65s\n",
            "1113:\tlearn: 23780.3260679\ttest: 30486.8125277\tbest: 30486.8125277 (1113)\ttotal: 21.1s\tremaining: 1.63s\n",
            "1114:\tlearn: 23770.9153682\ttest: 30482.6710974\tbest: 30482.6710974 (1114)\ttotal: 21.1s\tremaining: 1.61s\n",
            "1115:\tlearn: 23769.5104432\ttest: 30482.3303197\tbest: 30482.3303197 (1115)\ttotal: 21.1s\tremaining: 1.59s\n",
            "1116:\tlearn: 23762.7994327\ttest: 30482.7936215\tbest: 30482.3303197 (1115)\ttotal: 21.1s\tremaining: 1.57s\n",
            "1117:\tlearn: 23759.5887504\ttest: 30484.9714039\tbest: 30482.3303197 (1115)\ttotal: 21.1s\tremaining: 1.55s\n",
            "1118:\tlearn: 23753.3135019\ttest: 30478.3467081\tbest: 30478.3467081 (1118)\ttotal: 21.1s\tremaining: 1.53s\n",
            "1119:\tlearn: 23746.3634200\ttest: 30480.6833051\tbest: 30478.3467081 (1118)\ttotal: 21.2s\tremaining: 1.51s\n",
            "1120:\tlearn: 23742.9336944\ttest: 30481.3525748\tbest: 30478.3467081 (1118)\ttotal: 21.2s\tremaining: 1.49s\n",
            "1121:\tlearn: 23739.3060218\ttest: 30482.2960201\tbest: 30478.3467081 (1118)\ttotal: 21.2s\tremaining: 1.47s\n",
            "1122:\tlearn: 23736.7326155\ttest: 30481.9181095\tbest: 30478.3467081 (1118)\ttotal: 21.2s\tremaining: 1.45s\n",
            "1123:\tlearn: 23733.2306642\ttest: 30480.8220360\tbest: 30478.3467081 (1118)\ttotal: 21.2s\tremaining: 1.43s\n",
            "1124:\tlearn: 23728.4227892\ttest: 30476.0614063\tbest: 30476.0614063 (1124)\ttotal: 21.2s\tremaining: 1.41s\n",
            "1125:\tlearn: 23719.3442455\ttest: 30470.6649630\tbest: 30470.6649630 (1125)\ttotal: 21.2s\tremaining: 1.39s\n",
            "1126:\tlearn: 23713.4754881\ttest: 30469.1419243\tbest: 30469.1419243 (1126)\ttotal: 21.2s\tremaining: 1.37s\n",
            "1127:\tlearn: 23710.1415577\ttest: 30468.1425839\tbest: 30468.1425839 (1127)\ttotal: 21.2s\tremaining: 1.35s\n",
            "1128:\tlearn: 23707.8360700\ttest: 30467.5957032\tbest: 30467.5957032 (1128)\ttotal: 21.3s\tremaining: 1.34s\n",
            "1129:\tlearn: 23701.9411515\ttest: 30465.0911990\tbest: 30465.0911990 (1129)\ttotal: 21.3s\tremaining: 1.32s\n",
            "1130:\tlearn: 23695.6613043\ttest: 30467.3462093\tbest: 30465.0911990 (1129)\ttotal: 21.3s\tremaining: 1.3s\n",
            "1131:\tlearn: 23689.4396779\ttest: 30468.1056838\tbest: 30465.0911990 (1129)\ttotal: 21.3s\tremaining: 1.28s\n",
            "1132:\tlearn: 23685.3029062\ttest: 30469.4359210\tbest: 30465.0911990 (1129)\ttotal: 21.3s\tremaining: 1.26s\n",
            "1133:\tlearn: 23677.8932402\ttest: 30464.2498156\tbest: 30464.2498156 (1133)\ttotal: 21.3s\tremaining: 1.24s\n",
            "1134:\tlearn: 23669.2594570\ttest: 30462.2885495\tbest: 30462.2885495 (1134)\ttotal: 21.3s\tremaining: 1.22s\n",
            "1135:\tlearn: 23666.9593725\ttest: 30461.5620576\tbest: 30461.5620576 (1135)\ttotal: 21.3s\tremaining: 1.2s\n",
            "1136:\tlearn: 23659.5789516\ttest: 30460.8436359\tbest: 30460.8436359 (1136)\ttotal: 21.3s\tremaining: 1.18s\n",
            "1137:\tlearn: 23657.0962736\ttest: 30462.3181476\tbest: 30460.8436359 (1136)\ttotal: 21.3s\tremaining: 1.16s\n",
            "1138:\tlearn: 23652.3274472\ttest: 30460.7114235\tbest: 30460.7114235 (1138)\ttotal: 21.4s\tremaining: 1.14s\n",
            "1139:\tlearn: 23648.7901481\ttest: 30459.5745346\tbest: 30459.5745346 (1139)\ttotal: 21.4s\tremaining: 1.12s\n",
            "1140:\tlearn: 23644.2152127\ttest: 30458.2452596\tbest: 30458.2452596 (1140)\ttotal: 21.4s\tremaining: 1.1s\n",
            "1141:\tlearn: 23640.0598758\ttest: 30459.1055117\tbest: 30458.2452596 (1140)\ttotal: 21.4s\tremaining: 1.09s\n",
            "1142:\tlearn: 23633.1535406\ttest: 30458.5129902\tbest: 30458.2452596 (1140)\ttotal: 21.4s\tremaining: 1.07s\n",
            "1143:\tlearn: 23630.4449658\ttest: 30455.5455519\tbest: 30455.5455519 (1143)\ttotal: 21.4s\tremaining: 1.05s\n",
            "1144:\tlearn: 23627.1996884\ttest: 30454.5531399\tbest: 30454.5531399 (1144)\ttotal: 21.4s\tremaining: 1.03s\n",
            "1145:\tlearn: 23621.2537837\ttest: 30448.5944912\tbest: 30448.5944912 (1145)\ttotal: 21.4s\tremaining: 1.01s\n",
            "1146:\tlearn: 23617.8663473\ttest: 30446.9082605\tbest: 30446.9082605 (1146)\ttotal: 21.4s\tremaining: 990ms\n",
            "1147:\tlearn: 23612.4546979\ttest: 30445.6753603\tbest: 30445.6753603 (1147)\ttotal: 21.4s\tremaining: 971ms\n",
            "1148:\tlearn: 23607.7632665\ttest: 30444.9482559\tbest: 30444.9482559 (1148)\ttotal: 21.5s\tremaining: 952ms\n",
            "1149:\tlearn: 23602.9495148\ttest: 30444.5308524\tbest: 30444.5308524 (1149)\ttotal: 21.5s\tremaining: 933ms\n",
            "1150:\tlearn: 23598.5820194\ttest: 30445.3849187\tbest: 30444.5308524 (1149)\ttotal: 21.5s\tremaining: 914ms\n",
            "1151:\tlearn: 23596.2020637\ttest: 30447.2324865\tbest: 30444.5308524 (1149)\ttotal: 21.5s\tremaining: 895ms\n",
            "1152:\tlearn: 23594.3378970\ttest: 30448.5532123\tbest: 30444.5308524 (1149)\ttotal: 21.5s\tremaining: 876ms\n",
            "1153:\tlearn: 23591.2964711\ttest: 30447.7729339\tbest: 30444.5308524 (1149)\ttotal: 21.5s\tremaining: 857ms\n",
            "1154:\tlearn: 23587.7290686\ttest: 30447.8007570\tbest: 30444.5308524 (1149)\ttotal: 21.5s\tremaining: 838ms\n",
            "1155:\tlearn: 23582.4663085\ttest: 30447.3987751\tbest: 30444.5308524 (1149)\ttotal: 21.5s\tremaining: 819ms\n",
            "1156:\tlearn: 23574.9229891\ttest: 30443.3306962\tbest: 30443.3306962 (1156)\ttotal: 21.5s\tremaining: 800ms\n",
            "1157:\tlearn: 23569.8903465\ttest: 30440.4946130\tbest: 30440.4946130 (1157)\ttotal: 21.5s\tremaining: 781ms\n",
            "1158:\tlearn: 23565.0660885\ttest: 30437.3937770\tbest: 30437.3937770 (1158)\ttotal: 21.5s\tremaining: 762ms\n",
            "1159:\tlearn: 23562.6259638\ttest: 30437.7593757\tbest: 30437.3937770 (1158)\ttotal: 21.6s\tremaining: 743ms\n",
            "1160:\tlearn: 23558.4940583\ttest: 30437.7701237\tbest: 30437.3937770 (1158)\ttotal: 21.6s\tremaining: 724ms\n",
            "1161:\tlearn: 23553.4393546\ttest: 30436.6811216\tbest: 30436.6811216 (1161)\ttotal: 21.6s\tremaining: 706ms\n",
            "1162:\tlearn: 23549.6231039\ttest: 30433.6339643\tbest: 30433.6339643 (1162)\ttotal: 21.6s\tremaining: 687ms\n",
            "1163:\tlearn: 23540.5187010\ttest: 30432.8696249\tbest: 30432.8696249 (1163)\ttotal: 21.6s\tremaining: 668ms\n",
            "1164:\tlearn: 23535.6032991\ttest: 30431.7705036\tbest: 30431.7705036 (1164)\ttotal: 21.6s\tremaining: 649ms\n",
            "1165:\tlearn: 23529.2841274\ttest: 30431.6928423\tbest: 30431.6928423 (1165)\ttotal: 21.6s\tremaining: 630ms\n",
            "1166:\tlearn: 23520.0460913\ttest: 30422.8320681\tbest: 30422.8320681 (1166)\ttotal: 21.6s\tremaining: 612ms\n",
            "1167:\tlearn: 23514.5304752\ttest: 30422.0182338\tbest: 30422.0182338 (1167)\ttotal: 21.6s\tremaining: 593ms\n",
            "1168:\tlearn: 23510.6026848\ttest: 30421.8513384\tbest: 30421.8513384 (1168)\ttotal: 21.6s\tremaining: 574ms\n",
            "1169:\tlearn: 23503.3365803\ttest: 30415.9715913\tbest: 30415.9715913 (1169)\ttotal: 21.7s\tremaining: 555ms\n",
            "1170:\tlearn: 23499.7245320\ttest: 30413.7642118\tbest: 30413.7642118 (1170)\ttotal: 21.7s\tremaining: 537ms\n",
            "1171:\tlearn: 23494.6625792\ttest: 30415.5868669\tbest: 30413.7642118 (1170)\ttotal: 21.7s\tremaining: 518ms\n",
            "1172:\tlearn: 23491.0708417\ttest: 30416.9184199\tbest: 30413.7642118 (1170)\ttotal: 21.7s\tremaining: 499ms\n",
            "1173:\tlearn: 23486.7595126\ttest: 30413.8215008\tbest: 30413.7642118 (1170)\ttotal: 21.7s\tremaining: 481ms\n",
            "1174:\tlearn: 23483.6928040\ttest: 30413.1954620\tbest: 30413.1954620 (1174)\ttotal: 21.7s\tremaining: 462ms\n",
            "1175:\tlearn: 23480.9046439\ttest: 30412.0971160\tbest: 30412.0971160 (1175)\ttotal: 21.7s\tremaining: 443ms\n",
            "1176:\tlearn: 23474.3117074\ttest: 30407.8090188\tbest: 30407.8090188 (1176)\ttotal: 21.7s\tremaining: 425ms\n",
            "1177:\tlearn: 23469.1191230\ttest: 30407.1185011\tbest: 30407.1185011 (1177)\ttotal: 21.7s\tremaining: 406ms\n",
            "1178:\tlearn: 23465.3197450\ttest: 30406.1450786\tbest: 30406.1450786 (1178)\ttotal: 21.7s\tremaining: 387ms\n",
            "1179:\tlearn: 23461.8159163\ttest: 30405.8286455\tbest: 30405.8286455 (1179)\ttotal: 21.8s\tremaining: 369ms\n",
            "1180:\tlearn: 23457.9486516\ttest: 30405.9377297\tbest: 30405.8286455 (1179)\ttotal: 21.8s\tremaining: 351ms\n",
            "1181:\tlearn: 23451.9322053\ttest: 30402.0922775\tbest: 30402.0922775 (1181)\ttotal: 21.8s\tremaining: 333ms\n",
            "1182:\tlearn: 23445.0051741\ttest: 30402.3341132\tbest: 30402.0922775 (1181)\ttotal: 21.9s\tremaining: 314ms\n",
            "1183:\tlearn: 23439.1861391\ttest: 30400.2098407\tbest: 30400.2098407 (1183)\ttotal: 21.9s\tremaining: 296ms\n",
            "1184:\tlearn: 23435.6815255\ttest: 30398.6621381\tbest: 30398.6621381 (1184)\ttotal: 21.9s\tremaining: 277ms\n",
            "1185:\tlearn: 23432.1802701\ttest: 30394.1824116\tbest: 30394.1824116 (1185)\ttotal: 21.9s\tremaining: 259ms\n",
            "1186:\tlearn: 23425.6887779\ttest: 30391.5697567\tbest: 30391.5697567 (1186)\ttotal: 21.9s\tremaining: 240ms\n",
            "1187:\tlearn: 23421.8087581\ttest: 30389.2022399\tbest: 30389.2022399 (1187)\ttotal: 21.9s\tremaining: 221ms\n",
            "1188:\tlearn: 23418.9622343\ttest: 30386.6059056\tbest: 30386.6059056 (1188)\ttotal: 21.9s\tremaining: 203ms\n",
            "1189:\tlearn: 23415.2323046\ttest: 30388.3253598\tbest: 30386.6059056 (1188)\ttotal: 21.9s\tremaining: 184ms\n",
            "1190:\tlearn: 23411.0792934\ttest: 30388.0710541\tbest: 30386.6059056 (1188)\ttotal: 22s\tremaining: 166ms\n",
            "1191:\tlearn: 23404.7023490\ttest: 30388.2114969\tbest: 30386.6059056 (1188)\ttotal: 22s\tremaining: 147ms\n",
            "1192:\tlearn: 23401.7153183\ttest: 30387.2848500\tbest: 30386.6059056 (1188)\ttotal: 22s\tremaining: 129ms\n",
            "1193:\tlearn: 23397.3335276\ttest: 30385.3234136\tbest: 30385.3234136 (1193)\ttotal: 22s\tremaining: 110ms\n",
            "1194:\tlearn: 23393.2403758\ttest: 30385.4963428\tbest: 30385.3234136 (1193)\ttotal: 22s\tremaining: 92ms\n",
            "1195:\tlearn: 23390.6399780\ttest: 30384.7166131\tbest: 30384.7166131 (1195)\ttotal: 22s\tremaining: 73.6ms\n",
            "1196:\tlearn: 23386.6082492\ttest: 30384.0632193\tbest: 30384.0632193 (1196)\ttotal: 22s\tremaining: 55.2ms\n",
            "1197:\tlearn: 23378.7569397\ttest: 30380.9363476\tbest: 30380.9363476 (1197)\ttotal: 22s\tremaining: 36.8ms\n",
            "1198:\tlearn: 23375.3728262\ttest: 30376.6238939\tbest: 30376.6238939 (1198)\ttotal: 22s\tremaining: 18.4ms\n",
            "1199:\tlearn: 23372.6588322\ttest: 30374.0646235\tbest: 30374.0646235 (1199)\ttotal: 22s\tremaining: 0us\n",
            "\n",
            "bestTest = 30374.06462\n",
            "bestIteration = 1199\n",
            "\n"
          ]
        },
        {
          "output_type": "execute_result",
          "data": {
            "text/plain": [
              "<catboost.core.CatBoostRegressor at 0x7f874ebd2640>"
            ]
          },
          "metadata": {},
          "execution_count": 5
        }
      ]
    },
    {
      "cell_type": "code",
      "source": [
        "from sklearn.metrics import mean_absolute_error\n",
        "\n",
        "y_true=y_val\n",
        "y_pred= model.predict(X_val)\n",
        "\n",
        "score= mean_absolute_error(y_true, y_pred)\n",
        "\n",
        "print('Mean Absolute Error ', int(score))"
      ],
      "metadata": {
        "colab": {
          "base_uri": "https://localhost:8080/"
        },
        "id": "HDbpsuOhn3rQ",
        "outputId": "e21b0dcb-8148-4c49-ed59-23d4d4571794"
      },
      "execution_count": 8,
      "outputs": [
        {
          "output_type": "stream",
          "name": "stdout",
          "text": [
            "Mean Absolute Error  30374\n"
          ]
        }
      ]
    }
  ]
}